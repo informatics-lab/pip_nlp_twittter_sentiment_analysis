{
 "cells": [
  {
   "cell_type": "markdown",
   "id": "573eafa7-7d5f-4be8-8c5c-f31cf0ac1c85",
   "metadata": {},
   "source": [
    "# Twitter developer API tweet count endpoint"
   ]
  },
  {
   "cell_type": "markdown",
   "id": "9422cb31-3cbc-4ad2-a8b9-64ec0ee8f497",
   "metadata": {},
   "source": [
    "The number of tweets you can extract from the Twitter developer API each month is capped depending on the level of access you have. The tweet count endpoint is useful for understanding how many tweets are going to be returned based on the query that you've created. This does not affect your monthly tweet cap. "
   ]
  },
  {
   "cell_type": "code",
   "execution_count": 1,
   "id": "5364c3ee-15fb-459f-a419-af4729c9601e",
   "metadata": {},
   "outputs": [],
   "source": [
    "import requests\n",
    "import os\n",
    "import json\n",
    "import pandas as pd"
   ]
  },
  {
   "cell_type": "markdown",
   "id": "2858caba-ac61-4bbe-94a8-c9c1ec0467b4",
   "metadata": {},
   "source": [
    "Each project on the Twitter developer API has associated keys and tokens which allow you to connect to the API. "
   ]
  },
  {
   "cell_type": "code",
   "execution_count": 2,
   "id": "3468a283-ee29-4dcc-b1da-44949136d310",
   "metadata": {},
   "outputs": [],
   "source": [
    "with open('../credentials.json', 'r') as json_file:\n",
    "    cred = json.load(json_file)\n",
    "bearer_token = cred[\"BEARER_TOKEN\"]"
   ]
  },
  {
   "cell_type": "code",
   "execution_count": 4,
   "id": "88d67bcc-ade0-4334-a026-7c7925717700",
   "metadata": {},
   "outputs": [],
   "source": [
    "def bearer_oauth(r):\n",
    "    \"\"\"\n",
    "    Method required by bearer token authentication.\n",
    "    \"\"\"\n",
    "    r.headers[\"Authorization\"] = f\"Bearer {bearer_token}\"\n",
    "    r.headers[\"User-Agent\"] = \"v2RecentTweetCountsPython\"\n",
    "    return r"
   ]
  },
  {
   "cell_type": "markdown",
   "id": "d0417989-7368-4f3b-8d09-d24a7a5f03bb",
   "metadata": {},
   "source": [
    "Select the URL for the twitter API endpoint that we want to connect to"
   ]
  },
  {
   "cell_type": "code",
   "execution_count": 7,
   "id": "70f5f9fa-bcd5-4b41-953b-57d7b0cdb808",
   "metadata": {},
   "outputs": [],
   "source": [
    "search_url = \"https://api.twitter.com/2/tweets/counts/recent\""
   ]
  },
  {
   "cell_type": "markdown",
   "id": "e306d193-c3dc-4f15-b633-79691dae8758",
   "metadata": {},
   "source": [
    "Set up our query, here we are looking for tweets containing the word 'climate' (note that the API is case insensitive, however there is an option to make case sensitive). We are filtering by language, to only get tweets in English and we are filtering out any retweets (so we don't get lots of duplicated tweets). We can also indiciate the granularity of the counts that we went returned, the default is hours. "
   ]
  },
  {
   "cell_type": "code",
   "execution_count": 19,
   "id": "70e0f9a3-37ec-4938-a8aa-8db1bca0f740",
   "metadata": {},
   "outputs": [],
   "source": [
    "query_params = {'query': 'climate lang:en -is:retweet','granularity': 'hour'}"
   ]
  },
  {
   "cell_type": "code",
   "execution_count": 20,
   "id": "1aff2e12-414e-4467-8293-d53f65dfbeb9",
   "metadata": {},
   "outputs": [],
   "source": [
    "def connect_to_endpoint(url, params):\n",
    "    response = requests.request(\"GET\", search_url, auth=bearer_oauth, params=params)\n",
    "    print(response.status_code)\n",
    "    if response.status_code != 200:\n",
    "        raise Exception(response.status_code, response.text)\n",
    "    return response.json()"
   ]
  },
  {
   "cell_type": "code",
   "execution_count": 21,
   "id": "457cef69-c4e3-4ff0-a0b5-90bfabde36c2",
   "metadata": {},
   "outputs": [
    {
     "name": "stdout",
     "output_type": "stream",
     "text": [
      "200\n"
     ]
    },
    {
     "data": {
      "text/plain": [
       "<AxesSubplot:>"
      ]
     },
     "execution_count": 21,
     "metadata": {},
     "output_type": "execute_result"
    },
    {
     "data": {
      "image/png": "[encoded data removed]",
      "text/plain": [
       "<Figure size 432x288 with 1 Axes>"
      ]
     },
     "metadata": {
      "needs_background": "light"
     },
     "output_type": "display_data"
    }
   ],
   "source": [
    "json_response = connect_to_endpoint(search_url, query_params)\n",
    "counts = pd.DataFrame(json_response['data'])\n",
    "counts.tweet_count.plot()"
   ]
  },
  {
   "cell_type": "code",
   "execution_count": 22,
   "id": "e8efe670-d813-4e94-a43b-5a5f81ecbb28",
   "metadata": {},
   "outputs": [
    {
     "data": {
      "text/html": [
       "<div>\n",
       "<style scoped>\n",
       "    .dataframe tbody tr th:only-of-type {\n",
       "        vertical-align: middle;\n",
       "    }\n",
       "\n",
       "    .dataframe tbody tr th {\n",
       "        vertical-align: top;\n",
       "    }\n",
       "\n",
       "    .dataframe thead th {\n",
       "        text-align: right;\n",
       "    }\n",
       "</style>\n",
       "<table border=\"1\" class=\"dataframe\">\n",
       "  <thead>\n",
       "    <tr style=\"text-align: right;\">\n",
       "      <th></th>\n",
       "      <th>end</th>\n",
       "      <th>start</th>\n",
       "      <th>tweet_count</th>\n",
       "    </tr>\n",
       "  </thead>\n",
       "  <tbody>\n",
       "    <tr>\n",
       "      <th>52</th>\n",
       "      <td>2022-08-16T21:00:00.000Z</td>\n",
       "      <td>2022-08-16T20:00:00.000Z</td>\n",
       "      <td>6127</td>\n",
       "    </tr>\n",
       "    <tr>\n",
       "      <th>53</th>\n",
       "      <td>2022-08-16T22:00:00.000Z</td>\n",
       "      <td>2022-08-16T21:00:00.000Z</td>\n",
       "      <td>3972</td>\n",
       "    </tr>\n",
       "    <tr>\n",
       "      <th>54</th>\n",
       "      <td>2022-08-16T23:00:00.000Z</td>\n",
       "      <td>2022-08-16T22:00:00.000Z</td>\n",
       "      <td>3261</td>\n",
       "    </tr>\n",
       "    <tr>\n",
       "      <th>46</th>\n",
       "      <td>2022-08-16T15:00:00.000Z</td>\n",
       "      <td>2022-08-16T14:00:00.000Z</td>\n",
       "      <td>3145</td>\n",
       "    </tr>\n",
       "    <tr>\n",
       "      <th>118</th>\n",
       "      <td>2022-08-19T15:00:00.000Z</td>\n",
       "      <td>2022-08-19T14:00:00.000Z</td>\n",
       "      <td>3125</td>\n",
       "    </tr>\n",
       "  </tbody>\n",
       "</table>\n",
       "</div>"
      ],
      "text/plain": [
       "                          end                     start  tweet_count\n",
       "52   2022-08-16T21:00:00.000Z  2022-08-16T20:00:00.000Z         6127\n",
       "53   2022-08-16T22:00:00.000Z  2022-08-16T21:00:00.000Z         3972\n",
       "54   2022-08-16T23:00:00.000Z  2022-08-16T22:00:00.000Z         3261\n",
       "46   2022-08-16T15:00:00.000Z  2022-08-16T14:00:00.000Z         3145\n",
       "118  2022-08-19T15:00:00.000Z  2022-08-19T14:00:00.000Z         3125"
      ]
     },
     "execution_count": 22,
     "metadata": {},
     "output_type": "execute_result"
    }
   ],
   "source": [
    "counts.sort_values('tweet_count', ascending=False).head()"
   ]
  },
  {
   "cell_type": "code",
   "execution_count": null,
   "id": "b935d275-bf16-4c73-86dc-e87e82986b34",
   "metadata": {},
   "outputs": [],
   "source": []
  },
  {
   "cell_type": "code",
   "execution_count": null,
   "id": "6eb89def-cd6d-49e3-8272-5b3637a4ccb1",
   "metadata": {},
   "outputs": [],
   "source": []
  }
 ],
 "metadata": {
  "kernelspec": {
   "display_name": "Python 3 (ipykernel)",
   "language": "python",
   "name": "python3"
  },
  "language_info": {
   "codemirror_mode": {
    "name": "ipython",
    "version": 3
   },
   "file_extension": ".py",
   "mimetype": "text/x-python",
   "name": "python",
   "nbconvert_exporter": "python",
   "pygments_lexer": "ipython3",
   "version": "3.8.13"
  }
 },
 "nbformat": 4,
 "nbformat_minor": 5
}
