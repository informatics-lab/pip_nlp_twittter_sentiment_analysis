{
 "cells": [
  {
   "cell_type": "markdown",
   "id": "0f539117-572a-43fd-9a9c-6be66a0e4662",
   "metadata": {},
   "source": [
    "# Topic modelling using latent dirichlet allocation"
   ]
  },
  {
   "cell_type": "markdown",
   "id": "fb7d58aa-0b79-4e95-8be2-a5a64f87d7e3",
   "metadata": {},
   "source": [
    "Topic modeling is a method for unsupervised classification of text, similar to clustering on numeric data, which finds natural groups of items even when we're not sure what we're looking for. Latent Dirichlet allocation (LDA) is a particularly popular method for fitting a topic model."
   ]
  },
  {
   "cell_type": "markdown",
   "id": "d9f0f9fa-7b31-48c0-95d1-29f795e4a7d2",
   "metadata": {},
   "source": [
    "In this notebook we use the ```gensim``` python package"
   ]
  },
  {
   "cell_type": "markdown",
   "id": "bef69a8a-2f95-4175-81ac-0d53055c78fa",
   "metadata": {},
   "source": [
    "This notebook follows this tutorial: https://www.machinelearningplus.com/nlp/topic-modeling-gensim-python/"
   ]
  },
  {
   "cell_type": "code",
   "execution_count": 1,
   "id": "20db8b68-2bea-4651-b354-3b1b32e50751",
   "metadata": {},
   "outputs": [
    {
     "name": "stderr",
     "output_type": "stream",
     "text": [
      "[nltk_data] Downloading package punkt to /home/h02/hbrown/nltk_data...\n",
      "[nltk_data]   Package punkt is already up-to-date!\n",
      "/data/users/hbrown/conda/envs/nlp/lib/python3.8/site-packages/past/builtins/misc.py:45: DeprecationWarning: the imp module is deprecated in favour of importlib; see the module's documentation for alternative uses\n",
      "  from imp import reload\n"
     ]
    }
   ],
   "source": [
    "import pandas as pd\n",
    "import numpy as np\n",
    "import os\n",
    "import pathlib\n",
    "\n",
    "import nltk\n",
    "nltk.download('punkt')\n",
    "from nltk.tokenize import word_tokenize\n",
    "\n",
    "import gensim\n",
    "import gensim.corpora as corpora\n",
    "from gensim.models import CoherenceModel\n",
    "\n",
    "from pprint import pprint\n",
    "\n",
    "import pyLDAvis\n",
    "import pyLDAvis.gensim_models  # don't skip this"
   ]
  },
  {
   "cell_type": "markdown",
   "id": "40d328be-dc7d-4a6c-810b-dc4e9a9e97ac",
   "metadata": {},
   "source": [
    "### Load dataset with sentiment columns"
   ]
  },
  {
   "cell_type": "code",
   "execution_count": 2,
   "id": "88d703f7-da69-4a25-a4f6-3d7ce63816aa",
   "metadata": {},
   "outputs": [
    {
     "name": "stderr",
     "output_type": "stream",
     "text": [
      "/var/tmp/ipykernel_23542/3541629878.py:4: DtypeWarning: Columns (0,5,6) have mixed types. Specify dtype option on import or set low_memory=False.\n",
      "  tweet_data = pd.read_csv(scratch_dir / clean_data_fname)\n"
     ]
    }
   ],
   "source": [
    "scratch_dir = pathlib.Path(os.environ['SCRATCH'])\n",
    "clean_data_fname = 'twitter_data_202207260000_202208010900_clean.csv'\n",
    "\n",
    "tweet_data = pd.read_csv(scratch_dir / clean_data_fname)"
   ]
  },
  {
   "cell_type": "markdown",
   "id": "a651533c-3eaa-45ac-a1e9-9dc961ed1c7d",
   "metadata": {
    "tags": []
   },
   "source": [
    "### Preprocess data"
   ]
  },
  {
   "cell_type": "code",
   "execution_count": 3,
   "id": "f8834010-86e1-4208-b63a-adda705fcd95",
   "metadata": {},
   "outputs": [],
   "source": [
    "tweet_data = tweet_data[tweet_data['created_at']!='0']\n",
    "tweet_data['created_at'] = pd.to_datetime(tweet_data['created_at'], format=\"%Y-%m-%d %H:%M:%S\")"
   ]
  },
  {
   "cell_type": "code",
   "execution_count": 4,
   "id": "db3dad78-0f56-4609-a677-2ea90d9903f6",
   "metadata": {},
   "outputs": [],
   "source": [
    "tweet_data['dates'] = tweet_data['created_at'].apply(lambda x: x.date())"
   ]
  },
  {
   "cell_type": "code",
   "execution_count": 5,
   "id": "88ec17a7-4d59-4576-9c1c-763fcc563291",
   "metadata": {},
   "outputs": [],
   "source": [
    "tweet_data = tweet_data.dropna()"
   ]
  },
  {
   "cell_type": "code",
   "execution_count": 6,
   "id": "bdccb24c-36f4-41ef-b179-34dfdd48ea28",
   "metadata": {},
   "outputs": [
    {
     "data": {
      "text/plain": [
       "array([datetime.date(2022, 7, 26), datetime.date(2022, 7, 26),\n",
       "       datetime.date(2022, 7, 26), ..., datetime.date(2022, 8, 1),\n",
       "       datetime.date(2022, 8, 1), datetime.date(2022, 8, 1)], dtype=object)"
      ]
     },
     "execution_count": 6,
     "metadata": {},
     "output_type": "execute_result"
    }
   ],
   "source": [
    "tweet_data = tweet_data.set_index('created_at')\n",
    "tweet_data.index.date"
   ]
  },
  {
   "cell_type": "markdown",
   "id": "2ceb2cd0-ed1d-4cdd-9c74-a00c35a8fc8e",
   "metadata": {},
   "source": [
    "We work with a reduced subset of the tweet dataset, as this is quite a compute hungry process"
   ]
  },
  {
   "cell_type": "code",
   "execution_count": 7,
   "id": "23815426-1579-44d0-b996-ea29c3432a9e",
   "metadata": {},
   "outputs": [],
   "source": [
    "reduced_tweet_data = tweet_data[tweet_data.index.date == tweet_data['dates'].unique()[2]]"
   ]
  },
  {
   "cell_type": "code",
   "execution_count": 8,
   "id": "1213b548-73e5-41d2-9be1-364328a3b02d",
   "metadata": {},
   "outputs": [
    {
     "data": {
      "text/plain": [
       "(24856, 9)"
      ]
     },
     "execution_count": 8,
     "metadata": {},
     "output_type": "execute_result"
    }
   ],
   "source": [
    "reduced_tweet_data.shape"
   ]
  },
  {
   "cell_type": "code",
   "execution_count": 9,
   "id": "1a869242-890d-462b-9a29-cf28cd9a69f7",
   "metadata": {},
   "outputs": [
    {
     "data": {
      "text/html": [
       "<div>\n",
       "<style scoped>\n",
       "    .dataframe tbody tr th:only-of-type {\n",
       "        vertical-align: middle;\n",
       "    }\n",
       "\n",
       "    .dataframe tbody tr th {\n",
       "        vertical-align: top;\n",
       "    }\n",
       "\n",
       "    .dataframe thead th {\n",
       "        text-align: right;\n",
       "    }\n",
       "</style>\n",
       "<table border=\"1\" class=\"dataframe\">\n",
       "  <thead>\n",
       "    <tr style=\"text-align: right;\">\n",
       "      <th></th>\n",
       "      <th>tweet_id</th>\n",
       "      <th>tweet</th>\n",
       "      <th>like_count</th>\n",
       "      <th>quote_count</th>\n",
       "      <th>reply_count</th>\n",
       "      <th>retweet_count</th>\n",
       "      <th>clean</th>\n",
       "      <th>hashtags</th>\n",
       "      <th>dates</th>\n",
       "    </tr>\n",
       "    <tr>\n",
       "      <th>created_at</th>\n",
       "      <th></th>\n",
       "      <th></th>\n",
       "      <th></th>\n",
       "      <th></th>\n",
       "      <th></th>\n",
       "      <th></th>\n",
       "      <th></th>\n",
       "      <th></th>\n",
       "      <th></th>\n",
       "    </tr>\n",
       "  </thead>\n",
       "  <tbody>\n",
       "    <tr>\n",
       "      <th>2022-07-28 00:59:53+00:00</th>\n",
       "      <td>1552458788246114304</td>\n",
       "      <td>President Biden got another win, Chunk &amp;amp; M...</td>\n",
       "      <td>1.0</td>\n",
       "      <td>0.0</td>\n",
       "      <td>0</td>\n",
       "      <td>1</td>\n",
       "      <td>president biden win chunk manchin agree high t...</td>\n",
       "      <td>[]</td>\n",
       "      <td>2022-07-28</td>\n",
       "    </tr>\n",
       "    <tr>\n",
       "      <th>2022-07-28 00:59:32+00:00</th>\n",
       "      <td>1552458703810560001</td>\n",
       "      <td>@Kobrakie32 @pi_slaught @JDVance1 And that's g...</td>\n",
       "      <td>1.0</td>\n",
       "      <td>0.0</td>\n",
       "      <td>1</td>\n",
       "      <td>0</td>\n",
       "      <td>s bring industry backbecause progressive tende...</td>\n",
       "      <td>[]</td>\n",
       "      <td>2022-07-28</td>\n",
       "    </tr>\n",
       "    <tr>\n",
       "      <th>2022-07-28 00:59:31+00:00</th>\n",
       "      <td>1552458697078878208</td>\n",
       "      <td>@AZ_Brittney He’s handling one crisis after an...</td>\n",
       "      <td>3.0</td>\n",
       "      <td>0.0</td>\n",
       "      <td>0</td>\n",
       "      <td>0</td>\n",
       "      <td>s handle crisis gas price war inflation covid ...</td>\n",
       "      <td>[]</td>\n",
       "      <td>2022-07-28</td>\n",
       "    </tr>\n",
       "    <tr>\n",
       "      <th>2022-07-28 00:59:29+00:00</th>\n",
       "      <td>1552458689021259776</td>\n",
       "      <td>@colin_korol You have to watch that climate ch...</td>\n",
       "      <td>4.0</td>\n",
       "      <td>0.0</td>\n",
       "      <td>0</td>\n",
       "      <td>0</td>\n",
       "      <td>watch climate change sneak ya</td>\n",
       "      <td>[]</td>\n",
       "      <td>2022-07-28</td>\n",
       "    </tr>\n",
       "    <tr>\n",
       "      <th>2022-07-28 00:59:26+00:00</th>\n",
       "      <td>1552458675054313473</td>\n",
       "      <td>Keep telling the climate change hoaxers. Wildf...</td>\n",
       "      <td>1.0</td>\n",
       "      <td>0.0</td>\n",
       "      <td>0</td>\n",
       "      <td>1</td>\n",
       "      <td>tell climate change hoaxer wildfire stop guy s...</td>\n",
       "      <td>[]</td>\n",
       "      <td>2022-07-28</td>\n",
       "    </tr>\n",
       "  </tbody>\n",
       "</table>\n",
       "</div>"
      ],
      "text/plain": [
       "                                      tweet_id  \\\n",
       "created_at                                       \n",
       "2022-07-28 00:59:53+00:00  1552458788246114304   \n",
       "2022-07-28 00:59:32+00:00  1552458703810560001   \n",
       "2022-07-28 00:59:31+00:00  1552458697078878208   \n",
       "2022-07-28 00:59:29+00:00  1552458689021259776   \n",
       "2022-07-28 00:59:26+00:00  1552458675054313473   \n",
       "\n",
       "                                                                       tweet  \\\n",
       "created_at                                                                     \n",
       "2022-07-28 00:59:53+00:00  President Biden got another win, Chunk &amp; M...   \n",
       "2022-07-28 00:59:32+00:00  @Kobrakie32 @pi_slaught @JDVance1 And that's g...   \n",
       "2022-07-28 00:59:31+00:00  @AZ_Brittney He’s handling one crisis after an...   \n",
       "2022-07-28 00:59:29+00:00  @colin_korol You have to watch that climate ch...   \n",
       "2022-07-28 00:59:26+00:00  Keep telling the climate change hoaxers. Wildf...   \n",
       "\n",
       "                           like_count  quote_count reply_count retweet_count  \\\n",
       "created_at                                                                     \n",
       "2022-07-28 00:59:53+00:00         1.0          0.0           0             1   \n",
       "2022-07-28 00:59:32+00:00         1.0          0.0           1             0   \n",
       "2022-07-28 00:59:31+00:00         3.0          0.0           0             0   \n",
       "2022-07-28 00:59:29+00:00         4.0          0.0           0             0   \n",
       "2022-07-28 00:59:26+00:00         1.0          0.0           0             1   \n",
       "\n",
       "                                                                       clean  \\\n",
       "created_at                                                                     \n",
       "2022-07-28 00:59:53+00:00  president biden win chunk manchin agree high t...   \n",
       "2022-07-28 00:59:32+00:00  s bring industry backbecause progressive tende...   \n",
       "2022-07-28 00:59:31+00:00  s handle crisis gas price war inflation covid ...   \n",
       "2022-07-28 00:59:29+00:00                      watch climate change sneak ya   \n",
       "2022-07-28 00:59:26+00:00  tell climate change hoaxer wildfire stop guy s...   \n",
       "\n",
       "                          hashtags       dates  \n",
       "created_at                                      \n",
       "2022-07-28 00:59:53+00:00       []  2022-07-28  \n",
       "2022-07-28 00:59:32+00:00       []  2022-07-28  \n",
       "2022-07-28 00:59:31+00:00       []  2022-07-28  \n",
       "2022-07-28 00:59:29+00:00       []  2022-07-28  \n",
       "2022-07-28 00:59:26+00:00       []  2022-07-28  "
      ]
     },
     "execution_count": 9,
     "metadata": {},
     "output_type": "execute_result"
    }
   ],
   "source": [
    "reduced_tweet_data.head()"
   ]
  },
  {
   "cell_type": "markdown",
   "id": "3f9a821d-e1b4-4de4-aaab-f9d1fb38363c",
   "metadata": {},
   "source": [
    "Tokenizing is the process of splitting a sentence into a list of elements. These elements may be words, or common phrases"
   ]
  },
  {
   "cell_type": "code",
   "execution_count": 10,
   "id": "3a0780ef-e6df-4da2-a30a-6cea7dc015b3",
   "metadata": {},
   "outputs": [],
   "source": [
    "words = reduced_tweet_data['clean'].apply(lambda x: word_tokenize(x))"
   ]
  },
  {
   "cell_type": "markdown",
   "id": "deef451e-e9d2-4d40-9767-a3394e86862b",
   "metadata": {},
   "source": [
    "Bigrams and trigrams are groups of two or three consecutive tokens respatcively. This allows us to identify common phases in our dataset. Strangely, 'climate change', which should occur in almost every single one of our tweets, isn't being identified as a bigram. "
   ]
  },
  {
   "cell_type": "code",
   "execution_count": 11,
   "id": "51bd2a2e-bc7c-4847-a81e-14fd44d2a56e",
   "metadata": {},
   "outputs": [
    {
     "name": "stdout",
     "output_type": "stream",
     "text": [
      "['president_biden', 'win', 'chunk', 'manchin_agree', 'high', 'taxis', 'rich', 'clean_energy', 'climate', 'changepresident', 'biden', 'democrats', 'donevote', 'blue']\n"
     ]
    }
   ],
   "source": [
    "# Build the bigram and trigram models\n",
    "bigram = gensim.models.Phrases(words, min_count=10, threshold=10) # higher threshold fewer phrases.\n",
    "trigram = gensim.models.Phrases(bigram[words], threshold=100)  \n",
    "\n",
    "# Faster way to get a sentence clubbed as a trigram/bigram\n",
    "bigram_mod = gensim.models.phrases.Phraser(bigram)\n",
    "trigram_mod = gensim.models.phrases.Phraser(trigram)\n",
    "\n",
    "# See trigram example\n",
    "print(trigram_mod[bigram_mod[words[0]]])"
   ]
  },
  {
   "cell_type": "code",
   "execution_count": 12,
   "id": "d6bf69ca-ce3d-447c-82f9-8b4aa20f6a8a",
   "metadata": {},
   "outputs": [],
   "source": [
    "def make_bigrams(texts):\n",
    "    return [bigram_mod[doc] for doc in texts]\n",
    "\n",
    "def make_trigrams(texts):\n",
    "    return [trigram_mod[bigram_mod[doc]] for doc in texts]"
   ]
  },
  {
   "cell_type": "code",
   "execution_count": 13,
   "id": "034d38f0-b30e-4a8b-8d87-4ccfffd1fa71",
   "metadata": {},
   "outputs": [
    {
     "data": {
      "text/plain": [
       "['president_biden',\n",
       " 'win',\n",
       " 'chunk',\n",
       " 'manchin_agree',\n",
       " 'high',\n",
       " 'taxis',\n",
       " 'rich',\n",
       " 'clean_energy',\n",
       " 'climate',\n",
       " 'changepresident',\n",
       " 'biden',\n",
       " 'democrats',\n",
       " 'donevote',\n",
       " 'blue']"
      ]
     },
     "execution_count": 13,
     "metadata": {},
     "output_type": "execute_result"
    }
   ],
   "source": [
    "data_words_bigrams = make_trigrams(words)\n",
    "data_words_bigrams[0]"
   ]
  },
  {
   "cell_type": "markdown",
   "id": "bbb1e41c-f2c4-4d05-bde1-d3cef6830e19",
   "metadata": {},
   "source": [
    "### Topic modelling using LDA in gensim "
   ]
  },
  {
   "cell_type": "code",
   "execution_count": 14,
   "id": "47536d1c-dca2-4d7c-8f62-5cf57aff3ec7",
   "metadata": {},
   "outputs": [
    {
     "name": "stdout",
     "output_type": "stream",
     "text": [
      "[[(0, 1), (1, 1), (2, 1), (3, 1), (4, 1), (5, 1), (6, 1), (7, 1), (8, 1), (9, 1)]]\n"
     ]
    }
   ],
   "source": [
    "id2word = corpora.Dictionary(data_words_bigrams)\n",
    "id2word.filter_extremes(no_below=10, no_above=0.35)\n",
    "id2word.compactify()\n",
    "corpus = [id2word.doc2bow(text) for text in data_words_bigrams]\n",
    "\n",
    "texts = data_words_bigrams\n",
    "\n",
    "corpus = [id2word.doc2bow(text) for text in texts]"
   ]
  },
  {
   "cell_type": "markdown",
   "id": "09075308-f1fb-4287-9b50-0577fe628f8b",
   "metadata": {},
   "source": [
    "Build the LDA model"
   ]
  },
  {
   "cell_type": "code",
   "execution_count": 15,
   "id": "208a19b2-4bbe-469c-9c25-6106420fe4a8",
   "metadata": {},
   "outputs": [],
   "source": [
    "lda_model = gensim.models.ldamodel.LdaModel(corpus=corpus,\n",
    "                                           id2word=id2word,\n",
    "                                           num_topics=3, \n",
    "                                           random_state=100,\n",
    "                                           update_every=1,\n",
    "                                           chunksize=100,\n",
    "                                           passes=10,\n",
    "                                           alpha='auto',\n",
    "                                           per_word_topics=True)"
   ]
  },
  {
   "cell_type": "markdown",
   "id": "d5059c2c-5b1f-42ef-adf3-996ffc464f7a",
   "metadata": {},
   "source": [
    "Print the top keywords in each of the topics"
   ]
  },
  {
   "cell_type": "code",
   "execution_count": 16,
   "id": "959378cd-ecba-4b30-acaa-9c9069bd51ea",
   "metadata": {
    "tags": []
   },
   "outputs": [
    {
     "name": "stdout",
     "output_type": "stream",
     "text": [
      "[(0,\n",
      "  '0.025*\"people\" + 0.017*\"need\" + 0.013*\"new\" + 0.009*\"stop\" + 0.009*\"work\" + '\n",
      "  '0.009*\"money\" + 0.007*\"state\" + 0.007*\"mean\" + 0.007*\"impact\" + '\n",
      "  '0.007*\"government\"'),\n",
      " (1,\n",
      "  '0.019*\"cause\" + 0.017*\"podcast\" + 0.017*\"time\" + 0.017*\"fight\" + '\n",
      "  '0.016*\"real\" + 0.016*\"year\" + 0.014*\"use\" + 0.014*\"act\" + '\n",
      "  '0.013*\"manchin_support\" + 0.012*\"come\"'),\n",
      " (2,\n",
      "  '0.021*\"bill\" + 0.016*\"s\" + 0.015*\"like\" + 0.014*\"inflation\" + 0.013*\"think\" '\n",
      "  '+ 0.013*\"know\" + 0.011*\"health_care\" + 0.010*\"world\" + 0.010*\"help\" + '\n",
      "  '0.009*\"address\"')]\n"
     ]
    }
   ],
   "source": [
    "pprint(lda_model.print_topics())\n",
    "doc_lda = lda_model[corpus]"
   ]
  },
  {
   "cell_type": "markdown",
   "id": "eb9b2c0e-2dfa-4049-af8b-333e74caca66",
   "metadata": {},
   "source": [
    "Compute the coherence score, which assess how good the topic model has performed by measuring the degree of semantic similarity between high scoring words in the topic. The C_V coherence score falls between 0 and 1. "
   ]
  },
  {
   "cell_type": "code",
   "execution_count": 17,
   "id": "7a68d6a4-cfe1-492b-85e3-f7e77558507e",
   "metadata": {},
   "outputs": [
    {
     "name": "stdout",
     "output_type": "stream",
     "text": [
      "\n",
      "Coherence Score:  0.3648231023203538\n"
     ]
    }
   ],
   "source": [
    "coherence_model_lda = CoherenceModel(model=lda_model, texts=data_words_bigrams, dictionary=id2word, coherence='c_v')\n",
    "coherence_lda = coherence_model_lda.get_coherence()\n",
    "print('\\nCoherence Score: ', coherence_lda)"
   ]
  },
  {
   "cell_type": "markdown",
   "id": "411da07e-8a77-412c-81c7-da5c87ab1156",
   "metadata": {},
   "source": [
    "### Visualise the topics and keywords within that topic using the pyLDAvis dashboard"
   ]
  },
  {
   "cell_type": "code",
   "execution_count": 18,
   "id": "698ac896-d2c9-4b42-a6ef-913e6a89544c",
   "metadata": {},
   "outputs": [
    {
     "name": "stderr",
     "output_type": "stream",
     "text": [
      "/data/users/hbrown/conda/envs/nlp/lib/python3.8/site-packages/pyLDAvis/_prepare.py:246: FutureWarning: In a future version of pandas all arguments of DataFrame.drop except for the argument 'labels' will be keyword-only.\n",
      "  default_term_info = default_term_info.sort_values(\n"
     ]
    },
    {
     "data": {
      "text/html": [
       "\n",
       "<link rel=\"stylesheet\" type=\"text/css\" href=\"https://cdn.jsdelivr.net/gh/bmabey/pyLDAvis@3.3.1/pyLDAvis/js/ldavis.v1.0.0.css\">\n",
       "\n",
       "\n",
       "<div id=\"ldavis_el235421406943845435523577237804\"></div>\n",
       "<script type=\"text/javascript\">\n",
       "\n",
       "var ldavis_el235421406943845435523577237804_data = {\"mdsDat\": {\"x\": [-0.3577756461954394, 0.2057486743659262, 0.15202697182951314], \"y\": [-0.030556128586245335, -0.2899683668702821, 0.32052449545652745], \"topics\": [1, 2, 3], \"cluster\": [1, 1, 1], \"Freq\": [41.57653100112778, 35.252486448942435, 23.17098254992978]}, \"tinfo\": {\"Term\": [\"people\", \"bill\", \"need\", \"cause\", \"podcast\", \"time\", \"s\", \"fight\", \"real\", \"like\", \"year\", \"inflation\", \"use\", \"new\", \"act\", \"think\", \"know\", \"come\", \"health_care\", \"plan\", \"world\", \"help\", \"stop\", \"live\", \"crisis\", \"address\", \"want\", \"work\", \"money\", \"manchin_support\", \"bill\", \"s\", \"like\", \"inflation\", \"think\", \"know\", \"world\", \"help\", \"want\", \"address\", \"vote\", \"believe\", \"thing\", \"democrats\", \"pass\", \"health_care\", \"deal\", \"biden\", \"tax\", \"happen\", \"support\", \"bad\", \"inflation_reduction\", \"way\", \"m\", \"try\", \"action\", \"issue\", \"care\", \"problem\", \"hoax\", \"big\", \"people\", \"need\", \"new\", \"stop\", \"money\", \"work\", \"state\", \"impact\", \"government\", \"country\", \"mean\", \"energy\", \"let\", \"ve\", \"look\", \"talk\", \"increase\", \"billion\", \"policy\", \"global_warming\", \"high\", \"start\", \"effect\", \"man\", \"control\", \"flood\", \"kill\", \"america\", \"weather\", \"power\", \"recession\", \"long\", \"scientist\", \"right\", \"cause\", \"time\", \"fight\", \"real\", \"year\", \"use\", \"act\", \"come\", \"plan\", \"crisis\", \"live\", \"global\", \"earth\", \"science\", \"study\", \"fact\", \"podcast\", \"tell\", \"great\", \"thank\", \"2\", \"actually\", \"news\", \"fossil_fuel\", \"point\", \"create\", \"report\", \"co2\", \"sun\", \"hot\", \"instead\", \"today\", \"manchin_support\", \"biden_praise_sen_joe\", \"economy_shrink_president_joe\", \"package_story_daily_news\"], \"Freq\": [1924.0, 1919.0, 1331.0, 944.0, 880.0, 855.0, 1400.0, 832.0, 812.0, 1356.0, 789.0, 1257.0, 723.0, 993.0, 701.0, 1173.0, 1129.0, 621.0, 1005.0, 580.0, 913.0, 868.0, 716.0, 493.0, 489.0, 810.0, 782.0, 655.0, 652.0, 852.0, 1918.6102376523477, 1400.1500417891505, 1355.8821856941693, 1256.6754076367965, 1172.5405610030714, 1129.0553460496471, 912.9706298391548, 867.6133083817422, 781.7262123924514, 809.2447249326373, 730.2843978103846, 704.5461040934763, 654.4422043798213, 622.208442746926, 608.3009818949188, 1004.2769991804951, 579.5866276233618, 582.6896426838555, 576.106360718341, 603.9715938672783, 560.2836212710425, 582.8456165623563, 579.6038880606434, 561.8732193526627, 542.7313524111695, 538.9245230723245, 535.8604804833572, 506.7425427512741, 471.0986478636263, 514.3298278167673, 477.548675893631, 529.192618175543, 1924.1425381235156, 1330.917053770621, 992.7241210261961, 715.2297703660256, 652.1565406821128, 654.4226541244453, 545.6223246113891, 540.5784417862327, 522.7281337380316, 505.1204251694442, 541.9703353806283, 499.5577647399298, 490.30177382090926, 521.5042401942477, 505.8625737609762, 494.54372168637417, 476.30004853450487, 506.8795473611179, 399.5823518320526, 408.75580266685995, 430.03882391537115, 399.12937840182144, 366.1249530286521, 362.8898303923191, 350.90232529728775, 349.1555591924226, 328.79344029849346, 355.0360594803006, 331.1388890762992, 326.1687154721614, 364.4873976391803, 334.53887823114263, 514.1545762590221, 358.5911584741572, 944.0524303740466, 854.7784983959807, 831.8360182505955, 811.8436747419717, 788.6913933715617, 722.4975621550284, 700.3512219550297, 620.4201382824423, 579.6505456558202, 488.84092675464194, 492.2683354329814, 438.27841023605913, 418.90119343382787, 416.5296719114199, 428.3019453795017, 422.08210205616984, 878.3548759508451, 397.479748765006, 379.35122841051276, 333.18016702930254, 357.65119561345904, 320.738795232237, 275.29925295947737, 320.58715510094123, 283.0217121292861, 275.22494250773104, 244.22999457218353, 231.7859078105818, 232.89557935017092, 217.47259137064364, 221.3180811826978, 474.99975669047643, 629.6717544175563, 618.9437592915268, 618.9437592915268, 618.9437592915268], \"Total\": [1924.0, 1919.0, 1331.0, 944.0, 880.0, 855.0, 1400.0, 832.0, 812.0, 1356.0, 789.0, 1257.0, 723.0, 993.0, 701.0, 1173.0, 1129.0, 621.0, 1005.0, 580.0, 913.0, 868.0, 716.0, 493.0, 489.0, 810.0, 782.0, 655.0, 652.0, 852.0, 1919.3829600120628, 1400.973913678247, 1356.7161066397332, 1257.478575591389, 1173.353437656929, 1129.8868848250536, 913.8061752594135, 868.421327251216, 782.5298761600563, 810.0840781086279, 731.0703339972303, 705.3712129986403, 655.2577691224944, 622.9953848960855, 609.078772392285, 1005.603399137469, 580.355712582864, 583.4727625319874, 576.8941772911185, 604.8220886775306, 561.0771936953535, 583.6756908030477, 580.4299668482785, 562.7008531821914, 543.5381053639004, 539.7339502727607, 536.6902080042187, 507.5718057341946, 471.89003224550385, 515.1977400252682, 478.37641522325185, 799.2308098487115, 1924.937283322054, 1331.6951539426393, 993.5356606377543, 716.0004853674222, 652.9386787636357, 655.2165062907626, 546.3984990735515, 541.3489576577183, 523.5079924106702, 505.8810154795496, 542.7923403356552, 500.3350873121082, 491.06867990611784, 522.3223180597813, 506.66867054626925, 495.3390949683417, 477.09068440891826, 507.7839120724213, 400.3527628277362, 409.5501925761977, 430.9033197994369, 399.9332722004082, 366.8911679172776, 363.68465877176817, 351.69458929651796, 349.95983475447815, 329.56618590649583, 355.8724806764589, 331.9267459696713, 326.9529136421771, 365.434578890645, 335.3577348668473, 532.4051858419517, 777.7149521454438, 944.8531774316481, 855.5789591761675, 832.6319639332686, 812.649741582032, 789.4752904802367, 723.3240308404205, 701.2302599318256, 621.2463762612942, 580.5614506501375, 489.6169060319537, 493.0675426770531, 439.0453765613249, 419.6520473542308, 417.29799600029384, 429.14670133146893, 422.91782321176856, 880.1295010395094, 398.28714673797134, 380.15145387814107, 333.99285193653037, 358.5501033403372, 321.5497880488045, 276.0663072217992, 321.5042291547974, 283.849106560393, 276.0443062690336, 244.98746686455812, 232.56716272171005, 233.69395929121714, 218.22788090367786, 222.1504077171713, 499.1386063881878, 852.8044266425866, 838.1576210429071, 838.1576210429071, 838.1576210429071], \"Category\": [\"Default\", \"Default\", \"Default\", \"Default\", \"Default\", \"Default\", \"Default\", \"Default\", \"Default\", \"Default\", \"Default\", \"Default\", \"Default\", \"Default\", \"Default\", \"Default\", \"Default\", \"Default\", \"Default\", \"Default\", \"Default\", \"Default\", \"Default\", \"Default\", \"Default\", \"Default\", \"Default\", \"Default\", \"Default\", \"Default\", \"Topic1\", \"Topic1\", \"Topic1\", \"Topic1\", \"Topic1\", \"Topic1\", \"Topic1\", \"Topic1\", \"Topic1\", \"Topic1\", \"Topic1\", \"Topic1\", \"Topic1\", \"Topic1\", \"Topic1\", \"Topic1\", \"Topic1\", \"Topic1\", \"Topic1\", \"Topic1\", \"Topic1\", \"Topic1\", \"Topic1\", \"Topic1\", \"Topic1\", \"Topic1\", \"Topic1\", \"Topic1\", \"Topic1\", \"Topic1\", \"Topic1\", \"Topic1\", \"Topic2\", \"Topic2\", \"Topic2\", \"Topic2\", \"Topic2\", \"Topic2\", \"Topic2\", \"Topic2\", \"Topic2\", \"Topic2\", \"Topic2\", \"Topic2\", \"Topic2\", \"Topic2\", \"Topic2\", \"Topic2\", \"Topic2\", \"Topic2\", \"Topic2\", \"Topic2\", \"Topic2\", \"Topic2\", \"Topic2\", \"Topic2\", \"Topic2\", \"Topic2\", \"Topic2\", \"Topic2\", \"Topic2\", \"Topic2\", \"Topic2\", \"Topic2\", \"Topic2\", \"Topic2\", \"Topic3\", \"Topic3\", \"Topic3\", \"Topic3\", \"Topic3\", \"Topic3\", \"Topic3\", \"Topic3\", \"Topic3\", \"Topic3\", \"Topic3\", \"Topic3\", \"Topic3\", \"Topic3\", \"Topic3\", \"Topic3\", \"Topic3\", \"Topic3\", \"Topic3\", \"Topic3\", \"Topic3\", \"Topic3\", \"Topic3\", \"Topic3\", \"Topic3\", \"Topic3\", \"Topic3\", \"Topic3\", \"Topic3\", \"Topic3\", \"Topic3\", \"Topic3\", \"Topic3\", \"Topic3\", \"Topic3\", \"Topic3\"], \"logprob\": [30.0, 29.0, 28.0, 27.0, 26.0, 25.0, 24.0, 23.0, 22.0, 21.0, 20.0, 19.0, 18.0, 17.0, 16.0, 15.0, 14.0, 13.0, 12.0, 11.0, 10.0, 9.0, 8.0, 7.0, 6.0, 5.0, 4.0, 3.0, 2.0, 1.0, -3.8503, -4.1653, -4.1974, -4.2734, -4.3427, -4.3805, -4.5929, -4.6439, -4.7481, -4.7135, -4.8162, -4.8521, -4.9258, -4.9764, -4.999, -4.4976, -5.0473, -5.042, -5.0533, -5.0061, -5.0812, -5.0417, -5.0473, -5.0784, -5.113, -5.1201, -5.1258, -5.1816, -5.2546, -5.1668, -5.241, -5.1383, -3.6824, -4.051, -4.3442, -4.672, -4.7643, -4.7609, -4.9427, -4.952, -4.9856, -5.0198, -4.9494, -5.0309, -5.0496, -4.9879, -5.0184, -5.041, -5.0786, -5.0164, -5.2542, -5.2315, -5.1808, -5.2553, -5.3417, -5.3505, -5.3841, -5.3891, -5.4492, -5.3724, -5.4421, -5.4572, -5.3461, -5.4319, -5.0021, -5.3624, -3.9748, -4.0742, -4.1014, -4.1257, -4.1546, -4.2423, -4.2734, -4.3946, -4.4626, -4.633, -4.626, -4.7421, -4.7874, -4.793, -4.7652, -4.7798, -4.0469, -4.8399, -4.8865, -5.0163, -4.9454, -5.0544, -5.2071, -5.0548, -5.1795, -5.2074, -5.3269, -5.3792, -5.3744, -5.4429, -5.4254, -4.6617, -4.3798, -4.397, -4.397, -4.397], \"loglift\": [30.0, 29.0, 28.0, 27.0, 26.0, 25.0, 24.0, 23.0, 22.0, 21.0, 20.0, 19.0, 18.0, 17.0, 16.0, 15.0, 14.0, 13.0, 12.0, 11.0, 10.0, 9.0, 8.0, 7.0, 6.0, 5.0, 4.0, 3.0, 2.0, 1.0, 0.8772, 0.877, 0.877, 0.877, 0.8769, 0.8769, 0.8767, 0.8767, 0.8766, 0.8766, 0.8766, 0.8765, 0.8764, 0.8764, 0.8764, 0.8763, 0.8763, 0.8763, 0.8763, 0.8762, 0.8762, 0.8762, 0.8762, 0.8762, 0.8761, 0.8761, 0.8761, 0.876, 0.876, 0.8759, 0.8759, 0.4653, 1.0422, 1.042, 1.0418, 1.0416, 1.0414, 1.0414, 1.0412, 1.0412, 1.0411, 1.0411, 1.0411, 1.0411, 1.0411, 1.0411, 1.041, 1.041, 1.041, 1.0409, 1.0407, 1.0407, 1.0406, 1.0406, 1.0405, 1.0404, 1.0404, 1.0403, 1.0403, 1.0403, 1.0403, 1.0402, 1.04, 1.0402, 1.0078, 0.2685, 1.4614, 1.4613, 1.4613, 1.4613, 1.4613, 1.4611, 1.461, 1.4609, 1.4607, 1.4607, 1.4606, 1.4605, 1.4605, 1.4604, 1.4603, 1.4603, 1.4603, 1.4602, 1.4602, 1.4598, 1.4598, 1.4597, 1.4595, 1.4594, 1.4594, 1.4593, 1.4592, 1.4589, 1.4588, 1.4588, 1.4585, 1.4127, 1.1589, 1.1591, 1.1591, 1.1591]}, \"token.table\": {\"Topic\": [3, 3, 1, 3, 1, 2, 1, 1, 1, 1, 2, 3, 1, 2, 1, 2, 1, 3, 3, 3, 2, 2, 3, 3, 1, 1, 3, 1, 2, 3, 2, 2, 3, 3, 2, 3, 3, 2, 2, 3, 1, 1, 2, 3, 1, 2, 1, 3, 2, 2, 1, 1, 3, 1, 2, 1, 2, 1, 3, 2, 2, 1, 2, 1, 2, 3, 2, 2, 2, 2, 3, 1, 2, 3, 1, 2, 3, 1, 2, 3, 3, 2, 2, 1, 3, 1, 2, 3, 1, 2, 1, 3, 2, 3, 2, 2, 2, 3, 3, 1, 2, 1, 3, 3, 1, 1, 3, 1, 3, 1, 3, 2, 1, 1, 1, 2, 2, 1, 3], \"Freq\": [0.9984657560123054, 0.9982455692486157, 0.9987139545422575, 0.9982901930922092, 0.9986617708730198, 0.9975483333951519, 0.9988423523307642, 0.9994737338414164, 0.9991897436138477, 0.15390899845244765, 0.10737837101333558, 0.7385245739694969, 0.6618863956209794, 0.3378248144001218, 0.9998004775388543, 0.9984562093170264, 0.9981138990343394, 0.9990970264459847, 0.9975612949176805, 0.9979937488427779, 0.9980250213746327, 0.9982584531686479, 0.996216888936605, 0.9987400230172742, 0.9993870783466903, 0.9984022595989992, 0.9984462190561402, 0.15390899845244765, 0.10737837101333558, 0.7385245739694969, 0.9975710292446219, 0.9993302742090139, 0.99782978356221, 0.9992410044765958, 0.9972573002408932, 0.9984316562300816, 0.9976189783172017, 0.9986565930472727, 0.999029637717027, 0.9969710654361718, 0.998640776034936, 0.9984055352847413, 0.000994427823988786, 0.000994427823988786, 0.9995148354399015, 0.9979036601531468, 0.9992131400895335, 0.994373400417063, 0.9993553923900987, 0.9977138844991922, 0.9996194165048387, 0.999259226999231, 0.994821491758701, 0.9988734485884859, 0.9982820267044736, 0.9992150675992748, 0.9978237669192787, 0.9994721765030808, 0.9978348956590065, 0.9989332738456462, 0.998680260720387, 0.9990099951436889, 0.9981174384036974, 0.15243823312667146, 0.1090519667752342, 0.7387391297677155, 0.9985402514428164, 0.9985623783761545, 0.9994779931874189, 0.9994608541404438, 0.9961374959786653, 0.15390899845244765, 0.10737837101333558, 0.7385245739694969, 0.9982288458551134, 0.9995130837091811, 0.99903291779103, 0.0011361964333872609, 0.0011361964333872609, 0.997580468514015, 0.9970085987915119, 0.9991188700054306, 0.9970854713250239, 0.997675183852302, 0.9992004654049762, 0.002736467914546331, 0.9960743208948645, 0.9959693168095655, 0.5387578043139397, 0.46160871539070253, 0.9993048309688436, 0.9992858916094732, 0.9654301153869387, 0.03380883672561264, 0.9976664302140369, 0.9992706805120672, 0.9986026750150752, 0.9973279502605725, 0.9970304782660113, 0.9980801328097852, 0.9993154286189274, 0.9984500150524708, 0.9967682945620685, 0.9970273257922326, 0.9980804972000884, 0.9996987798854242, 0.9993233129801077, 0.048082836496391605, 0.9516394723244173, 0.9986401628572933, 0.9981695190758668, 0.9993829134834242, 0.9985359356720467, 0.999322867821154, 0.9987544835266768, 0.9972079804326586, 0.9981433521910958, 0.9991177830909441, 0.9993979666166023], \"Term\": [\"2\", \"act\", \"action\", \"actually\", \"address\", \"america\", \"bad\", \"believe\", \"biden\", \"biden_praise_sen_joe\", \"biden_praise_sen_joe\", \"biden_praise_sen_joe\", \"big\", \"big\", \"bill\", \"billion\", \"care\", \"cause\", \"co2\", \"come\", \"control\", \"country\", \"create\", \"crisis\", \"deal\", \"democrats\", \"earth\", \"economy_shrink_president_joe\", \"economy_shrink_president_joe\", \"economy_shrink_president_joe\", \"effect\", \"energy\", \"fact\", \"fight\", \"flood\", \"fossil_fuel\", \"global\", \"global_warming\", \"government\", \"great\", \"happen\", \"health_care\", \"health_care\", \"health_care\", \"help\", \"high\", \"hoax\", \"hot\", \"impact\", \"increase\", \"inflation\", \"inflation_reduction\", \"instead\", \"issue\", \"kill\", \"know\", \"let\", \"like\", \"live\", \"long\", \"look\", \"m\", \"man\", \"manchin_support\", \"manchin_support\", \"manchin_support\", \"mean\", \"money\", \"need\", \"new\", \"news\", \"package_story_daily_news\", \"package_story_daily_news\", \"package_story_daily_news\", \"pass\", \"people\", \"plan\", \"podcast\", \"podcast\", \"podcast\", \"point\", \"policy\", \"power\", \"problem\", \"real\", \"recession\", \"recession\", \"report\", \"right\", \"right\", \"s\", \"science\", \"scientist\", \"scientist\", \"start\", \"state\", \"stop\", \"study\", \"sun\", \"support\", \"talk\", \"tax\", \"tell\", \"thank\", \"thing\", \"think\", \"time\", \"today\", \"today\", \"try\", \"use\", \"ve\", \"vote\", \"want\", \"way\", \"weather\", \"work\", \"world\", \"year\"]}, \"R\": 30, \"lambda.step\": 0.01, \"plot.opts\": {\"xlab\": \"PC1\", \"ylab\": \"PC2\"}, \"topic.order\": [3, 1, 2]};\n",
       "\n",
       "function LDAvis_load_lib(url, callback){\n",
       "  var s = document.createElement('script');\n",
       "  s.src = url;\n",
       "  s.async = true;\n",
       "  s.onreadystatechange = s.onload = callback;\n",
       "  s.onerror = function(){console.warn(\"failed to load library \" + url);};\n",
       "  document.getElementsByTagName(\"head\")[0].appendChild(s);\n",
       "}\n",
       "\n",
       "if(typeof(LDAvis) !== \"undefined\"){\n",
       "   // already loaded: just create the visualization\n",
       "   !function(LDAvis){\n",
       "       new LDAvis(\"#\" + \"ldavis_el235421406943845435523577237804\", ldavis_el235421406943845435523577237804_data);\n",
       "   }(LDAvis);\n",
       "}else if(typeof define === \"function\" && define.amd){\n",
       "   // require.js is available: use it to load d3/LDAvis\n",
       "   require.config({paths: {d3: \"https://d3js.org/d3.v5\"}});\n",
       "   require([\"d3\"], function(d3){\n",
       "      window.d3 = d3;\n",
       "      LDAvis_load_lib(\"https://cdn.jsdelivr.net/gh/bmabey/pyLDAvis@3.3.1/pyLDAvis/js/ldavis.v3.0.0.js\", function(){\n",
       "        new LDAvis(\"#\" + \"ldavis_el235421406943845435523577237804\", ldavis_el235421406943845435523577237804_data);\n",
       "      });\n",
       "    });\n",
       "}else{\n",
       "    // require.js not available: dynamically load d3 & LDAvis\n",
       "    LDAvis_load_lib(\"https://d3js.org/d3.v5.js\", function(){\n",
       "         LDAvis_load_lib(\"https://cdn.jsdelivr.net/gh/bmabey/pyLDAvis@3.3.1/pyLDAvis/js/ldavis.v3.0.0.js\", function(){\n",
       "                 new LDAvis(\"#\" + \"ldavis_el235421406943845435523577237804\", ldavis_el235421406943845435523577237804_data);\n",
       "            })\n",
       "         });\n",
       "}\n",
       "</script>"
      ],
      "text/plain": [
       "PreparedData(topic_coordinates=              x         y  topics  cluster       Freq\n",
       "topic                                                \n",
       "2     -0.357776 -0.030556       1        1  41.576531\n",
       "0      0.205749 -0.289968       2        1  35.252486\n",
       "1      0.152027  0.320524       3        1  23.170983, topic_info=                              Term         Freq        Total Category  \\\n",
       "116                         people  1924.000000  1924.000000  Default   \n",
       "347                           bill  1919.000000  1919.000000  Default   \n",
       "50                            need  1331.000000  1331.000000  Default   \n",
       "126                          cause   944.000000   944.000000  Default   \n",
       "3356                       podcast   880.000000   880.000000  Default   \n",
       "...                            ...          ...          ...      ...   \n",
       "77                           today   474.999757   499.138606   Topic3   \n",
       "1184               manchin_support   629.671754   852.804427   Topic3   \n",
       "3826          biden_praise_sen_joe   618.943759   838.157621   Topic3   \n",
       "3827  economy_shrink_president_joe   618.943759   838.157621   Topic3   \n",
       "3828      package_story_daily_news   618.943759   838.157621   Topic3   \n",
       "\n",
       "      logprob  loglift  \n",
       "116   30.0000  30.0000  \n",
       "347   29.0000  29.0000  \n",
       "50    28.0000  28.0000  \n",
       "126   27.0000  27.0000  \n",
       "3356  26.0000  26.0000  \n",
       "...       ...      ...  \n",
       "77    -4.6617   1.4127  \n",
       "1184  -4.3798   1.1589  \n",
       "3826  -4.3970   1.1591  \n",
       "3827  -4.3970   1.1591  \n",
       "3828  -4.3970   1.1591  \n",
       "\n",
       "[132 rows x 6 columns], token_table=      Topic      Freq      Term\n",
       "term                           \n",
       "413       3  0.998466         2\n",
       "327       3  0.998246       act\n",
       "171       1  0.998714    action\n",
       "475       3  0.998290  actually\n",
       "566       1  0.998662   address\n",
       "...     ...       ...       ...\n",
       "66        1  0.998754       way\n",
       "148       2  0.997208   weather\n",
       "340       2  0.998143      work\n",
       "385       1  0.999118     world\n",
       "216       3  0.999398      year\n",
       "\n",
       "[119 rows x 3 columns], R=30, lambda_step=0.01, plot_opts={'xlab': 'PC1', 'ylab': 'PC2'}, topic_order=[3, 1, 2])"
      ]
     },
     "execution_count": 18,
     "metadata": {},
     "output_type": "execute_result"
    }
   ],
   "source": [
    "pyLDAvis.enable_notebook()\n",
    "vis = pyLDAvis.gensim_models.prepare(lda_model, corpus, id2word)\n",
    "vis"
   ]
  },
  {
   "cell_type": "markdown",
   "id": "89fa3d74-1194-4af1-ad6d-e6ddc2ce87d4",
   "metadata": {},
   "source": [
    "### Optimize the number of topics "
   ]
  },
  {
   "cell_type": "code",
   "execution_count": 19,
   "id": "c726152f-1c5f-4f09-ad3f-b5660f14ffb9",
   "metadata": {},
   "outputs": [
    {
     "name": "stderr",
     "output_type": "stream",
     "text": [
      "/data/users/hbrown/conda/envs/nlp/lib/python3.8/site-packages/past/builtins/misc.py:45: DeprecationWarning: the imp module is deprecated in favour of importlib; see the module's documentation for alternative uses\n",
      "  from imp import reload\n",
      "/data/users/hbrown/conda/envs/nlp/lib/python3.8/site-packages/past/builtins/misc.py:45: DeprecationWarning: the imp module is deprecated in favour of importlib; see the module's documentation for alternative uses\n",
      "  from imp import reload\n",
      "/data/users/hbrown/conda/envs/nlp/lib/python3.8/site-packages/past/builtins/misc.py:45: DeprecationWarning: the imp module is deprecated in favour of importlib; see the module's documentation for alternative uses\n",
      "  from imp import reload\n",
      "/data/users/hbrown/conda/envs/nlp/lib/python3.8/site-packages/past/builtins/misc.py:45: DeprecationWarning: the imp module is deprecated in favour of importlib; see the module's documentation for alternative uses\n",
      "  from imp import reload\n"
     ]
    }
   ],
   "source": [
    "def compute_coherence_values(dictionary, corpus, texts, limit, start=2, step=3):\n",
    "    \"\"\"\n",
    "    Compute c_v coherence for various number of topics\n",
    "\n",
    "    Parameters:\n",
    "    ----------\n",
    "    dictionary : Gensim dictionary\n",
    "    corpus : Gensim corpus\n",
    "    texts : List of input texts\n",
    "    limit : Max num of topics\n",
    "\n",
    "    Returns:\n",
    "    -------\n",
    "    model_list : List of LDA topic models\n",
    "    coherence_values : Coherence values corresponding to the LDA model with respective number of topics\n",
    "    \"\"\"\n",
    "    coherence_values = []\n",
    "    model_list = []\n",
    "    for num_topics in range(start, limit, step):\n",
    "        model = gensim.models.ldamodel.LdaModel(\n",
    "            corpus=corpus,\n",
    "            id2word=id2word,\n",
    "            num_topics=num_topics, \n",
    "            random_state=100,\n",
    "            update_every=1,\n",
    "            chunksize=100,\n",
    "            passes=10,\n",
    "            alpha='auto',\n",
    "            per_word_topics=True)\n",
    "        model_list.append(model)\n",
    "        coherencemodel = CoherenceModel(model=model, texts=texts, dictionary=dictionary, coherence='c_v')\n",
    "        coherence_values.append(coherencemodel.get_coherence())\n",
    "\n",
    "    return model_list, coherence_values\n",
    "\n",
    "model_list, coherence_values = compute_coherence_values(dictionary=id2word, corpus=corpus, texts=data_words_bigrams, start=1, limit=12, step=1)"
   ]
  },
  {
   "cell_type": "code",
   "execution_count": 20,
   "id": "ac9922a1-be78-4989-a1bd-2cf0d4219550",
   "metadata": {},
   "outputs": [
    {
     "data": {
      "image/png": "[encoded data removed]",
      "text/plain": [
       "<Figure size 640x480 with 1 Axes>"
      ]
     },
     "metadata": {},
     "output_type": "display_data"
    }
   ],
   "source": [
    "# Show graph\n",
    "import matplotlib.pyplot as plt\n",
    "limit=12; start=1; step=1;\n",
    "x = range(start, limit, step)\n",
    "plt.plot(x, coherence_values)\n",
    "plt.xlabel(\"Num Topics\")\n",
    "plt.ylabel(\"Coherence score\")\n",
    "plt.legend((\"coherence_values\"), loc='best')\n",
    "plt.show()"
   ]
  },
  {
   "cell_type": "code",
   "execution_count": 21,
   "id": "e6358e89-f939-4ea3-8247-0566fdebbec5",
   "metadata": {},
   "outputs": [
    {
     "name": "stdout",
     "output_type": "stream",
     "text": [
      "Num Topics = 1  has Coherence Value of 0.2582\n",
      "Num Topics = 2  has Coherence Value of 0.4383\n",
      "Num Topics = 3  has Coherence Value of 0.3648\n",
      "Num Topics = 4  has Coherence Value of 0.3931\n",
      "Num Topics = 5  has Coherence Value of 0.3305\n",
      "Num Topics = 6  has Coherence Value of 0.2981\n",
      "Num Topics = 7  has Coherence Value of 0.3406\n",
      "Num Topics = 8  has Coherence Value of 0.2942\n",
      "Num Topics = 9  has Coherence Value of 0.3185\n",
      "Num Topics = 10  has Coherence Value of 0.2838\n",
      "Num Topics = 11  has Coherence Value of 0.2803\n"
     ]
    }
   ],
   "source": [
    "for m, cv in zip(x, coherence_values):\n",
    "    print(\"Num Topics =\", m, \" has Coherence Value of\", round(cv, 4))"
   ]
  },
  {
   "cell_type": "code",
   "execution_count": null,
   "id": "8a0bcb70-30cb-49c4-a4c8-55dd1f3578e3",
   "metadata": {},
   "outputs": [],
   "source": []
  }
 ],
 "metadata": {
  "kernelspec": {
   "display_name": "Python 3 (ipykernel)",
   "language": "python",
   "name": "python3"
  },
  "language_info": {
   "codemirror_mode": {
    "name": "ipython",
    "version": 3
   },
   "file_extension": ".py",
   "mimetype": "text/x-python",
   "name": "python",
   "nbconvert_exporter": "python",
   "pygments_lexer": "ipython3",
   "version": "3.8.13"
  }
 },
 "nbformat": 4,
 "nbformat_minor": 5
}
