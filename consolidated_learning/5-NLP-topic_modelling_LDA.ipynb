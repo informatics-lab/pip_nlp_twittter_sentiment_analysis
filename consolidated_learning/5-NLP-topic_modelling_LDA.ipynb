{
 "cells": [
  {
   "cell_type": "markdown",
   "id": "0f539117-572a-43fd-9a9c-6be66a0e4662",
   "metadata": {},
   "source": [
    "# Topic modelling using latent dirichlet allocation"
   ]
  },
  {
   "cell_type": "markdown",
   "id": "fb7d58aa-0b79-4e95-8be2-a5a64f87d7e3",
   "metadata": {},
   "source": [
    "Topic modeling is a method for unsupervised classification of text, similar to clustering on numeric data, which finds natural groups of items even when we're not sure what we're looking for. Latent Dirichlet allocation (LDA) is a particularly popular method for fitting a topic model."
   ]
  },
  {
   "cell_type": "markdown",
   "id": "d9f0f9fa-7b31-48c0-95d1-29f795e4a7d2",
   "metadata": {},
   "source": [
    "In this notebook we use the ```gensim``` python package"
   ]
  },
  {
   "cell_type": "markdown",
   "id": "bef69a8a-2f95-4175-81ac-0d53055c78fa",
   "metadata": {},
   "source": [
    "This notebook follows this tutorial: https://www.machinelearningplus.com/nlp/topic-modeling-gensim-python/"
   ]
  },
  {
   "cell_type": "code",
   "execution_count": 1,
   "id": "20db8b68-2bea-4651-b354-3b1b32e50751",
   "metadata": {},
   "outputs": [
    {
     "name": "stderr",
     "output_type": "stream",
     "text": [
      "/opt/anaconda3/envs/nlp/lib/python3.8/site-packages/past/builtins/misc.py:45: DeprecationWarning: the imp module is deprecated in favour of importlib; see the module's documentation for alternative uses\n",
      "  from imp import reload\n"
     ]
    }
   ],
   "source": [
    "import pandas as pd\n",
    "import numpy as np\n",
    "\n",
    "import nltk\n",
    "from nltk.tokenize import word_tokenize\n",
    "\n",
    "import gensim\n",
    "import gensim.corpora as corpora\n",
    "from gensim.models import CoherenceModel\n",
    "\n",
    "from pprint import pprint\n",
    "\n",
    "import pyLDAvis\n",
    "import pyLDAvis.gensim_models  # don't skip this"
   ]
  },
  {
   "cell_type": "markdown",
   "id": "40d328be-dc7d-4a6c-810b-dc4e9a9e97ac",
   "metadata": {},
   "source": [
    "### Load dataset with sentiment columns"
   ]
  },
  {
   "cell_type": "code",
   "execution_count": 2,
   "id": "88d703f7-da69-4a25-a4f6-3d7ce63816aa",
   "metadata": {},
   "outputs": [],
   "source": [
    "tweet_data = pd.read_csv('../data_lg_clean_sentiment.csv').dropna()"
   ]
  },
  {
   "cell_type": "markdown",
   "id": "a651533c-3eaa-45ac-a1e9-9dc961ed1c7d",
   "metadata": {
    "tags": []
   },
   "source": [
    "### Preprocess data"
   ]
  },
  {
   "cell_type": "code",
   "execution_count": 3,
   "id": "f8834010-86e1-4208-b63a-adda705fcd95",
   "metadata": {},
   "outputs": [],
   "source": [
    "tweet_data = tweet_data[tweet_data['created_at']!='0']\n",
    "tweet_data['created_at'] = pd.to_datetime(tweet_data['created_at'], format=\"%Y-%m-%d %H:%M:%S\")"
   ]
  },
  {
   "cell_type": "code",
   "execution_count": 4,
   "id": "db3dad78-0f56-4609-a677-2ea90d9903f6",
   "metadata": {},
   "outputs": [],
   "source": [
    "tweet_data['dates'] = tweet_data['created_at'].apply(lambda x: x.date())"
   ]
  },
  {
   "cell_type": "code",
   "execution_count": 5,
   "id": "bdccb24c-36f4-41ef-b179-34dfdd48ea28",
   "metadata": {},
   "outputs": [
    {
     "data": {
      "text/plain": [
       "array([datetime.date(2022, 7, 26), datetime.date(2022, 7, 26),\n",
       "       datetime.date(2022, 7, 26), ..., datetime.date(2022, 8, 1),\n",
       "       datetime.date(2022, 8, 1), datetime.date(2022, 8, 1)], dtype=object)"
      ]
     },
     "execution_count": 5,
     "metadata": {},
     "output_type": "execute_result"
    }
   ],
   "source": [
    "tweet_data = tweet_data.set_index('created_at')\n",
    "tweet_data.index.date"
   ]
  },
  {
   "cell_type": "markdown",
   "id": "2ceb2cd0-ed1d-4cdd-9c74-a00c35a8fc8e",
   "metadata": {},
   "source": [
    "We work with a reduced subset of the tweet dataset, as this is quite a compute hungry process"
   ]
  },
  {
   "cell_type": "code",
   "execution_count": 6,
   "id": "23815426-1579-44d0-b996-ea29c3432a9e",
   "metadata": {},
   "outputs": [],
   "source": [
    "reduced_tweet_data = tweet_data[tweet_data.index.date == tweet_data['dates'].unique()[2]]"
   ]
  },
  {
   "cell_type": "code",
   "execution_count": 7,
   "id": "1213b548-73e5-41d2-9be1-364328a3b02d",
   "metadata": {},
   "outputs": [
    {
     "data": {
      "text/plain": [
       "(24855, 16)"
      ]
     },
     "execution_count": 7,
     "metadata": {},
     "output_type": "execute_result"
    }
   ],
   "source": [
    "reduced_tweet_data.shape"
   ]
  },
  {
   "cell_type": "code",
   "execution_count": 8,
   "id": "1a869242-890d-462b-9a29-cf28cd9a69f7",
   "metadata": {},
   "outputs": [
    {
     "data": {
      "text/html": [
       "<div>\n",
       "<style scoped>\n",
       "    .dataframe tbody tr th:only-of-type {\n",
       "        vertical-align: middle;\n",
       "    }\n",
       "\n",
       "    .dataframe tbody tr th {\n",
       "        vertical-align: top;\n",
       "    }\n",
       "\n",
       "    .dataframe thead th {\n",
       "        text-align: right;\n",
       "    }\n",
       "</style>\n",
       "<table border=\"1\" class=\"dataframe\">\n",
       "  <thead>\n",
       "    <tr style=\"text-align: right;\">\n",
       "      <th></th>\n",
       "      <th>tweet_id</th>\n",
       "      <th>tweet</th>\n",
       "      <th>like_count</th>\n",
       "      <th>quote_count</th>\n",
       "      <th>reply_count</th>\n",
       "      <th>retweet_count</th>\n",
       "      <th>clean</th>\n",
       "      <th>hashtags</th>\n",
       "      <th>clean_spacy</th>\n",
       "      <th>tmp</th>\n",
       "      <th>neg</th>\n",
       "      <th>pos</th>\n",
       "      <th>neu</th>\n",
       "      <th>compound</th>\n",
       "      <th>sentiment</th>\n",
       "      <th>dates</th>\n",
       "    </tr>\n",
       "    <tr>\n",
       "      <th>created_at</th>\n",
       "      <th></th>\n",
       "      <th></th>\n",
       "      <th></th>\n",
       "      <th></th>\n",
       "      <th></th>\n",
       "      <th></th>\n",
       "      <th></th>\n",
       "      <th></th>\n",
       "      <th></th>\n",
       "      <th></th>\n",
       "      <th></th>\n",
       "      <th></th>\n",
       "      <th></th>\n",
       "      <th></th>\n",
       "      <th></th>\n",
       "      <th></th>\n",
       "    </tr>\n",
       "  </thead>\n",
       "  <tbody>\n",
       "    <tr>\n",
       "      <th>2022-07-28 00:59:53</th>\n",
       "      <td>1552458788246114304</td>\n",
       "      <td>President Biden got another win, Chunk &amp;amp; M...</td>\n",
       "      <td>1.0</td>\n",
       "      <td>0.0</td>\n",
       "      <td>0.0</td>\n",
       "      <td>1.0</td>\n",
       "      <td>president biden got another win chunk manchin ...</td>\n",
       "      <td>[]</td>\n",
       "      <td>president biden win chunk manchin agree high t...</td>\n",
       "      <td>{'neg': 0.0, 'neu': 0.62, 'pos': 0.38, 'compou...</td>\n",
       "      <td>0.000</td>\n",
       "      <td>0.380</td>\n",
       "      <td>0.620</td>\n",
       "      <td>0.9287</td>\n",
       "      <td>pos</td>\n",
       "      <td>2022-07-28</td>\n",
       "    </tr>\n",
       "    <tr>\n",
       "      <th>2022-07-28 00:59:32</th>\n",
       "      <td>1552458703810560001</td>\n",
       "      <td>@Kobrakie32 @pi_slaught @JDVance1 And that's g...</td>\n",
       "      <td>1.0</td>\n",
       "      <td>0.0</td>\n",
       "      <td>1.0</td>\n",
       "      <td>0.0</td>\n",
       "      <td>and thats going to bring industry back because...</td>\n",
       "      <td>[]</td>\n",
       "      <td>s bring industry progressive tendency cozy cor...</td>\n",
       "      <td>{'neg': 0.0, 'neu': 0.919, 'pos': 0.081, 'comp...</td>\n",
       "      <td>0.000</td>\n",
       "      <td>0.081</td>\n",
       "      <td>0.919</td>\n",
       "      <td>0.5330</td>\n",
       "      <td>pos</td>\n",
       "      <td>2022-07-28</td>\n",
       "    </tr>\n",
       "    <tr>\n",
       "      <th>2022-07-28 00:59:31</th>\n",
       "      <td>1552458697078878208</td>\n",
       "      <td>@AZ_Brittney He’s handling one crisis after an...</td>\n",
       "      <td>3.0</td>\n",
       "      <td>0.0</td>\n",
       "      <td>0.0</td>\n",
       "      <td>0.0</td>\n",
       "      <td>hes handling one crisis after another gas pric...</td>\n",
       "      <td>[]</td>\n",
       "      <td>s handle crisis gas price war inflation covid ...</td>\n",
       "      <td>{'neg': 0.185, 'neu': 0.695, 'pos': 0.12, 'com...</td>\n",
       "      <td>0.185</td>\n",
       "      <td>0.120</td>\n",
       "      <td>0.695</td>\n",
       "      <td>-0.5719</td>\n",
       "      <td>neg</td>\n",
       "      <td>2022-07-28</td>\n",
       "    </tr>\n",
       "    <tr>\n",
       "      <th>2022-07-28 00:59:29</th>\n",
       "      <td>1552458689021259776</td>\n",
       "      <td>@colin_korol You have to watch that climate ch...</td>\n",
       "      <td>4.0</td>\n",
       "      <td>0.0</td>\n",
       "      <td>0.0</td>\n",
       "      <td>0.0</td>\n",
       "      <td>you have to watch that climate change it sneak...</td>\n",
       "      <td>[]</td>\n",
       "      <td>watch climate change sneak ya</td>\n",
       "      <td>{'neg': 0.0, 'neu': 1.0, 'pos': 0.0, 'compound...</td>\n",
       "      <td>0.000</td>\n",
       "      <td>0.000</td>\n",
       "      <td>1.000</td>\n",
       "      <td>0.0000</td>\n",
       "      <td>neu</td>\n",
       "      <td>2022-07-28</td>\n",
       "    </tr>\n",
       "    <tr>\n",
       "      <th>2022-07-28 00:59:26</th>\n",
       "      <td>1552458675054313473</td>\n",
       "      <td>Keep telling the climate change hoaxers. Wildf...</td>\n",
       "      <td>1.0</td>\n",
       "      <td>0.0</td>\n",
       "      <td>0.0</td>\n",
       "      <td>1.0</td>\n",
       "      <td>keep telling the climate change hoaxers wildfi...</td>\n",
       "      <td>[]</td>\n",
       "      <td>tell climate change hoaxer wildfire stop guy s...</td>\n",
       "      <td>{'neg': 0.239, 'neu': 0.761, 'pos': 0.0, 'comp...</td>\n",
       "      <td>0.239</td>\n",
       "      <td>0.000</td>\n",
       "      <td>0.761</td>\n",
       "      <td>-0.5267</td>\n",
       "      <td>neg</td>\n",
       "      <td>2022-07-28</td>\n",
       "    </tr>\n",
       "  </tbody>\n",
       "</table>\n",
       "</div>"
      ],
      "text/plain": [
       "                                tweet_id  \\\n",
       "created_at                                 \n",
       "2022-07-28 00:59:53  1552458788246114304   \n",
       "2022-07-28 00:59:32  1552458703810560001   \n",
       "2022-07-28 00:59:31  1552458697078878208   \n",
       "2022-07-28 00:59:29  1552458689021259776   \n",
       "2022-07-28 00:59:26  1552458675054313473   \n",
       "\n",
       "                                                                 tweet  \\\n",
       "created_at                                                               \n",
       "2022-07-28 00:59:53  President Biden got another win, Chunk &amp; M...   \n",
       "2022-07-28 00:59:32  @Kobrakie32 @pi_slaught @JDVance1 And that's g...   \n",
       "2022-07-28 00:59:31  @AZ_Brittney He’s handling one crisis after an...   \n",
       "2022-07-28 00:59:29  @colin_korol You have to watch that climate ch...   \n",
       "2022-07-28 00:59:26  Keep telling the climate change hoaxers. Wildf...   \n",
       "\n",
       "                     like_count  quote_count  reply_count  retweet_count  \\\n",
       "created_at                                                                 \n",
       "2022-07-28 00:59:53         1.0          0.0          0.0            1.0   \n",
       "2022-07-28 00:59:32         1.0          0.0          1.0            0.0   \n",
       "2022-07-28 00:59:31         3.0          0.0          0.0            0.0   \n",
       "2022-07-28 00:59:29         4.0          0.0          0.0            0.0   \n",
       "2022-07-28 00:59:26         1.0          0.0          0.0            1.0   \n",
       "\n",
       "                                                                 clean  \\\n",
       "created_at                                                               \n",
       "2022-07-28 00:59:53  president biden got another win chunk manchin ...   \n",
       "2022-07-28 00:59:32  and thats going to bring industry back because...   \n",
       "2022-07-28 00:59:31  hes handling one crisis after another gas pric...   \n",
       "2022-07-28 00:59:29  you have to watch that climate change it sneak...   \n",
       "2022-07-28 00:59:26  keep telling the climate change hoaxers wildfi...   \n",
       "\n",
       "                    hashtags  \\\n",
       "created_at                     \n",
       "2022-07-28 00:59:53       []   \n",
       "2022-07-28 00:59:32       []   \n",
       "2022-07-28 00:59:31       []   \n",
       "2022-07-28 00:59:29       []   \n",
       "2022-07-28 00:59:26       []   \n",
       "\n",
       "                                                           clean_spacy  \\\n",
       "created_at                                                               \n",
       "2022-07-28 00:59:53  president biden win chunk manchin agree high t...   \n",
       "2022-07-28 00:59:32  s bring industry progressive tendency cozy cor...   \n",
       "2022-07-28 00:59:31  s handle crisis gas price war inflation covid ...   \n",
       "2022-07-28 00:59:29                      watch climate change sneak ya   \n",
       "2022-07-28 00:59:26  tell climate change hoaxer wildfire stop guy s...   \n",
       "\n",
       "                                                                   tmp    neg  \\\n",
       "created_at                                                                      \n",
       "2022-07-28 00:59:53  {'neg': 0.0, 'neu': 0.62, 'pos': 0.38, 'compou...  0.000   \n",
       "2022-07-28 00:59:32  {'neg': 0.0, 'neu': 0.919, 'pos': 0.081, 'comp...  0.000   \n",
       "2022-07-28 00:59:31  {'neg': 0.185, 'neu': 0.695, 'pos': 0.12, 'com...  0.185   \n",
       "2022-07-28 00:59:29  {'neg': 0.0, 'neu': 1.0, 'pos': 0.0, 'compound...  0.000   \n",
       "2022-07-28 00:59:26  {'neg': 0.239, 'neu': 0.761, 'pos': 0.0, 'comp...  0.239   \n",
       "\n",
       "                       pos    neu  compound sentiment       dates  \n",
       "created_at                                                         \n",
       "2022-07-28 00:59:53  0.380  0.620    0.9287       pos  2022-07-28  \n",
       "2022-07-28 00:59:32  0.081  0.919    0.5330       pos  2022-07-28  \n",
       "2022-07-28 00:59:31  0.120  0.695   -0.5719       neg  2022-07-28  \n",
       "2022-07-28 00:59:29  0.000  1.000    0.0000       neu  2022-07-28  \n",
       "2022-07-28 00:59:26  0.000  0.761   -0.5267       neg  2022-07-28  "
      ]
     },
     "execution_count": 8,
     "metadata": {},
     "output_type": "execute_result"
    }
   ],
   "source": [
    "reduced_tweet_data.head()"
   ]
  },
  {
   "cell_type": "markdown",
   "id": "3f9a821d-e1b4-4de4-aaab-f9d1fb38363c",
   "metadata": {},
   "source": [
    "Tokenizing is the process of splitting a sentence into a list of elements. These elements may be words, or common phrases"
   ]
  },
  {
   "cell_type": "code",
   "execution_count": 9,
   "id": "3a0780ef-e6df-4da2-a30a-6cea7dc015b3",
   "metadata": {},
   "outputs": [],
   "source": [
    "words = reduced_tweet_data['clean_spacy'].apply(lambda x: word_tokenize(x))"
   ]
  },
  {
   "cell_type": "markdown",
   "id": "deef451e-e9d2-4d40-9767-a3394e86862b",
   "metadata": {},
   "source": [
    "Bigrams and trigrams are groups of two or three consecutive tokens respatcively. This allows us to identify common phases in our dataset. Strangely, 'climate change', which should occur in almost every single one of our tweets, isn't being identified as a bigram. "
   ]
  },
  {
   "cell_type": "code",
   "execution_count": 10,
   "id": "51bd2a2e-bc7c-4847-a81e-14fd44d2a56e",
   "metadata": {},
   "outputs": [
    {
     "name": "stdout",
     "output_type": "stream",
     "text": [
      "['president_biden', 'win', 'chunk', 'manchin_agree', 'high', 'taxis', 'rich', 'clean_energy', 'climate', 'change', 'president_biden', 'democrats', 'vote_blue']\n"
     ]
    }
   ],
   "source": [
    "# Build the bigram and trigram models\n",
    "bigram = gensim.models.Phrases(words, min_count=10, threshold=10) # higher threshold fewer phrases.\n",
    "trigram = gensim.models.Phrases(bigram[words], threshold=100)  \n",
    "\n",
    "# Faster way to get a sentence clubbed as a trigram/bigram\n",
    "bigram_mod = gensim.models.phrases.Phraser(bigram)\n",
    "trigram_mod = gensim.models.phrases.Phraser(trigram)\n",
    "\n",
    "# See trigram example\n",
    "print(trigram_mod[bigram_mod[words[0]]])"
   ]
  },
  {
   "cell_type": "code",
   "execution_count": 11,
   "id": "d6bf69ca-ce3d-447c-82f9-8b4aa20f6a8a",
   "metadata": {},
   "outputs": [],
   "source": [
    "def make_bigrams(texts):\n",
    "    return [bigram_mod[doc] for doc in texts]\n",
    "\n",
    "def make_trigrams(texts):\n",
    "    return [trigram_mod[bigram_mod[doc]] for doc in texts]"
   ]
  },
  {
   "cell_type": "code",
   "execution_count": 12,
   "id": "034d38f0-b30e-4a8b-8d87-4ccfffd1fa71",
   "metadata": {},
   "outputs": [
    {
     "data": {
      "text/plain": [
       "['president_biden',\n",
       " 'win',\n",
       " 'chunk',\n",
       " 'manchin_agree',\n",
       " 'high',\n",
       " 'taxis',\n",
       " 'rich',\n",
       " 'clean_energy',\n",
       " 'climate',\n",
       " 'change',\n",
       " 'president_biden',\n",
       " 'democrats',\n",
       " 'vote_blue']"
      ]
     },
     "execution_count": 12,
     "metadata": {},
     "output_type": "execute_result"
    }
   ],
   "source": [
    "data_words_bigrams = make_trigrams(words)\n",
    "data_words_bigrams[0]"
   ]
  },
  {
   "cell_type": "markdown",
   "id": "bbb1e41c-f2c4-4d05-bde1-d3cef6830e19",
   "metadata": {},
   "source": [
    "### Topic modelling using LDA in gensim "
   ]
  },
  {
   "cell_type": "code",
   "execution_count": 13,
   "id": "47536d1c-dca2-4d7c-8f62-5cf57aff3ec7",
   "metadata": {},
   "outputs": [
    {
     "name": "stdout",
     "output_type": "stream",
     "text": [
      "[[(0, 1), (1, 1), (2, 1), (3, 1), (4, 2), (5, 1), (6, 1), (7, 1), (8, 1)]]\n"
     ]
    }
   ],
   "source": [
    "# Create Dictionary\n",
    "id2word = corpora.Dictionary(data_words_bigrams)\n",
    "# id2word = corpora.Dictionary(bigram)\n",
    "id2word.filter_extremes(no_below=10, no_above=0.35)\n",
    "id2word.compactify()\n",
    "corpus = [id2word.doc2bow(text) for text in data_words_bigrams]\n",
    "\n",
    "# Create Corpus\n",
    "texts = data_words_bigrams\n",
    "\n",
    "# Term Document Frequency\n",
    "corpus = [id2word.doc2bow(text) for text in texts]\n",
    "\n",
    "# View\n",
    "print(corpus[:1])"
   ]
  },
  {
   "cell_type": "markdown",
   "id": "09075308-f1fb-4287-9b50-0577fe628f8b",
   "metadata": {},
   "source": [
    "Build the LDA model"
   ]
  },
  {
   "cell_type": "code",
   "execution_count": 14,
   "id": "208a19b2-4bbe-469c-9c25-6106420fe4a8",
   "metadata": {},
   "outputs": [],
   "source": [
    "lda_model = gensim.models.ldamodel.LdaModel(corpus=corpus,\n",
    "                                           id2word=id2word,\n",
    "                                           num_topics=3, \n",
    "                                           random_state=100,\n",
    "                                           update_every=1,\n",
    "                                           chunksize=100,\n",
    "                                           passes=10,\n",
    "                                           alpha='auto',\n",
    "                                           per_word_topics=True)"
   ]
  },
  {
   "cell_type": "markdown",
   "id": "d5059c2c-5b1f-42ef-adf3-996ffc464f7a",
   "metadata": {},
   "source": [
    "Print the top keywords in each of the topics"
   ]
  },
  {
   "cell_type": "code",
   "execution_count": 15,
   "id": "959378cd-ecba-4b30-acaa-9c9069bd51ea",
   "metadata": {
    "tags": []
   },
   "outputs": [
    {
     "name": "stdout",
     "output_type": "stream",
     "text": [
      "[(0,\n",
      "  '0.026*\"bill\" + 0.013*\"health_care\" + 0.012*\"world\" + 0.011*\"time\" + '\n",
      "  '0.010*\"address\" + 0.010*\"vote\" + 0.009*\"democrats\" + 0.008*\"money\" + '\n",
      "  '0.008*\"deal\" + 0.008*\"biden\"'),\n",
      " (1,\n",
      "  '0.033*\"inflation\" + 0.022*\"podcast\" + 0.020*\"real\" + 0.020*\"year\" + '\n",
      "  '0.019*\"fight\" + 0.017*\"manchin_support\" + '\n",
      "  '0.017*\"economy_shrank_president_joe\" + 0.017*\"biden_praise_sen_joe\" + '\n",
      "  '0.017*\"package_story_daily_news\" + 0.015*\"state\"'),\n",
      " (2,\n",
      "  '0.019*\"people\" + 0.014*\"s\" + 0.014*\"like\" + 0.012*\"need\" + 0.012*\"think\" + '\n",
      "  '0.011*\"know\" + 0.010*\"new\" + 0.009*\"cause\" + 0.009*\"help\" + 0.008*\"right\"')]\n"
     ]
    }
   ],
   "source": [
    "pprint(lda_model.print_topics())\n",
    "doc_lda = lda_model[corpus]"
   ]
  },
  {
   "cell_type": "markdown",
   "id": "eb9b2c0e-2dfa-4049-af8b-333e74caca66",
   "metadata": {},
   "source": [
    "Compute the coherence score, which assess how good the topic model has performed by measuring the degree of semantic similarity between high scoring words in the topic. "
   ]
  },
  {
   "cell_type": "code",
   "execution_count": 16,
   "id": "7a68d6a4-cfe1-492b-85e3-f7e77558507e",
   "metadata": {},
   "outputs": [
    {
     "name": "stdout",
     "output_type": "stream",
     "text": [
      "\n",
      "Coherence Score:  0.37926123163626\n"
     ]
    }
   ],
   "source": [
    "coherence_model_lda = CoherenceModel(model=lda_model, texts=data_words_bigrams, dictionary=id2word, coherence='c_v')\n",
    "coherence_lda = coherence_model_lda.get_coherence()\n",
    "print('\\nCoherence Score: ', coherence_lda)"
   ]
  },
  {
   "cell_type": "markdown",
   "id": "411da07e-8a77-412c-81c7-da5c87ab1156",
   "metadata": {},
   "source": [
    "### Visualise the topics and keywords within that topic using the pyLDAvis dashboard"
   ]
  },
  {
   "cell_type": "code",
   "execution_count": 17,
   "id": "698ac896-d2c9-4b42-a6ef-913e6a89544c",
   "metadata": {},
   "outputs": [
    {
     "name": "stderr",
     "output_type": "stream",
     "text": [
      "/opt/anaconda3/envs/nlp/lib/python3.8/site-packages/pyLDAvis/_prepare.py:246: FutureWarning: In a future version of pandas all arguments of DataFrame.drop except for the argument 'labels' will be keyword-only.\n",
      "  default_term_info = default_term_info.sort_values(\n"
     ]
    },
    {
     "data": {
      "text/html": [
       "\n",
       "<link rel=\"stylesheet\" type=\"text/css\" href=\"https://cdn.jsdelivr.net/gh/bmabey/pyLDAvis@3.3.1/pyLDAvis/js/ldavis.v1.0.0.css\">\n",
       "\n",
       "\n",
       "<div id=\"ldavis_el339101401804033102565179280904\"></div>\n",
       "<script type=\"text/javascript\">\n",
       "\n",
       "var ldavis_el339101401804033102565179280904_data = {\"mdsDat\": {\"x\": [-0.3519166068795342, 0.256681688907325, 0.09523491797220915], \"y\": [-0.08967223545371619, -0.24836097115939376, 0.3380332066131098], \"topics\": [1, 2, 3], \"cluster\": [1, 1, 1], \"Freq\": [46.79103970648971, 35.72954805266904, 17.479412240841253]}, \"tinfo\": {\"Term\": [\"inflation\", \"bill\", \"people\", \"podcast\", \"real\", \"year\", \"fight\", \"s\", \"like\", \"health_care\", \"manchin_support\", \"state\", \"package_story_daily_news\", \"economy_shrank_president_joe\", \"biden_praise_sen_joe\", \"inflation_reduction\", \"need\", \"world\", \"live\", \"think\", \"time\", \"know\", \"legislation\", \"address\", \"global\", \"vote\", \"new\", \"cause\", \"help\", \"democrats\", \"people\", \"s\", \"like\", \"need\", \"think\", \"know\", \"cause\", \"new\", \"help\", \"right\", \"want\", \"big\", \"believe\", \"stop\", \"thing\", \"happen\", \"act\", \"way\", \"bad\", \"come\", \"try\", \"action\", \"scientist\", \"impact\", \"issue\", \"tax\", \"government\", \"mean\", \"good\", \"I_m\", \"pass\", \"billion\", \"bill\", \"time\", \"vote\", \"address\", \"democrats\", \"deal\", \"money\", \"support\", \"biden\", \"hoax\", \"today\", \"country\", \"let\", \"care\", \"spend\", \"health_care\", \"plan\", \"flood\", \"day\", \"earth\", \"increase\", \"global_warming\", \"high\", \"policy\", \"manchin\", \"america\", \"man\", \"control\", \"weather\", \"china\", \"world\", \"away\", \"work\", \"inflation\", \"real\", \"fight\", \"year\", \"inflation_reduction\", \"state\", \"live\", \"global\", \"legislation\", \"cost\", \"podcast\", \"ve\", \"recession\", \"thank\", \"combat\", \"create\", \"emergency\", \"3\", \"reason\", \"idea\", \"little\", \"sure\", \"important\", \"effort\", \"disaster\", \"late\", \"god\", \"warm\", \"kentucky\", \"leader\", \"stand\", \"manchin_support\", \"biden_praise_sen_joe\", \"economy_shrank_president_joe\", \"package_story_daily_news\"], \"Freq\": [1270.0, 2067.0, 1941.0, 839.0, 787.0, 764.0, 752.0, 1475.0, 1431.0, 1035.0, 808.0, 592.0, 808.0, 808.0, 808.0, 579.0, 1278.0, 965.0, 544.0, 1206.0, 872.0, 1185.0, 483.0, 773.0, 444.0, 756.0, 988.0, 931.0, 921.0, 673.0, 1940.2418334496624, 1475.173962170013, 1431.1280814095696, 1277.9686269268975, 1206.164222784417, 1184.2947794075042, 930.9233243577517, 987.914327903363, 920.7584009844761, 834.9343468399444, 794.6328290858032, 817.8368530013746, 739.5008501573451, 722.8582568569956, 687.581175548681, 656.9337277188129, 712.0665259405382, 617.8875118312915, 611.6053156390433, 603.1487151154653, 563.9227848400825, 561.7158497466698, 538.3511961569924, 550.473266564607, 544.4426897928533, 580.6796936480767, 519.1550103237325, 536.152261221366, 495.6664024820895, 486.67075518237056, 609.3415601478596, 531.6794019192974, 2066.3730744043864, 871.5715513740236, 755.930934260699, 772.9609425086019, 672.2640321426526, 637.4343672029389, 638.3660120344381, 605.1867450943391, 606.7459511247464, 505.05306842036714, 516.3829161814075, 472.66048861737346, 481.2217511373272, 467.83607280009494, 464.35922257137065, 1033.384451007842, 482.46726856986356, 461.0316725117644, 437.8755364470653, 429.8933318913887, 447.8654363506354, 418.2104924561604, 420.9968892037428, 384.9819126674989, 347.2891584604981, 346.12294639262757, 360.89545659409777, 337.8925215656418, 318.15564273862196, 310.1228741128522, 958.1139077721309, 331.0137471975017, 487.45633042032773, 1269.7830121027077, 787.162917241751, 751.8619893910347, 763.3812145165406, 578.6206468982631, 591.7101648080087, 543.9546990583256, 443.7707323585691, 482.48535739567, 383.9211208237768, 837.2283635761518, 342.57911521358204, 346.2023359997808, 323.89561604528427, 254.44336761882417, 265.64278030000133, 252.21791300945685, 259.448151519487, 238.21531652849876, 242.7915474329445, 236.2757019426963, 233.18088102370345, 228.8207269576293, 206.3860028104297, 190.62409582101387, 168.34578523586828, 200.54260241183428, 178.91776133196896, 335.4056234286433, 166.22565053188956, 180.52154044510155, 648.8661792548321, 642.2852154572693, 642.2852154572693, 642.2852154572693], \"Total\": [1270.0, 2067.0, 1941.0, 839.0, 787.0, 764.0, 752.0, 1475.0, 1431.0, 1035.0, 808.0, 592.0, 808.0, 808.0, 808.0, 579.0, 1278.0, 965.0, 544.0, 1206.0, 872.0, 1185.0, 483.0, 773.0, 444.0, 756.0, 988.0, 931.0, 921.0, 673.0, 1941.0263273010214, 1475.9398958549812, 1431.8910032901952, 1278.7342792200768, 1206.9405619252948, 1185.0597371491713, 931.6857344798575, 988.726319957315, 921.5417072005686, 835.7295602421896, 795.3979123940138, 818.6243748769504, 740.2442190375568, 723.6112737446585, 688.3434550572454, 657.7026675661812, 712.927923904259, 618.6579345122042, 612.384040859546, 603.9265431727216, 564.699267398218, 562.4978713556959, 539.1058714497631, 551.248697650022, 545.2310323456296, 581.5321778385917, 519.918041428474, 536.9447572861405, 496.4176526223627, 487.4151718481272, 610.4612000741726, 532.6118557625294, 2067.1369146708466, 872.3987523864276, 756.7091009909828, 773.76061430574, 673.036994321867, 638.1947469421098, 639.1344709810454, 605.9508195852384, 607.5157118835085, 505.8545135475699, 517.2049380921474, 473.4228495469791, 482.0042411068398, 468.629649745264, 465.16617974839204, 1035.1909004653244, 483.3196612154752, 461.8565661621076, 438.6717146531309, 430.676196253027, 448.69947916183435, 419.0224008193543, 421.83533562413834, 385.759814563596, 348.0382355947281, 346.88439575464935, 361.69991435054243, 338.7032776823397, 318.92975062892236, 310.88047939039836, 965.5736020573556, 331.87503623784727, 602.591019319581, 1270.5883320529697, 787.9781861714172, 752.6467381678684, 764.1929861245654, 579.422224120539, 592.5576807920705, 544.7642912086312, 444.5368550251482, 483.3938228147853, 384.74039306214945, 839.1165658280065, 343.4097162302322, 347.0619405499881, 324.7132089074985, 255.2389434660658, 266.4894315718529, 253.03292742410224, 260.3297012323061, 239.03234227447413, 243.6342174513551, 237.11797832703647, 234.02447077043982, 229.68411928661303, 207.25483732607628, 191.43182928239185, 169.09752728635283, 201.4391041463611, 179.75506986789802, 337.020997500574, 167.02817657931394, 181.59010290232766, 808.5484350501134, 808.7051405990752, 808.7051405990752, 808.7051405990752], \"Category\": [\"Default\", \"Default\", \"Default\", \"Default\", \"Default\", \"Default\", \"Default\", \"Default\", \"Default\", \"Default\", \"Default\", \"Default\", \"Default\", \"Default\", \"Default\", \"Default\", \"Default\", \"Default\", \"Default\", \"Default\", \"Default\", \"Default\", \"Default\", \"Default\", \"Default\", \"Default\", \"Default\", \"Default\", \"Default\", \"Default\", \"Topic1\", \"Topic1\", \"Topic1\", \"Topic1\", \"Topic1\", \"Topic1\", \"Topic1\", \"Topic1\", \"Topic1\", \"Topic1\", \"Topic1\", \"Topic1\", \"Topic1\", \"Topic1\", \"Topic1\", \"Topic1\", \"Topic1\", \"Topic1\", \"Topic1\", \"Topic1\", \"Topic1\", \"Topic1\", \"Topic1\", \"Topic1\", \"Topic1\", \"Topic1\", \"Topic1\", \"Topic1\", \"Topic1\", \"Topic1\", \"Topic1\", \"Topic1\", \"Topic2\", \"Topic2\", \"Topic2\", \"Topic2\", \"Topic2\", \"Topic2\", \"Topic2\", \"Topic2\", \"Topic2\", \"Topic2\", \"Topic2\", \"Topic2\", \"Topic2\", \"Topic2\", \"Topic2\", \"Topic2\", \"Topic2\", \"Topic2\", \"Topic2\", \"Topic2\", \"Topic2\", \"Topic2\", \"Topic2\", \"Topic2\", \"Topic2\", \"Topic2\", \"Topic2\", \"Topic2\", \"Topic2\", \"Topic2\", \"Topic2\", \"Topic2\", \"Topic2\", \"Topic3\", \"Topic3\", \"Topic3\", \"Topic3\", \"Topic3\", \"Topic3\", \"Topic3\", \"Topic3\", \"Topic3\", \"Topic3\", \"Topic3\", \"Topic3\", \"Topic3\", \"Topic3\", \"Topic3\", \"Topic3\", \"Topic3\", \"Topic3\", \"Topic3\", \"Topic3\", \"Topic3\", \"Topic3\", \"Topic3\", \"Topic3\", \"Topic3\", \"Topic3\", \"Topic3\", \"Topic3\", \"Topic3\", \"Topic3\", \"Topic3\", \"Topic3\", \"Topic3\", \"Topic3\", \"Topic3\"], \"logprob\": [30.0, 29.0, 28.0, 27.0, 26.0, 25.0, 24.0, 23.0, 22.0, 21.0, 20.0, 19.0, 18.0, 17.0, 16.0, 15.0, 14.0, 13.0, 12.0, 11.0, 10.0, 9.0, 8.0, 7.0, 6.0, 5.0, 4.0, 3.0, 2.0, 1.0, -3.9767, -4.2507, -4.2811, -4.3943, -4.4521, -4.4704, -4.7111, -4.6517, -4.7221, -4.8199, -4.8694, -4.8406, -4.9413, -4.9641, -5.0141, -5.0597, -4.9791, -5.121, -5.1312, -5.1451, -5.2124, -5.2163, -5.2588, -5.2365, -5.2475, -5.1831, -5.2951, -5.2629, -5.3414, -5.3597, -5.1349, -5.2712, -3.644, -4.5073, -4.6496, -4.6273, -4.7669, -4.8201, -4.8187, -4.872, -4.8695, -5.0529, -5.0307, -5.1192, -5.1012, -5.1294, -5.1369, -4.337, -5.0987, -5.1441, -5.1956, -5.214, -5.1731, -5.2416, -5.2349, -5.3244, -5.4274, -5.4308, -5.389, -5.4548, -5.515, -5.5406, -4.4126, -5.4754, -5.0884, -3.416, -3.8942, -3.9401, -3.9249, -4.202, -4.1796, -4.2637, -4.4673, -4.3837, -4.6122, -3.8325, -4.7261, -4.7156, -4.7822, -5.0235, -4.9805, -5.0323, -5.0041, -5.0894, -5.0704, -5.0976, -5.1108, -5.1297, -5.2329, -5.3123, -5.4366, -5.2616, -5.3757, -4.7473, -5.4493, -5.3668, -4.0874, -4.0976, -4.0976, -4.0976], \"loglift\": [30.0, 29.0, 28.0, 27.0, 26.0, 25.0, 24.0, 23.0, 22.0, 21.0, 20.0, 19.0, 18.0, 17.0, 16.0, 15.0, 14.0, 13.0, 12.0, 11.0, 10.0, 9.0, 8.0, 7.0, 6.0, 5.0, 4.0, 3.0, 2.0, 1.0, 0.7591, 0.759, 0.7589, 0.7589, 0.7588, 0.7588, 0.7587, 0.7587, 0.7586, 0.7585, 0.7585, 0.7585, 0.7585, 0.7584, 0.7584, 0.7583, 0.7583, 0.7582, 0.7582, 0.7582, 0.7581, 0.7581, 0.7581, 0.7581, 0.758, 0.758, 0.758, 0.758, 0.758, 0.758, 0.7576, 0.7577, 1.0288, 1.0282, 1.0282, 1.0282, 1.028, 1.028, 1.028, 1.0279, 1.0279, 1.0276, 1.0276, 1.0276, 1.0276, 1.0275, 1.0275, 1.0274, 1.0274, 1.0274, 1.0274, 1.0274, 1.0273, 1.0273, 1.0272, 1.0272, 1.027, 1.027, 1.027, 1.0268, 1.0268, 1.0268, 1.0214, 1.0266, 0.8172, 1.7435, 1.7431, 1.7431, 1.7431, 1.7428, 1.7427, 1.7427, 1.7424, 1.7423, 1.742, 1.7419, 1.7417, 1.7417, 1.7416, 1.741, 1.741, 1.7409, 1.7408, 1.7407, 1.7407, 1.7406, 1.7405, 1.7404, 1.7399, 1.7399, 1.7397, 1.7397, 1.7395, 1.7393, 1.7393, 1.7382, 1.5241, 1.5137, 1.5137, 1.5137]}, \"token.table\": {\"Topic\": [3, 1, 1, 1, 2, 2, 2, 1, 1, 2, 1, 2, 3, 1, 2, 1, 2, 2, 1, 2, 3, 1, 2, 3, 2, 3, 2, 2, 2, 3, 2, 1, 2, 3, 3, 3, 3, 2, 3, 2, 3, 1, 1, 1, 1, 2, 3, 1, 2, 2, 3, 1, 3, 2, 3, 3, 1, 1, 2, 3, 1, 3, 3, 3, 2, 1, 3, 3, 2, 2, 1, 2, 3, 1, 2, 1, 1, 1, 2, 3, 1, 2, 1, 2, 1, 2, 3, 2, 3, 3, 3, 1, 1, 1, 2, 1, 2, 3, 3, 1, 2, 3, 1, 3, 1, 1, 2, 2, 1, 3, 2, 1, 3, 1, 2, 1, 2, 1, 2, 3], \"Freq\": [0.9948922415459636, 0.9991482172240289, 0.9986984323756357, 0.999114892018176, 0.9990169901495666, 0.9974504596762696, 0.9973633562567202, 0.9993728757872153, 0.9996700831546184, 0.9991511135046868, 0.0729561332530838, 0.1323102755606774, 0.7938616533640644, 0.9992372877034791, 0.9994500051434534, 0.9988512164047617, 0.0018775398804600782, 0.9986564022451284, 0.9992639852103775, 0.9971677881090351, 0.9951459465815, 0.9984658015396144, 0.9979236171342891, 0.9980756035095336, 0.9991068248028507, 0.9981634109504229, 0.9984687532140931, 0.9981279273327862, 0.9984592313192058, 0.9977442137809025, 0.9984299196033817, 0.0729561332530838, 0.1323102755606774, 0.7938616533640644, 0.9939454376927181, 0.9959178141966837, 0.9991407148465923, 0.9981453848989841, 0.9987923272973219, 0.9975600330260266, 0.9978201643210145, 0.99915866686014, 0.9982342574111264, 0.9989316333947962, 0.0009660054001155672, 0.9978835783193809, 0.0009660054001155672, 0.9994121728877425, 0.9980197590064322, 0.9983107523513486, 0.9973968457387077, 0.9977347834918338, 0.9970214776331169, 0.998441096559459, 0.9995369609194985, 0.9992713014741886, 0.9977421821712282, 0.0029671741743577764, 0.0029671741743577764, 0.9940033484098552, 0.9991057521271285, 0.9935095012684942, 0.9938442926195408, 0.9971165895197643, 0.9979165305588729, 0.9993777436354109, 0.995285138921459, 0.998597024032292, 0.9980649308369366, 0.9970168921441807, 0.07049670437673554, 0.12738878159304842, 0.8026730024649362, 0.9982404944394735, 0.9982249885860419, 0.9994257765416873, 0.9992653983790516, 0.0729561332530838, 0.1323102755606774, 0.7938616533640644, 0.9976063997613689, 0.001638105746734596, 0.9994712450384696, 0.9972695892152278, 0.0011917295411910266, 0.0011917295411910266, 0.9974776259768892, 0.9980303428845859, 0.9987586126258521, 0.9956811606971214, 0.9969401987774711, 0.9991270378877372, 0.9993631882588032, 0.9979486933674286, 0.9974929825099864, 0.0055069080529012784, 0.0055069080529012784, 0.9967503575751314, 0.9990588582172708, 0.9991552456866859, 0.9984308634389022, 0.9956223775784339, 0.9990848694898197, 0.9978035728515693, 0.9995010411521719, 0.9992207056793299, 0.9995429241670316, 0.9976702888866604, 0.9987616994768919, 0.9988069171870562, 0.999062914678766, 0.9994997316590684, 0.9957994516179548, 0.9989365132563556, 0.9970847792434261, 0.1908425388248449, 0.8081766644147779, 0.007249576816397054, 0.9921563700154825, 0.9984388941717256], \"Term\": [\"3\", \"I_m\", \"act\", \"action\", \"address\", \"america\", \"away\", \"bad\", \"believe\", \"biden\", \"biden_praise_sen_joe\", \"biden_praise_sen_joe\", \"biden_praise_sen_joe\", \"big\", \"bill\", \"billion\", \"billion\", \"care\", \"cause\", \"china\", \"combat\", \"come\", \"control\", \"cost\", \"country\", \"create\", \"day\", \"deal\", \"democrats\", \"disaster\", \"earth\", \"economy_shrank_president_joe\", \"economy_shrank_president_joe\", \"economy_shrank_president_joe\", \"effort\", \"emergency\", \"fight\", \"flood\", \"global\", \"global_warming\", \"god\", \"good\", \"government\", \"happen\", \"health_care\", \"health_care\", \"health_care\", \"help\", \"high\", \"hoax\", \"idea\", \"impact\", \"important\", \"increase\", \"inflation\", \"inflation_reduction\", \"issue\", \"kentucky\", \"kentucky\", \"kentucky\", \"know\", \"late\", \"leader\", \"legislation\", \"let\", \"like\", \"little\", \"live\", \"man\", \"manchin\", \"manchin_support\", \"manchin_support\", \"manchin_support\", \"mean\", \"money\", \"need\", \"new\", \"package_story_daily_news\", \"package_story_daily_news\", \"package_story_daily_news\", \"pass\", \"pass\", \"people\", \"plan\", \"podcast\", \"podcast\", \"podcast\", \"policy\", \"real\", \"reason\", \"recession\", \"right\", \"s\", \"scientist\", \"spend\", \"stand\", \"stand\", \"stand\", \"state\", \"stop\", \"support\", \"sure\", \"tax\", \"thank\", \"thing\", \"think\", \"time\", \"today\", \"try\", \"ve\", \"vote\", \"want\", \"warm\", \"way\", \"weather\", \"work\", \"work\", \"world\", \"world\", \"year\"]}, \"R\": 30, \"lambda.step\": 0.01, \"plot.opts\": {\"xlab\": \"PC1\", \"ylab\": \"PC2\"}, \"topic.order\": [3, 1, 2]};\n",
       "\n",
       "function LDAvis_load_lib(url, callback){\n",
       "  var s = document.createElement('script');\n",
       "  s.src = url;\n",
       "  s.async = true;\n",
       "  s.onreadystatechange = s.onload = callback;\n",
       "  s.onerror = function(){console.warn(\"failed to load library \" + url);};\n",
       "  document.getElementsByTagName(\"head\")[0].appendChild(s);\n",
       "}\n",
       "\n",
       "if(typeof(LDAvis) !== \"undefined\"){\n",
       "   // already loaded: just create the visualization\n",
       "   !function(LDAvis){\n",
       "       new LDAvis(\"#\" + \"ldavis_el339101401804033102565179280904\", ldavis_el339101401804033102565179280904_data);\n",
       "   }(LDAvis);\n",
       "}else if(typeof define === \"function\" && define.amd){\n",
       "   // require.js is available: use it to load d3/LDAvis\n",
       "   require.config({paths: {d3: \"https://d3js.org/d3.v5\"}});\n",
       "   require([\"d3\"], function(d3){\n",
       "      window.d3 = d3;\n",
       "      LDAvis_load_lib(\"https://cdn.jsdelivr.net/gh/bmabey/pyLDAvis@3.3.1/pyLDAvis/js/ldavis.v3.0.0.js\", function(){\n",
       "        new LDAvis(\"#\" + \"ldavis_el339101401804033102565179280904\", ldavis_el339101401804033102565179280904_data);\n",
       "      });\n",
       "    });\n",
       "}else{\n",
       "    // require.js not available: dynamically load d3 & LDAvis\n",
       "    LDAvis_load_lib(\"https://d3js.org/d3.v5.js\", function(){\n",
       "         LDAvis_load_lib(\"https://cdn.jsdelivr.net/gh/bmabey/pyLDAvis@3.3.1/pyLDAvis/js/ldavis.v3.0.0.js\", function(){\n",
       "                 new LDAvis(\"#\" + \"ldavis_el339101401804033102565179280904\", ldavis_el339101401804033102565179280904_data);\n",
       "            })\n",
       "         });\n",
       "}\n",
       "</script>"
      ],
      "text/plain": [
       "PreparedData(topic_coordinates=              x         y  topics  cluster       Freq\n",
       "topic                                                \n",
       "2     -0.351917 -0.089672       1        1  46.791040\n",
       "0      0.256682 -0.248361       2        1  35.729548\n",
       "1      0.095235  0.338033       3        1  17.479412, topic_info=                              Term         Freq        Total Category  \\\n",
       "28                       inflation  1270.000000  1270.000000  Default   \n",
       "355                           bill  2067.000000  2067.000000  Default   \n",
       "116                         people  1941.000000  1941.000000  Default   \n",
       "3414                       podcast   839.000000   839.000000  Default   \n",
       "247                           real   787.000000   787.000000  Default   \n",
       "...                            ...          ...          ...      ...   \n",
       "373                          stand   180.521540   181.590103   Topic3   \n",
       "1220               manchin_support   648.866179   808.548435   Topic3   \n",
       "3886          biden_praise_sen_joe   642.285215   808.705141   Topic3   \n",
       "3887  economy_shrank_president_joe   642.285215   808.705141   Topic3   \n",
       "3888      package_story_daily_news   642.285215   808.705141   Topic3   \n",
       "\n",
       "      logprob  loglift  \n",
       "28    30.0000  30.0000  \n",
       "355   29.0000  29.0000  \n",
       "116   28.0000  28.0000  \n",
       "3414  27.0000  27.0000  \n",
       "247   26.0000  26.0000  \n",
       "...       ...      ...  \n",
       "373   -5.3668   1.7382  \n",
       "1220  -4.0874   1.5241  \n",
       "3886  -4.0976   1.5137  \n",
       "3887  -4.0976   1.5137  \n",
       "3888  -4.0976   1.5137  \n",
       "\n",
       "[130 rows x 6 columns], token_table=      Topic      Freq     Term\n",
       "term                          \n",
       "94        3  0.994892        3\n",
       "298       1  0.999148      I_m\n",
       "334       1  0.998698      act\n",
       "171       1  0.999115   action\n",
       "581       2  0.999017  address\n",
       "...     ...       ...      ...\n",
       "348       1  0.190843     work\n",
       "348       2  0.808177     work\n",
       "392       1  0.007250    world\n",
       "392       2  0.992156    world\n",
       "216       3  0.998439     year\n",
       "\n",
       "[120 rows x 3 columns], R=30, lambda_step=0.01, plot_opts={'xlab': 'PC1', 'ylab': 'PC2'}, topic_order=[3, 1, 2])"
      ]
     },
     "execution_count": 17,
     "metadata": {},
     "output_type": "execute_result"
    }
   ],
   "source": [
    "pyLDAvis.enable_notebook()\n",
    "vis = pyLDAvis.gensim_models.prepare(lda_model, corpus, id2word)\n",
    "vis"
   ]
  },
  {
   "cell_type": "markdown",
   "id": "89fa3d74-1194-4af1-ad6d-e6ddc2ce87d4",
   "metadata": {},
   "source": [
    "### Optimize the number of topics "
   ]
  },
  {
   "cell_type": "code",
   "execution_count": 18,
   "id": "c726152f-1c5f-4f09-ad3f-b5660f14ffb9",
   "metadata": {},
   "outputs": [],
   "source": [
    "def compute_coherence_values(dictionary, corpus, texts, limit, start=2, step=3):\n",
    "    \"\"\"\n",
    "    Compute c_v coherence for various number of topics\n",
    "\n",
    "    Parameters:\n",
    "    ----------\n",
    "    dictionary : Gensim dictionary\n",
    "    corpus : Gensim corpus\n",
    "    texts : List of input texts\n",
    "    limit : Max num of topics\n",
    "\n",
    "    Returns:\n",
    "    -------\n",
    "    model_list : List of LDA topic models\n",
    "    coherence_values : Coherence values corresponding to the LDA model with respective number of topics\n",
    "    \"\"\"\n",
    "    coherence_values = []\n",
    "    model_list = []\n",
    "    for num_topics in range(start, limit, step):\n",
    "        model = gensim.models.ldamodel.LdaModel(\n",
    "            corpus=corpus,\n",
    "            id2word=id2word,\n",
    "            num_topics=num_topics, \n",
    "            random_state=100,\n",
    "            update_every=1,\n",
    "            chunksize=100,\n",
    "            passes=10,\n",
    "            alpha='auto',\n",
    "            per_word_topics=True)\n",
    "        model_list.append(model)\n",
    "        coherencemodel = CoherenceModel(model=model, texts=texts, dictionary=dictionary, coherence='c_v')\n",
    "        coherence_values.append(coherencemodel.get_coherence())\n",
    "\n",
    "    return model_list, coherence_values\n",
    "\n",
    "model_list, coherence_values = compute_coherence_values(dictionary=id2word, corpus=corpus, texts=data_words_bigrams, start=1, limit=12, step=1)"
   ]
  },
  {
   "cell_type": "code",
   "execution_count": 19,
   "id": "ac9922a1-be78-4989-a1bd-2cf0d4219550",
   "metadata": {},
   "outputs": [
    {
     "data": {
      "image/png": "[encoded data removed]",
      "text/plain": [
       "<Figure size 432x288 with 1 Axes>"
      ]
     },
     "metadata": {
      "needs_background": "light"
     },
     "output_type": "display_data"
    }
   ],
   "source": [
    "# Show graph\n",
    "import matplotlib.pyplot as plt\n",
    "limit=12; start=1; step=1;\n",
    "x = range(start, limit, step)\n",
    "plt.plot(x, coherence_values)\n",
    "plt.xlabel(\"Num Topics\")\n",
    "plt.ylabel(\"Coherence score\")\n",
    "plt.legend((\"coherence_values\"), loc='best')\n",
    "plt.show()"
   ]
  },
  {
   "cell_type": "code",
   "execution_count": 20,
   "id": "e6358e89-f939-4ea3-8247-0566fdebbec5",
   "metadata": {},
   "outputs": [
    {
     "name": "stdout",
     "output_type": "stream",
     "text": [
      "Num Topics = 1  has Coherence Value of 0.2522\n",
      "Num Topics = 2  has Coherence Value of 0.3084\n",
      "Num Topics = 3  has Coherence Value of 0.3793\n",
      "Num Topics = 4  has Coherence Value of 0.3723\n",
      "Num Topics = 5  has Coherence Value of 0.3392\n",
      "Num Topics = 6  has Coherence Value of 0.3238\n",
      "Num Topics = 7  has Coherence Value of 0.3116\n",
      "Num Topics = 8  has Coherence Value of 0.301\n",
      "Num Topics = 9  has Coherence Value of 0.2882\n",
      "Num Topics = 10  has Coherence Value of 0.3047\n",
      "Num Topics = 11  has Coherence Value of 0.2888\n"
     ]
    }
   ],
   "source": [
    "for m, cv in zip(x, coherence_values):\n",
    "    print(\"Num Topics =\", m, \" has Coherence Value of\", round(cv, 4))"
   ]
  },
  {
   "cell_type": "code",
   "execution_count": null,
   "id": "8a0bcb70-30cb-49c4-a4c8-55dd1f3578e3",
   "metadata": {},
   "outputs": [],
   "source": []
  }
 ],
 "metadata": {
  "kernelspec": {
   "display_name": "Python 3 (ipykernel)",
   "language": "python",
   "name": "python3"
  },
  "language_info": {
   "codemirror_mode": {
    "name": "ipython",
    "version": 3
   },
   "file_extension": ".py",
   "mimetype": "text/x-python",
   "name": "python",
   "nbconvert_exporter": "python",
   "pygments_lexer": "ipython3",
   "version": "3.8.13"
  }
 },
 "nbformat": 4,
 "nbformat_minor": 5
}
