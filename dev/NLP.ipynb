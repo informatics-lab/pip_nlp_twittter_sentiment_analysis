{
 "cells": [
  {
   "cell_type": "code",
   "execution_count": null,
   "id": "77634b23-e3bd-40d7-acd6-dac4906f5e19",
   "metadata": {},
   "outputs": [],
   "source": [
    "# ! pip install flair\n",
    "# ! pip install emoji"
   ]
  },
  {
   "cell_type": "code",
   "execution_count": 1,
   "id": "368e61ab-990e-4987-88bd-629e183e584a",
   "metadata": {},
   "outputs": [],
   "source": [
    "import pandas as pd\n",
    "\n",
    "import re\n",
    "import string\n",
    "\n",
    "import emoji\n",
    "\n",
    "import nltk\n",
    "from nltk.stem import WordNetLemmatizer\n",
    "from nltk.corpus import stopwords\n",
    "# nltk.download('wordnet')\n",
    "# nltk.download('punkt')\n",
    "# nltk.download('average_perception_tagger')\n",
    "# nltk.download('wordnet')\n",
    "# nltk.download('words') # if its needed\n",
    "\n",
    "from collections import Counter, defaultdict\n",
    "import matplotlib.pyplot as plt\n",
    "import numpy as np"
   ]
  },
  {
   "cell_type": "code",
   "execution_count": 57,
   "id": "ccf56bf0-cb2b-40b4-9706-b1ab93de7efe",
   "metadata": {},
   "outputs": [
    {
     "name": "stderr",
     "output_type": "stream",
     "text": [
      "[nltk_data] Downloading package words to\n",
      "[nltk_data]     /Users/hannahbrown/nltk_data...\n",
      "[nltk_data]   Unzipping corpora/words.zip.\n"
     ]
    }
   ],
   "source": [
    "words = set(nltk.corpus.words.words())\n",
    "\n",
    "def clean_tweets(text):\n",
    "    text = re.sub(r'https.?://[^\\s]+[\\s]?', '', text)\n",
    "    return \" \".join(w for w in nltk.wordpunct_tokenize(text) \\\n",
    "     if w.lower() in words or not w.isalpha())"
   ]
  },
  {
   "cell_type": "code",
   "execution_count": 59,
   "id": "6329ae33-5aae-4395-956a-25e2de780eb3",
   "metadata": {},
   "outputs": [
    {
     "data": {
      "text/html": [
       "<div>\n",
       "<style scoped>\n",
       "    .dataframe tbody tr th:only-of-type {\n",
       "        vertical-align: middle;\n",
       "    }\n",
       "\n",
       "    .dataframe tbody tr th {\n",
       "        vertical-align: top;\n",
       "    }\n",
       "\n",
       "    .dataframe thead th {\n",
       "        text-align: right;\n",
       "    }\n",
       "</style>\n",
       "<table border=\"1\" class=\"dataframe\">\n",
       "  <thead>\n",
       "    <tr style=\"text-align: right;\">\n",
       "      <th></th>\n",
       "      <th>tweet_id</th>\n",
       "      <th>created_at</th>\n",
       "      <th>tweet</th>\n",
       "      <th>like_count</th>\n",
       "      <th>quote_count</th>\n",
       "      <th>reply_count</th>\n",
       "      <th>retweet_count</th>\n",
       "    </tr>\n",
       "  </thead>\n",
       "  <tbody>\n",
       "    <tr>\n",
       "      <th>0</th>\n",
       "      <td>1551734038204923904</td>\n",
       "      <td>2022-07-26 00:59:59+00:00</td>\n",
       "      <td>$2.7 billion for climate change (slashing carb...</td>\n",
       "      <td>15</td>\n",
       "      <td>1</td>\n",
       "      <td>0</td>\n",
       "      <td>6</td>\n",
       "    </tr>\n",
       "    <tr>\n",
       "      <th>1</th>\n",
       "      <td>1551734021591269377</td>\n",
       "      <td>2022-07-26 00:59:55+00:00</td>\n",
       "      <td>@nathaliejacoby1 Climate change. The rise in t...</td>\n",
       "      <td>2</td>\n",
       "      <td>0</td>\n",
       "      <td>0</td>\n",
       "      <td>0</td>\n",
       "    </tr>\n",
       "    <tr>\n",
       "      <th>2</th>\n",
       "      <td>1551734013815029761</td>\n",
       "      <td>2022-07-26 00:59:53+00:00</td>\n",
       "      <td>@JacobsVegasLife @LasVegasLocally This is a ch...</td>\n",
       "      <td>8</td>\n",
       "      <td>0</td>\n",
       "      <td>1</td>\n",
       "      <td>0</td>\n",
       "    </tr>\n",
       "    <tr>\n",
       "      <th>3</th>\n",
       "      <td>1551733993740980224</td>\n",
       "      <td>2022-07-26 00:59:48+00:00</td>\n",
       "      <td>Climate Change and Energy Minister Chris Bowen...</td>\n",
       "      <td>18</td>\n",
       "      <td>0</td>\n",
       "      <td>8</td>\n",
       "      <td>5</td>\n",
       "    </tr>\n",
       "    <tr>\n",
       "      <th>4</th>\n",
       "      <td>1551733979316887554</td>\n",
       "      <td>2022-07-26 00:59:45+00:00</td>\n",
       "      <td>@Thebs15800518 At 5:30, @SecGranHolm tries to ...</td>\n",
       "      <td>0</td>\n",
       "      <td>0</td>\n",
       "      <td>0</td>\n",
       "      <td>0</td>\n",
       "    </tr>\n",
       "  </tbody>\n",
       "</table>\n",
       "</div>"
      ],
      "text/plain": [
       "              tweet_id                 created_at  \\\n",
       "0  1551734038204923904  2022-07-26 00:59:59+00:00   \n",
       "1  1551734021591269377  2022-07-26 00:59:55+00:00   \n",
       "2  1551734013815029761  2022-07-26 00:59:53+00:00   \n",
       "3  1551733993740980224  2022-07-26 00:59:48+00:00   \n",
       "4  1551733979316887554  2022-07-26 00:59:45+00:00   \n",
       "\n",
       "                                               tweet  like_count  quote_count  \\\n",
       "0  $2.7 billion for climate change (slashing carb...          15            1   \n",
       "1  @nathaliejacoby1 Climate change. The rise in t...           2            0   \n",
       "2  @JacobsVegasLife @LasVegasLocally This is a ch...           8            0   \n",
       "3  Climate Change and Energy Minister Chris Bowen...          18            0   \n",
       "4  @Thebs15800518 At 5:30, @SecGranHolm tries to ...           0            0   \n",
       "\n",
       "   reply_count  retweet_count  \n",
       "0            0              6  \n",
       "1            0              0  \n",
       "2            1              0  \n",
       "3            8              5  \n",
       "4            0              0  "
      ]
     },
     "execution_count": 59,
     "metadata": {},
     "output_type": "execute_result"
    }
   ],
   "source": [
    "tweet_data = pd.read_csv('data.csv')\n",
    "tweet_data.head()"
   ]
  },
  {
   "cell_type": "code",
   "execution_count": 60,
   "id": "11be8792-d274-45bf-a8b7-a56cae6b9010",
   "metadata": {},
   "outputs": [
    {
     "data": {
      "text/plain": [
       "(146069, 7)"
      ]
     },
     "execution_count": 60,
     "metadata": {},
     "output_type": "execute_result"
    }
   ],
   "source": [
    "tweet_data = tweet_data.drop_duplicates()\n",
    "tweet_data = tweet_data[tweet_data['tweet_id'] != 'tweet_id']\n",
    "tweet_data.shape"
   ]
  },
  {
   "cell_type": "code",
   "execution_count": 61,
   "id": "11b18647-daf9-4bcb-b5c4-e4c42ef5ea1f",
   "metadata": {},
   "outputs": [],
   "source": [
    "df_clean = tweet_data.copy()\n",
    "\n",
    "# make all tweet text lower case \n",
    "df_clean.tweet = df_clean.tweet.str.lower()\n",
    "\n",
    "# remove any links from tweets \n",
    "df_clean.tweet = df_clean.tweet.apply(lambda x: re.sub(r'https?:\\/\\/\\S+', '', x))\n",
    "\n",
    "# remove mentions of other twitter users\n",
    "df_clean.tweet = df_clean.tweet.apply(lambda x: re.sub(r'@\\S+', '', x))\n",
    "\n",
    "# remove new line \n",
    "df_clean.tweet = df_clean.tweet.apply(lambda x: re.sub(r'\\n', '', x))\n",
    "\n",
    "# remove any emojis\n",
    "df_clean.tweet = df_clean.tweet.apply(lambda x: emoji.replace_emoji(x, replace=''))"
   ]
  },
  {
   "cell_type": "code",
   "execution_count": 62,
   "id": "8e28121c-ea1d-4479-8a2f-31a28c720ded",
   "metadata": {},
   "outputs": [],
   "source": [
    "# extract hashtags from tweet before removing punctuation \n",
    "df_clean['hashtags'] = df_clean.tweet.apply(lambda x: [word for word in x.split(' ') if word.startswith('#')])"
   ]
  },
  {
   "cell_type": "code",
   "execution_count": 63,
   "id": "c96bf9fb-1681-4107-9f35-37d60a7b5415",
   "metadata": {},
   "outputs": [],
   "source": [
    "# removes most punctuation\n",
    "df_clean.tweet = df_clean.tweet.apply(lambda x: re.compile('[%s]' % re.escape(string.punctuation)).sub(' ', x))\n",
    "\n",
    "# remove white space \n",
    "df_clean.tweet = df_clean.tweet.apply(lambda x: x.strip())\n",
    "df_clean.tweet = df_clean.tweet.apply(lambda x: ' '.join(x.split()))"
   ]
  },
  {
   "cell_type": "code",
   "execution_count": 64,
   "id": "69b46897-0e2d-4b9d-8da7-57480122180e",
   "metadata": {},
   "outputs": [
    {
     "data": {
      "text/html": [
       "<div>\n",
       "<style scoped>\n",
       "    .dataframe tbody tr th:only-of-type {\n",
       "        vertical-align: middle;\n",
       "    }\n",
       "\n",
       "    .dataframe tbody tr th {\n",
       "        vertical-align: top;\n",
       "    }\n",
       "\n",
       "    .dataframe thead th {\n",
       "        text-align: right;\n",
       "    }\n",
       "</style>\n",
       "<table border=\"1\" class=\"dataframe\">\n",
       "  <thead>\n",
       "    <tr style=\"text-align: right;\">\n",
       "      <th></th>\n",
       "      <th>tweet_id</th>\n",
       "      <th>created_at</th>\n",
       "      <th>tweet</th>\n",
       "      <th>like_count</th>\n",
       "      <th>quote_count</th>\n",
       "      <th>reply_count</th>\n",
       "      <th>retweet_count</th>\n",
       "      <th>hashtags</th>\n",
       "    </tr>\n",
       "  </thead>\n",
       "  <tbody>\n",
       "    <tr>\n",
       "      <th>0</th>\n",
       "      <td>1551734038204923904</td>\n",
       "      <td>2022-07-26 00:59:59+00:00</td>\n",
       "      <td>2 7 billion for climate change slashing carbon...</td>\n",
       "      <td>15</td>\n",
       "      <td>1</td>\n",
       "      <td>0</td>\n",
       "      <td>6</td>\n",
       "      <td>[]</td>\n",
       "    </tr>\n",
       "    <tr>\n",
       "      <th>1</th>\n",
       "      <td>1551734021591269377</td>\n",
       "      <td>2022-07-26 00:59:55+00:00</td>\n",
       "      <td>climate change the rise in temperature will be...</td>\n",
       "      <td>2</td>\n",
       "      <td>0</td>\n",
       "      <td>0</td>\n",
       "      <td>0</td>\n",
       "      <td>[]</td>\n",
       "    </tr>\n",
       "    <tr>\n",
       "      <th>2</th>\n",
       "      <td>1551734013815029761</td>\n",
       "      <td>2022-07-26 00:59:53+00:00</td>\n",
       "      <td>this is a chilling podcast about what could ha...</td>\n",
       "      <td>8</td>\n",
       "      <td>0</td>\n",
       "      <td>1</td>\n",
       "      <td>0</td>\n",
       "      <td>[]</td>\n",
       "    </tr>\n",
       "    <tr>\n",
       "      <th>3</th>\n",
       "      <td>1551733993740980224</td>\n",
       "      <td>2022-07-26 00:59:48+00:00</td>\n",
       "      <td>climate change and energy minister chris bowen...</td>\n",
       "      <td>18</td>\n",
       "      <td>0</td>\n",
       "      <td>8</td>\n",
       "      <td>5</td>\n",
       "      <td>[]</td>\n",
       "    </tr>\n",
       "    <tr>\n",
       "      <th>4</th>\n",
       "      <td>1551733979316887554</td>\n",
       "      <td>2022-07-26 00:59:45+00:00</td>\n",
       "      <td>at 5 30 tries to hide the fact that biden bega...</td>\n",
       "      <td>0</td>\n",
       "      <td>0</td>\n",
       "      <td>0</td>\n",
       "      <td>0</td>\n",
       "      <td>[#biden, #oil, #buildbackbetter]</td>\n",
       "    </tr>\n",
       "  </tbody>\n",
       "</table>\n",
       "</div>"
      ],
      "text/plain": [
       "              tweet_id                 created_at  \\\n",
       "0  1551734038204923904  2022-07-26 00:59:59+00:00   \n",
       "1  1551734021591269377  2022-07-26 00:59:55+00:00   \n",
       "2  1551734013815029761  2022-07-26 00:59:53+00:00   \n",
       "3  1551733993740980224  2022-07-26 00:59:48+00:00   \n",
       "4  1551733979316887554  2022-07-26 00:59:45+00:00   \n",
       "\n",
       "                                               tweet  like_count  quote_count  \\\n",
       "0  2 7 billion for climate change slashing carbon...          15            1   \n",
       "1  climate change the rise in temperature will be...           2            0   \n",
       "2  this is a chilling podcast about what could ha...           8            0   \n",
       "3  climate change and energy minister chris bowen...          18            0   \n",
       "4  at 5 30 tries to hide the fact that biden bega...           0            0   \n",
       "\n",
       "   reply_count  retweet_count                          hashtags  \n",
       "0            0              6                                []  \n",
       "1            0              0                                []  \n",
       "2            1              0                                []  \n",
       "3            8              5                                []  \n",
       "4            0              0  [#biden, #oil, #buildbackbetter]  "
      ]
     },
     "execution_count": 64,
     "metadata": {},
     "output_type": "execute_result"
    }
   ],
   "source": [
    "df_clean.head()"
   ]
  },
  {
   "cell_type": "markdown",
   "id": "ea5c6b60-0ba8-430c-b663-4fbe64c7f30e",
   "metadata": {
    "tags": []
   },
   "source": [
    "### Remove stop words"
   ]
  },
  {
   "cell_type": "code",
   "execution_count": 65,
   "id": "555daf08-ec35-4e52-ba19-0467e1b44a82",
   "metadata": {},
   "outputs": [],
   "source": [
    "df_clean.tweet = df_clean.tweet.apply(lambda x: ' '.join([word for word in x.split(' ') if word not in stopwords.words('english')]))\n",
    "df_clean.head()"
   ]
  },
  {
   "cell_type": "code",
   "execution_count": 66,
   "id": "1b804a52-52ee-4f08-a5f2-90ef8e1754a6",
   "metadata": {},
   "outputs": [
    {
     "data": {
      "text/html": [
       "<div>\n",
       "<style scoped>\n",
       "    .dataframe tbody tr th:only-of-type {\n",
       "        vertical-align: middle;\n",
       "    }\n",
       "\n",
       "    .dataframe tbody tr th {\n",
       "        vertical-align: top;\n",
       "    }\n",
       "\n",
       "    .dataframe thead th {\n",
       "        text-align: right;\n",
       "    }\n",
       "</style>\n",
       "<table border=\"1\" class=\"dataframe\">\n",
       "  <thead>\n",
       "    <tr style=\"text-align: right;\">\n",
       "      <th></th>\n",
       "      <th>tweet_id</th>\n",
       "      <th>created_at</th>\n",
       "      <th>tweet</th>\n",
       "      <th>like_count</th>\n",
       "      <th>quote_count</th>\n",
       "      <th>reply_count</th>\n",
       "      <th>retweet_count</th>\n",
       "      <th>hashtags</th>\n",
       "    </tr>\n",
       "  </thead>\n",
       "  <tbody>\n",
       "    <tr>\n",
       "      <th>0</th>\n",
       "      <td>1551734038204923904</td>\n",
       "      <td>2022-07-26 00:59:59+00:00</td>\n",
       "      <td>2 7 billion climate change slashing carbon emi...</td>\n",
       "      <td>15</td>\n",
       "      <td>1</td>\n",
       "      <td>0</td>\n",
       "      <td>6</td>\n",
       "      <td>[]</td>\n",
       "    </tr>\n",
       "    <tr>\n",
       "      <th>1</th>\n",
       "      <td>1551734021591269377</td>\n",
       "      <td>2022-07-26 00:59:55+00:00</td>\n",
       "      <td>climate change rise temperature bad enough sec...</td>\n",
       "      <td>2</td>\n",
       "      <td>0</td>\n",
       "      <td>0</td>\n",
       "      <td>0</td>\n",
       "      <td>[]</td>\n",
       "    </tr>\n",
       "    <tr>\n",
       "      <th>2</th>\n",
       "      <td>1551734013815029761</td>\n",
       "      <td>2022-07-26 00:59:53+00:00</td>\n",
       "      <td>chilling podcast could happen salt lake city g...</td>\n",
       "      <td>8</td>\n",
       "      <td>0</td>\n",
       "      <td>1</td>\n",
       "      <td>0</td>\n",
       "      <td>[]</td>\n",
       "    </tr>\n",
       "    <tr>\n",
       "      <th>3</th>\n",
       "      <td>1551733993740980224</td>\n",
       "      <td>2022-07-26 00:59:48+00:00</td>\n",
       "      <td>climate change energy minister chris bowen hit...</td>\n",
       "      <td>18</td>\n",
       "      <td>0</td>\n",
       "      <td>8</td>\n",
       "      <td>5</td>\n",
       "      <td>[]</td>\n",
       "    </tr>\n",
       "    <tr>\n",
       "      <th>4</th>\n",
       "      <td>1551733979316887554</td>\n",
       "      <td>2022-07-26 00:59:45+00:00</td>\n",
       "      <td>5 30 tries hide fact biden began signing legis...</td>\n",
       "      <td>0</td>\n",
       "      <td>0</td>\n",
       "      <td>0</td>\n",
       "      <td>0</td>\n",
       "      <td>[#biden, #oil, #buildbackbetter]</td>\n",
       "    </tr>\n",
       "  </tbody>\n",
       "</table>\n",
       "</div>"
      ],
      "text/plain": [
       "              tweet_id                 created_at  \\\n",
       "0  1551734038204923904  2022-07-26 00:59:59+00:00   \n",
       "1  1551734021591269377  2022-07-26 00:59:55+00:00   \n",
       "2  1551734013815029761  2022-07-26 00:59:53+00:00   \n",
       "3  1551733993740980224  2022-07-26 00:59:48+00:00   \n",
       "4  1551733979316887554  2022-07-26 00:59:45+00:00   \n",
       "\n",
       "                                               tweet  like_count  quote_count  \\\n",
       "0  2 7 billion climate change slashing carbon emi...          15            1   \n",
       "1  climate change rise temperature bad enough sec...           2            0   \n",
       "2  chilling podcast could happen salt lake city g...           8            0   \n",
       "3  climate change energy minister chris bowen hit...          18            0   \n",
       "4  5 30 tries hide fact biden began signing legis...           0            0   \n",
       "\n",
       "   reply_count  retweet_count                          hashtags  \n",
       "0            0              6                                []  \n",
       "1            0              0                                []  \n",
       "2            1              0                                []  \n",
       "3            8              5                                []  \n",
       "4            0              0  [#biden, #oil, #buildbackbetter]  "
      ]
     },
     "execution_count": 66,
     "metadata": {},
     "output_type": "execute_result"
    }
   ],
   "source": []
  },
  {
   "cell_type": "markdown",
   "id": "0aa370a7-44b8-495f-94a1-9b1d1d667ef7",
   "metadata": {},
   "source": [
    "### Lemmatize"
   ]
  },
  {
   "cell_type": "markdown",
   "id": "1026aa14-9ef2-4291-94fb-b559160889dd",
   "metadata": {},
   "source": [
    "The goal of both stemming and lemmatization is to reduce inflectional forms and sometimes derivationally related forms of a word to a common base form.\n",
    "Lemmatisation is closely related to stemming. The difference is that a stemmer operates on a single word without knowledge of the context, and therefore cannot discriminate between words which have different meanings depending on part of speech. However, stemmers are typically easier to implement and run faster, and the reduced accuracy may not matter for some applications."
   ]
  },
  {
   "cell_type": "code",
   "execution_count": 67,
   "id": "0d4fa82c-630b-4a92-822c-9d416b3a8a63",
   "metadata": {},
   "outputs": [],
   "source": [
    "lemmatizer = WordNetLemmatizer()\n",
    "df_clean.tweet = df_clean.tweet.apply(lambda x: ' '.join([lemmatizer.lemmatize(word) for word in x.split(' ')]))\n",
    "df_clean.head()"
   ]
  },
  {
   "cell_type": "code",
   "execution_count": 68,
   "id": "ba4a37fa-64fe-4c09-95aa-123167309b67",
   "metadata": {},
   "outputs": [
    {
     "data": {
      "text/html": [
       "<div>\n",
       "<style scoped>\n",
       "    .dataframe tbody tr th:only-of-type {\n",
       "        vertical-align: middle;\n",
       "    }\n",
       "\n",
       "    .dataframe tbody tr th {\n",
       "        vertical-align: top;\n",
       "    }\n",
       "\n",
       "    .dataframe thead th {\n",
       "        text-align: right;\n",
       "    }\n",
       "</style>\n",
       "<table border=\"1\" class=\"dataframe\">\n",
       "  <thead>\n",
       "    <tr style=\"text-align: right;\">\n",
       "      <th></th>\n",
       "      <th>tweet_id</th>\n",
       "      <th>created_at</th>\n",
       "      <th>tweet</th>\n",
       "      <th>like_count</th>\n",
       "      <th>quote_count</th>\n",
       "      <th>reply_count</th>\n",
       "      <th>retweet_count</th>\n",
       "      <th>hashtags</th>\n",
       "    </tr>\n",
       "  </thead>\n",
       "  <tbody>\n",
       "    <tr>\n",
       "      <th>0</th>\n",
       "      <td>1551734038204923904</td>\n",
       "      <td>2022-07-26 00:59:59+00:00</td>\n",
       "      <td>2 7 billion climate change slashing carbon emi...</td>\n",
       "      <td>15</td>\n",
       "      <td>1</td>\n",
       "      <td>0</td>\n",
       "      <td>6</td>\n",
       "      <td>[]</td>\n",
       "    </tr>\n",
       "    <tr>\n",
       "      <th>1</th>\n",
       "      <td>1551734021591269377</td>\n",
       "      <td>2022-07-26 00:59:55+00:00</td>\n",
       "      <td>climate change rise temperature bad enough sec...</td>\n",
       "      <td>2</td>\n",
       "      <td>0</td>\n",
       "      <td>0</td>\n",
       "      <td>0</td>\n",
       "      <td>[]</td>\n",
       "    </tr>\n",
       "    <tr>\n",
       "      <th>2</th>\n",
       "      <td>1551734013815029761</td>\n",
       "      <td>2022-07-26 00:59:53+00:00</td>\n",
       "      <td>chilling podcast could happen salt lake city g...</td>\n",
       "      <td>8</td>\n",
       "      <td>0</td>\n",
       "      <td>1</td>\n",
       "      <td>0</td>\n",
       "      <td>[]</td>\n",
       "    </tr>\n",
       "    <tr>\n",
       "      <th>3</th>\n",
       "      <td>1551733993740980224</td>\n",
       "      <td>2022-07-26 00:59:48+00:00</td>\n",
       "      <td>climate change energy minister chris bowen hit...</td>\n",
       "      <td>18</td>\n",
       "      <td>0</td>\n",
       "      <td>8</td>\n",
       "      <td>5</td>\n",
       "      <td>[]</td>\n",
       "    </tr>\n",
       "    <tr>\n",
       "      <th>4</th>\n",
       "      <td>1551733979316887554</td>\n",
       "      <td>2022-07-26 00:59:45+00:00</td>\n",
       "      <td>5 30 try hide fact biden began signing legisla...</td>\n",
       "      <td>0</td>\n",
       "      <td>0</td>\n",
       "      <td>0</td>\n",
       "      <td>0</td>\n",
       "      <td>[#biden, #oil, #buildbackbetter]</td>\n",
       "    </tr>\n",
       "  </tbody>\n",
       "</table>\n",
       "</div>"
      ],
      "text/plain": [
       "              tweet_id                 created_at  \\\n",
       "0  1551734038204923904  2022-07-26 00:59:59+00:00   \n",
       "1  1551734021591269377  2022-07-26 00:59:55+00:00   \n",
       "2  1551734013815029761  2022-07-26 00:59:53+00:00   \n",
       "3  1551733993740980224  2022-07-26 00:59:48+00:00   \n",
       "4  1551733979316887554  2022-07-26 00:59:45+00:00   \n",
       "\n",
       "                                               tweet  like_count  quote_count  \\\n",
       "0  2 7 billion climate change slashing carbon emi...          15            1   \n",
       "1  climate change rise temperature bad enough sec...           2            0   \n",
       "2  chilling podcast could happen salt lake city g...           8            0   \n",
       "3  climate change energy minister chris bowen hit...          18            0   \n",
       "4  5 30 try hide fact biden began signing legisla...           0            0   \n",
       "\n",
       "   reply_count  retweet_count                          hashtags  \n",
       "0            0              6                                []  \n",
       "1            0              0                                []  \n",
       "2            1              0                                []  \n",
       "3            8              5                                []  \n",
       "4            0              0  [#biden, #oil, #buildbackbetter]  "
      ]
     },
     "execution_count": 68,
     "metadata": {},
     "output_type": "execute_result"
    }
   ],
   "source": []
  },
  {
   "cell_type": "markdown",
   "id": "1dbcadbb-eb4c-4de8-a1ef-646714144ac3",
   "metadata": {},
   "source": [
    "### Frequently used words"
   ]
  },
  {
   "cell_type": "code",
   "execution_count": 69,
   "id": "247a62f9-2a98-483c-bf19-ace5eda249e8",
   "metadata": {},
   "outputs": [
    {
     "data": {
      "text/plain": [
       "80847"
      ]
     },
     "execution_count": 69,
     "metadata": {},
     "output_type": "execute_result"
    }
   ],
   "source": [
    "word_freq = defaultdict(int)\n",
    "for sent in df_clean.tweet:\n",
    "    sent = sent.split(' ')\n",
    "    for i in sent:\n",
    "        word_freq[i] += 1\n",
    "len(word_freq)"
   ]
  },
  {
   "cell_type": "code",
   "execution_count": 73,
   "id": "4c69e620-2860-4aeb-b969-2d8e65045497",
   "metadata": {},
   "outputs": [
    {
     "name": "stdout",
     "output_type": "stream",
     "text": [
      "climate 140407\n",
      "change 131842\n",
      "amp 14043\n",
      "climatechange 13398\n",
      "people 12862\n",
      "u 11487\n",
      "like 9813\n",
      "year 9280\n",
      "world 8376\n",
      "need 7743\n",
      "one 7507\n",
      "global 7341\n",
      "would 6729\n",
      "get 6692\n",
      "time 6655\n",
      "it’s 6277\n",
      "think 6087\n",
      "bill 6085\n",
      "real 5969\n",
      "make 5739\n"
     ]
    }
   ],
   "source": [
    "for word in sorted(word_freq, key=word_freq.get, reverse=True)[:20]:\n",
    "    print(word, word_freq[word])"
   ]
  },
  {
   "cell_type": "markdown",
   "id": "758a6467-b3e3-4d27-8568-5580b9880395",
   "metadata": {},
   "source": [
    "### Frequently used hashtags"
   ]
  },
  {
   "cell_type": "code",
   "execution_count": 71,
   "id": "8065c386-3d3d-453b-a2c7-d6a9719690a8",
   "metadata": {},
   "outputs": [],
   "source": [
    "all_hashtags = sum([tag.split('#') for tag in df_clean['hashtags'].sum()], [])\n",
    "all_hashtags = [tag for tag in all_hashtags if tag]  # removes empty strings from splitting hashtags"
   ]
  },
  {
   "cell_type": "code",
   "execution_count": 72,
   "id": "2a07ef3f-28f6-4143-9881-21b834f8566d",
   "metadata": {},
   "outputs": [
    {
     "data": {
      "image/png": "[encoded data removed]",
      "text/plain": [
       "<Figure size 864x864 with 1 Axes>"
      ]
     },
     "metadata": {
      "needs_background": "light"
     },
     "output_type": "display_data"
    }
   ],
   "source": [
    "top_hashtags = Counter(all_hashtags).most_common(30)\n",
    "top_tags = [x[0] for x in top_hashtags]\n",
    "top_tags_freq = [x[1] for x in top_hashtags]\n",
    "\n",
    "fig, ax = plt.subplots(figsize = (12,12))\n",
    "y_pos = np.arange(len(top_tags))\n",
    "ax.barh(y_pos ,list(top_tags_freq)[::-1], align='center', color='steelblue', edgecolor='black', linewidth=1)\n",
    "ax.set_yticks(y_pos)\n",
    "ax.set_yticklabels(list(top_tags)[::-1])\n",
    "ax.set_xlabel(\"Number of appereances\")\n",
    "ax.set_title(\"Most used #hashtags\", fontsize = 20)\n",
    "plt.tight_layout(pad=3)"
   ]
  },
  {
   "cell_type": "markdown",
   "id": "f952dfe2-8060-42d8-98d7-eac6f4fd1b46",
   "metadata": {
    "tags": []
   },
   "source": [
    "### Sentiment model using flair "
   ]
  },
  {
   "cell_type": "code",
   "execution_count": 74,
   "id": "d55a42aa-9f8e-44bf-9421-18cf8dbf27c8",
   "metadata": {},
   "outputs": [
    {
     "name": "stdout",
     "output_type": "stream",
     "text": [
      "2022-08-02 14:00:53,992 loading file /Users/hannahbrown/.flair/models/sentiment-en-mix-distillbert_4.pt\n"
     ]
    }
   ],
   "source": [
    "from flair.models import TextClassifier\n",
    "from flair.data import Sentence\n",
    "sia = TextClassifier.load('en-sentiment')"
   ]
  },
  {
   "cell_type": "code",
   "execution_count": 76,
   "id": "72dab8e6-6daa-489c-8b78-63eb703dc3d8",
   "metadata": {},
   "outputs": [],
   "source": [
    "def flair_prediction(x):\n",
    "    sentence = Sentence(x)\n",
    "    sia.predict(sentence)\n",
    "    score = sentence.labels[0]\n",
    "    if \"POSITIVE\" in str(score):\n",
    "        return \"pos\"\n",
    "    elif \"NEGATIVE\" in str(score):\n",
    "        return \"neg\"\n",
    "    else:\n",
    "        return \"neu\"\n",
    "sent = tweet_data[\"tweet\"][:100].apply(flair_prediction)"
   ]
  },
  {
   "cell_type": "code",
   "execution_count": null,
   "id": "b4540ec6-6cfa-48bc-93e5-ae561912f7c2",
   "metadata": {},
   "outputs": [],
   "source": [
    "# df_clean['sentiment'][:100] = sent"
   ]
  },
  {
   "cell_type": "code",
   "execution_count": 78,
   "id": "f048ec24-69e4-4e07-97b8-173a8763cddb",
   "metadata": {},
   "outputs": [
    {
     "name": "stdout",
     "output_type": "stream",
     "text": [
      "0 $2.7 billion for climate change (slashing carbon emissions); $37 billion for cops. Tell me again why republicans aren’t in love with Joe Biden? I mean, at least when it comes to this?\n",
      "1 Climate Change and Energy Minister Chris Bowen has hit out at the “denial and delay” of the Liberal Party while accusing Opposition Leader Peter Dutton of trying to “continue the climate wars”.\n",
      "\n",
      "https://t.co/suHcMguiSo\n",
      "2 @Thebs15800518 At 5:30, @SecGranHolm tries to hide the fact that #Biden began signing legislation to shut down #oil production to fight climate change the second he took office \n",
      "\n",
      "Economy Reset - #BuildBackBetter \n",
      "\n",
      "https://t.co/kfC0Sr1gc0\n",
      "3 https://t.co/5PGrER4z3b altered a news headline: https://t.co/IwzK7SGokG https://t.co/LyAPoqLQL1\n",
      "4 The head of the UN calling out @IFAmedia @GlanbiaPlc @kerryfoodgroup @DairyIndustryIE @AgriAware.\n",
      "\n",
      "85% of adults in Ireland are concerned about climate change. There's no time for deference to TDs who want to protect the frozen pizza, protein powder, infant formula export market. https://t.co/7jSMhJB9Rm\n",
      "5 The far-left’s ABSURD attempt to stop climate change in CA https://t.co/C52LBzQaJ8 via @YouTube \n",
      "NO GROUND WATER WELLS\n",
      "NO RAIN HARVESTING\n",
      "NO FERTILIZERS\n",
      "\n",
      "NO FOOD    NO FOOD   NO FOOD\n",
      "\n",
      "NO PEOPLE\n",
      "6 @Thebs15800518 The People of Sri Lanka rule that the Government is NOT ALLOWED to seize their rights in order to fight climate change. \n",
      "\n",
      "Economy Reset - #BUILDBACKBETTER \n",
      "\n",
      "https://t.co/4WBnWLtkUM\n",
      "7 With climate change denial, it ain’t the heat, it's the stupidity.\n",
      "8 From the LA Times interview with Mike Davis (https://t.co/h3FzranrFR) when asked if he has any advice for us before he dies: https://t.co/dd2FYMKxIG\n",
      "9 Trump said there is no climate change problem and is supporters still believing him while the houses are either burning or flooding or torn apart by tornadoes and high winds. Listen carefully,  Jesus is the Christ, not trump!\n",
      "10 I think we’ve allowed these #climatehoax #climatechange freaks to have too much leeway. Now they want us to be cannibals to save the planet. Enough is enough. https://t.co/t8NEfmotrP\n",
      "11 @rubiconcapital_ \"Send in the climate change...\" https://t.co/iwpZ3xUsTj\n",
      "12 @Weatherprof Sign up here to receive our research reports, including a link to the Nature Climate Change paper: https://t.co/l3YapC5LSK\n",
      "We will it out the link tomorrow. https://t.co/lY0VgeUUZg\n",
      "13 @PBC174 @thecoastguy His Jeffrey Dahmer reference hit the target on how inhumane &amp; gross this is &amp; is this really necessary to combat climate change…!!!\n",
      "14 @RepJoeNeguse It's called Climate Change driven desertification and it won't stop unless @POTUS immediately acts to stop the #ClimateBreakdown https://t.co/O7quThTtU4\n",
      "15 A majority of people in more than 200 countries are worried about #CLIMATE change, according to a recent survey. Most of them also say it should be a priority for their government.\n",
      "\n",
      "https://t.co/QK0wTVPiCB https://t.co/FO5QLXWqUU\n",
      "16 @guardian And Climate Change?!\n",
      "17 World Governments are willing to let their people die by the millions before ever addressing Climate Change\n",
      "18 @AnnRoll67123915 @Concern70732755 That's what happens when an ex Greenpeace extremist is appointed as minister of environment and climate change.\n",
      "19 Hulu blocks ads on abortion, guns, and climate change — and Dems aren’t happy - The Verge https://t.co/dlYi0IyWfd\n",
      "20 This has got to be caused by that pesky Climate Change right?\n",
      "\n",
      "https://t.co/woXZWntRS3 via @epochtimes\n",
      "21 @Rustysnickers1 @WhiteHouse @POTUS @fema .@GOP refuses to support #climatechange legislation - cuts into their profits off of billionaires with outrageous tax benefits who prefer money over survival of the planet\n",
      "22 @CarymaRules Bcs Jesus wants to show that climate change and global warming are BS!🤣\n",
      "23 @MayraFlores2022 @POTUS Sorry to be so direct and sorrier if this sounds insulting, but that is not an intelligent response to what our president just said. Can’t you be a Republican and still admit the fact that we have climate change? Seriously, why can’t the GOP just speak truth on this?\n",
      "24 @ZronR Terrifying. No concern for food security as climate change kicks in. Approvals process for these dangerous  water destroying #CSG projects makes 'government' look like morons.\n",
      "25 @edisn He told a sheriff to ‘destroy’ the career of a senator who opposed police officers being able to seize assets.\n",
      "Trump ignored evidence of Michael Flynn’s meetings with Russia, he withdrew from the Paris Agreement on climate change-🧵\n",
      "26 @RBReich Well climate change is a hoax so $2.3 billion is a heck of a lot\n",
      "27 @Bazthebemused @wishiniwasfishn @ninaturner theres less human suffering today than 100 years ago. less climate death. less climate damage. even if climate change is occurring theres little evidence to support humans are suffering from it. and since the past predictions have been wrong i'll wont hold my breath on new ones\n",
      "28 @SenWhitehouse Eventually when 20 million people lean on a water source it will run a bit lean. You can blame climate change all you want but water uptake is way higher then ww2 days\n",
      "29 All-but 3 years later . . . and it's only gotten worse. #ClimateChange to #ClimateCrisis to #ClimateEmergency brought to us by #CorporateCaptured governments. https://t.co/dlRVFUvAnF\n",
      "30 @kathrynresister @MrScottLads Climate change doesn't care if you believe in it\n",
      "31 Democrats declare needless emergencies — on COVID and maybe climate change — to grab power https://t.co/SzWWoHv7hp via @nypost\n",
      "32 @asarewe_all @matryoskadoll @KMC4wauk @saaaauuull Ok, so we reject “this is how our government works” and do what specifically to facilitate climate change actions? \n",
      "List how Congressional Dems can take action on climate change emergency right now.\n",
      "33 @derek_honore @MissAngryFlower @saaaauuull AOC held a protest in Speaker Pelosi's office re: climate change. I'm seeing a trend from the \"Squad\" . . . nope not the first🙄\n",
      "\n",
      "Rep. John Lewis held a sit-in protesting GOP opposition to bring gun control bills to a vote.\n",
      "\n",
      "On the floor of Congress.\n",
      "\n",
      "https://t.co/l67HUrloyJ\n",
      "34 @SirWB Has Luxon ever claimed climate change credentials?\n",
      "\n",
      "5 years aho his party was still denying it was a thing, and I doubt anyone who thinks CC is a serious issue will vote National\n",
      "35 @Sen_JoeManchin Ok, but like as a constituent I want you to pass the climate change bill. THE WORLD WILL BURN, JOE. Stop thinking about what is best for you for once and think about the earth we live on.\n",
      "36 I’m confused? \n",
      "INFLATION = INTERNATIONAL CRISIS\n",
      "FUEL PRICES = INTERNATIONAL CRISIS\n",
      "SUPPLY CHAIN ISSUES = INTERNATIONAL CRISIS\n",
      "CLIMATE CHANGE = BLOCKED BY GOP \n",
      "CODIFY ROE = BLOCKED BY GOP \n",
      "PRICE GAUGING = BLOCKED BY GOP \n",
      "\n",
      "What exactly has PRESIDENT BIDEN done wrong? https://t.co/GQO1Y5P6X0\n",
      "37 @TheGeneralMAGA Political Climate Change is a hoax. Designed to line the pockets of politicians.\n",
      "Natural Climate Change that's been happening for Billions of years, that's not a hoax. But it's not to be worried about either.\n",
      "38 @FxckRent Our infrastructure is decades old. Climate change probably has something to do with it too\n",
      "39 @TaplinTerry is an advocate for climate change policy. The city has bigger issues I realize but this just seems like a silly impediment to doing the right thing.\n",
      "40 Remember last week's mainstream media beat up about how the @Greens were going to be to blame for rising cost of living, unemployment, etc. because they wanted a better climate change bill? Interesting. #auspol\n",
      "\n",
      "https://t.co/TAKhOzcvuN\n",
      "41 Floriduh,\n",
      "Is it time to start dropping pamphlets and secretly evacuating reasonable people?\n",
      "#Florida \n",
      "#Nazi \n",
      "#SecretServiceCoverup\n",
      "#UvaldeCoverUp\n",
      "#RoeVWade\n",
      "#GOPDomesticTerrorists\n",
      "#ClimateChange\n",
      "#IndividualOne\n",
      "#TrumpSexualAssault https://t.co/Z0EHQnaW4G\n",
      "42 Not to mention the closures of veterans offices, underfunding of the military, forcing military people into dangerous operations, doing nothing on the environment and climate change, nothing for the poor, nothing on housing. Nothing on culture.\n",
      "43 We’ve done so well with the COVID response and climate change, this oughta be a cinch.\n",
      "\n",
      "#WeAreFuckingDoomed https://t.co/HiPyum75dv\n",
      "44 @darealbullsphit @Trixtian_ @Thisiswow_ Others not participating (they are) is not an excuse.\n",
      "\n",
      "We are pumping 50 billion tons of CO2e into the atmosphere per year.\n",
      "\n",
      "Is there any particular part of anthropological (human-caused) climate change that you dont understand?\n",
      "\n",
      "https://t.co/7u331nN0q3\n",
      "45 This push for canibalism will be cloned human meat cells  because transhumanists already eat cloned human meat. Still very disgusting. They will say it's to fight climate change. But we all know what kind of human flesh they eat in shadows..  https://t.co/6CYtdYmnDW #SoylentGreen\n",
      "46 Y’all gunna be real disappointed when you don’t listen to climate change and sharks grow legs and are land animals.\n",
      "47 Op-Ed: Want to fight climate change and drought at the same time? Bring back beavers https://t.co/zrZFdNH5J6\n",
      "48 @MBourkeEtc @DeborahMeaden Which is ironic considering Rishi’s whole leadership stance is we should not pass on increasing debt to next generation. But he doesn’t care about his generation reneging on bigger issue of dealing with climate change (both are linked - he must know that surely)\n",
      "49 Will extreme weather spur world leaders to act on climate change? | The Stream https://t.co/UDltuF4pDz\n",
      "50 @DocDeezWhat @MyNewSowell @SpergForLife @apyorick @ConceptualJames @Timcast I didn't believe it until government starting banning nitrogen based fertilizers because of climate change before we have a comparable alternative. That's not something a responsible gov does.\n",
      "51 @elonmusk You could start by diverting your money to fighting climate change.\n",
      "52 Friends don't let friends repeat the misinterpreted stat about \"just 100 companies.\"  The structure of climate change is held up by millions of Americans who think wide roads and parking mandates and gas tax holidays and car company bailouts are good policy. https://t.co/M5SEQIzDgR\n",
      "53 @nypost Al Gore fighting climate change\n",
      "54 U.S. President Joe Biden delivers remarks on climate change and renewable energy at the site of the former Brayton Point Power Station in /Somerset/L(51.1N,3.0W) , /Massachusetts/L(42.4N,71.1W) , U.S. July 20 , 2022 .\n",
      "...\n",
      "Other provisions include a $ 1...\n",
      "https://t.co/F6K7wwZsdc https://t.co/NoLcwWBGe3\n",
      "55 @kelliwardaz But but climate change is making everything hotter.  “Peasants don’t need ac”. This is beyond asinine.\n",
      "56 @SenWarren @POTUS DEMOCRATS are the biggest threat facing our nation.  If climate change is so bad, WHY does BIDEN, OBAMA and GORE still have beachfront properties?? WHY DO THEY HAVE SPRAWLING MANSIONS???\n",
      "57 @GovSisolak It’s a BS narrative \n",
      "Ozone layer didn’t work\n",
      "Global warming didn’t work\n",
      "Annnd now climate change, WE are CARBON beings by nature! Digest that, think about what’s being sold you don’t have to buy the BS they’re peddling at our expense.\n",
      "58 \"In parts of the Mediterranean area, due to extreme heat and water stress in summer months, some summer crops might be cultivated in winter instead.\" 😳\n",
      "\n",
      "https://t.co/IJuaen2jcz\n",
      "59 Al Gore fighting climate change. https://t.co/HvAFxnplsa\n",
      "60 @JoeBiden There's going to be some serious climate change for those who don't obey God because it's going to get extremely hot down here for many.\n",
      "61 @TheTorontoSun NOT going to happen. The WEF has issued their memos across the world. The move is on now to DEMONIZE Farmers across the world, so that the evil doers can appropriate their land for their own use and nefarious plans. This is all being done in the name of \"climate change\".\n",
      "62 @laxlmfaomylife climate change is no joke 😭\n",
      "63 What do you think of Gore's remarks about climate change? https://t.co/94EqJappEM\n",
      "64 @JesseCox Gaming isn't news, climate change is news. They should do that instead.\n",
      "65 @GrogoryPeck @Understandirony @Independent_ie We're fucked lads.\n",
      "How can the gorse fires signal climate change when it's pissing down?\n",
      "66 Think of your \"wage\" as a bribe for keeping your mouth shut on climate change.  \n",
      "You can't take the steps necessary to quit fossil-fuels while still working.\n",
      "\n",
      "#ClimateEmergency #ClimateCrisis #ClimateAction #environmental #auspol2022 #GreenhouseGasEmissions #MONEY #TaxTheRich\n",
      "67 @CathyMReiser They’re saying we’re in a recession, (not true),at least not now, they’re still moaning over gas prices that have gone down daily &amp; I believe that they would tank the economy to get Trump into office. They deny climate change &amp; might demolish social security &amp; Medicare. Not good.\n",
      "68 Central banks failed to control inflation and caused a house price boom due to misplaced confidence and political distractions such as climate change, former RBNZ governor Graeme Wheeler says. https://t.co/rAgWLMtg9Y\n",
      "69 @james00000001 I am currently reading Lawrence Krauss \"The Physics Of Climate Change\", he does a section on the history of the science. Of course, even in the 19th century, climate scientists were roundly rubbished!\n",
      "70 @SKN2106 @KenTremendous There is zero chance climate change extincts humans. None. Zero. Nada. Zilch. Nothing.\n",
      "71 @riffraffrandell Human CO2 emissions being the primary drive of Climate Change is completely discredited junk science. The number one promoters of this hoax are Billionaires and Mega Corporations. Basically a fake scientific theory that justifies their worldview of de-growth and Malthusianism.\n",
      "72 @AnnLesbyPhD Maybe climate change and recession could have a battle royale to the death. Whomever is left gets to kill us.\n",
      "73 @PicsOrIt Climate change is real it's called seasons and some are hotter and some are milder.  \n",
      "\n",
      "The universe will have its way.  Burning money and decreasing quality of life will hurt people not help them and comes with it's own problems.\n"
     ]
    }
   ],
   "source": [
    "for i, tweet in enumerate(tweet_data['tweet'][:100][sent=='neg']): \n",
    "    print(i, tweet)"
   ]
  },
  {
   "cell_type": "code",
   "execution_count": 44,
   "id": "8faff984-6e5d-46dc-b3ba-6a50f7146b48",
   "metadata": {},
   "outputs": [
    {
     "name": "stdout",
     "output_type": "stream",
     "text": [
      "0 Anthony Albanese, the\n",
      "Prime Minister of Australia: \"Climate change is a global 'national security issue\" 🙃 https://t.co/hym4MAtnhD\n",
      "1 Scientific studies on climate change are as accurate as scientific studies on Covid! \n",
      "#ClimateScam\n",
      "2 @StevePriceMedia @AusTodayListnr There is no climate change….\n",
      "3 Remember back in 2020 when the \"Wildfires due to Climate Change\" knew where the US and Canada boarder was? https://t.co/8yt2i3GYKm\n",
      "4 @lavern_spicer 1 million years of ice core samples are all the research you need to learn about climate change. \n",
      "\n",
      "Look it up. The truth is out there for the taking.\n",
      "5 @JacobsVegasLife @LasVegasLocally This is a chilling podcast about what could happen to Salt Lake City if the Great Salt Lake dried up, but also what happens to the city and ecosystem when even smaller, incremental changes take shape: https://t.co/kBPTUJwE1M\n",
      "6 @jlush709 @PaulDurdle yes and his approach helps to lessen the divide on the topic of climate change. He doesn't preach, he doesn't demand, he gives information in small amounts and with good explanations. Those demanding he do what they want could learn a lot from simply following/listening to him.\n",
      "7 @L_Switty @kamorant @ClassIssuesInWR Activism should come from a place of righteous anger AND love. This isn’t that. This is just further polarizing the issue and alienating folks, creating or confirming negative opinion about climate change organizers &amp; individuals who care about taking action on climate.\n",
      "8 People are dying every single day because of climate change. Climate change needs to be a military issue. ⁦@POTUS⁩ ⁦@SenSanders⁩  https://t.co/FcvT6XdpL9\n",
      "9 @Maxjohn47662712 @truebigblue1 @MonicaCrowley Polar ice caps are melting as global warming causes climate change. We lose Arctic sea ice at a rate of almost 13% per decade, and over the past 30 years, the oldest and thickest ice in the Arctic has declined by a stunning 95%.\n"
     ]
    }
   ],
   "source": [
    "# for row in df_clean[]['tweet']:\n",
    "#     print(row)\n",
    "\n",
    "for i, tweet in enumerate(tweet_data[df_clean['sentiment']=='pos']['tweet']): \n",
    "    print(i, tweet)"
   ]
  },
  {
   "cell_type": "code",
   "execution_count": null,
   "id": "ec39f2c1-e207-4216-aa61-e5229241d5cd",
   "metadata": {},
   "outputs": [],
   "source": [
    "tweet_data[df_clean['sentiment']=='pos']['tweet']"
   ]
  }
 ],
 "metadata": {
  "kernelspec": {
   "display_name": "Python 3 (ipykernel)",
   "language": "python",
   "name": "python3"
  },
  "language_info": {
   "codemirror_mode": {
    "name": "ipython",
    "version": 3
   },
   "file_extension": ".py",
   "mimetype": "text/x-python",
   "name": "python",
   "nbconvert_exporter": "python",
   "pygments_lexer": "ipython3",
   "version": "3.8.13"
  }
 },
 "nbformat": 4,
 "nbformat_minor": 5
}
