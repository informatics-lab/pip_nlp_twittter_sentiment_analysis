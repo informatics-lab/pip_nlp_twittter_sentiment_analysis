{
 "cells": [
  {
   "cell_type": "markdown",
   "id": "dc51941f-00aa-4d41-bafd-7c422b8ca1c1",
   "metadata": {},
   "source": [
    "follow this tutorial: https://www.analyticsvidhya.com/blog/2021/06/vader-for-sentiment-analysis/"
   ]
  },
  {
   "cell_type": "code",
   "execution_count": 1,
   "id": "77634b23-e3bd-40d7-acd6-dac4906f5e19",
   "metadata": {},
   "outputs": [],
   "source": [
    "# ! pip install flair\n",
    "# ! pip install emoji\n",
    "# ! pip install vaderSentiment\n",
    "# ! pip install nltk"
   ]
  },
  {
   "cell_type": "code",
   "execution_count": 1,
   "id": "368e61ab-990e-4987-88bd-629e183e584a",
   "metadata": {},
   "outputs": [],
   "source": [
    "import pandas as pd\n",
    "import numpy as np\n",
    "\n",
    "import re\n",
    "import string\n",
    "import emoji\n",
    "\n",
    "from vaderSentiment.vaderSentiment import SentimentIntensityAnalyzer\n",
    "\n",
    "import nltk\n",
    "import nltk.corpus\n",
    "# from nltk.stem import WordNetLemmatizer\n",
    "# from nltk.corpus import stopwords\n",
    "# # nltk.download('wordnet')\n",
    "# # nltk.download('punkt')\n",
    "# # nltk.download('average_perception_tagger')\n",
    "# # nltk.download('wordnet')\n",
    "# # nltk.download('words') # if its needed\n",
    "\n",
    "# import spacy\n",
    "# from spacy.tokenizer import Tokenizer\n",
    "# from spacy.lang.en import English \n",
    "# nlp = English()\n",
    "\n",
    "# from collections import Counter, defaultdict\n",
    "# import matplotlib.pyplot as plt\n",
    "# import numpy as np"
   ]
  },
  {
   "cell_type": "code",
   "execution_count": 113,
   "id": "6329ae33-5aae-4395-956a-25e2de780eb3",
   "metadata": {
    "collapsed": true,
    "jupyter": {
     "outputs_hidden": true
    },
    "tags": []
   },
   "outputs": [
    {
     "name": "stderr",
     "output_type": "stream",
     "text": [
      "/var/folders/87/clmyfqwn0kz2jfcyp0cbjycc0000gn/T/ipykernel_4309/721015313.py:1: DtypeWarning: Columns (0,5,6) have mixed types. Specify dtype option on import or set low_memory=False.\n",
      "  tweet_data = pd.read_csv('data_lg_clean.csv')\n"
     ]
    },
    {
     "data": {
      "text/html": [
       "<div>\n",
       "<style scoped>\n",
       "    .dataframe tbody tr th:only-of-type {\n",
       "        vertical-align: middle;\n",
       "    }\n",
       "\n",
       "    .dataframe tbody tr th {\n",
       "        vertical-align: top;\n",
       "    }\n",
       "\n",
       "    .dataframe thead th {\n",
       "        text-align: right;\n",
       "    }\n",
       "</style>\n",
       "<table border=\"1\" class=\"dataframe\">\n",
       "  <thead>\n",
       "    <tr style=\"text-align: right;\">\n",
       "      <th></th>\n",
       "      <th>tweet_id</th>\n",
       "      <th>created_at</th>\n",
       "      <th>tweet</th>\n",
       "      <th>like_count</th>\n",
       "      <th>quote_count</th>\n",
       "      <th>reply_count</th>\n",
       "      <th>retweet_count</th>\n",
       "      <th>clean</th>\n",
       "      <th>hashtags</th>\n",
       "      <th>clean_spacy</th>\n",
       "    </tr>\n",
       "  </thead>\n",
       "  <tbody>\n",
       "    <tr>\n",
       "      <th>0</th>\n",
       "      <td>1551734038204923904</td>\n",
       "      <td>2022-07-26 00:59:59+00:00</td>\n",
       "      <td>$2.7 billion for climate change (slashing carb...</td>\n",
       "      <td>15.0</td>\n",
       "      <td>1.0</td>\n",
       "      <td>0</td>\n",
       "      <td>6</td>\n",
       "      <td>27 billion for climate change slashing carbon ...</td>\n",
       "      <td>[]</td>\n",
       "      <td>27 billion climate change slash carbon emissio...</td>\n",
       "    </tr>\n",
       "    <tr>\n",
       "      <th>1</th>\n",
       "      <td>1551734021591269377</td>\n",
       "      <td>2022-07-26 00:59:55+00:00</td>\n",
       "      <td>@nathaliejacoby1 Climate change. The rise in t...</td>\n",
       "      <td>2.0</td>\n",
       "      <td>0.0</td>\n",
       "      <td>0</td>\n",
       "      <td>0</td>\n",
       "      <td>climate change the rise in temperature will be...</td>\n",
       "      <td>[]</td>\n",
       "      <td>climate change rise temperature bad secondary ...</td>\n",
       "    </tr>\n",
       "    <tr>\n",
       "      <th>2</th>\n",
       "      <td>1551734013815029761</td>\n",
       "      <td>2022-07-26 00:59:53+00:00</td>\n",
       "      <td>@JacobsVegasLife @LasVegasLocally This is a ch...</td>\n",
       "      <td>8.0</td>\n",
       "      <td>0.0</td>\n",
       "      <td>1</td>\n",
       "      <td>0</td>\n",
       "      <td>this is a chilling podcast about what could ha...</td>\n",
       "      <td>[]</td>\n",
       "      <td>chill podcast happen salt lake city great salt...</td>\n",
       "    </tr>\n",
       "    <tr>\n",
       "      <th>3</th>\n",
       "      <td>1551733993740980224</td>\n",
       "      <td>2022-07-26 00:59:48+00:00</td>\n",
       "      <td>Climate Change and Energy Minister Chris Bowen...</td>\n",
       "      <td>18.0</td>\n",
       "      <td>0.0</td>\n",
       "      <td>8</td>\n",
       "      <td>5</td>\n",
       "      <td>climate change and energy minister chris bowen...</td>\n",
       "      <td>[]</td>\n",
       "      <td>climate change energy minister chris bowen hit...</td>\n",
       "    </tr>\n",
       "    <tr>\n",
       "      <th>4</th>\n",
       "      <td>1551733979316887554</td>\n",
       "      <td>2022-07-26 00:59:45+00:00</td>\n",
       "      <td>@Thebs15800518 At 5:30, @SecGranHolm tries to ...</td>\n",
       "      <td>0.0</td>\n",
       "      <td>0.0</td>\n",
       "      <td>0</td>\n",
       "      <td>0</td>\n",
       "      <td>at 530 tries to hide the fact that began signi...</td>\n",
       "      <td>['#biden', '#oil', '#buildbackbetter']</td>\n",
       "      <td>530 try hide fact begin sign legislation shut ...</td>\n",
       "    </tr>\n",
       "  </tbody>\n",
       "</table>\n",
       "</div>"
      ],
      "text/plain": [
       "              tweet_id                 created_at  \\\n",
       "0  1551734038204923904  2022-07-26 00:59:59+00:00   \n",
       "1  1551734021591269377  2022-07-26 00:59:55+00:00   \n",
       "2  1551734013815029761  2022-07-26 00:59:53+00:00   \n",
       "3  1551733993740980224  2022-07-26 00:59:48+00:00   \n",
       "4  1551733979316887554  2022-07-26 00:59:45+00:00   \n",
       "\n",
       "                                               tweet  like_count  quote_count  \\\n",
       "0  $2.7 billion for climate change (slashing carb...        15.0          1.0   \n",
       "1  @nathaliejacoby1 Climate change. The rise in t...         2.0          0.0   \n",
       "2  @JacobsVegasLife @LasVegasLocally This is a ch...         8.0          0.0   \n",
       "3  Climate Change and Energy Minister Chris Bowen...        18.0          0.0   \n",
       "4  @Thebs15800518 At 5:30, @SecGranHolm tries to ...         0.0          0.0   \n",
       "\n",
       "  reply_count retweet_count  \\\n",
       "0           0             6   \n",
       "1           0             0   \n",
       "2           1             0   \n",
       "3           8             5   \n",
       "4           0             0   \n",
       "\n",
       "                                               clean  \\\n",
       "0  27 billion for climate change slashing carbon ...   \n",
       "1  climate change the rise in temperature will be...   \n",
       "2  this is a chilling podcast about what could ha...   \n",
       "3  climate change and energy minister chris bowen...   \n",
       "4  at 530 tries to hide the fact that began signi...   \n",
       "\n",
       "                                 hashtags  \\\n",
       "0                                      []   \n",
       "1                                      []   \n",
       "2                                      []   \n",
       "3                                      []   \n",
       "4  ['#biden', '#oil', '#buildbackbetter']   \n",
       "\n",
       "                                         clean_spacy  \n",
       "0  27 billion climate change slash carbon emissio...  \n",
       "1  climate change rise temperature bad secondary ...  \n",
       "2  chill podcast happen salt lake city great salt...  \n",
       "3  climate change energy minister chris bowen hit...  \n",
       "4  530 try hide fact begin sign legislation shut ...  "
      ]
     },
     "execution_count": 113,
     "metadata": {},
     "output_type": "execute_result"
    }
   ],
   "source": [
    "tweet_data = pd.read_csv('data_lg_clean.csv')\n",
    "tweet_data = tweet_data.dropna()\n",
    "tweet_data.head()"
   ]
  },
  {
   "cell_type": "code",
   "execution_count": 6,
   "id": "73586b60-c76d-4214-b384-ca7048c0ef0b",
   "metadata": {},
   "outputs": [],
   "source": [
    "# text = tweet_data['clean_spacy'][10]\n",
    "# text"
   ]
  },
  {
   "cell_type": "code",
   "execution_count": 7,
   "id": "a6642ef5-2da6-444a-85f9-eb421d874633",
   "metadata": {},
   "outputs": [],
   "source": [
    "# from nltk.tokenize import word_tokenize\n",
    "# token = word_tokenize(text)\n",
    "# token"
   ]
  },
  {
   "cell_type": "code",
   "execution_count": 8,
   "id": "175728a0-f7b6-4f3e-a93a-d9ec311ccfd9",
   "metadata": {},
   "outputs": [],
   "source": [
    "# from nltk.probability import FreqDist\n",
    "# fdist = FreqDist(token)\n",
    "# fdist"
   ]
  },
  {
   "cell_type": "code",
   "execution_count": 9,
   "id": "fc8dafae-db19-4290-8fa8-529c31a1cf20",
   "metadata": {},
   "outputs": [],
   "source": [
    "# fdist.most_common(10)"
   ]
  },
  {
   "cell_type": "code",
   "execution_count": 10,
   "id": "d595fc58-c177-4930-a5e3-0399eb5308a7",
   "metadata": {},
   "outputs": [],
   "source": [
    "# from nltk.stem import WordNetLemmatizer\n",
    "# lemmatizer = WordNetLemmatizer()"
   ]
  },
  {
   "cell_type": "code",
   "execution_count": 11,
   "id": "2dc39fdb-84b7-438a-bc64-a077aed4fa0a",
   "metadata": {},
   "outputs": [],
   "source": [
    "# # importing stopwords from nltk library\n",
    "# from nltk import word_tokenize\n",
    "# from nltk.corpus import stopwords\n",
    "# a = set(stopwords.words('english'))\n",
    "# # text = \"Cristiano Ronaldo was born on February 5, 1985, in Funchal, Madeira, Portugal.\"\n",
    "# text1 = word_tokenize(text.lower())\n",
    "# print(text1)\n",
    "# stopwords = [x for x in text1 if x not in a]\n",
    "# print(stopwords)"
   ]
  },
  {
   "cell_type": "code",
   "execution_count": 12,
   "id": "2b3d0678-0ff2-4a61-82ba-69099f988fde",
   "metadata": {},
   "outputs": [],
   "source": [
    "def sentiment_scores(sentence):\n",
    "    sid_obj = SentimentIntensityAnalyzer()\n",
    "    sentiment_dict = sid_obj.polarity_scores(sentence)\n",
    "    return sentiment_dict"
   ]
  },
  {
   "cell_type": "code",
   "execution_count": 13,
   "id": "155966e9-9322-482c-97ea-37a864ba2572",
   "metadata": {},
   "outputs": [
    {
     "data": {
      "text/plain": [
       "{'neg': 0.158, 'neu': 0.727, 'pos': 0.115, 'compound': -0.1779}"
      ]
     },
     "execution_count": 13,
     "metadata": {},
     "output_type": "execute_result"
    }
   ],
   "source": [
    "sentiment_scores(tweet_data['clean_spacy'][9])"
   ]
  },
  {
   "cell_type": "code",
   "execution_count": 20,
   "id": "b189212a-b7c8-463c-addb-f425472c4a59",
   "metadata": {},
   "outputs": [],
   "source": [
    "tweet_data['tmp'] = tweet_data['tweet'].apply(lambda x: sentiment_scores(x))\n",
    "tweet_data['neg'] = tweet_data['tmp'].apply(lambda x: x['neg'])\n",
    "tweet_data['pos'] = tweet_data['tmp'].apply(lambda x: x['pos'])\n",
    "tweet_data['neu'] = tweet_data['tmp'].apply(lambda x: x['neu'])\n",
    "tweet_data['compound'] = tweet_data['tmp'].apply(lambda x: x['compound'])"
   ]
  },
  {
   "cell_type": "code",
   "execution_count": 15,
   "id": "1472b77b-a84f-4506-a5a8-cf0cf4b9f557",
   "metadata": {},
   "outputs": [],
   "source": [
    "tweet_data[\"sentiment\"] = np.select([tweet_data[\"compound\"] < -0.05, (tweet_data[\"compound\"] < 0.05) & (tweet_data[\"compound\"] > -0.05), tweet_data[\"compound\"] > 0.05],\n",
    "                           ['neg', 'neu', 'pos'])"
   ]
  },
  {
   "cell_type": "code",
   "execution_count": 3,
   "id": "4e3f2f03-b1e1-4551-8478-a99a39b72487",
   "metadata": {},
   "outputs": [],
   "source": [
    "tweet_data = tweet_data[tweet_data['created_at']!='0']\n",
    "tweet_data['created_at'] = pd.to_datetime(tweet_data['created_at'], format=\"%Y-%m-%d %H:%M:%S\")\n",
    "tweet_data = tweet_data.set_index('created_at')"
   ]
  },
  {
   "cell_type": "code",
   "execution_count": 21,
   "id": "9b43d7ba-8fa4-4b76-97b3-51f1c0b3d2e1",
   "metadata": {},
   "outputs": [],
   "source": [
    "pos_df = tweet_data[tweet_data['sentiment']=='pos']\n",
    "neg_df = tweet_data[tweet_data['sentiment']=='neg']\n",
    "neu_df = tweet_data[tweet_data['sentiment']=='neu']"
   ]
  },
  {
   "cell_type": "code",
   "execution_count": 22,
   "id": "310802c2-290b-4c62-810d-a3f1f7bdff13",
   "metadata": {},
   "outputs": [],
   "source": [
    "pos = pos_df.resample('D').agg('count')['tweet']\n",
    "neg = neg_df.resample('D').agg('count')['tweet']\n",
    "neu = neu_df.resample('D').agg('count')['tweet']"
   ]
  },
  {
   "cell_type": "code",
   "execution_count": 23,
   "id": "783653b0-73de-44d4-89e1-389e8de8b8a3",
   "metadata": {},
   "outputs": [
    {
     "data": {
      "image/png": "[encoded data removed]",
      "text/plain": [
       "<Figure size 1440x360 with 1 Axes>"
      ]
     },
     "metadata": {
      "needs_background": "light"
     },
     "output_type": "display_data"
    }
   ],
   "source": [
    "import matplotlib.pyplot as plt\n",
    "width = 0.3\n",
    "plt.bar(np.arange(len(neg))-width/2, neg, width=width/2,label='negative sentiment')\n",
    "plt.bar(np.arange(len(pos)), pos, width=width/2, label='positive sentiment')\n",
    "plt.bar(np.arange(len(neu))+width/2, neu, width=width/2, label='neutral sentiment')\n",
    "plt.legend()\n",
    "plt.ylabel('Number of tweets')\n",
    "plt.xlabel('Date')\n",
    "plt.gcf().set_size_inches(20,5)"
   ]
  },
  {
   "cell_type": "code",
   "execution_count": 37,
   "id": "66ae4fb2-e37e-44c2-bc3f-b226711e5b2b",
   "metadata": {},
   "outputs": [],
   "source": [
    "tweet_data.to_csv('data_lg_clean_sentiment.csv')"
   ]
  },
  {
   "cell_type": "code",
   "execution_count": null,
   "id": "c3d40510-f413-4774-a194-22d51b3c692f",
   "metadata": {},
   "outputs": [],
   "source": []
  }
 ],
 "metadata": {
  "kernelspec": {
   "display_name": "Python 3 (ipykernel)",
   "language": "python",
   "name": "python3"
  },
  "language_info": {
   "codemirror_mode": {
    "name": "ipython",
    "version": 3
   },
   "file_extension": ".py",
   "mimetype": "text/x-python",
   "name": "python",
   "nbconvert_exporter": "python",
   "pygments_lexer": "ipython3",
   "version": "3.8.13"
  }
 },
 "nbformat": 4,
 "nbformat_minor": 5
}
