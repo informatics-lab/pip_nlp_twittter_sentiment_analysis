{
 "cells": [
  {
   "cell_type": "code",
   "execution_count": 1,
   "id": "03e5765e-433a-4447-ab24-e93b753e7703",
   "metadata": {},
   "outputs": [
    {
     "name": "stderr",
     "output_type": "stream",
     "text": [
      "/opt/anaconda3/envs/nlp/lib/python3.8/site-packages/past/builtins/misc.py:45: DeprecationWarning: the imp module is deprecated in favour of importlib; see the module's documentation for alternative uses\n",
      "  from imp import reload\n"
     ]
    }
   ],
   "source": [
    "import re\n",
    "import numpy as np\n",
    "import pandas as pd\n",
    "from pprint import pprint\n",
    "\n",
    "# Gensim\n",
    "import gensim\n",
    "import gensim.corpora as corpora\n",
    "from gensim.utils import simple_preprocess\n",
    "from gensim.models import CoherenceModel\n",
    "\n",
    "# spacy for lemmatization\n",
    "import spacy\n",
    "\n",
    "# Plotting tools\n",
    "import pyLDAvis\n",
    "import pyLDAvis.gensim_models  # don't skip this\n",
    "import matplotlib.pyplot as plt\n",
    "%matplotlib inline\n",
    "\n",
    "# # Enable logging for gensim - optional\n",
    "# import logging\n",
    "# logging.basicConfig(format='%(asctime)s : %(levelname)s : %(message)s', level=logging.ERROR)\n",
    "\n",
    "import warnings\n",
    "warnings.filterwarnings(\"ignore\",category=DeprecationWarning)"
   ]
  },
  {
   "cell_type": "code",
   "execution_count": 2,
   "id": "fe9cc3ac-d1aa-4918-9e89-98106616a5f0",
   "metadata": {},
   "outputs": [],
   "source": [
    "# NLTK Stop words\n",
    "from nltk.corpus import stopwords\n",
    "stop_words = stopwords.words('english')\n",
    "stop_words.extend(['from', 'subject', 're', 'edu', 'use'])"
   ]
  },
  {
   "cell_type": "code",
   "execution_count": 3,
   "id": "415364db-2b56-4f46-84ef-475ae1fbbdd1",
   "metadata": {},
   "outputs": [
    {
     "name": "stdout",
     "output_type": "stream",
     "text": [
      "['rec.autos' 'comp.sys.mac.hardware' 'comp.graphics' 'sci.space'\n",
      " 'talk.politics.guns' 'sci.med' 'comp.sys.ibm.pc.hardware'\n",
      " 'comp.os.ms-windows.misc' 'rec.motorcycles' 'talk.religion.misc'\n",
      " 'misc.forsale' 'alt.atheism' 'sci.electronics' 'comp.windows.x'\n",
      " 'rec.sport.hockey' 'rec.sport.baseball' 'soc.religion.christian'\n",
      " 'talk.politics.mideast' 'talk.politics.misc' 'sci.crypt']\n"
     ]
    },
    {
     "data": {
      "text/html": [
       "<div>\n",
       "<style scoped>\n",
       "    .dataframe tbody tr th:only-of-type {\n",
       "        vertical-align: middle;\n",
       "    }\n",
       "\n",
       "    .dataframe tbody tr th {\n",
       "        vertical-align: top;\n",
       "    }\n",
       "\n",
       "    .dataframe thead th {\n",
       "        text-align: right;\n",
       "    }\n",
       "</style>\n",
       "<table border=\"1\" class=\"dataframe\">\n",
       "  <thead>\n",
       "    <tr style=\"text-align: right;\">\n",
       "      <th></th>\n",
       "      <th>content</th>\n",
       "      <th>target</th>\n",
       "      <th>target_names</th>\n",
       "    </tr>\n",
       "  </thead>\n",
       "  <tbody>\n",
       "    <tr>\n",
       "      <th>0</th>\n",
       "      <td>From: lerxst@wam.umd.edu (where's my thing)\\nS...</td>\n",
       "      <td>7</td>\n",
       "      <td>rec.autos</td>\n",
       "    </tr>\n",
       "    <tr>\n",
       "      <th>1</th>\n",
       "      <td>From: guykuo@carson.u.washington.edu (Guy Kuo)...</td>\n",
       "      <td>4</td>\n",
       "      <td>comp.sys.mac.hardware</td>\n",
       "    </tr>\n",
       "    <tr>\n",
       "      <th>2</th>\n",
       "      <td>From: twillis@ec.ecn.purdue.edu (Thomas E Will...</td>\n",
       "      <td>4</td>\n",
       "      <td>comp.sys.mac.hardware</td>\n",
       "    </tr>\n",
       "    <tr>\n",
       "      <th>3</th>\n",
       "      <td>From: jgreen@amber (Joe Green)\\nSubject: Re: W...</td>\n",
       "      <td>1</td>\n",
       "      <td>comp.graphics</td>\n",
       "    </tr>\n",
       "    <tr>\n",
       "      <th>4</th>\n",
       "      <td>From: jcm@head-cfa.harvard.edu (Jonathan McDow...</td>\n",
       "      <td>14</td>\n",
       "      <td>sci.space</td>\n",
       "    </tr>\n",
       "  </tbody>\n",
       "</table>\n",
       "</div>"
      ],
      "text/plain": [
       "                                             content  target  \\\n",
       "0  From: lerxst@wam.umd.edu (where's my thing)\\nS...       7   \n",
       "1  From: guykuo@carson.u.washington.edu (Guy Kuo)...       4   \n",
       "2  From: twillis@ec.ecn.purdue.edu (Thomas E Will...       4   \n",
       "3  From: jgreen@amber (Joe Green)\\nSubject: Re: W...       1   \n",
       "4  From: jcm@head-cfa.harvard.edu (Jonathan McDow...      14   \n",
       "\n",
       "            target_names  \n",
       "0              rec.autos  \n",
       "1  comp.sys.mac.hardware  \n",
       "2  comp.sys.mac.hardware  \n",
       "3          comp.graphics  \n",
       "4              sci.space  "
      ]
     },
     "execution_count": 3,
     "metadata": {},
     "output_type": "execute_result"
    }
   ],
   "source": [
    "# Import Dataset\n",
    "df = pd.read_json('https://raw.githubusercontent.com/selva86/datasets/master/newsgroups.json')\n",
    "print(df.target_names.unique())\n",
    "df.head()"
   ]
  },
  {
   "cell_type": "code",
   "execution_count": 4,
   "id": "4726cadf-4c56-4517-8a39-af215b9a29ea",
   "metadata": {},
   "outputs": [
    {
     "name": "stdout",
     "output_type": "stream",
     "text": [
      "['From: (wheres my thing) Subject: WHAT car is this!? Nntp-Posting-Host: '\n",
      " 'rac3.wam.umd.edu Organization: University of Maryland, College Park Lines: '\n",
      " '15 I was wondering if anyone out there could enlighten me on this car I saw '\n",
      " 'the other day. It was a 2-door sports car, looked to be from the late 60s/ '\n",
      " 'early 70s. It was called a Bricklin. The doors were really small. In '\n",
      " 'addition, the front bumper was separate from the rest of the body. This is '\n",
      " 'all I know. If anyone can tellme a model name, engine specs, years of '\n",
      " 'production, where this car is made, history, or whatever info you have on '\n",
      " 'this funky looking car, please e-mail. Thanks, - IL ---- brought to you by '\n",
      " 'your neighborhood Lerxst ---- ']\n"
     ]
    }
   ],
   "source": [
    "# Convert to list\n",
    "data = df.content.values.tolist()\n",
    "\n",
    "# Remove Emails\n",
    "data = [re.sub('\\S*@\\S*\\s?', '', sent) for sent in data]\n",
    "\n",
    "# Remove new line characters\n",
    "data = [re.sub('\\s+', ' ', sent) for sent in data]\n",
    "\n",
    "# Remove distracting single quotes\n",
    "data = [re.sub(\"\\'\", \"\", sent) for sent in data]\n",
    "\n",
    "pprint(data[:1])"
   ]
  },
  {
   "cell_type": "code",
   "execution_count": 5,
   "id": "67eea328-ca11-48a9-a119-71560654e783",
   "metadata": {},
   "outputs": [
    {
     "name": "stdout",
     "output_type": "stream",
     "text": [
      "[['from', 'wheres', 'my', 'thing', 'subject', 'what', 'car', 'is', 'this', 'nntp', 'posting', 'host', 'rac', 'wam', 'umd', 'edu', 'organization', 'university', 'of', 'maryland', 'college', 'park', 'lines', 'was', 'wondering', 'if', 'anyone', 'out', 'there', 'could', 'enlighten', 'me', 'on', 'this', 'car', 'saw', 'the', 'other', 'day', 'it', 'was', 'door', 'sports', 'car', 'looked', 'to', 'be', 'from', 'the', 'late', 'early', 'it', 'was', 'called', 'bricklin', 'the', 'doors', 'were', 'really', 'small', 'in', 'addition', 'the', 'front', 'bumper', 'was', 'separate', 'from', 'the', 'rest', 'of', 'the', 'body', 'this', 'is', 'all', 'know', 'if', 'anyone', 'can', 'tellme', 'model', 'name', 'engine', 'specs', 'years', 'of', 'production', 'where', 'this', 'car', 'is', 'made', 'history', 'or', 'whatever', 'info', 'you', 'have', 'on', 'this', 'funky', 'looking', 'car', 'please', 'mail', 'thanks', 'il', 'brought', 'to', 'you', 'by', 'your', 'neighborhood', 'lerxst']]\n"
     ]
    }
   ],
   "source": [
    "def sent_to_words(sentences):\n",
    "    for sentence in sentences:\n",
    "        yield(gensim.utils.simple_preprocess(str(sentence), deacc=True))  # deacc=True removes punctuations\n",
    "\n",
    "data_words = list(sent_to_words(data))\n",
    "\n",
    "print(data_words[:1])"
   ]
  },
  {
   "cell_type": "code",
   "execution_count": 6,
   "id": "b070236e-5382-4515-a4ab-5e67bbd9baae",
   "metadata": {},
   "outputs": [
    {
     "name": "stdout",
     "output_type": "stream",
     "text": [
      "['from', 'wheres', 'my', 'thing', 'subject', 'what', 'car', 'is', 'this', 'nntp_posting_host', 'rac_wam_umd_edu', 'organization', 'university', 'of', 'maryland_college_park', 'lines', 'was', 'wondering', 'if', 'anyone', 'out', 'there', 'could', 'enlighten', 'me', 'on', 'this', 'car', 'saw', 'the', 'other', 'day', 'it', 'was', 'door', 'sports', 'car', 'looked', 'to', 'be', 'from', 'the', 'late', 'early', 'it', 'was', 'called', 'bricklin', 'the', 'doors', 'were', 'really', 'small', 'in', 'addition', 'the', 'front_bumper', 'was', 'separate', 'from', 'the', 'rest', 'of', 'the', 'body', 'this', 'is', 'all', 'know', 'if', 'anyone', 'can', 'tellme', 'model', 'name', 'engine', 'specs', 'years', 'of', 'production', 'where', 'this', 'car', 'is', 'made', 'history', 'or', 'whatever', 'info', 'you', 'have', 'on', 'this', 'funky', 'looking', 'car', 'please', 'mail', 'thanks', 'il', 'brought', 'to', 'you', 'by', 'your', 'neighborhood', 'lerxst']\n"
     ]
    }
   ],
   "source": [
    "# Build the bigram and trigram models\n",
    "bigram = gensim.models.Phrases(data_words, min_count=5, threshold=100) # higher threshold fewer phrases.\n",
    "trigram = gensim.models.Phrases(bigram[data_words], threshold=100)  \n",
    "\n",
    "# Faster way to get a sentence clubbed as a trigram/bigram\n",
    "bigram_mod = gensim.models.phrases.Phraser(bigram)\n",
    "trigram_mod = gensim.models.phrases.Phraser(trigram)\n",
    "\n",
    "# See trigram example\n",
    "print(trigram_mod[bigram_mod[data_words[0]]])"
   ]
  },
  {
   "cell_type": "code",
   "execution_count": 7,
   "id": "953e9d7a-557b-4705-9a75-d0b45629e11c",
   "metadata": {},
   "outputs": [],
   "source": [
    "# Define functions for stopwords, bigrams, trigrams and lemmatization\n",
    "def remove_stopwords(texts):\n",
    "    return [[word for word in simple_preprocess(str(doc)) if word not in stop_words] for doc in texts]\n",
    "\n",
    "def make_bigrams(texts):\n",
    "    return [bigram_mod[doc] for doc in texts]\n",
    "\n",
    "def make_trigrams(texts):\n",
    "    return [trigram_mod[bigram_mod[doc]] for doc in texts]\n",
    "\n",
    "def lemmatization(texts, allowed_postags=['NOUN', 'ADJ', 'VERB', 'ADV']):\n",
    "    \"\"\"https://spacy.io/api/annotation\"\"\"\n",
    "    texts_out = []\n",
    "    for sent in texts:\n",
    "        doc = nlp(\" \".join(sent)) \n",
    "        texts_out.append([token.lemma_ for token in doc if token.pos_ in allowed_postags])\n",
    "    return texts_out"
   ]
  },
  {
   "cell_type": "code",
   "execution_count": 8,
   "id": "c57a050c-dcbd-403a-bda3-acf511775c02",
   "metadata": {},
   "outputs": [
    {
     "name": "stdout",
     "output_type": "stream",
     "text": [
      "[['s', 'thing', 'car', 'nntp_poste', 'host', 'park', 'line', 'wonder', 'enlighten', 'car', 'see', 'day', 'door', 'sport', 'car', 'look', 'late', 'early', 'call', 'door', 'really', 'small', 'addition', 'separate', 'rest', 'body', 'know', 'tellme', 'model', 'name', 'engine', 'spec', 'year', 'production', 'car', 'make', 'history', 'info', 'funky', 'look', 'car', 'mail', 'thank', 'bring', 'neighborhood', 'lerxst']]\n"
     ]
    }
   ],
   "source": [
    "# Remove Stop Words\n",
    "data_words_nostops = remove_stopwords(data_words)\n",
    "\n",
    "# Form Bigrams\n",
    "data_words_bigrams = make_bigrams(data_words_nostops)\n",
    "\n",
    "# Initialize spacy 'en' model, keeping only tagger component (for efficiency)\n",
    "# python3 -m spacy download en\n",
    "nlp = spacy.load('en_core_web_sm', disable=['parser', 'ner'])\n",
    "\n",
    "# Do lemmatization keeping only noun, adj, vb, adv\n",
    "data_lemmatized = lemmatization(data_words_bigrams, allowed_postags=['NOUN', 'ADJ', 'VERB', 'ADV'])\n",
    "\n",
    "print(data_lemmatized[:1])"
   ]
  },
  {
   "cell_type": "code",
   "execution_count": 9,
   "id": "fc45e021-a170-4d42-a0a6-3eed011441c5",
   "metadata": {},
   "outputs": [
    {
     "name": "stdout",
     "output_type": "stream",
     "text": [
      "[[(0, 1), (1, 1), (2, 1), (3, 1), (4, 5), (5, 1), (6, 2), (7, 1), (8, 1), (9, 1), (10, 1), (11, 1), (12, 1), (13, 1), (14, 1), (15, 1), (16, 1), (17, 1), (18, 2), (19, 1), (20, 1), (21, 1), (22, 1), (23, 1), (24, 1), (25, 1), (26, 1), (27, 1), (28, 1), (29, 1), (30, 1), (31, 1), (32, 1), (33, 1), (34, 1), (35, 1), (36, 1), (37, 1), (38, 1), (39, 1)]]\n"
     ]
    }
   ],
   "source": [
    "# Create Dictionary\n",
    "id2word = corpora.Dictionary(data_lemmatized)\n",
    "\n",
    "# Create Corpus\n",
    "texts = data_lemmatized\n",
    "\n",
    "# Term Document Frequency\n",
    "corpus = [id2word.doc2bow(text) for text in texts]\n",
    "\n",
    "# View\n",
    "print(corpus[:1])"
   ]
  },
  {
   "cell_type": "code",
   "execution_count": 10,
   "id": "9fc09103-c246-454d-ba1c-8e696d4da16b",
   "metadata": {},
   "outputs": [
    {
     "data": {
      "text/plain": [
       "'addition'"
      ]
     },
     "execution_count": 10,
     "metadata": {},
     "output_type": "execute_result"
    }
   ],
   "source": [
    "id2word[0]"
   ]
  },
  {
   "cell_type": "code",
   "execution_count": 11,
   "id": "61b4be41-aa20-41a8-b4f9-abea3d85e12f",
   "metadata": {},
   "outputs": [
    {
     "data": {
      "text/plain": [
       "[[('addition', 1),\n",
       "  ('body', 1),\n",
       "  ('bring', 1),\n",
       "  ('call', 1),\n",
       "  ('car', 5),\n",
       "  ('day', 1),\n",
       "  ('door', 2),\n",
       "  ('early', 1),\n",
       "  ('engine', 1),\n",
       "  ('enlighten', 1),\n",
       "  ('funky', 1),\n",
       "  ('history', 1),\n",
       "  ('host', 1),\n",
       "  ('info', 1),\n",
       "  ('know', 1),\n",
       "  ('late', 1),\n",
       "  ('lerxst', 1),\n",
       "  ('line', 1),\n",
       "  ('look', 2),\n",
       "  ('mail', 1),\n",
       "  ('make', 1),\n",
       "  ('model', 1),\n",
       "  ('name', 1),\n",
       "  ('neighborhood', 1),\n",
       "  ('nntp_poste', 1),\n",
       "  ('park', 1),\n",
       "  ('production', 1),\n",
       "  ('really', 1),\n",
       "  ('rest', 1),\n",
       "  ('s', 1),\n",
       "  ('see', 1),\n",
       "  ('separate', 1),\n",
       "  ('small', 1),\n",
       "  ('spec', 1),\n",
       "  ('sport', 1),\n",
       "  ('tellme', 1),\n",
       "  ('thank', 1),\n",
       "  ('thing', 1),\n",
       "  ('wonder', 1),\n",
       "  ('year', 1)]]"
      ]
     },
     "execution_count": 11,
     "metadata": {},
     "output_type": "execute_result"
    }
   ],
   "source": [
    "# Human readable format of corpus (term-frequency)\n",
    "[[(id2word[id], freq) for id, freq in cp] for cp in corpus[:1]]"
   ]
  },
  {
   "cell_type": "code",
   "execution_count": 12,
   "id": "574e5f40-6683-4c12-807c-d27afc70000d",
   "metadata": {},
   "outputs": [
    {
     "data": {
      "text/plain": [
       "11314"
      ]
     },
     "execution_count": 12,
     "metadata": {},
     "output_type": "execute_result"
    }
   ],
   "source": [
    "len(corpus)"
   ]
  },
  {
   "cell_type": "code",
   "execution_count": 21,
   "id": "1994bbcf-f18b-4b34-ad21-bb1ad71b7a90",
   "metadata": {},
   "outputs": [],
   "source": [
    "# Build LDA model\n",
    "lda_model = gensim.models.ldamodel.LdaModel(corpus=corpus,\n",
    "                                           id2word=id2word,\n",
    "                                           num_topics=20, \n",
    "                                           random_state=100,\n",
    "                                           update_every=1,\n",
    "                                           chunksize=100,\n",
    "                                           passes=10,\n",
    "                                           alpha='auto',\n",
    "                                           per_word_topics=True)"
   ]
  },
  {
   "cell_type": "code",
   "execution_count": 22,
   "id": "8e10254d-6ba5-4262-ab3f-f03b82924022",
   "metadata": {},
   "outputs": [
    {
     "name": "stdout",
     "output_type": "stream",
     "text": [
      "[(0,\n",
      "  '0.024*\"kill\" + 0.023*\"live\" + 0.021*\"death\" + 0.017*\"die\" + '\n",
      "  '0.017*\"physical\" + 0.015*\"center\" + 0.014*\"bike\" + 0.014*\"attack\" + '\n",
      "  '0.012*\"israeli\" + 0.012*\"fire\"'),\n",
      " (1,\n",
      "  '0.621*\"ax\" + 0.018*\"slow\" + 0.014*\"brain\" + 0.014*\"review\" + 0.012*\"mb\" + '\n",
      "  '0.011*\"clipper_chip\" + 0.010*\"sc\" + 0.010*\"printer\" + 0.009*\"box\" + '\n",
      "  '0.008*\"mouse\"'),\n",
      " (2,\n",
      "  '0.075*\"space\" + 0.063*\"gun\" + 0.022*\"launch\" + 0.021*\"earth\" + '\n",
      "  '0.019*\"firearm\" + 0.017*\"orbit\" + 0.017*\"mission\" + 0.017*\"series\" + '\n",
      "  '0.015*\"vehicle\" + 0.015*\"year\"'),\n",
      " (3,\n",
      "  '0.150*\"com\" + 0.048*\"mount\" + 0.046*\"apple\" + 0.037*\"ram\" + '\n",
      "  '0.026*\"corporation\" + 0.025*\"frame\" + 0.025*\"task\" + 0.022*\"spring\" + '\n",
      "  '0.020*\"locate\" + 0.019*\"spacecraft\"'),\n",
      " (4,\n",
      "  '0.024*\"evidence\" + 0.019*\"believe\" + 0.016*\"claim\" + 0.016*\"reason\" + '\n",
      "  '0.014*\"man\" + 0.014*\"exist\" + 0.012*\"sense\" + 0.012*\"book\" + 0.012*\"life\" + '\n",
      "  '0.011*\"faith\"'),\n",
      " (5,\n",
      "  '0.024*\"thank\" + 0.024*\"line\" + 0.019*\"program\" + 0.018*\"file\" + '\n",
      "  '0.017*\"mail\" + 0.017*\"system\" + 0.014*\"card\" + 0.014*\"include\" + '\n",
      "  '0.014*\"send\" + 0.013*\"run\"'),\n",
      " (6,\n",
      "  '0.322*\"drive\" + 0.080*\"disk\" + 0.054*\"scsi\" + 0.036*\"gateway\" + '\n",
      "  '0.035*\"motherboard\" + 0.015*\"bank\" + 0.015*\"please_respond\" + '\n",
      "  '0.014*\"greatly_appreciate\" + 0.012*\"fast\" + 0.012*\"n\"'),\n",
      " (7,\n",
      "  '0.099*\"nhl\" + 0.070*\"cop\" + 0.026*\"enable\" + 0.025*\"police\" + 0.020*\"plot\" '\n",
      "  '+ 0.018*\"conservative\" + 0.015*\"row\" + 0.014*\"neat\" + 0.014*\"closely\" + '\n",
      "  '0.011*\"sharp\"'),\n",
      " (8,\n",
      "  '0.073*\"directory\" + 0.061*\"battery\" + 0.027*\"phase\" + 0.019*\"consult\" + '\n",
      "  '0.016*\"sustain\" + 0.014*\"weeks_ago\" + 0.013*\"scott_roby\" + 0.010*\"ave\" + '\n",
      "  '0.009*\"space_shuttle\" + 0.009*\"powerbook\"'),\n",
      " (9,\n",
      "  '0.196*\"window\" + 0.058*\"do\" + 0.056*\"monitor\" + 0.054*\"character\" + '\n",
      "  '0.040*\"section\" + 0.039*\"recommend\" + 0.029*\"usenet\" + 0.028*\"font\" + '\n",
      "  '0.023*\"workstation\" + 0.020*\"laboratory\"'),\n",
      " (10,\n",
      "  '0.095*\"season\" + 0.053*\"pen\" + 0.044*\"trade\" + 0.042*\"objective\" + '\n",
      "  '0.040*\"rational\" + 0.039*\"star\" + 0.030*\"morality\" + 0.030*\"past\" + '\n",
      "  '0.027*\"predict\" + 0.024*\"penguin\"'),\n",
      " (11,\n",
      "  '0.045*\"soldier\" + 0.042*\"armenian\" + 0.040*\"village\" + 0.037*\"greek\" + '\n",
      "  '0.027*\"turk\" + 0.027*\"turkish\" + 0.025*\"occupy\" + 0.019*\"terrorism\" + '\n",
      "  '0.017*\"northern\" + 0.014*\"inhabitant\"'),\n",
      " (12,\n",
      "  '0.053*\"upgrade\" + 0.047*\"pack\" + 0.043*\"library\" + 0.040*\"dog\" + '\n",
      "  '0.038*\"status\" + 0.034*\"clock\" + 0.028*\"floppy\" + 0.025*\"electrical\" + '\n",
      "  '0.025*\"ftp_site\" + 0.025*\"routine\"'),\n",
      " (13,\n",
      "  '0.031*\"write\" + 0.022*\"make\" + 0.021*\"know\" + 0.021*\"say\" + 0.020*\"think\" + '\n",
      "  '0.020*\"article\" + 0.019*\"people\" + 0.015*\"see\" + 0.012*\"thing\" + '\n",
      "  '0.012*\"way\"'),\n",
      " (14,\n",
      "  '0.092*\"team\" + 0.087*\"game\" + 0.061*\"play\" + 0.056*\"win\" + 0.044*\"year\" + '\n",
      "  '0.027*\"division\" + 0.023*\"score\" + 0.022*\"wing\" + 0.021*\"fan\" + '\n",
      "  '0.019*\"run\"'),\n",
      " (15,\n",
      "  '0.070*\"state\" + 0.059*\"government\" + 0.055*\"law\" + 0.037*\"right\" + '\n",
      "  '0.022*\"country\" + 0.021*\"protect\" + 0.018*\"pin\" + 0.017*\"crime\" + '\n",
      "  '0.017*\"watch\" + 0.016*\"citizen\"'),\n",
      " (16,\n",
      "  '0.047*\"line\" + 0.044*\"get\" + 0.034*\"go\" + 0.030*\"nntp_poste\" + '\n",
      "  '0.027*\"organization\" + 0.023*\"host\" + 0.021*\"m\" + 0.019*\"good\" + '\n",
      "  '0.015*\"look\" + 0.014*\"time\"'),\n",
      " (17,\n",
      "  '0.060*\"key\" + 0.047*\"system\" + 0.034*\"chip\" + 0.030*\"bit\" + '\n",
      "  '0.029*\"technology\" + 0.023*\"public\" + 0.023*\"phone\" + 0.022*\"datum\" + '\n",
      "  '0.021*\"cpu\" + 0.018*\"encryption\"'),\n",
      " (18,\n",
      "  '0.048*\"problem\" + 0.035*\"use\" + 0.015*\"talk\" + 0.014*\"work\" + 0.014*\"high\" '\n",
      "  '+ 0.014*\"science\" + 0.010*\"set\" + 0.010*\"value\" + 0.010*\"current\" + '\n",
      "  '0.010*\"reference\"'),\n",
      " (19,\n",
      "  '0.044*\"model\" + 0.040*\"device\" + 0.036*\"wire\" + 0.033*\"power\" + '\n",
      "  '0.032*\"replace\" + 0.030*\"bus\" + 0.026*\"unit\" + 0.025*\"internal\" + '\n",
      "  '0.023*\"ground\" + 0.022*\"external\"')]\n"
     ]
    }
   ],
   "source": [
    "# Print the Keyword in the 10 topics\n",
    "pprint(lda_model.print_topics())\n",
    "doc_lda = lda_model[corpus]"
   ]
  },
  {
   "cell_type": "code",
   "execution_count": 23,
   "id": "8ec390e8-1402-4397-b90e-e8dd5660c402",
   "metadata": {},
   "outputs": [
    {
     "name": "stdout",
     "output_type": "stream",
     "text": [
      "\n",
      "Perplexity:  -13.257142258081734\n",
      "\n",
      "Coherence Score:  0.484063757142487\n"
     ]
    }
   ],
   "source": [
    "# Compute Perplexity\n",
    "print('\\nPerplexity: ', lda_model.log_perplexity(corpus))  # a measure of how good the model is. lower the better.\n",
    "\n",
    "# Compute Coherence Score\n",
    "coherence_model_lda = CoherenceModel(model=lda_model, texts=data_lemmatized, dictionary=id2word, coherence='c_v')\n",
    "coherence_lda = coherence_model_lda.get_coherence()\n",
    "print('\\nCoherence Score: ', coherence_lda)"
   ]
  },
  {
   "cell_type": "code",
   "execution_count": 27,
   "id": "3d98075d-5c3d-4dd2-9eb9-e207070c8bb9",
   "metadata": {},
   "outputs": [
    {
     "name": "stderr",
     "output_type": "stream",
     "text": [
      "/opt/anaconda3/envs/nlp/lib/python3.8/site-packages/pyLDAvis/_prepare.py:246: FutureWarning: In a future version of pandas all arguments of DataFrame.drop except for the argument 'labels' will be keyword-only.\n",
      "  default_term_info = default_term_info.sort_values(\n"
     ]
    },
    {
     "data": {
      "text/html": [
       "\n",
       "<link rel=\"stylesheet\" type=\"text/css\" href=\"https://cdn.jsdelivr.net/gh/bmabey/pyLDAvis@3.3.1/pyLDAvis/js/ldavis.v1.0.0.css\">\n",
       "\n",
       "\n",
       "<div id=\"ldavis_el5186140446824150400645940580\"></div>\n",
       "<script type=\"text/javascript\">\n",
       "\n",
       "var ldavis_el5186140446824150400645940580_data = {\"mdsDat\": {\"x\": [0.33625234982805025, 0.3042770072059079, 0.2619115145564112, 0.2308749783942123, 0.19525592130628172, -0.010802452938041496, 0.09196027841353165, 0.09993817465935526, 0.02147181526693013, -0.0015912849481493536, -0.025515358833948395, -0.09299765316240519, -0.08604336329819857, -0.15177194310304853, -0.16232534925085307, -0.18289709042528823, -0.18935056312917664, -0.19889577108677384, -0.21581998989698967, -0.22393121955780743], \"y\": [-0.11520726525236563, -0.12514534390181034, 0.202373372078182, -0.0732705998180104, 0.1533471914670086, 0.012743374725432207, -0.18113131156193749, 0.3065642997231073, -0.09138196170488044, -0.057425785394558275, 0.010305779316259972, -0.016799117297734232, -0.07424280406943153, 0.0035639896612808886, 0.019765975947372245, 0.007964519769552838, 0.0051646149907977135, 0.006805251168882582, 0.0013462279107061966, 0.004659592242145322], \"topics\": [1, 2, 3, 4, 5, 6, 7, 8, 9, 10, 11, 12, 13, 14, 15, 16, 17, 18, 19, 20], \"cluster\": [1, 1, 1, 1, 1, 1, 1, 1, 1, 1, 1, 1, 1, 1, 1, 1, 1, 1, 1, 1], \"Freq\": [28.822363108200005, 17.01037310882233, 11.287769514444184, 9.72326099186806, 7.0793718992557055, 5.824931157592788, 4.8020854490928935, 3.5029801727129404, 2.8840299819724917, 1.9078471686247094, 1.7635039030879447, 1.3559525669678214, 1.1347630310850645, 0.7306660668369442, 0.5636205508755027, 0.4815681866912501, 0.40231203148027617, 0.37231050129018883, 0.21518843984609567, 0.13510216925280352]}, \"tinfo\": {\"Term\": [\"ax\", \"line\", \"get\", \"go\", \"drive\", \"problem\", \"year\", \"system\", \"write\", \"use\", \"nntp_poste\", \"right\", \"state\", \"do\", \"key\", \"window\", \"people\", \"team\", \"game\", \"organization\", \"make\", \"think\", \"article\", \"host\", \"government\", \"thank\", \"know\", \"law\", \"m\", \"say\", \"seem\", \"hear\", \"course\", \"far\", \"lot\", \"opinion\", \"rather\", \"wrong\", \"agree\", \"one\", \"religion\", \"perhaps\", \"patient\", \"internet\", \"difference\", \"mind\", \"suggest\", \"certainly\", \"effect\", \"care\", \"likely\", \"soon\", \"drug\", \"school\", \"goal\", \"risk\", \"learn\", \"sort\", \"serious\", \"worth\", \"university\", \"idea\", \"actually\", \"make\", \"consider\", \"think\", \"way\", \"point\", \"even\", \"question\", \"thing\", \"know\", \"give\", \"say\", \"people\", \"write\", \"see\", \"answer\", \"article\", \"many\", \"never\", \"try\", \"find\", \"mean\", \"case\", \"well\", \"tell\", \"take\", \"sure\", \"want\", \"also\", \"line\", \"time\", \"good\", \"organization\", \"car\", \"buy\", \"driver\", \"guy\", \"month\", \"sorry\", \"job\", \"anyway\", \"amount\", \"advice\", \"performance\", \"eat\", \"wait\", \"minute\", \"drop\", \"baseball\", \"owner\", \"dealer\", \"mile\", \"room\", \"sit\", \"ago\", \"door\", \"night\", \"insurance\", \"around\", \"stick\", \"mine\", \"kid\", \"ticket\", \"back\", \"big\", \"go\", \"get\", \"light\", \"nntp_poste\", \"pay\", \"week\", \"old\", \"lose\", \"host\", \"turn\", \"money\", \"m\", \"look\", \"ve\", \"move\", \"last\", \"couple\", \"line\", \"organization\", \"d\", \"good\", \"come\", \"s\", \"start\", \"year\", \"day\", \"next\", \"time\", \"new\", \"work\", \"re\", \"article\", \"well\", \"write\", \"want\", \"much\", \"take\", \"thank\", \"file\", \"mail\", \"card\", \"software\", \"machine\", \"email\", \"info\", \"sale\", \"copy\", \"player\", \"version\", \"entry\", \"image\", \"color\", \"screen\", \"graphic\", \"video\", \"tape\", \"instal\", \"server\", \"appreciate\", \"advance\", \"board\", \"package\", \"engineering\", \"format\", \"option\", \"version_pl\", \"program\", \"test\", \"keyword\", \"available\", \"computer\", \"address\", \"list\", \"send\", \"include\", \"memory\", \"information\", \"run\", \"system\", \"help\", \"support\", \"line\", \"need\", \"use\", \"also\", \"number\", \"evidence\", \"claim\", \"exist\", \"faith\", \"christian\", \"god\", \"accept\", \"argument\", \"discussion\", \"truth\", \"belief\", \"atheist\", \"church\", \"human\", \"event\", \"conclusion\", \"religious\", \"publish\", \"lie\", \"authority\", \"therefore\", \"family\", \"nature\", \"respect\", \"bible\", \"handle\", \"christianity\", \"future\", \"proof\", \"universe\", \"prove\", \"statement\", \"society\", \"life\", \"man\", \"sense\", \"word\", \"book\", \"believe\", \"study\", \"reason\", \"present\", \"whole\", \"world\", \"issue\", \"follow\", \"become\", \"come\", \"explain\", \"child\", \"fact\", \"say\", \"part\", \"problem\", \"science\", \"value\", \"error\", \"process\", \"faq\", \"newsgroup\", \"input\", \"main\", \"switch\", \"fine\", \"material\", \"signal\", \"blank\", \"fix\", \"track\", \"hole\", \"circuit\", \"plane\", \"range\", \"scripture\", \"wide\", \"crash\", \"actual\", \"data\", \"output\", \"topic\", \"apr\", \"prefer\", \"gmt\", \"function\", \"reference\", \"current\", \"level\", \"talk\", \"relate\", \"scientific\", \"use\", \"single\", \"possibility\", \"high\", \"design\", \"small\", \"require\", \"produce\", \"build\", \"set\", \"result\", \"work\", \"lead\", \"part\", \"sometimes\", \"bit\", \"first\", \"time\", \"ax\", \"slow\", \"brain\", \"review\", \"mb\", \"clipper_chip\", \"sc\", \"printer\", \"box\", \"mouse\", \"law_enforcement\", \"saturn\", \"headache\", \"dual\", \"specify\", \"export\", \"crypto\", \"distance\", \"ide\", \"hopefully\", \"brown\", \"pop\", \"reflect\", \"mph\", \"distribution_usa\", \"purdue_university\", \"programmer\", \"improvement\", \"bounce\", \"suitable\", \"death\", \"die\", \"physical\", \"bike\", \"israeli\", \"fire\", \"city\", \"reality\", \"shoot\", \"account\", \"direct\", \"dead\", \"trial\", \"concept\", \"fight\", \"arab\", \"race\", \"bomb\", \"stay\", \"withdraw\", \"step\", \"foot\", \"building\", \"wife\", \"house\", \"electronic\", \"blood\", \"rider\", \"club\", \"impression\", \"kill\", \"black\", \"white\", \"war\", \"center\", \"live\", \"attack\", \"notice\", \"land\", \"young\", \"force\", \"murder\", \"report\", \"child\", \"leave\", \"area\", \"stop\", \"key\", \"chip\", \"phone\", \"cpu\", \"encryption\", \"security\", \"distribution\", \"self\", \"originator\", \"clipper\", \"master\", \"ride\", \"controller\", \"quality\", \"license\", \"secure\", \"motif\", \"tap\", \"secret\", \"interface\", \"listen\", \"procedure\", \"link\", \"blind\", \"helmet\", \"facility\", \"register\", \"compile\", \"privacy\", \"somehow\", \"technology\", \"datum\", \"access\", \"block\", \"bit\", \"public\", \"system\", \"private\", \"obtain\", \"digital\", \"message\", \"use\", \"provide\", \"information\", \"law\", \"protect\", \"pin\", \"crime\", \"watch\", \"citizen\", \"weapon\", \"bear\", \"united_state\", \"criminal\", \"count\", \"vote\", \"processor\", \"bill\", \"court\", \"aware\", \"protection\", \"draft\", \"agent\", \"ban\", \"gun_control\", \"restrict\", \"violation\", \"remind\", \"connector\", \"restriction\", \"penalty\", \"million\", \"danger\", \"neighbor\", \"national\", \"government\", \"state\", \"policy\", \"meet\", \"arm\", \"country\", \"official\", \"transfer\", \"right\", \"industry\", \"rate\", \"talk\", \"power\", \"team\", \"game\", \"play\", \"win\", \"division\", \"score\", \"wing\", \"fan\", \"generate\", \"cycle\", \"stat\", \"ice\", \"european\", \"rd\", \"canadian\", \"offense\", \"blue\", \"pitch\", \"cylinder\", \"widget\", \"hr\", \"brave\", \"coverage\", \"twice\", \"staff\", \"hitter\", \"era\", \"deficit\", \"investment\", \"starter\", \"final\", \"defense\", \"year\", \"hit\", \"run\", \"pick\", \"first\", \"last\", \"second\", \"total\", \"next\", \"space\", \"gun\", \"launch\", \"firearm\", \"orbit\", \"mission\", \"series\", \"vehicle\", \"moon\", \"satellite\", \"flight\", \"rocket\", \"channel\", \"mirror\", \"planet\", \"mar\", \"shuttle\", \"fuel\", \"conference\", \"collect\", \"tie\", \"astronomy\", \"confirm\", \"specification\", \"radiation\", \"sky\", \"usage\", \"speaker\", \"ammunition\", \"training\", \"earth\", \"safety\", \"research\", \"year\", \"increase\", \"development\", \"project\", \"report\", \"model\", \"device\", \"wire\", \"replace\", \"bus\", \"unit\", \"internal\", \"external\", \"air\", \"cable\", \"warranty\", \"benefit\", \"ensure\", \"zone\", \"band\", \"serial\", \"nuclear\", \"dept\", \"acquire\", \"spec\", \"production\", \"middle\", \"trace\", \"wiring\", \"power_supply\", \"heat\", \"panel\", \"amp\", \"customer\", \"reserve_university\", \"hot\", \"ground\", \"component\", \"radio\", \"power\", \"soldier\", \"armenian\", \"village\", \"turk\", \"turkish\", \"occupy\", \"northern\", \"inhabitant\", \"lock\", \"escape\", \"troop\", \"distribution_world\", \"aged\", \"muslim\", \"serdar_argic\", \"crack\", \"genocide\", \"render\", \"exclude\", \"nazi\", \"massacre\", \"moslem\", \"foreign\", \"slaughter\", \"region\", \"soviet\", \"occupation\", \"hi\", \"wound\", \"kurd\", \"greek\", \"russian\", \"terrorism\", \"territory\", \"town\", \"close\", \"people\", \"window\", \"monitor\", \"character\", \"recommend\", \"usenet\", \"font\", \"workstation\", \"laboratory\", \"trivial\", \"unix\", \"menu\", \"unable\", \"afford\", \"click\", \"ms_window\", \"upper\", \"flag\", \"enhancement\", \"controversial\", \"in\", \"inferior\", \"user_interface\", \"section\", \"alavi\", \"helpful\", \"do\", \"application\", \"document\", \"avoid\", \"transfer\", \"display\", \"top\", \"normal\", \"drive\", \"disk\", \"scsi\", \"gateway\", \"motherboard\", \"bank\", \"please_respond\", \"greatly_appreciate\", \"n\", \"simms\", \"impressive\", \"meg\", \"simm\", \"purchasing\", \"hassle\", \"dinner\", \"australian\", \"interactive\", \"bk\", \"visualization\", \"involved\", \"ns\", \"silverline\", \"fast\", \"pc\", \"memory\", \"plug\", \"slave\", \"jumper\", \"cp_ut\", \"com\", \"mount\", \"apple\", \"ram\", \"corporation\", \"frame\", \"task\", \"spring\", \"locate\", \"spacecraft\", \"up\", \"fee\", \"tip\", \"restore\", \"giant\", \"rob\", \"unique\", \"paint\", \"cooperation\", \"vms_vnews\", \"diagnostic\", \"cmu\", \"excellent_condition\", \"po_andrew\", \"tail\", \"peripheral\", \"absurd\", \"io\", \"thunder\", \"digital_equipment\", \"season\", \"pen\", \"rational\", \"morality\", \"past\", \"predict\", \"penguin\", \"leafs\", \"camera\", \"captain\", \"objective\", \"flyer\", \"koresh\", \"playing\", \"atom\", \"mathematical\", \"evolve\", \"comprise\", \"outer\", \"explode\", \"sunlight\", \"team_captain\", \"cosmic\", \"squad\", \"clinton_gore\", \"comprehend\", \"star\", \"trade\", \"moral\", \"reluctant\", \"upgrade\", \"pack\", \"library\", \"dog\", \"status\", \"clock\", \"floppy\", \"electrical\", \"ftp_site\", \"routine\", \"regularly\", \"sad\", \"length\", \"scare\", \"brief\", \"please\", \"alarm\", \"intelligence\", \"excerpt\", \"pseudo\", \"satisfactory\", \"functionality\", \"chase\", \"dod_fxwg\", \"lady_cb\", \"wide_glide\", \"wild_corn\", \"si\", \"pegasus\", \"ripem\", \"nhl\", \"cop\", \"enable\", \"plot\", \"conservative\", \"row\", \"neat\", \"closely\", \"sharp\", \"fatal\", \"hype\", \"void\", \"manifest\", \"compiler\", \"physics_laboratory\", \"ist\", \"ists_ca\", \"solar_terresterial\", \"deepak_chhabra\", \"bee\", \"initialize\", \"radar\", \"police\", \"hockey\", \"admiral\", \"franchise\", \"league\", \"radar_detector\", \"assertion\", \"arena\", \"slave\", \"playoff\", \"jumper\", \"directory\", \"battery\", \"phase\", \"consult\", \"sustain\", \"weeks_ago\", \"scott_roby\", \"ave\", \"space_shuttle\", \"powerbook\", \"ssf\", \"batf_fbi\", \"switchover\", \"inverter\", \"dock\", \"ctrl_key\", \"electrolyte\", \"construct_home\", \"copper\", \"metal\", \"beast\", \"usr_user\", \"devguide\", \"lamp\", \"standby\", \"discharge\", \"timer\", \"obtainable\", \"grade\", \"ooo\", \"slot\", \"kick\", \"equipment\", \"rlk\", \"select\", \"slave\"], \"Freq\": [46130.0, 17429.0, 10572.0, 7849.0, 2315.0, 4367.0, 4842.0, 5006.0, 13813.0, 6290.0, 7098.0, 3953.0, 2862.0, 2220.0, 2697.0, 1823.0, 8018.0, 2243.0, 2125.0, 9354.0, 8289.0, 7749.0, 9855.0, 5773.0, 2249.0, 3448.0, 8601.0, 2031.0, 5804.0, 9015.0, 3115.4712634538705, 2090.7866299150814, 2069.1833318156564, 2008.3726787906082, 1982.2745566987537, 1615.5048276977313, 1593.907007542007, 1493.333159491423, 1404.6488458724264, 1223.0571520052968, 1110.6486345530059, 1071.3550876069621, 1012.7546992724062, 975.4696746214905, 954.6650435951003, 953.3986114857202, 866.3182226638089, 822.3297355945078, 813.0132084378646, 800.1813820968309, 787.3350905607117, 746.7747691338067, 710.0719471868653, 705.8962134150204, 673.5474579852532, 678.058544623045, 642.1210941225809, 611.8026871698753, 590.8124480041778, 568.4917960585296, 1756.149491549812, 1670.9036147176507, 1518.9064261024234, 7904.405710819694, 1716.895231731249, 7376.533937215124, 4305.251533739993, 3688.030389913974, 3927.635305025206, 3409.4512748558936, 4349.930327308493, 7699.996241616049, 3834.1302297635693, 7606.323404328567, 6816.202608210146, 11221.617657780367, 5356.761999954169, 1290.5810250359477, 7233.856785064223, 3332.528277548732, 2213.8541131022475, 3270.487141419842, 3129.4756265255337, 2552.445470890952, 2488.045052884328, 3889.130154007758, 2475.9227058454467, 2933.752806545784, 2173.192706495485, 2735.883659749678, 2957.8619215169456, 3836.715134447489, 2672.9790627449142, 2449.540415424102, 2411.0633388681213, 2239.9345080092794, 1747.920561783266, 1418.3329008793291, 811.8466220647991, 809.7767123344402, 746.1042562980344, 667.7996257549405, 634.755680979772, 586.5466266223763, 545.7226379871065, 533.9741221332283, 508.4965420362152, 503.83035447245294, 503.3394985360536, 468.4280078137119, 414.7612436462391, 411.50695516885753, 404.8122803166266, 399.1452103718982, 398.0603970309313, 383.3237318888163, 357.93768528534594, 354.2734156635971, 352.27382305410543, 346.5587889525786, 344.5852116572009, 338.0595858315378, 328.6665924963691, 437.1090046522336, 267.138227721927, 2619.653426635011, 1517.4616537792792, 7307.3778313304765, 9613.00348272106, 847.6961290352626, 6437.86258257505, 1264.7548532663918, 1215.1336977619235, 1876.2929524756476, 1245.7912552476569, 4886.861682748976, 1158.511139274544, 1268.5266191763633, 4563.383933054195, 3321.268161796701, 2363.130709950918, 973.2718987179767, 1785.4014057517825, 825.0545212677127, 10154.67647083132, 5904.772324424448, 1727.4378714809661, 4033.5565509603907, 3059.750706863414, 2745.085632195954, 1653.1114623600452, 2864.383679264684, 1816.378320161455, 1304.6667904524809, 3115.5921997452974, 2135.957914983326, 2261.0722790755212, 1539.393422335315, 2621.020973399465, 2147.696428832943, 2552.0097707854843, 1749.6586878571188, 1649.3278758995832, 1625.1429285654106, 3447.33544022372, 2580.067031921564, 2504.0866009576303, 2055.7771991441973, 1580.6365673967457, 1494.8252503736217, 1389.8750878354658, 1290.2957837649226, 1279.8593755158054, 1234.6600134298421, 1190.0905767752959, 1154.9147790892941, 1142.7041747336398, 1116.4383089080861, 982.9953506747104, 951.101587843437, 912.3490392324102, 912.0730278444638, 797.5597444847809, 773.1043444186378, 772.8351042597859, 741.6314704611868, 713.4048309986965, 708.9881124565763, 675.1078319094322, 665.9705610602724, 637.472200889658, 627.2202918729013, 584.5439165643455, 2767.155153219944, 1146.2415720796694, 1121.5253791305745, 1497.8251059881588, 1884.1332457825822, 1350.327489661734, 1556.9434334177897, 1952.0429080006968, 2031.236521816585, 967.1033430314891, 1712.7964782794975, 1932.3473467787164, 2493.7578619553046, 1669.3403389551038, 1294.8247304011459, 3432.648443191854, 1804.1480015394723, 1931.6863139185873, 1850.3297952210069, 1447.5933128055697, 2933.71344851665, 2038.4147928382242, 1711.7592304609775, 1397.9005458466715, 1191.6354952710074, 1021.36573475945, 1013.756630576785, 944.2651121850671, 923.9616360069493, 913.8457316242152, 901.7570387777287, 801.2315672180555, 749.0034638145354, 737.3554013939272, 712.9697124314727, 660.8475220294022, 617.8068806289509, 600.9693121362219, 556.2545061163455, 541.7009393724355, 484.3393760079761, 477.29437117000055, 477.1048076873078, 451.3125952205963, 428.73063239269896, 418.39221830735545, 404.02082308093344, 363.0984994592036, 362.1522412884002, 348.64105713781976, 953.261884585744, 673.0736592289151, 457.5437331395805, 1440.2149266657539, 1769.9505130448088, 1503.47051391105, 1151.0335093913939, 1441.6605178611126, 2372.5159121679803, 682.7656228572098, 1958.9100490804447, 699.82281356614, 795.7540632515893, 1023.5075566775336, 1085.1537744984028, 1128.1060588147657, 881.226606167933, 1346.3868643302474, 760.3344802275326, 846.8787425991123, 897.156464433407, 1060.103443914528, 811.8967292653414, 4365.935334751433, 1227.4769912990719, 926.2455437436462, 857.9209580177422, 724.4022533304482, 679.3719193543263, 653.6966005760204, 652.5985909981915, 598.2807963653664, 522.9589539226068, 519.8724680885674, 492.468564192925, 474.55470233355163, 449.9192424381929, 431.82823750034083, 419.67545706532985, 390.4184254939713, 377.32261990725834, 352.47999553346034, 350.32532938461105, 350.30201444584617, 346.5745675179711, 338.6136406810933, 334.52991037427466, 328.5312015803366, 317.0571192230052, 313.4865067795179, 312.94965350963514, 307.60395221161764, 286.27191850477516, 735.0217559349809, 880.1191343415138, 910.460258006966, 819.233044227684, 1388.7470744608236, 566.4974681920054, 449.82657133803457, 3156.2135207690867, 821.6278605528283, 486.3555512312099, 1227.94202867101, 651.9335791469645, 776.4933346591964, 814.8193097785819, 577.6509228386936, 795.928364876795, 926.716719945268, 687.5091903808884, 1238.3944373771626, 670.0274853125438, 812.6216087517779, 589.5211068743562, 653.3256218479364, 654.0000101308037, 612.8443288546325, 46128.983618061335, 1362.7562253847527, 1068.4027671649724, 1038.0438126624567, 878.4406706375269, 802.0937063492793, 762.0540342705731, 748.1738876962111, 647.3164618875614, 596.6132624803079, 584.2248362277606, 472.2338586856244, 462.5471213651044, 438.9092114063816, 405.8010673456071, 377.4493170184021, 350.4071724489311, 311.7249527165081, 301.64959592442295, 281.56847266047464, 274.72189568967434, 273.55730003743895, 270.46488126370804, 269.7861550905664, 264.9599461612684, 259.50894658417104, 248.5456429072653, 245.07380725962233, 238.8913049578056, 211.14766989468282, 1280.1087304886692, 1049.7386147718337, 1049.0967735530362, 848.7768285993835, 765.5295889990333, 753.3310121699329, 649.6260249202128, 632.7351963299096, 529.5314977960437, 488.2172189956498, 475.93541728757447, 472.98974713660607, 435.5351005319887, 429.69909136960337, 424.66364393715156, 419.49100950405915, 407.8627712304285, 392.83198160764624, 378.83833711818903, 372.6057120658021, 372.2634575943495, 362.76538262983365, 356.27278678517257, 355.26399173056615, 351.28445638495737, 339.69178405515186, 326.136795713273, 306.21595976599434, 303.80104073663097, 286.6462198640141, 1444.788120142433, 741.9701602021246, 618.0139188341443, 740.1444607665728, 916.0460322847946, 1403.5458859082798, 848.1530698251613, 502.5281333801435, 455.15634973192255, 634.746854028284, 656.2510447241201, 490.6461419371367, 724.232422922212, 681.1384779126766, 685.926617968298, 591.4737388029432, 547.1334741356134, 2696.5851416308196, 1521.753026935032, 1015.3614466487746, 952.1532001729119, 803.5798915387572, 707.6793171597434, 588.6665855982704, 583.0083957018221, 577.5913401750184, 539.8041072696175, 522.0608203507959, 516.2084746357517, 479.37645839809267, 475.9896752032484, 473.64540805621755, 467.6780918039296, 429.6441902974494, 424.2167736907421, 412.8495455458685, 366.77719368620376, 350.6905976721336, 298.1931487547199, 297.2024797171873, 271.8738628452236, 264.14025293932406, 240.07402338509652, 237.97030805703307, 232.71251772433038, 219.53773885466276, 217.84998551558178, 1290.8980136560754, 993.9310716609542, 555.4973567442137, 517.3827719689258, 1353.3740771520816, 1047.6190253036, 2087.1847036009813, 474.7106435804461, 327.1079892069821, 347.397750774006, 519.1700374469206, 735.6363402715971, 508.7929373996649, 475.6717689764864, 2029.9584149274153, 765.9074300931143, 644.2662780434408, 624.7288184371895, 608.2911323171503, 588.6097872017137, 557.7968424435317, 488.2286098539654, 432.42189568895816, 422.85635277987467, 391.3439531547799, 388.5760070595124, 388.05490170708015, 375.85135502090515, 353.9965507723178, 336.4695485723833, 318.57834474193754, 268.78799759278, 261.7718318388209, 232.20043060340652, 226.0187665442667, 215.2706731711814, 207.93652044192308, 205.14401103473037, 185.5240056821977, 185.07847448054224, 180.16139275486708, 156.7580378429018, 150.12805051805924, 134.98826307855197, 501.5014999410226, 2166.754205456651, 2559.0635276026997, 458.48562514884776, 455.4348412526677, 337.13834212245774, 806.6020205206778, 328.9586564760092, 372.5245507562716, 1345.5287580529407, 286.7499108734539, 476.08350809128325, 547.553530269277, 332.33862986213217, 2242.217255354171, 2124.235802416253, 1486.0698670580923, 1350.6388631895322, 661.5668009831679, 554.2436594319353, 528.62203087289, 504.4946898558763, 320.37841272393604, 273.7411673235348, 268.4539376183135, 257.25045240987555, 234.80198659610778, 211.4164636164835, 201.6703030924415, 200.06941022710086, 200.0304303894963, 181.79176437432434, 178.86261087991218, 178.56015453533638, 169.31954210859877, 161.15216698967455, 154.78219297554972, 134.94612415026452, 132.39212893009994, 118.54961806504839, 114.52909710579749, 103.35745298563533, 103.00720101460138, 102.07047245784095, 294.7645574697155, 230.11024189838494, 1064.6750692057706, 254.9020305076824, 458.96206959763856, 233.96761410710374, 336.41780004114486, 256.529302751495, 190.16157402778504, 171.8927666265584, 171.9995079260453, 1679.3039344176177, 1424.8042537253386, 489.57532913621424, 433.7613231158504, 392.0420296722738, 385.5252465961519, 377.86080148562075, 337.317533789712, 308.935260523686, 298.8523375258374, 274.85311682994916, 261.4453549539683, 243.86404235149823, 243.48071326071494, 242.33510413908226, 206.6589365186793, 206.02586430421064, 202.29924106839636, 184.17225168108476, 179.94348179052616, 175.43961111387478, 173.03804880887373, 169.2636953510063, 162.2952190938354, 154.86806346774867, 149.87306483145935, 144.67811668035904, 142.37983893091334, 141.51421150023992, 139.57168468167717, 480.11592602399685, 317.802188818994, 247.84973061085026, 333.7114458612023, 178.89944995514998, 164.80150089852637, 164.4092269735027, 166.07519711374857, 763.6344117839003, 687.9075998291285, 614.2017553064209, 545.0374178701134, 525.8762073822215, 449.7410205846756, 426.6413460849857, 386.1839851131452, 358.67942242018466, 311.85760540101114, 300.74846958183366, 257.78912412718324, 248.96576960731176, 222.70757646979436, 218.43170470354207, 200.80520984805722, 200.259410766167, 199.98646290446274, 197.3443643269423, 195.43820701869663, 190.39508213121903, 185.32744251191602, 185.1759247180383, 171.9279188143904, 168.29584062965117, 163.6553887353641, 152.00438392270996, 142.48954323201193, 140.91293350139338, 139.52324457421392, 300.18885076281714, 399.65265581706143, 156.7891054969973, 256.2312950649671, 564.3526427244408, 653.9083395633583, 608.864227031429, 577.3395488204023, 389.75895449794984, 386.198942652304, 355.09234402827866, 246.75220056945594, 204.15695929393834, 188.39251738936738, 182.49320898948727, 177.19821268802215, 159.5882276233314, 157.2838429252466, 153.2707991980066, 152.92746333392006, 149.75443391228828, 146.80717232025034, 132.0839124978031, 127.92762232450103, 124.07580667116231, 123.09936653694827, 122.59147316711915, 121.50481131563306, 119.03398198444629, 106.69683969396901, 94.89920015659135, 84.38433544178827, 78.27156597859401, 69.20116246262552, 66.26057995349187, 531.5760094211327, 183.76246389247962, 269.8032186342696, 107.79250583885582, 135.16560495523836, 134.1256629853794, 132.26918796605602, 1822.5700326825292, 518.9356918146694, 505.4292428114473, 361.70141281980057, 273.92431861955504, 258.4594970021474, 218.88088680268135, 182.87011217581232, 134.49075931143383, 124.34074308265721, 121.92233048352999, 109.38725637719679, 81.91798106926213, 81.705354483512, 71.91514048807161, 71.72715022217011, 69.61198090683061, 51.93275468678757, 44.89437899535552, 23.1460980669823, 7.827714352863738, 7.3541958881070775, 370.3647180618477, 1.2042128284678117, 39.69000524864595, 539.6026348888445, 176.05026502450667, 44.97830391865174, 60.0131508010581, 24.188020847193236, 35.28303978407593, 19.578110605853585, 11.34861745407037, 2314.6987422946067, 575.3927110065987, 388.105195528154, 257.9018688162348, 248.52248404493918, 109.79477926507198, 105.02255680955982, 99.78096341156531, 83.51022742321507, 81.15875981081659, 76.98244503182069, 59.28794984843414, 51.315281983472005, 33.046946058774246, 30.359878255976202, 29.063375514492783, 29.03416829215294, 22.61594562297627, 19.827338786181297, 18.445037109204318, 18.23839057140939, 14.518756238633348, 4.119285794390236, 87.59086971917685, 65.59561188313182, 65.77665983877974, 7.630692298637508, 0.04720163563087661, 0.047170386544385455, 0.04715326966847085, 921.5917510096035, 297.4537906551336, 280.08812228352394, 227.44582652801736, 162.24835735274974, 151.9544091012011, 151.57355684704658, 134.49820980685038, 124.06781876690175, 117.22214565448843, 110.22475630721244, 92.32429993451534, 81.5114892530224, 79.3074794449298, 78.91745168211382, 75.44696426110035, 71.07636744894468, 70.46229481565774, 65.59929238625065, 64.99386326517536, 58.66453561025554, 55.664527544212056, 48.33915952542373, 48.32092863633139, 48.25402293227612, 44.155576626556936, 34.99240971067649, 27.036986283538784, 17.335364595341517, 16.216581781753998, 485.2229678012919, 272.2496860113833, 206.99646040391193, 155.51088438801875, 153.59092860538425, 136.37788755208197, 121.66529937395498, 89.53333489540677, 85.53319523662735, 80.36158596980728, 214.86765116080795, 64.83003190093599, 61.18966471781102, 44.451362951353225, 36.70414968538696, 32.23731368540188, 32.01321036229654, 31.081444906854923, 28.122271731039163, 22.933288650273823, 21.096624905392602, 20.923228459708874, 17.549691852345315, 13.161857602266094, 12.002571886029447, 7.422160939332834, 200.13240127845089, 223.32980487533624, 117.42168259431637, 0.36923047106791035, 251.65785562613456, 221.65605348847419, 204.33428379263503, 190.76699828486133, 179.48509481950282, 159.37005681819403, 134.49029029697093, 120.02723388152894, 119.59572515037063, 118.92546918806697, 104.3174237161292, 98.91051361564116, 97.79258890471836, 70.4497907128962, 64.89744487781618, 63.701117104620394, 62.27500219753587, 60.850974736603916, 46.18639131633031, 38.131710560740366, 29.04605916738196, 28.61564059613171, 17.37371482038379, 12.317550955470935, 12.314783541424381, 12.314783541424381, 12.282601711359234, 7.798335623656754, 0.045438202361021834, 0.04543997311074574, 271.9032440189321, 192.73258485522524, 71.75234889968355, 55.10041460177401, 48.08084383763166, 40.23466159206075, 39.72650082845214, 37.514566609976264, 29.741308868175448, 25.593913995939353, 21.384186042043, 19.398889341181462, 17.876379122796255, 14.963028709990963, 9.171553597000159, 8.609342328174241, 8.135739482078327, 8.135739482078327, 6.673858669032343, 4.705522046775541, 2.6323072443939766, 20.219167952264396, 67.55168890039916, 0.0354377460535056, 0.035432154467680756, 0.035431962256918026, 0.0354319198207756, 0.03543074908249352, 0.035430626766553605, 0.035430476991933295, 0.03543349744677619, 0.035431315729807025, 0.0354313706471678, 125.02837420627816, 105.23174260059015, 47.08984752477655, 32.46896525298836, 27.55862669926919, 23.671367087294566, 23.140062471674348, 17.493188220343928, 15.335569749149482, 15.087685369244282, 14.501074938562054, 8.127848468509477, 0.026080012756491404, 0.026080012756491404, 0.026080083281455883, 0.026080078579791586, 0.026079851332683812, 0.026079810584926554, 0.026080003353162805, 0.026080346574656615, 0.026079912454319697, 0.026079815286590854, 0.026079860736012407, 0.026079688341654788, 0.02607958333781878, 0.02607974476162637, 0.026079888945998202, 0.026079429750118354, 0.02607987327378387, 0.026079354523489574, 0.026079890513219635, 0.02607959430836881, 0.026079837227690916, 0.026079929693755458, 0.026079956336519817, 0.026080261944699236], \"Total\": [46130.0, 17429.0, 10572.0, 7849.0, 2315.0, 4367.0, 4842.0, 5006.0, 13813.0, 6290.0, 7098.0, 3953.0, 2862.0, 2220.0, 2697.0, 1823.0, 8018.0, 2243.0, 2125.0, 9354.0, 8289.0, 7749.0, 9855.0, 5773.0, 2249.0, 3448.0, 8601.0, 2031.0, 5804.0, 9015.0, 3116.6604291640347, 2091.9757956252456, 2070.3724975258206, 2009.5618445007715, 1983.463722408917, 1616.6939934078946, 1595.0961732521703, 1494.5223252015862, 1405.8380115891714, 1224.2463177220418, 1111.8378002631691, 1072.5442565176108, 1013.9438650156306, 976.6588403449174, 955.8542093976519, 954.5877771958837, 867.5073883739725, 823.5189013046714, 814.2023741531424, 801.3705478069945, 788.5242562759895, 747.9639348439703, 711.2611128970289, 707.085379125184, 674.7366237136457, 679.2811009796785, 643.3102598327445, 612.9918528800389, 592.0016137143414, 569.6809617686932, 1765.5719526579517, 1688.50982445956, 1535.6829794993296, 8289.813329131784, 1747.2482402176508, 7749.030718839224, 4493.241776154437, 3835.7131780717395, 4134.785696829126, 3590.858738618377, 4665.284799829838, 8601.22675710017, 4163.097221715347, 9015.440136221865, 8018.769895246168, 13813.195077708884, 6203.844886465909, 1337.8214128141435, 9855.994110560085, 4028.2503567157346, 2527.92315127291, 4259.444854450331, 4037.887920058099, 3176.5939001104166, 3085.466147757883, 6082.308255658392, 3366.113554352652, 4755.091333273719, 2729.229124138969, 4714.618061468005, 5978.1546938767415, 17429.184497318227, 6511.5763247304485, 6484.213318480885, 9354.019982726406, 2241.1222001853907, 1749.1082539593767, 1419.520593058709, 813.0343142409102, 810.9644045105513, 747.2919484741456, 668.9873179310516, 635.9433731558831, 587.7343188139769, 546.9103301843456, 535.1618143263253, 509.6842342123262, 505.01804664856394, 504.5271907172789, 469.6156999898229, 415.94893582788296, 412.6946473505014, 405.9999724927376, 400.3329025480092, 399.2480892205205, 384.5114240700068, 359.12537746145694, 355.4611078447876, 353.4615152357493, 347.7464811286896, 345.7729038333119, 339.2472780076488, 329.8542846724801, 438.82604881476857, 268.32591990606716, 2637.868612941379, 1526.2234392302396, 7849.394604177794, 10572.669237210072, 869.0696991411121, 7098.980819699919, 1326.2526634267986, 1272.1159604058269, 2020.560018427648, 1339.4812807949704, 5773.193918381542, 1263.7679745769613, 1403.9285449262231, 5804.723024420643, 4199.009678859159, 2930.197434600048, 1075.0649255356193, 2209.5512790929333, 898.9623295682834, 17429.184497318227, 9354.019982726406, 2233.4176065231927, 6484.213318480885, 4745.7009606558895, 4300.341517165301, 2229.8413161831045, 4842.030839307446, 2601.5386076813, 1617.7825549746965, 6511.5763247304485, 4004.382146470463, 4905.05367055832, 2246.873068140111, 9855.994110560085, 6082.308255658392, 13813.195077708884, 4714.618061468005, 3756.4174297076984, 4755.091333273719, 3448.520323870182, 2581.251915568026, 2505.271484604092, 2056.9620827972412, 1581.821451043207, 1496.010134020083, 1391.059971481927, 1291.4806674113838, 1281.0442591622666, 1235.845230723384, 1191.2754604461525, 1156.0996627357554, 1143.8890584001372, 1117.6231925596617, 984.1802343211718, 952.2864714977632, 913.5339228788716, 913.2579114909253, 798.7446281345115, 774.289228076233, 774.0199879062474, 742.8163541076483, 714.5897146517398, 710.1729961109025, 676.2927155558937, 667.1554447067339, 638.6570845361194, 628.4051755334618, 585.728800210807, 2772.900271293147, 1171.187454569631, 1158.113144337106, 1580.333811759655, 2019.733290081631, 1426.2360486110033, 1683.4234103256656, 2179.884350247792, 2422.2656089329394, 1034.0177609851619, 2278.6245295507656, 3205.91263142938, 5006.843275489009, 2962.7143419559866, 1911.4495508534787, 17429.184497318227, 4752.787825135574, 6290.739974209602, 5978.1546938767415, 3132.6351180535216, 2934.9093422441556, 2039.610687088147, 1712.955178018374, 1399.0964395741769, 1192.8313889985127, 1022.5616284869556, 1014.9525243108724, 945.4610059177969, 925.1575297396791, 915.0416253517208, 902.9529325052342, 802.427460945561, 750.199357542041, 738.5512951214328, 714.1656061632161, 662.0434157569077, 619.0027743564565, 602.1652058688417, 557.4503998438511, 542.8968330999411, 485.53526975115415, 478.49026489750605, 478.3007014148133, 452.5084889481018, 429.92652612020447, 419.5881120678251, 405.21671680843895, 364.29439320756035, 363.3481350159057, 349.83695086532526, 963.8924392578089, 682.5497880834436, 461.359185870345, 1538.0037249807037, 2104.361147722761, 1761.7825128893792, 1375.814565613197, 1813.1238124347392, 3449.021328485759, 780.2472109756036, 3339.8177782486637, 820.0131750274292, 1014.1485866116561, 1643.879590728211, 1887.4649536215934, 2303.7085527574345, 1394.9895851200158, 4745.7009606558895, 1023.1263458442019, 1535.0334879257177, 2289.3272738152796, 9015.440136221865, 2447.5931897528976, 4367.119507442945, 1228.6611639801351, 927.4297164247099, 859.105130698806, 725.5864260115119, 680.5562411708523, 654.8807732570841, 653.7831861690811, 599.4649690593743, 524.1431266036706, 521.0566407696311, 493.65273687398854, 475.7388750146152, 451.10341516722775, 433.0124101814044, 420.8596297558289, 391.6025981805677, 378.5067925961866, 353.6641682211057, 351.5095531312165, 351.4861871269097, 347.7587402023037, 339.7978133703407, 335.7140830553382, 329.7153742664796, 318.24129190406876, 314.6706794605815, 314.13382619888256, 308.78812589929134, 287.45609119955543, 757.386999065078, 963.8285807894474, 1053.6148458995165, 990.004747670403, 1937.4112217292584, 655.3871701162975, 491.78837400056403, 6290.739974209602, 1080.0104692684145, 544.545191705236, 2244.995220116423, 958.7041445155058, 1288.5414428298334, 1467.3300286404115, 794.7773141250758, 1484.1695726292644, 2126.497901367522, 1152.6183781486975, 4905.05367055832, 1259.575416523437, 2447.5931897528976, 928.2821922305566, 2189.540999187146, 3709.8245184620387, 6511.5763247304485, 46130.11924858369, 1363.8918560216052, 1069.5383977953807, 1039.1794432625018, 879.576301248799, 803.2293369539909, 763.1896648409798, 749.3095182730913, 648.4520925213083, 597.7488930595052, 585.3604668283464, 473.36948928291594, 463.68275202871126, 440.04484212273644, 406.93669800059115, 378.58494764672486, 351.54280303229996, 312.86058333971107, 302.78522654670365, 282.70410332736714, 275.8575263554471, 274.69293064164515, 271.60051198387305, 270.92178570030165, 266.0955768585937, 260.6445771662524, 249.6812734766384, 246.2094379376792, 240.02693556115784, 212.28330053448465, 1281.2988546249655, 1050.9287389015483, 1050.2868977508388, 849.9669527290985, 766.7197131287483, 754.5211362996479, 650.8161490499277, 633.9253204718983, 530.7216219257587, 489.40734312536466, 477.1255414305527, 474.17987126632096, 436.7252246617036, 430.88921550443257, 425.85376806686645, 420.68113363377404, 409.0528953652577, 394.0221057439429, 380.0284612534368, 373.79583622048654, 373.4535817291439, 363.95550675954854, 357.4629109230713, 356.45411586028104, 352.47458051467225, 340.88190822057896, 327.3269198429879, 307.40608389570923, 304.99116487904195, 287.8363440328862, 1466.0644754120005, 756.5592153413477, 633.2866387030184, 777.8766255831267, 994.9420684623356, 1644.554564587225, 942.7241728225646, 538.033074222024, 483.40923793112444, 759.506978452155, 991.8905668538782, 607.2946056359244, 1379.5846551648074, 1535.0334879257177, 1714.2565351530702, 1247.0817461773959, 1269.6661906425638, 2697.777985557393, 1522.9458708616053, 1016.5542905753481, 953.3460441243892, 804.7727354653307, 708.8721610863169, 589.8594295248439, 584.2012396336198, 578.7841841097758, 540.9969511961909, 523.253664334158, 517.4013185684915, 480.5693023357999, 477.18251912982186, 474.83825201495364, 468.87093573050305, 430.8370342240229, 425.4096176173156, 414.042389472442, 367.97003761931535, 351.8834416100977, 299.3859927050369, 298.3953236437608, 273.066706872917, 265.3330968658975, 241.2668673167843, 239.16315198360658, 233.90536167359102, 220.73058278123628, 219.04282944737946, 1318.4500667779314, 1071.3018216129228, 672.544255521527, 633.0339976756264, 2189.540999187146, 1655.4334931525752, 5006.843275489009, 643.5239978165475, 389.10468000270527, 470.1095369151531, 1803.1109431203463, 6290.739974209602, 1897.9164413116794, 2278.6245295507656, 2031.145365030167, 767.0943802024484, 645.4532281841247, 625.9157685399418, 609.4780824316019, 589.7967373044661, 558.983792546284, 489.4155599567177, 433.60884579171045, 424.04330288262696, 392.53090326306506, 389.7629571622647, 389.2418518506612, 377.03830512365744, 355.1835008750701, 337.6564986751356, 319.76529484468983, 269.9749477219451, 262.9587819466526, 233.38738070615884, 227.20571664701902, 216.4954503124911, 209.1234705446754, 206.33096114887329, 186.71095584019577, 186.26542459348826, 181.3483428678192, 157.94498795073358, 151.31500062081156, 136.1752131813043, 507.3697025658219, 2249.6506898389052, 2862.466628600539, 492.04393978889146, 497.82313572582177, 361.0994026746863, 956.1816284009808, 360.5651281239085, 423.85915374985075, 3953.1296889217974, 345.65535521063083, 1009.339530880656, 1937.4112217292584, 1782.4980563382476, 2243.4121434315966, 2125.430690493679, 1487.2647551420996, 1351.8337512669577, 662.7616890605938, 555.4385475093611, 529.8169189503159, 505.6895779333021, 321.5733008688903, 274.9360554257386, 269.6488256957393, 258.44534048730134, 235.99687467353365, 212.61135169390937, 202.86519117773207, 201.26429830452673, 201.22531846692218, 182.98665245175022, 180.05749909483313, 179.75504262518402, 170.5144302165881, 162.34705506710043, 155.97708105808985, 136.141012246874, 133.58701701264008, 119.74450614247426, 115.72398518322336, 104.55234108281567, 104.20208913224077, 103.26536053526682, 476.9030393177433, 358.557730035452, 4842.030839307446, 683.6568672832376, 3205.91263142938, 693.46073162277, 3709.8245184620387, 2209.5512790929333, 1363.2461601781067, 494.36753534541674, 1617.7825549746965, 1680.5006640454747, 1426.0009833531956, 490.7720587640713, 434.95805274370747, 393.2387593001309, 386.7219762240089, 379.0575311422915, 338.51426341756905, 310.13199015154305, 300.04906715369447, 276.0498464578062, 262.6420845873583, 245.06077200583388, 244.67744292918786, 243.53183376693934, 207.85566614653638, 207.22259393206772, 203.49597069625344, 185.36898130894184, 181.14021147359546, 176.63634083290006, 174.2347784367308, 170.46042501810146, 163.49194876386193, 156.06479314335397, 151.06979445931643, 145.87484631658, 143.57656855877042, 142.71094139010359, 140.76841430953425, 850.5831383169768, 541.0467901936142, 1054.3921915964042, 4842.030839307446, 870.7550113864359, 409.74527048786365, 496.38537017658007, 1379.5846551648074, 764.8319744408781, 689.1051624861062, 615.3993179633986, 546.2349805352749, 527.0737700424684, 450.9385832416533, 427.83890874523246, 387.38154777339196, 359.8769850888585, 313.05516805798885, 301.9460322751892, 258.98668678938515, 250.16333231080452, 223.90513922188856, 219.62926736051983, 202.00277251762148, 201.45697342825906, 201.18402558056144, 198.5419270100943, 196.6357696789435, 191.5926448051826, 186.52500518279055, 186.3734873815978, 173.12548147136818, 169.49340328662893, 164.85295141280093, 153.20194657968773, 143.6871058889897, 142.1104961829212, 140.72080723119169, 323.3640383474044, 525.2250314761316, 163.1561630363237, 403.9833301991699, 1782.4980563382476, 655.101791351808, 610.0576788198787, 578.533000608852, 390.9524062863995, 387.39239444075366, 356.2857958167283, 247.9456523732197, 205.350411082388, 189.58596919912506, 183.68666077793694, 178.39166447647182, 160.78167943534447, 158.47729487584797, 154.46425098645628, 154.12091512236972, 150.94788570073794, 148.0006241087, 133.2773643456658, 129.12107417111886, 125.26925845961202, 124.29281832539797, 123.78492497250947, 122.69826316079147, 120.22743377289599, 107.89029149589688, 96.09265196042065, 85.57778723860184, 79.46501779165926, 70.39461425107523, 67.45403174194158, 576.2754273187807, 200.3729648201736, 367.0876041870655, 150.28467965567836, 367.5726401886453, 1247.6232009241014, 8018.769895246168, 1823.7722711540587, 520.1379302861991, 506.63148128297695, 362.90365133960006, 275.126557106364, 259.661735473677, 220.08312528872594, 184.07235067616492, 135.69299782957873, 125.54298158670545, 123.12456895505969, 110.58949486875159, 83.12021958100532, 82.9075929550417, 73.11737895960131, 72.9293887418967, 70.81421939194836, 53.13499316650107, 46.096617666853675, 24.348336546376686, 9.029952832258125, 8.556434359636759, 662.5298958998998, 2.4064512999974905, 101.22010045226646, 2220.704174198595, 921.1894779895842, 324.31652183181603, 463.9910199831956, 423.85915374985075, 801.3206792425779, 597.0194010834996, 534.5695461704387, 2315.91212255292, 576.6060912649122, 389.31857578646736, 259.1152490931058, 249.73586430833205, 111.00815956359892, 106.23593708113651, 100.9943436741167, 84.7236076815285, 82.37214006913003, 78.19582537310767, 60.50133010674757, 52.52866224178543, 34.260326330350935, 31.573258519369066, 30.276755812073183, 30.247548555580646, 23.829325886403975, 21.0407203536783, 19.658417385134747, 19.451770906972794, 15.732136502061056, 5.3326665043995245, 967.8132297401474, 959.8700858234457, 1034.0177609851619, 185.41933313112884, 1.2607153672857996, 1.2606245872602415, 1.2605756081533293, 922.8047288794099, 298.6667685313024, 281.3011001467486, 228.65880439124206, 163.46133522616816, 153.1673869644258, 152.78653475779, 135.71118767624148, 125.28079663524073, 118.43512352282741, 111.43773418592664, 93.53727780285432, 82.72446713591077, 80.52045730815449, 80.1304295504528, 76.65994214288872, 72.28934535860343, 71.67527267888244, 66.812270264421, 66.20684112840006, 59.8775135645711, 56.87750540743674, 49.55213739191749, 49.53390649955607, 49.46700079981971, 45.36855454078936, 36.205387598836715, 28.249964158478893, 18.54834248232803, 17.429559644978685, 486.4394091432946, 273.466127353386, 208.21290177504977, 156.72732572448862, 154.80736995021797, 137.59432889919898, 122.88174071042484, 90.7497762374095, 86.7496365782115, 81.57802730627714, 218.3430598233124, 66.04647323740585, 62.40610605428087, 45.667804293355964, 37.92059102185681, 33.45375502187173, 33.22965169876639, 32.297886301950655, 29.338713072623296, 24.149730117888108, 22.31306625999249, 22.139669796178726, 18.76613321011097, 14.378298945317727, 13.219013222499303, 8.63860227580269, 255.2465543640293, 477.75350455213163, 392.43597637666073, 1.5856718075377645, 252.87293444711884, 222.87113230945846, 205.5493626136193, 191.9820771058456, 180.7001736725791, 160.58513564798028, 135.70536912908898, 121.24231271037792, 120.8108039713549, 120.14054800905124, 105.53250254038254, 100.12559244320721, 99.00766773896589, 71.66486954527105, 66.11252372363435, 64.91619592560467, 63.49008101852013, 62.066053586521, 47.40147013731457, 39.346789381724626, 30.261138003855724, 29.830719417115972, 18.588793666178777, 13.532629776455202, 13.529862362408648, 13.529862362408648, 13.497680532343502, 9.01341444464102, 1.2605334562799995, 1.2606798219188244, 273.128321449177, 193.95766227993727, 72.97742636886515, 56.32549202648602, 49.30592126234367, 41.45973902004184, 40.95157826102885, 38.739644069153975, 30.96638630732523, 26.81899156529384, 22.60926347751207, 20.623966799388, 19.101456624281056, 16.188106157390084, 10.396631021712167, 9.834419752886252, 9.360816906790337, 9.360816906790337, 7.898936113308347, 5.9305994983454795, 3.8573846691059854, 31.194663573699284, 478.01717753004056, 1.26065528720178, 1.2605233037019137, 1.2605306966923848, 1.2605415590743876, 1.260526563814558, 1.2605240462571745, 1.2605260642351217, 1.2607153672857996, 1.2605868058302034, 1.2606245872602415, 126.26280126865967, 106.46616965970259, 48.32427459175369, 33.70339234103362, 28.79305382868163, 24.90579415298878, 24.374489530786786, 18.727615279456366, 16.569996870450787, 16.322112428356718, 15.73550200278877, 9.362275527621913, 1.2605109690669272, 1.2605122410552219, 1.260517399102438, 1.260521169890534, 1.2605106371081944, 1.2605104105868792, 1.2605200552707552, 1.2605381086709893, 1.2605190211589592, 1.260514892969822, 1.260521592918554, 1.2605184052037037, 1.2605140910535166, 1.260522094341428, 1.26052917690267, 1.2605088459130305, 1.260530526497742, 1.2605084029285782, 1.2605432485258814, 1.2605242995371293, 1.2605492314464786, 1.2605712022094322, 1.260583630019681, 1.2607153672857996], \"Category\": [\"Default\", \"Default\", \"Default\", \"Default\", \"Default\", \"Default\", \"Default\", \"Default\", \"Default\", \"Default\", \"Default\", \"Default\", \"Default\", \"Default\", \"Default\", \"Default\", \"Default\", \"Default\", \"Default\", \"Default\", \"Default\", \"Default\", \"Default\", \"Default\", \"Default\", \"Default\", \"Default\", \"Default\", \"Default\", \"Default\", \"Topic1\", \"Topic1\", \"Topic1\", \"Topic1\", \"Topic1\", \"Topic1\", \"Topic1\", \"Topic1\", \"Topic1\", \"Topic1\", \"Topic1\", \"Topic1\", \"Topic1\", \"Topic1\", \"Topic1\", \"Topic1\", \"Topic1\", \"Topic1\", \"Topic1\", \"Topic1\", \"Topic1\", \"Topic1\", \"Topic1\", \"Topic1\", \"Topic1\", \"Topic1\", \"Topic1\", \"Topic1\", \"Topic1\", \"Topic1\", \"Topic1\", \"Topic1\", \"Topic1\", \"Topic1\", \"Topic1\", \"Topic1\", \"Topic1\", \"Topic1\", \"Topic1\", \"Topic1\", \"Topic1\", \"Topic1\", \"Topic1\", \"Topic1\", \"Topic1\", \"Topic1\", \"Topic1\", \"Topic1\", \"Topic1\", \"Topic1\", \"Topic1\", \"Topic1\", \"Topic1\", \"Topic1\", \"Topic1\", \"Topic1\", \"Topic1\", \"Topic1\", \"Topic1\", \"Topic1\", \"Topic1\", \"Topic1\", \"Topic1\", \"Topic1\", \"Topic1\", \"Topic2\", \"Topic2\", \"Topic2\", \"Topic2\", \"Topic2\", \"Topic2\", \"Topic2\", \"Topic2\", \"Topic2\", \"Topic2\", \"Topic2\", \"Topic2\", \"Topic2\", \"Topic2\", \"Topic2\", \"Topic2\", \"Topic2\", \"Topic2\", \"Topic2\", \"Topic2\", \"Topic2\", \"Topic2\", \"Topic2\", \"Topic2\", \"Topic2\", \"Topic2\", \"Topic2\", \"Topic2\", \"Topic2\", \"Topic2\", \"Topic2\", \"Topic2\", \"Topic2\", \"Topic2\", \"Topic2\", \"Topic2\", \"Topic2\", \"Topic2\", \"Topic2\", \"Topic2\", \"Topic2\", \"Topic2\", \"Topic2\", \"Topic2\", \"Topic2\", \"Topic2\", \"Topic2\", \"Topic2\", \"Topic2\", \"Topic2\", \"Topic2\", \"Topic2\", \"Topic2\", \"Topic2\", \"Topic2\", \"Topic2\", \"Topic2\", \"Topic2\", \"Topic2\", \"Topic2\", \"Topic2\", \"Topic2\", \"Topic2\", \"Topic2\", \"Topic2\", \"Topic2\", \"Topic2\", \"Topic2\", \"Topic2\", \"Topic3\", \"Topic3\", \"Topic3\", \"Topic3\", \"Topic3\", \"Topic3\", \"Topic3\", \"Topic3\", \"Topic3\", \"Topic3\", \"Topic3\", \"Topic3\", \"Topic3\", \"Topic3\", \"Topic3\", \"Topic3\", \"Topic3\", \"Topic3\", \"Topic3\", \"Topic3\", \"Topic3\", \"Topic3\", \"Topic3\", \"Topic3\", \"Topic3\", \"Topic3\", \"Topic3\", \"Topic3\", \"Topic3\", \"Topic3\", \"Topic3\", \"Topic3\", \"Topic3\", \"Topic3\", \"Topic3\", \"Topic3\", \"Topic3\", \"Topic3\", \"Topic3\", \"Topic3\", \"Topic3\", \"Topic3\", \"Topic3\", \"Topic3\", \"Topic3\", \"Topic3\", \"Topic3\", \"Topic3\", \"Topic3\", \"Topic4\", \"Topic4\", \"Topic4\", \"Topic4\", \"Topic4\", \"Topic4\", \"Topic4\", \"Topic4\", \"Topic4\", \"Topic4\", \"Topic4\", \"Topic4\", \"Topic4\", \"Topic4\", \"Topic4\", \"Topic4\", \"Topic4\", \"Topic4\", \"Topic4\", \"Topic4\", \"Topic4\", \"Topic4\", \"Topic4\", \"Topic4\", \"Topic4\", \"Topic4\", \"Topic4\", \"Topic4\", \"Topic4\", \"Topic4\", \"Topic4\", \"Topic4\", \"Topic4\", \"Topic4\", \"Topic4\", \"Topic4\", \"Topic4\", \"Topic4\", \"Topic4\", \"Topic4\", \"Topic4\", \"Topic4\", \"Topic4\", \"Topic4\", \"Topic4\", \"Topic4\", \"Topic4\", \"Topic4\", \"Topic4\", \"Topic4\", \"Topic4\", \"Topic4\", \"Topic4\", \"Topic5\", \"Topic5\", \"Topic5\", \"Topic5\", \"Topic5\", \"Topic5\", \"Topic5\", \"Topic5\", \"Topic5\", \"Topic5\", \"Topic5\", \"Topic5\", \"Topic5\", \"Topic5\", \"Topic5\", \"Topic5\", \"Topic5\", \"Topic5\", \"Topic5\", \"Topic5\", \"Topic5\", \"Topic5\", \"Topic5\", \"Topic5\", \"Topic5\", \"Topic5\", \"Topic5\", \"Topic5\", \"Topic5\", \"Topic5\", \"Topic5\", \"Topic5\", \"Topic5\", \"Topic5\", \"Topic5\", \"Topic5\", \"Topic5\", \"Topic5\", \"Topic5\", \"Topic5\", \"Topic5\", \"Topic5\", \"Topic5\", \"Topic5\", \"Topic5\", \"Topic5\", \"Topic5\", \"Topic5\", \"Topic5\", \"Topic5\", \"Topic5\", \"Topic5\", \"Topic5\", \"Topic5\", \"Topic5\", \"Topic6\", \"Topic6\", \"Topic6\", \"Topic6\", \"Topic6\", \"Topic6\", \"Topic6\", \"Topic6\", \"Topic6\", \"Topic6\", \"Topic6\", \"Topic6\", \"Topic6\", \"Topic6\", \"Topic6\", \"Topic6\", \"Topic6\", \"Topic6\", \"Topic6\", \"Topic6\", \"Topic6\", \"Topic6\", \"Topic6\", \"Topic6\", \"Topic6\", \"Topic6\", \"Topic6\", \"Topic6\", \"Topic6\", \"Topic6\", \"Topic7\", \"Topic7\", \"Topic7\", \"Topic7\", \"Topic7\", \"Topic7\", \"Topic7\", \"Topic7\", \"Topic7\", \"Topic7\", \"Topic7\", \"Topic7\", \"Topic7\", \"Topic7\", \"Topic7\", \"Topic7\", \"Topic7\", \"Topic7\", \"Topic7\", \"Topic7\", \"Topic7\", \"Topic7\", \"Topic7\", \"Topic7\", \"Topic7\", \"Topic7\", \"Topic7\", \"Topic7\", \"Topic7\", \"Topic7\", \"Topic7\", \"Topic7\", \"Topic7\", \"Topic7\", \"Topic7\", \"Topic7\", \"Topic7\", \"Topic7\", \"Topic7\", \"Topic7\", \"Topic7\", \"Topic7\", \"Topic7\", \"Topic7\", \"Topic7\", \"Topic7\", \"Topic7\", \"Topic8\", \"Topic8\", \"Topic8\", \"Topic8\", \"Topic8\", \"Topic8\", \"Topic8\", \"Topic8\", \"Topic8\", \"Topic8\", \"Topic8\", \"Topic8\", \"Topic8\", \"Topic8\", \"Topic8\", \"Topic8\", \"Topic8\", \"Topic8\", \"Topic8\", \"Topic8\", \"Topic8\", \"Topic8\", \"Topic8\", \"Topic8\", \"Topic8\", \"Topic8\", \"Topic8\", \"Topic8\", \"Topic8\", \"Topic8\", \"Topic8\", \"Topic8\", \"Topic8\", \"Topic8\", \"Topic8\", \"Topic8\", \"Topic8\", \"Topic8\", \"Topic8\", \"Topic8\", \"Topic8\", \"Topic8\", \"Topic8\", \"Topic8\", \"Topic9\", \"Topic9\", \"Topic9\", \"Topic9\", \"Topic9\", \"Topic9\", \"Topic9\", \"Topic9\", \"Topic9\", \"Topic9\", \"Topic9\", \"Topic9\", \"Topic9\", \"Topic9\", \"Topic9\", \"Topic9\", \"Topic9\", \"Topic9\", \"Topic9\", \"Topic9\", \"Topic9\", \"Topic9\", \"Topic9\", \"Topic9\", \"Topic9\", \"Topic9\", \"Topic9\", \"Topic9\", \"Topic9\", \"Topic9\", \"Topic9\", \"Topic9\", \"Topic9\", \"Topic9\", \"Topic9\", \"Topic9\", \"Topic9\", \"Topic9\", \"Topic9\", \"Topic9\", \"Topic9\", \"Topic9\", \"Topic9\", \"Topic9\", \"Topic10\", \"Topic10\", \"Topic10\", \"Topic10\", \"Topic10\", \"Topic10\", \"Topic10\", \"Topic10\", \"Topic10\", \"Topic10\", \"Topic10\", \"Topic10\", \"Topic10\", \"Topic10\", \"Topic10\", \"Topic10\", \"Topic10\", \"Topic10\", \"Topic10\", \"Topic10\", \"Topic10\", \"Topic10\", \"Topic10\", \"Topic10\", \"Topic10\", \"Topic10\", \"Topic10\", \"Topic10\", \"Topic10\", \"Topic10\", \"Topic10\", \"Topic10\", \"Topic10\", \"Topic10\", \"Topic10\", \"Topic10\", \"Topic10\", \"Topic10\", \"Topic10\", \"Topic10\", \"Topic10\", \"Topic11\", \"Topic11\", \"Topic11\", \"Topic11\", \"Topic11\", \"Topic11\", \"Topic11\", \"Topic11\", \"Topic11\", \"Topic11\", \"Topic11\", \"Topic11\", \"Topic11\", \"Topic11\", \"Topic11\", \"Topic11\", \"Topic11\", \"Topic11\", \"Topic11\", \"Topic11\", \"Topic11\", \"Topic11\", \"Topic11\", \"Topic11\", \"Topic11\", \"Topic11\", \"Topic11\", \"Topic11\", \"Topic11\", \"Topic11\", \"Topic11\", \"Topic11\", \"Topic11\", \"Topic11\", \"Topic11\", \"Topic11\", \"Topic11\", \"Topic11\", \"Topic12\", \"Topic12\", \"Topic12\", \"Topic12\", \"Topic12\", \"Topic12\", \"Topic12\", \"Topic12\", \"Topic12\", \"Topic12\", \"Topic12\", \"Topic12\", \"Topic12\", \"Topic12\", \"Topic12\", \"Topic12\", \"Topic12\", \"Topic12\", \"Topic12\", \"Topic12\", \"Topic12\", \"Topic12\", \"Topic12\", \"Topic12\", \"Topic12\", \"Topic12\", \"Topic12\", \"Topic12\", \"Topic12\", \"Topic12\", \"Topic12\", \"Topic12\", \"Topic12\", \"Topic12\", \"Topic12\", \"Topic13\", \"Topic13\", \"Topic13\", \"Topic13\", \"Topic13\", \"Topic13\", \"Topic13\", \"Topic13\", \"Topic13\", \"Topic13\", \"Topic13\", \"Topic13\", \"Topic13\", \"Topic13\", \"Topic13\", \"Topic13\", \"Topic13\", \"Topic13\", \"Topic13\", \"Topic13\", \"Topic13\", \"Topic13\", \"Topic13\", \"Topic13\", \"Topic13\", \"Topic13\", \"Topic13\", \"Topic13\", \"Topic13\", \"Topic13\", \"Topic13\", \"Topic13\", \"Topic13\", \"Topic13\", \"Topic13\", \"Topic13\", \"Topic13\", \"Topic14\", \"Topic14\", \"Topic14\", \"Topic14\", \"Topic14\", \"Topic14\", \"Topic14\", \"Topic14\", \"Topic14\", \"Topic14\", \"Topic14\", \"Topic14\", \"Topic14\", \"Topic14\", \"Topic14\", \"Topic14\", \"Topic14\", \"Topic14\", \"Topic14\", \"Topic14\", \"Topic14\", \"Topic14\", \"Topic14\", \"Topic14\", \"Topic14\", \"Topic14\", \"Topic14\", \"Topic14\", \"Topic14\", \"Topic14\", \"Topic14\", \"Topic14\", \"Topic14\", \"Topic15\", \"Topic15\", \"Topic15\", \"Topic15\", \"Topic15\", \"Topic15\", \"Topic15\", \"Topic15\", \"Topic15\", \"Topic15\", \"Topic15\", \"Topic15\", \"Topic15\", \"Topic15\", \"Topic15\", \"Topic15\", \"Topic15\", \"Topic15\", \"Topic15\", \"Topic15\", \"Topic15\", \"Topic15\", \"Topic15\", \"Topic15\", \"Topic15\", \"Topic15\", \"Topic15\", \"Topic15\", \"Topic15\", \"Topic15\", \"Topic16\", \"Topic16\", \"Topic16\", \"Topic16\", \"Topic16\", \"Topic16\", \"Topic16\", \"Topic16\", \"Topic16\", \"Topic16\", \"Topic16\", \"Topic16\", \"Topic16\", \"Topic16\", \"Topic16\", \"Topic16\", \"Topic16\", \"Topic16\", \"Topic16\", \"Topic16\", \"Topic16\", \"Topic16\", \"Topic16\", \"Topic16\", \"Topic16\", \"Topic16\", \"Topic16\", \"Topic16\", \"Topic16\", \"Topic16\", \"Topic17\", \"Topic17\", \"Topic17\", \"Topic17\", \"Topic17\", \"Topic17\", \"Topic17\", \"Topic17\", \"Topic17\", \"Topic17\", \"Topic17\", \"Topic17\", \"Topic17\", \"Topic17\", \"Topic17\", \"Topic17\", \"Topic17\", \"Topic17\", \"Topic17\", \"Topic17\", \"Topic17\", \"Topic17\", \"Topic17\", \"Topic17\", \"Topic17\", \"Topic17\", \"Topic17\", \"Topic17\", \"Topic17\", \"Topic17\", \"Topic18\", \"Topic18\", \"Topic18\", \"Topic18\", \"Topic18\", \"Topic18\", \"Topic18\", \"Topic18\", \"Topic18\", \"Topic18\", \"Topic18\", \"Topic18\", \"Topic18\", \"Topic18\", \"Topic18\", \"Topic18\", \"Topic18\", \"Topic18\", \"Topic18\", \"Topic18\", \"Topic18\", \"Topic18\", \"Topic18\", \"Topic18\", \"Topic18\", \"Topic18\", \"Topic18\", \"Topic18\", \"Topic18\", \"Topic18\", \"Topic19\", \"Topic19\", \"Topic19\", \"Topic19\", \"Topic19\", \"Topic19\", \"Topic19\", \"Topic19\", \"Topic19\", \"Topic19\", \"Topic19\", \"Topic19\", \"Topic19\", \"Topic19\", \"Topic19\", \"Topic19\", \"Topic19\", \"Topic19\", \"Topic19\", \"Topic19\", \"Topic19\", \"Topic19\", \"Topic19\", \"Topic19\", \"Topic19\", \"Topic19\", \"Topic19\", \"Topic19\", \"Topic19\", \"Topic19\", \"Topic19\", \"Topic19\", \"Topic19\", \"Topic20\", \"Topic20\", \"Topic20\", \"Topic20\", \"Topic20\", \"Topic20\", \"Topic20\", \"Topic20\", \"Topic20\", \"Topic20\", \"Topic20\", \"Topic20\", \"Topic20\", \"Topic20\", \"Topic20\", \"Topic20\", \"Topic20\", \"Topic20\", \"Topic20\", \"Topic20\", \"Topic20\", \"Topic20\", \"Topic20\", \"Topic20\", \"Topic20\", \"Topic20\", \"Topic20\", \"Topic20\", \"Topic20\", \"Topic20\", \"Topic20\", \"Topic20\", \"Topic20\", \"Topic20\", \"Topic20\", \"Topic20\"], \"logprob\": [30.0, 29.0, 28.0, 27.0, 26.0, 25.0, 24.0, 23.0, 22.0, 21.0, 20.0, 19.0, 18.0, 17.0, 16.0, 15.0, 14.0, 13.0, 12.0, 11.0, 10.0, 9.0, 8.0, 7.0, 6.0, 5.0, 4.0, 3.0, 2.0, 1.0, -4.7707, -5.1695, -5.1799, -5.2097, -5.2228, -5.4274, -5.4409, -5.506, -5.5673, -5.7057, -5.8021, -5.8381, -5.8944, -5.9319, -5.9534, -5.9548, -6.0505, -6.1027, -6.1141, -6.13, -6.1461, -6.199, -6.2494, -6.2553, -6.3022, -6.2956, -6.35, -6.3984, -6.4333, -6.4718, -5.3439, -5.3937, -5.4891, -3.8396, -5.3665, -3.9087, -4.4472, -4.602, -4.539, -4.6805, -4.4369, -3.8658, -4.5631, -3.8781, -3.9877, -3.4892, -4.2287, -5.652, -3.9283, -4.7033, -5.1123, -4.7221, -4.7662, -4.97, -4.9955, -4.5489, -5.0004, -4.8308, -5.1308, -4.9006, -4.8226, -4.5624, -4.9239, -5.0111, -5.027, -4.5733, -4.8213, -5.0302, -5.5882, -5.5907, -5.6726, -5.7835, -5.8342, -5.9132, -5.9854, -6.0071, -6.056, -6.0652, -6.0662, -6.1381, -6.2598, -6.2676, -6.284, -6.2981, -6.3009, -6.3386, -6.4071, -6.4174, -6.4231, -6.4394, -6.4451, -6.4643, -6.4924, -6.2073, -6.6997, -4.4167, -4.9627, -3.3908, -3.1166, -5.545, -3.5175, -5.1448, -5.1849, -4.7504, -5.1599, -3.7932, -5.2326, -5.1419, -3.8617, -4.1794, -4.5197, -5.4068, -4.8001, -5.572, -3.0618, -3.604, -4.8331, -3.9851, -4.2614, -4.3699, -4.8771, -4.3274, -4.7829, -5.1138, -4.2433, -4.6208, -4.5639, -4.9483, -4.4162, -4.6153, -4.4428, -4.8203, -4.8793, -4.8941, -3.732, -4.0218, -4.0517, -4.249, -4.5118, -4.5676, -4.6404, -4.7147, -4.7229, -4.7588, -4.7956, -4.8256, -4.8362, -4.8595, -4.9868, -5.0197, -5.0613, -5.0616, -5.1958, -5.227, -5.2273, -5.2685, -5.3073, -5.3135, -5.3625, -5.3761, -5.4199, -5.4361, -5.5065, -3.9518, -4.8331, -4.8549, -4.5656, -4.3361, -4.6693, -4.5269, -4.3007, -4.261, -5.0031, -4.4315, -4.3109, -4.0558, -4.4572, -4.7112, -3.7363, -4.3795, -4.3112, -4.3543, -4.5997, -3.7441, -4.1082, -4.2829, -4.4854, -4.6451, -4.7993, -4.8068, -4.8778, -4.8995, -4.9105, -4.9238, -5.042, -5.1094, -5.1251, -5.1587, -5.2346, -5.302, -5.3296, -5.4069, -5.4335, -5.5454, -5.56, -5.5604, -5.616, -5.6673, -5.6918, -5.7267, -5.8335, -5.8361, -5.8741, -4.8683, -5.2163, -5.6023, -4.4556, -4.2495, -4.4126, -4.6798, -4.4546, -3.9565, -5.202, -4.148, -5.1773, -5.0489, -4.7972, -4.7387, -4.6999, -4.9469, -4.523, -5.0944, -4.9866, -4.9289, -4.762, -5.0288, -3.0292, -4.2981, -4.5797, -4.6563, -4.8255, -4.8897, -4.9282, -4.9299, -5.0168, -5.1513, -5.1573, -5.2114, -5.2485, -5.3018, -5.3428, -5.3714, -5.4436, -5.4777, -5.5458, -5.552, -5.552, -5.5627, -5.586, -5.5981, -5.6162, -5.6518, -5.6631, -5.6648, -5.682, -5.7539, -4.8109, -4.6308, -4.5969, -4.7025, -4.1747, -5.0714, -5.302, -3.3537, -4.6995, -5.2239, -4.2977, -4.9309, -4.756, -4.7079, -5.0519, -4.7313, -4.5792, -4.8778, -4.2893, -4.9035, -4.7106, -5.0315, -4.9288, -4.9277, -4.9927, -0.4766, -3.9985, -4.2419, -4.2707, -4.4376, -4.5286, -4.5798, -4.5982, -4.743, -4.8245, -4.8455, -5.0583, -5.079, -5.1315, -5.2099, -5.2824, -5.3567, -5.4737, -5.5065, -5.5754, -5.6, -5.6043, -5.6157, -5.6182, -5.6362, -5.657, -5.7002, -5.7142, -5.7398, -5.8632, -3.868, -4.0664, -4.067, -4.2789, -4.3821, -4.3982, -4.5463, -4.5726, -4.7507, -4.8319, -4.8574, -4.8636, -4.9461, -4.9596, -4.9714, -4.9837, -5.0118, -5.0493, -5.0856, -5.1022, -5.1031, -5.1289, -5.147, -5.1498, -5.1611, -5.1947, -5.2354, -5.2984, -5.3063, -5.3645, -3.747, -4.4134, -4.5962, -4.4159, -4.2026, -3.7759, -4.2796, -4.803, -4.9021, -4.5695, -4.5362, -4.827, -4.4376, -4.4989, -4.4919, -4.6401, -4.718, -2.8075, -3.3796, -3.7843, -3.8485, -4.0182, -4.1453, -4.3294, -4.3391, -4.3484, -4.4161, -4.4495, -4.4608, -4.5348, -4.5419, -4.5468, -4.5595, -4.6443, -4.657, -4.6842, -4.8025, -4.8474, -5.0095, -5.0129, -5.1019, -5.1308, -5.2263, -5.2351, -5.2575, -5.3157, -5.3235, -3.5442, -3.8056, -4.3874, -4.4585, -3.4969, -3.753, -3.0637, -4.5446, -4.917, -4.8568, -4.455, -4.1065, -4.4752, -4.5425, -2.8971, -3.8718, -4.0447, -4.0755, -4.1022, -4.1351, -4.1888, -4.3221, -4.4434, -4.4658, -4.5433, -4.5503, -4.5517, -4.5836, -4.6436, -4.6943, -4.749, -4.9189, -4.9454, -5.0652, -5.0922, -5.1409, -5.1756, -5.1891, -5.2897, -5.2921, -5.319, -5.4581, -5.5013, -5.6077, -4.2952, -2.8319, -2.6654, -4.3849, -4.3916, -4.6923, -3.82, -4.7169, -4.5925, -3.3083, -4.8542, -4.3472, -4.2074, -4.7067, -2.3844, -2.4385, -2.7957, -2.8913, -3.605, -3.782, -3.8294, -3.8761, -4.3301, -4.4874, -4.5069, -4.5496, -4.6409, -4.7458, -4.793, -4.801, -4.8012, -4.8968, -4.913, -4.9147, -4.9678, -5.0173, -5.0576, -5.1947, -5.2139, -5.3243, -5.3588, -5.4614, -5.4648, -5.474, -4.4134, -4.6611, -3.1292, -4.5587, -3.9707, -4.6444, -4.2813, -4.5524, -4.8518, -4.9528, -4.9521, -2.5948, -2.7592, -3.8274, -3.9485, -4.0496, -4.0663, -4.0864, -4.1999, -4.2878, -4.321, -4.4047, -4.4547, -4.5243, -4.5259, -4.5306, -4.6899, -4.693, -4.7112, -4.8051, -4.8283, -4.8537, -4.8674, -4.8895, -4.9315, -4.9784, -5.0112, -5.0464, -5.0625, -5.0686, -5.0824, -3.8469, -4.2595, -4.5081, -4.2107, -4.8341, -4.9162, -4.9186, -4.9085, -3.1201, -3.2245, -3.3378, -3.4573, -3.4931, -3.6495, -3.7022, -3.8018, -3.8757, -4.0156, -4.0519, -4.206, -4.2408, -4.3523, -4.3717, -4.4558, -4.4585, -4.4599, -4.4732, -4.4829, -4.5091, -4.536, -4.5368, -4.6111, -4.6324, -4.6604, -4.7342, -4.7989, -4.81, -4.8199, -4.0537, -3.7676, -4.7033, -4.2121, -3.4225, -3.0971, -3.1685, -3.2216, -3.6145, -3.6237, -3.7077, -4.0717, -4.2612, -4.3415, -4.3734, -4.4028, -4.5075, -4.522, -4.5479, -4.5501, -4.5711, -4.591, -4.6966, -4.7286, -4.7592, -4.7671, -4.7712, -4.7801, -4.8007, -4.9101, -5.0273, -5.1447, -5.2199, -5.3431, -5.3865, -3.3042, -4.3664, -3.9824, -4.8999, -4.6736, -4.6813, -4.6952, -1.6318, -2.8881, -2.9144, -3.249, -3.527, -3.5851, -3.7513, -3.9311, -4.2384, -4.3168, -4.3365, -4.445, -4.7341, -4.7367, -4.8644, -4.867, -4.8969, -5.1899, -5.3355, -5.998, -7.0822, -7.1446, -3.2254, -8.954, -5.4588, -2.849, -3.9691, -5.3337, -5.0453, -5.954, -5.5764, -6.1654, -6.7108, -1.1332, -2.5252, -2.919, -3.3277, -3.3647, -4.1817, -4.2261, -4.2773, -4.4553, -4.4839, -4.5367, -4.7979, -4.9423, -5.3823, -5.4672, -5.5108, -5.5118, -5.7616, -5.8932, -5.9655, -5.9767, -6.2048, -7.4646, -4.4076, -4.6968, -4.694, -6.8481, -11.9336, -11.9343, -11.9346, -1.8968, -3.0277, -3.0878, -3.296, -3.6338, -3.6994, -3.7019, -3.8214, -3.9021, -3.9589, -4.0204, -4.1976, -4.3222, -4.3496, -4.3545, -4.3995, -4.4592, -4.4679, -4.5394, -4.5486, -4.6511, -4.7036, -4.8447, -4.8451, -4.8465, -4.9352, -5.1678, -5.4257, -5.8702, -5.9369, -2.3585, -2.9364, -3.2104, -3.4964, -3.5088, -3.6277, -3.7418, -4.0485, -4.0942, -4.1566, -3.1731, -4.3714, -4.4291, -4.7487, -4.9402, -5.07, -5.077, -5.1065, -5.2066, -5.4105, -5.494, -5.5023, -5.6781, -5.9658, -6.058, -6.5387, -3.2441, -3.1345, -3.7774, -9.5395, -2.9376, -3.0645, -3.1459, -3.2146, -3.2755, -3.3944, -3.5641, -3.6779, -3.6815, -3.6871, -3.8182, -3.8714, -3.8828, -4.2107, -4.2928, -4.3114, -4.3341, -4.3572, -4.6329, -4.8246, -5.0967, -5.1117, -5.6107, -5.9546, -5.9548, -5.9548, -5.9574, -6.4117, -11.557, -11.557, -2.312, -2.6561, -3.6442, -3.9083, -4.0445, -4.2227, -4.2354, -4.2927, -4.5249, -4.6751, -4.8548, -4.9522, -5.0339, -5.2118, -5.7013, -5.7646, -5.8211, -5.8211, -6.0192, -6.3687, -6.9495, -4.9108, -3.7045, -11.2574, -11.2575, -11.2575, -11.2576, -11.2576, -11.2576, -11.2576, -11.2575, -11.2576, -11.2576, -2.6234, -2.7958, -3.5999, -3.9716, -4.1356, -4.2877, -4.3104, -4.5901, -4.7218, -4.738, -4.7777, -5.3566, -11.0985, -11.0985, -11.0985, -11.0985, -11.0985, -11.0985, -11.0985, -11.0985, -11.0985, -11.0985, -11.0985, -11.0985, -11.0985, -11.0985, -11.0985, -11.0985, -11.0985, -11.0985, -11.0985, -11.0985, -11.0985, -11.0985, -11.0985, -11.0985], \"loglift\": [30.0, 29.0, 28.0, 27.0, 26.0, 25.0, 24.0, 23.0, 22.0, 21.0, 20.0, 19.0, 18.0, 17.0, 16.0, 15.0, 14.0, 13.0, 12.0, 11.0, 10.0, 9.0, 8.0, 7.0, 6.0, 5.0, 4.0, 3.0, 2.0, 1.0, 1.2436, 1.2435, 1.2434, 1.2434, 1.2434, 1.2433, 1.2433, 1.2432, 1.2432, 1.243, 1.2429, 1.2429, 1.2428, 1.2428, 1.2428, 1.2428, 1.2426, 1.2426, 1.2426, 1.2425, 1.2425, 1.2424, 1.2423, 1.2423, 1.2423, 1.2422, 1.2422, 1.2421, 1.242, 1.2419, 1.2387, 1.2335, 1.233, 1.1964, 1.2265, 1.1948, 1.2013, 1.2048, 1.1926, 1.1922, 1.174, 1.1333, 1.1617, 1.0741, 1.0815, 1.0362, 1.0972, 1.2081, 0.9347, 1.0544, 1.1114, 0.9798, 0.9892, 1.0253, 1.0288, 0.7968, 0.9369, 0.7611, 1.0162, 0.6998, 0.5404, -0.2695, 0.3536, 0.2705, -0.1117, 1.7708, 1.7707, 1.7705, 1.7699, 1.7699, 1.7698, 1.7696, 1.7695, 1.7693, 1.7692, 1.7691, 1.769, 1.769, 1.769, 1.7688, 1.7685, 1.7685, 1.7684, 1.7684, 1.7684, 1.7683, 1.768, 1.768, 1.768, 1.7679, 1.7679, 1.7678, 1.7677, 1.7674, 1.7669, 1.7644, 1.7656, 1.6998, 1.6762, 1.7464, 1.6736, 1.7239, 1.7255, 1.6973, 1.6988, 1.6047, 1.6844, 1.6699, 1.5307, 1.5368, 1.5563, 1.6719, 1.5582, 1.6856, 1.2311, 1.3113, 1.5145, 1.2966, 1.3324, 1.3225, 1.4721, 1.2464, 1.4121, 1.5562, 1.0342, 1.1429, 0.9969, 1.3932, 0.4468, 0.7304, 0.0826, 0.7801, 0.9482, 0.6977, 2.1811, 2.181, 2.181, 2.1809, 2.1807, 2.1807, 2.1806, 2.1805, 2.1805, 2.1805, 2.1805, 2.1804, 2.1804, 2.1804, 2.1802, 2.1802, 2.1802, 2.1802, 2.18, 2.1799, 2.1799, 2.1799, 2.1798, 2.1798, 2.1797, 2.1797, 2.1796, 2.1796, 2.1794, 2.1794, 2.1599, 2.1493, 2.1278, 2.112, 2.1268, 2.1033, 2.0711, 2.0054, 2.1145, 1.896, 1.6752, 1.4844, 1.6078, 1.792, 0.5566, 1.2128, 1.0008, 1.0087, 1.4095, 2.3302, 2.3301, 2.33, 2.3298, 2.3296, 2.3295, 2.3295, 2.3294, 2.3294, 2.3293, 2.3293, 2.3292, 2.3291, 2.329, 2.329, 2.3288, 2.3287, 2.3287, 2.3285, 2.3284, 2.3282, 2.3281, 2.3281, 2.328, 2.3279, 2.3278, 2.3277, 2.3274, 2.3274, 2.3272, 2.3196, 2.3167, 2.3223, 2.265, 2.1576, 2.1721, 2.1523, 2.1014, 1.9565, 2.1972, 1.7971, 2.1722, 2.0881, 1.8568, 1.7771, 1.6167, 1.8713, 1.0708, 2.0338, 1.7359, 1.3939, 0.1901, 1.2272, 2.6477, 2.647, 2.6467, 2.6466, 2.6464, 2.6462, 2.6462, 2.6462, 2.646, 2.6457, 2.6457, 2.6456, 2.6455, 2.6454, 2.6452, 2.6452, 2.645, 2.6449, 2.6446, 2.6446, 2.6446, 2.6446, 2.6445, 2.6445, 2.6444, 2.6443, 2.6442, 2.6442, 2.6441, 2.6439, 2.618, 2.5571, 2.502, 2.4586, 2.315, 2.5022, 2.5588, 1.9583, 2.3745, 2.535, 2.0446, 2.2623, 2.1415, 2.0598, 2.3289, 2.0249, 1.8174, 2.1313, 1.2715, 2.0168, 1.5454, 2.194, 1.4386, 0.9124, 0.2848, 2.843, 2.8422, 2.842, 2.8419, 2.8417, 2.8416, 2.8415, 2.8415, 2.8413, 2.8411, 2.8411, 2.8406, 2.8406, 2.8404, 2.8402, 2.84, 2.8398, 2.8394, 2.8393, 2.839, 2.8389, 2.8389, 2.8388, 2.8388, 2.8387, 2.8387, 2.8385, 2.8384, 2.8383, 2.8377, 3.0352, 3.035, 3.035, 3.0347, 3.0346, 3.0345, 3.0343, 3.0342, 3.0339, 3.0337, 3.0336, 3.0336, 3.0334, 3.0334, 3.0333, 3.0333, 3.0332, 3.0331, 3.033, 3.0329, 3.0329, 3.0328, 3.0328, 3.0328, 3.0327, 3.0326, 3.0325, 3.0322, 3.0322, 3.032, 3.0215, 3.0166, 3.0117, 2.9864, 2.9535, 2.8777, 2.9304, 2.9679, 2.9759, 2.8567, 2.6231, 2.8228, 2.3917, 2.2236, 2.1202, 2.2902, 2.1943, 3.3511, 3.3508, 3.3504, 3.3503, 3.3501, 3.3499, 3.3495, 3.3495, 3.3495, 3.3493, 3.3493, 3.3492, 3.3491, 3.3491, 3.349, 3.349, 3.3488, 3.3487, 3.3487, 3.3483, 3.3482, 3.3476, 3.3476, 3.3472, 3.3471, 3.3466, 3.3466, 3.3464, 3.3461, 3.3461, 3.3304, 3.2766, 3.1604, 3.1498, 2.8705, 2.894, 2.4766, 3.0473, 3.178, 3.0491, 2.1065, 1.2055, 2.0351, 1.785, 3.5454, 3.5444, 3.5441, 3.5441, 3.544, 3.544, 3.5439, 3.5436, 3.5432, 3.5432, 3.543, 3.5429, 3.5429, 3.5428, 3.5426, 3.5425, 3.5423, 3.5416, 3.5415, 3.5409, 3.5407, 3.5403, 3.5403, 3.5402, 3.5396, 3.5396, 3.5394, 3.5384, 3.5381, 3.5372, 3.5343, 3.5084, 3.4339, 3.4753, 3.457, 3.4773, 3.3759, 3.4542, 3.4169, 2.4683, 3.3591, 2.7945, 2.2823, 1.8664, 3.9587, 3.9586, 3.9584, 3.9583, 3.9574, 3.957, 3.9569, 3.9568, 3.9555, 3.9548, 3.9548, 3.9546, 3.9541, 3.9536, 3.9533, 3.9532, 3.9532, 3.9526, 3.9525, 3.9525, 3.9522, 3.9518, 3.9515, 3.9504, 3.9502, 3.9492, 3.9488, 3.9477, 3.9477, 3.9476, 3.4781, 3.5157, 2.4445, 2.9726, 2.0154, 2.8727, 1.5588, 1.8059, 1.9894, 2.9028, 1.7179, 4.0372, 4.037, 4.0354, 4.0351, 4.0348, 4.0348, 4.0347, 4.0343, 4.034, 4.0339, 4.0335, 4.0333, 4.033, 4.033, 4.0329, 4.0321, 4.0321, 4.032, 4.0314, 4.0312, 4.0311, 4.031, 4.0308, 4.0305, 4.0302, 4.0299, 4.0296, 4.0295, 4.0294, 4.0293, 3.466, 3.5058, 2.59, 1.3631, 2.4553, 3.1271, 2.9329, 1.9208, 4.2991, 4.2989, 4.2987, 4.2985, 4.2984, 4.298, 4.2979, 4.2976, 4.2973, 4.2968, 4.2967, 4.296, 4.2959, 4.2953, 4.2952, 4.2947, 4.2947, 4.2947, 4.2946, 4.2946, 4.2944, 4.2942, 4.2942, 4.2937, 4.2936, 4.2934, 4.2928, 4.2923, 4.2922, 4.2921, 4.2263, 4.0274, 4.2609, 3.8454, 3.1506, 4.4769, 4.4768, 4.4767, 4.4757, 4.4757, 4.4754, 4.4739, 4.4729, 4.4724, 4.4722, 4.472, 4.4713, 4.4712, 4.471, 4.471, 4.4708, 4.4706, 4.4698, 4.4695, 4.4692, 4.4691, 4.4691, 4.469, 4.4688, 4.4676, 4.4662, 4.4647, 4.4636, 4.4616, 4.4609, 4.398, 4.3922, 4.1708, 4.1464, 3.4783, 2.2485, 0.374, 4.9183, 4.9167, 4.9166, 4.9157, 4.9146, 4.9143, 4.9135, 4.9124, 4.9101, 4.9093, 4.9092, 4.908, 4.9044, 4.9044, 4.9024, 4.9023, 4.9018, 4.8961, 4.8925, 4.8683, 4.7761, 4.7676, 4.3374, 4.2266, 3.9828, 3.5042, 3.2641, 2.9434, 2.8737, 2.0554, 1.7961, 1.5014, 1.0666, 5.178, 5.1764, 5.1754, 5.1739, 5.1737, 5.1676, 5.1671, 5.1665, 5.1641, 5.1637, 5.1629, 5.1583, 5.1552, 5.1425, 5.1394, 5.1376, 5.1376, 5.1263, 5.1191, 5.1148, 5.1141, 5.0983, 4.9204, 2.7762, 2.4953, 2.4236, 1.9881, 1.8935, 1.8929, 1.8926, 5.3346, 5.3318, 5.3316, 5.3306, 5.3284, 5.3279, 5.3279, 5.3269, 5.3261, 5.3256, 5.3249, 5.3228, 5.3211, 5.3207, 5.3206, 5.3199, 5.319, 5.3188, 5.3176, 5.3174, 5.3154, 5.3143, 5.3111, 5.3111, 5.3111, 5.3088, 5.3018, 5.292, 5.2682, 5.2637, 5.5132, 5.5112, 5.5098, 5.5079, 5.5078, 5.5068, 5.5057, 5.5022, 5.5016, 5.5007, 5.4997, 5.4971, 5.496, 5.4887, 5.4831, 5.4787, 5.4784, 5.4773, 5.4734, 5.464, 5.4596, 5.4592, 5.4487, 5.4273, 5.4192, 5.3639, 5.2724, 4.7553, 4.3091, 4.0584, 5.5884, 5.5877, 5.5873, 5.5868, 5.5865, 5.5856, 5.5842, 5.5831, 5.5831, 5.583, 5.5816, 5.581, 5.5808, 5.5761, 5.5746, 5.5743, 5.5739, 5.5734, 5.5672, 5.5618, 5.5522, 5.5516, 5.5256, 5.4991, 5.4991, 5.4991, 5.4989, 5.4484, 2.2703, 2.2702, 6.1369, 6.1351, 6.1245, 6.1194, 6.1163, 6.1114, 6.111, 6.1093, 6.101, 6.0947, 6.0857, 6.0802, 6.0751, 6.0627, 6.016, 6.0084, 6.0011, 6.0011, 5.9729, 5.91, 5.7593, 5.7078, 4.1847, 2.5698, 2.5697, 2.5697, 2.5697, 2.5697, 2.5697, 2.5697, 2.5696, 2.5697, 2.5696, 6.5971, 6.5952, 6.581, 6.5696, 6.5631, 6.5561, 6.5549, 6.5387, 6.5295, 6.5283, 6.5252, 6.4655, 2.7288, 2.7288, 2.7288, 2.7288, 2.7288, 2.7288, 2.7288, 2.7288, 2.7288, 2.7288, 2.7288, 2.7288, 2.7288, 2.7288, 2.7288, 2.7288, 2.7288, 2.7288, 2.7288, 2.7288, 2.7288, 2.7287, 2.7287, 2.7286]}, \"token.table\": {\"Topic\": [16, 4, 3, 8, 7, 12, 5, 1, 2, 3, 4, 3, 2, 14, 13, 9, 2, 1, 12, 18, 14, 1, 2, 3, 4, 5, 11, 2, 12, 1, 5, 2, 16, 3, 14, 3, 5, 7, 1, 2, 3, 5, 7, 4, 9, 13, 13, 2, 1, 2, 11, 4, 17, 7, 8, 13, 15, 4, 3, 8, 20, 2, 9, 14, 9, 6, 1, 2, 9, 12, 15, 2, 20, 20, 9, 1, 4, 19, 4, 1, 4, 12, 4, 1, 2, 7, 9, 3, 5, 8, 15, 3, 7, 5, 8, 2, 8, 7, 10, 3, 7, 3, 4, 6, 6, 6, 10, 18, 6, 2, 3, 5, 8, 7, 12, 2, 12, 17, 10, 17, 2, 3, 1, 1, 5, 9, 7, 11, 1, 11, 14, 18, 4, 7, 13, 8, 4, 4, 4, 5, 9, 7, 4, 14, 17, 8, 6, 18, 2, 4, 5, 10, 13, 19, 7, 16, 11, 3, 16, 1, 2, 4, 8, 19, 11, 12, 17, 17, 3, 8, 7, 4, 11, 11, 9, 19, 1, 4, 20, 8, 14, 16, 19, 3, 16, 17, 9, 1, 7, 9, 1, 2, 1, 9, 10, 8, 13, 5, 9, 9, 6, 1, 3, 5, 12, 12, 10, 10, 1, 2, 9, 5, 8, 11, 2, 4, 7, 7, 2, 7, 19, 9, 10, 11, 10, 12, 2, 5, 8, 11, 3, 8, 11, 12, 16, 7, 1, 3, 8, 16, 15, 7, 20, 4, 15, 3, 14, 6, 8, 6, 13, 10, 1, 2, 14, 4, 13, 14, 18, 18, 2, 9, 15, 2, 2, 1, 6, 4, 11, 2, 1, 18, 7, 3, 19, 8, 3, 14, 12, 3, 10, 5, 13, 10, 1, 2, 4, 4, 4, 17, 16, 18, 13, 4, 1, 4, 17, 6, 12, 8, 1, 4, 4, 4, 10, 5, 1, 2, 5, 15, 19, 16, 7, 3, 4, 5, 10, 1, 3, 4, 5, 5, 7, 11, 1, 2, 4, 5, 10, 11, 13, 5, 14, 11, 18, 17, 1, 3, 4, 5, 14, 7, 1, 4, 7, 9, 13, 13, 3, 16, 18, 11, 5, 8, 18, 4, 10, 15, 10, 13, 1, 2, 3, 16, 1, 2, 4, 5, 10, 5, 1, 2, 1, 4, 1, 2, 9, 13, 3, 15, 4, 13, 7, 12, 11, 9, 2, 4, 15, 6, 1, 12, 8, 1, 2, 3, 7, 14, 13, 2, 5, 8, 11, 2, 10, 10, 5, 6, 1, 2, 3, 10, 12, 7, 10, 4, 19, 10, 6, 1, 5, 3, 7, 15, 6, 14, 3, 4, 11, 1, 2, 9, 11, 3, 9, 14, 3, 3, 4, 8, 13, 19, 5, 3, 2, 18, 15, 8, 12, 1, 10, 15, 16, 7, 1, 4, 8, 19, 19, 2, 8, 3, 10, 1, 2, 7, 13, 1, 2, 3, 17, 13, 14, 18, 7, 13, 2, 4, 10, 13, 11, 9, 6, 1, 4, 5, 7, 10, 17, 1, 2, 7, 18, 1, 5, 18, 8, 4, 1, 4, 7, 2, 7, 1, 1, 2, 3, 6, 8, 2, 3, 4, 8, 1, 4, 7, 16, 13, 1, 2, 3, 2, 4, 1, 1, 2, 6, 3, 3, 5, 1, 2, 3, 5, 4, 7, 19, 1, 3, 4, 11, 13, 8, 5, 17, 6, 1, 4, 9, 11, 15, 3, 15, 14, 1, 3, 8, 12, 2, 9, 1, 2, 2, 11, 11, 12, 1, 2, 14, 2, 11, 4, 17, 17, 13, 15, 8, 16, 6, 2, 3, 7, 6, 14, 1, 2, 7, 9, 13, 13, 15, 9, 11, 4, 13, 19, 1, 2, 3, 5, 8, 9, 1, 2, 2, 3, 4, 8, 5, 2, 3, 10, 19, 2, 1, 2, 3, 1, 2, 14, 13, 7, 12, 15, 12, 1, 3, 4, 8, 10, 11, 17, 4, 8, 13, 13, 10, 3, 9, 2, 3, 4, 1, 1, 3, 11, 1, 2, 3, 6, 8, 17, 5, 2, 18, 3, 16, 12, 1, 2, 4, 5, 6, 8, 17, 1, 2, 9, 3, 15, 17, 9, 17, 1, 4, 7, 9, 13, 2, 1, 16, 20, 8, 7, 19, 2, 10, 9, 10, 5, 11, 10, 3, 17, 18, 15, 19, 5, 15, 16, 1, 5, 10, 7, 19, 9, 13, 6, 5, 8, 2, 4, 9, 12, 12, 20, 17, 5, 4, 5, 6, 8, 1, 8, 5, 8, 5, 9, 1, 4, 5, 8, 12, 3, 11, 6, 3, 5, 11, 4, 9, 9, 1, 4, 1, 3, 4, 5, 8, 9, 18, 1, 8, 4, 15, 6, 8, 1, 3, 4, 5, 7, 11, 19, 11, 2, 12, 16, 5, 2, 9, 1, 17, 10, 1, 2, 7, 1, 4, 14, 4, 5, 6, 13, 8, 18, 5, 9, 1, 4, 9, 13, 12, 3, 4, 7, 11, 1, 3, 4, 5, 8, 11, 1, 3, 5, 11, 12, 4, 16, 9, 9, 1, 5, 13, 6, 8, 7, 1, 2, 7, 9, 1, 16, 11, 2, 18, 19, 2, 3, 10, 10, 13, 1, 2, 18, 1, 11, 3, 11, 18, 6, 1, 2, 4, 7, 6, 18, 1, 5, 5, 11, 10, 20, 3, 5, 15, 17, 2, 4, 5, 10, 8, 4, 11, 14, 8, 8, 1, 2, 4, 1, 8, 3, 4, 7, 1, 4, 13, 12, 11, 1, 3, 1, 3, 5, 7, 19, 7, 11, 18, 5, 15, 15, 15, 1, 2, 5, 10, 2, 11, 13, 6, 2, 5, 7, 13, 1, 4, 3, 19, 13, 8, 1, 5, 1, 2, 1, 13, 11, 20, 16, 11, 12, 11, 6, 16, 17, 20, 10, 11, 17, 1, 2, 5, 7, 10, 10, 1, 4, 9, 1, 4, 18, 7, 7, 2, 1, 2, 7, 4, 11, 1, 6, 17, 1, 3, 4, 9, 1, 2, 3, 20, 5, 1, 3, 5, 8, 16, 1, 2, 4, 7, 5, 9, 8, 3, 16, 10, 17, 8, 11, 1, 2, 7, 13, 1, 13, 3, 8, 3, 4, 1, 2, 1, 2, 16, 2, 11, 1, 2, 4, 5, 7, 16, 2, 10, 14, 5, 4, 7, 10, 11, 2, 13, 12, 5, 2, 17, 11, 9, 11, 14, 7, 14, 13, 4, 1, 2, 3, 13, 13, 2, 4, 5, 10, 14, 16, 12, 9, 4, 1, 6, 14, 16, 18, 14, 11, 1, 3, 5, 8, 14, 14, 5, 1, 2, 11, 3, 3, 3, 13, 9, 15, 16, 19, 9, 2, 1, 2, 3, 7, 13, 12, 9, 1, 2, 5, 13, 9, 2, 4, 20, 1, 2, 10, 3, 7, 4, 5, 5, 18, 10, 7, 18, 10, 14, 10, 12, 12, 7, 1, 4, 1, 2, 3, 5, 13, 14, 1, 4, 7, 13, 1, 13, 1, 2, 3, 1, 1, 2, 4, 10, 11, 13, 1, 4, 7, 10, 12], \"Freq\": [0.9667069549926475, 0.9990615085060071, 0.1724793558901895, 0.8252245044746135, 0.9971243931151965, 0.9922337461244853, 0.997872942806452, 0.9891364430536512, 0.010418817043356432, 0.9465473834536374, 0.0525859657474243, 0.9977753463013185, 0.9983355037670639, 0.9865228991615741, 0.9906781922482631, 0.996353869836349, 0.9968663382426164, 0.9994039060103204, 0.9975630975994701, 0.976530491147342, 0.4155496518882567, 0.4948015150945822, 0.05403005049883369, 0.3094600415567874, 0.08313602197498558, 0.05837921865044259, 0.995018311958575, 0.9987505939495609, 0.9882584740046674, 0.9650017465966153, 0.034384260529391406, 0.9985165767964502, 0.995374706511742, 0.807651430869266, 0.19105732773251455, 0.9989010014344273, 0.9963906268465188, 0.9960037817259532, 0.06014040397102512, 0.013631824900099027, 0.057734787812184114, 0.3937191779969778, 0.47390638329167795, 0.9984547158384616, 0.933261028691323, 0.06369437287804282, 0.9982662642294337, 0.997764706763476, 0.7339695944267275, 0.2659295420227333, 0.9929131345199306, 0.9982210716668657, 0.9757231889838902, 0.8995207977547075, 0.09546800919566471, 0.0031822669731888234, 0.9587553829928318, 0.9983480598057274, 0.947900999683112, 0.05125499397485452, 0.9077503860648233, 0.7866531555141287, 0.08189813673845724, 0.1293128474817746, 0.9950941306279156, 0.9999757371408979, 0.00644459694337998, 0.9932261171562088, 0.9940554596312746, 0.9925817383989839, 0.9909181490120884, 0.9977186242200758, 0.8544931172338676, 0.9862287742257574, 0.9971076523254739, 0.3677446810155682, 0.6315459336739094, 0.843085088007528, 0.9989446487508598, 0.3116826188117435, 0.6880212599444347, 0.9961902026640175, 0.997844919855107, 0.005241696460928978, 0.9939566914036575, 0.9988623643237026, 0.9972461548082843, 0.08312244441532102, 0.2982360230945309, 0.6179377323842271, 0.9505377983175199, 0.017183056839952183, 0.9807560134803476, 0.9975539640576236, 0.9960936033354904, 0.18166480856045153, 0.8167017915282908, 0.9959461939652737, 0.9939107142368688, 0.9983482952501346, 0.9974059685255143, 0.20406769657012466, 0.7953124823084319, 0.9957215820017992, 0.9977606787948479, 0.9985616245302162, 0.9917026208664909, 0.9831722696249661, 0.9968914157725676, 0.1724870289225011, 0.2782700896288787, 0.5363268555559018, 0.012801771677841878, 0.9959075168965259, 0.9979627708615023, 0.9993663891546632, 0.9966294501236491, 0.9913586199576105, 0.9957351422749797, 0.9806562213088019, 0.9994992686318943, 0.9995322797608729, 0.9982897452236732, 0.8063611398906309, 0.10986994631146457, 0.08361783524589339, 0.9206566181442714, 0.0783965242524598, 0.9981555963047538, 0.9956713920504232, 0.9967797475221132, 0.9145294904709447, 0.551779493191739, 0.44363852994518804, 0.0039087095149355775, 0.9993789202362983, 0.9993030121388651, 0.9969973676850697, 0.9984012815660486, 0.996019113459361, 0.9986491323975317, 0.9987459606662816, 0.9992102967991179, 0.9890529573626163, 0.9077833419196153, 0.99815719627627, 0.9984695069048987, 0.9901290014073589, 0.37591477911970267, 0.02484724552816798, 0.43763213091547476, 0.05290058725351893, 0.10740422260562933, 0.980907308600109, 0.9967501849457343, 0.9845720131157157, 0.9937053652288483, 0.9988007945292806, 0.9991279532340638, 0.07143307233440764, 0.644794104257485, 0.28362511906227933, 0.9961293675907505, 0.9266062289289042, 0.030645486550739995, 0.9622682776932359, 0.8103162729933144, 0.9598151318691011, 0.9327964287422598, 0.06634539355173186, 0.9979363245297481, 0.998423946629369, 0.9926148307053582, 0.9914324687507592, 0.9961922114479224, 0.9735139060601827, 0.9826880694331774, 0.016597527090018722, 0.9494593207770438, 0.9967344931767962, 0.9762104526891957, 0.9878424986726794, 0.9950625189606839, 0.9993160707325065, 0.9910600557364454, 0.9591746897704965, 0.9960999165916904, 0.002091652820546859, 0.1526906558999207, 0.8439819130906575, 0.08120473750558317, 0.9177247731795358, 0.9993370770103154, 0.996667917084678, 0.9937357395621094, 0.9985880844288545, 0.9937204440039844, 0.9976520938659744, 0.9985369140929649, 0.9975396312698853, 0.9956113366025638, 0.038913650618691245, 0.08921666239407261, 0.8636932210490008, 0.006643794008069237, 0.9921856849933746, 0.9965953704242643, 0.9941268811343639, 0.22611087085775414, 0.7732544039036464, 0.9913095158086349, 0.99783032784543, 0.927843097012064, 0.07094172572728054, 0.6980484528033066, 0.269071540177486, 0.03228858482129832, 0.9975117643370858, 0.9975370133978138, 0.9989862984577897, 0.8861952925794913, 0.2872619703103765, 0.6414587686542388, 0.06693482803348579, 0.9851524981005823, 0.9941147137445696, 0.02920609049223437, 0.680084678604886, 0.17419346829296928, 0.11578128730850054, 0.4246540778684931, 0.17083784741835928, 0.40268921177184686, 0.998396235369767, 0.9853448563186444, 0.9991162684327017, 0.99910633924164, 0.2595139864648586, 0.7381258467484093, 0.9179807365132986, 0.9578304947862326, 0.9976409952249087, 0.9899986278145951, 0.998748829574997, 0.9972145780468797, 0.9546739773683255, 0.043677894389400514, 0.9972493072456602, 0.9985429926490517, 0.9958827693735928, 0.9951382555643797, 0.9988507346257848, 0.4566119214712293, 0.29990487149885475, 0.24316611202609845, 0.817102990939893, 0.04008429766874947, 0.1387533380841328, 0.8867456065988184, 0.9948845375534501, 0.9958895423084497, 0.9963887474368576, 0.9996061497567037, 0.9989287981688011, 0.9965595273116766, 0.9982269339991157, 0.997625600796282, 0.43382002696424143, 0.5643187342624278, 0.9966955340203351, 0.9985232490209907, 0.9897534723430628, 0.997412862931968, 0.9992380116575436, 0.9866064560303245, 0.9990398090898496, 0.9982681027099437, 0.9786394408117356, 0.9953497089279287, 0.9992227756760077, 0.9937438623283057, 0.9987136257725442, 0.990817728566714, 0.9957758988337762, 0.9499887752374433, 0.041114585486345556, 0.008706618102990824, 0.9983678769277644, 0.9996901634298999, 0.9629953479526829, 0.9686766812974921, 0.97043403647071, 0.9913176514498854, 0.9994423800280174, 0.2560778549630824, 0.7428212586715367, 0.9523915955882056, 0.9958134953421237, 0.9964336252427797, 0.994749103634189, 0.6076020741594662, 0.3918181599719922, 0.9992163230902721, 0.9968854854386112, 0.996658863447004, 0.9977132805832845, 0.9992227935133992, 0.688149303537437, 0.2200837862664776, 0.09092663470164333, 0.9694622535191186, 0.9835650786620668, 0.9979951614124678, 0.9995149967500361, 0.186620743972031, 0.1929113308474927, 0.618574376087069, 0.7749100673292038, 0.1976280708624815, 0.006934318275876544, 0.020059992155214288, 0.9979721191767743, 0.997983971254791, 0.9977973674986264, 0.20243545112784414, 0.35473375989912503, 0.15014187254089106, 0.17628866183436762, 0.09057032167637236, 0.005121536047175817, 0.020755698717502, 0.9976619372618437, 0.9885020353406461, 0.9961968953387312, 0.9874332965597937, 0.9841555016322481, 0.03472661500702579, 0.3542114730716631, 0.4896452715990637, 0.12067498714941463, 0.9936003837044157, 0.9973746605236012, 0.02318804187537785, 0.1855043350030228, 0.6613632813151248, 0.08670311309923891, 0.0413352050821953, 0.9943091031380255, 0.9974053610673981, 0.9923783581638242, 0.9932886468370233, 0.9926486470904803, 0.9704417964756291, 0.02772690847073226, 0.9721522164618219, 0.9964468483959816, 0.9993268703138249, 0.995695934156677, 0.9951074891334596, 0.9932390548031399, 0.02979380068860667, 0.909231130220876, 0.06081718680245743, 0.9858926308420567, 0.9209489463760957, 0.04323703973596694, 0.02522160651264738, 0.005044321302529476, 0.005284527078840404, 0.9949345613325529, 0.0689225127899744, 0.9308998169248482, 0.9989082796342201, 0.9984728270224004, 0.3778407463889518, 0.6221263554828701, 0.9632606563266835, 0.03645010328508908, 0.9983208911673058, 0.9901544617456478, 0.0763523792862685, 0.9231696768248828, 0.2360892809154605, 0.7615783255337435, 0.9992980486234716, 0.9946932820845693, 0.9987278344557008, 0.996215068963707, 0.9501711703781246, 0.9985275449092638, 0.9995335530997604, 0.9948259863988416, 0.9949757611031417, 0.34562900158776505, 0.0904575902592979, 0.5633347691894335, 0.5927676393513845, 0.39517842623425636, 0.981563990893449, 0.41113673282214575, 0.5469944831046533, 0.028062420550157292, 0.013363057404836806, 0.6260450534210468, 0.37299413229524986, 0.9937825444652263, 0.9959075905317952, 0.9975093982751577, 0.00623571640047945, 0.8464985013650853, 0.14705897844464036, 0.06803477626155949, 0.9277469490212658, 0.9958164911849271, 0.991118463025889, 0.9978995431574219, 0.9288228261343986, 0.9944075583464723, 0.9974066550219136, 0.9896300132780309, 0.009475811018820165, 0.9985476388012814, 0.9970943765433922, 0.9847072990482313, 0.995087767764673, 0.9446230528394214, 0.8384712198819103, 0.15233672089435002, 0.008669569481792278, 0.06086671831565138, 0.4226217422671643, 0.3112241634630476, 0.20556872789625655, 0.16779719777423016, 0.8303068234690355, 0.8859403973209277, 0.9988535117491525, 0.751769314244028, 0.03905865088600029, 0.208897953053215, 0.9934238695931015, 0.7777290203974656, 0.998802070494241, 0.9983349528451582, 0.9978533754640256, 0.9828238864094218, 0.965197257767281, 0.9973638135713677, 0.9980391948275746, 0.9983015150466139, 0.9884638672578318, 0.9253656176645395, 0.9557534249789931, 0.9990613086941363, 0.37457649141693267, 0.5748451105903423, 0.05033206037426959, 0.9151531281099363, 0.85462626602565, 0.9985241604667409, 0.9997116198732594, 0.9688172571793261, 0.030221572193650993, 0.002278807292094246, 0.9958387866451853, 0.9856319583720349, 0.013641964821758267, 0.8952211373387845, 0.10219472463906384, 0.00244151219274214, 0.9774684539192714, 0.9784441092045579, 0.9941742979202157, 0.8869269825937612, 0.9412314955901356, 0.05585329754051355, 0.807856335759168, 0.07286547342141515, 0.11631320912610991, 0.0022629029012861852, 0.9984268485740293, 0.9994360989371384, 0.9976758477802271, 0.13417219626789642, 0.15798974590125084, 0.5319252751449148, 0.0666891389733923, 0.10876680999231841, 0.991737982521874, 0.9979632536358348, 0.5990935306005974, 0.40017347808374865, 0.9898223262705005, 0.17171634822967252, 0.8272687600005988, 0.9924623331645561, 0.9982346577778927, 0.9973981544470013, 0.031859480704843395, 0.9362786166321324, 0.030559093737298766, 0.9757560306590657, 0.023013113930638342, 0.998066950681786, 0.22014799376243835, 0.5826434393165393, 0.19696848125787095, 0.00022950012380759796, 0.9953239091460208, 0.05999678950672375, 0.9249010025937512, 0.014850690471961324, 0.9974893913562531, 0.047429256334573254, 0.09850691700257522, 0.8537266140223185, 0.9897765925054753, 0.9916345644890034, 0.0628719674853731, 0.7909007727989548, 0.14598680328990044, 0.930210834495955, 0.06942986164375908, 0.9992620372168243, 0.20276591924340331, 0.786084018273279, 0.010853231021524561, 0.9993247812985274, 0.99949247631967, 0.9975562057251268, 0.9534593465722597, 0.044271201947370865, 0.001568189714757006, 0.0006031498902911562, 0.841110377805354, 0.15824279989219373, 0.9423365115055715, 0.8274063687336013, 0.030534348441114, 0.14199713258794477, 0.9958833638630128, 0.9895986080063501, 0.9976040983186362, 0.9966520252992936, 0.9565443394643957, 0.9982078857211579, 0.8033762200170737, 0.19612201609350974, 0.9139792174114487, 0.082358566843669, 0.9751851718945906, 0.9351870310996296, 0.06382869085064691, 0.9908664130595238, 0.2551146404801659, 0.4564333676416881, 0.28783586610696976, 0.9918241246995486, 0.9966705146153972, 0.9940169804500011, 0.998336688114164, 0.9974101149744702, 0.9969730259431454, 0.9931442681879207, 0.9981330871571914, 0.9989122127883235, 0.0954464530864295, 0.9038921564677541, 0.9978122528276817, 0.9988107930444452, 0.996349972955096, 0.6982030611205083, 0.298137803471166, 0.9953592921902643, 0.9936589615198799, 0.9970534295890175, 0.9980571906369877, 0.9944193036958924, 0.9987471443808584, 0.9050616171067357, 0.07441411034793305, 0.019533703966332427, 0.9965975947710556, 0.9847180112922445, 0.5606405676176079, 0.4389820968667785, 0.8085038059672087, 0.02963965072792211, 0.1613714317409093, 0.9905204539101758, 0.9914591965411989, 0.9894165880645479, 0.009854746893073186, 0.9972805780736557, 0.9898677578583955, 0.9767633311965803, 0.20640517441403283, 0.32991163453741434, 0.3795667019805456, 0.019988268674141815, 0.0639624597572538, 0.9913698451146201, 0.8758177632437769, 0.12381705505659538, 0.533415623651881, 0.2612138306834586, 0.11087852851190785, 0.09414685866889473, 0.9986550631915737, 0.8066597058962669, 0.08653820599653439, 0.10631836736717082, 0.9958688961906612, 0.9958651361668767, 0.014649990279082932, 0.9068907443916915, 0.07832110187663567, 0.5443632209965426, 0.43212338161581215, 0.020577303886467245, 0.9961860497888616, 0.9348867645865814, 0.06319314114501744, 0.9534623601845089, 0.9927678183412305, 0.49798330836861515, 0.4622306605883043, 0.02521838548789782, 0.009895822153478891, 0.004149860903071793, 0.00915989728099643, 0.9846889577071162, 0.1567701524422063, 0.8403908171901878, 0.981563121815679, 0.996391111203912, 0.9937182187045724, 0.08320272167221472, 0.9124565143386215, 0.9284554692217749, 0.06087421253426349, 0.00989824594053065, 0.9989819714349961, 0.9995707329830356, 0.9977639020361839, 0.9968498545200998, 0.25775014426442017, 0.6312793869271676, 0.11021999118067904, 0.0006414354481901788, 0.9986451182819, 0.9543704228161091, 0.9960995259394468, 0.9983168006782714, 0.9960913183307702, 0.998088526571174, 0.9766269088868633, 0.9921544953799752, 0.24268738877311904, 0.052296272328214204, 0.33175447758210885, 0.332163042209673, 0.007762727923719296, 0.03309373483269805, 0.9947846801448949, 0.9990691151175158, 0.9538152381398182, 0.04524024844931944, 0.9303342329226983, 0.06875930500884445, 0.9946387241170406, 0.9925649010821015, 0.992824477376971, 0.850005685291055, 0.07382678487269727, 0.05312535533069094, 0.0064847851577369215, 0.016461377708101417, 0.9978290410578196, 0.9985601931964796, 0.9698347334482755, 0.9725960792388247, 0.9984710205940222, 0.9987747178855657, 0.8656650391078163, 0.6604555659961199, 0.33743799660063767, 0.9977485151198127, 0.9946080632738479, 0.9952944958221912, 0.9937099239009332, 0.9991496099549682, 0.9989293320575287, 0.9634796478796638, 0.9858864816007603, 0.9883661111758013, 0.9764672801107049, 0.954593013635883, 0.04314544694399471, 0.9690332015390344, 0.9614900355646517, 0.006778400467646677, 0.03128492523529235, 0.8556177878655767, 0.1422543021390201, 0.9308111795798201, 0.06503484224138481, 0.9974774354766737, 0.8924879099163423, 0.10467450795315125, 0.4044885196010462, 0.09144469999302432, 0.18625546256247896, 0.3164098821844522, 0.9911890182292024, 0.9189986936948317, 0.9884128298604008, 0.9974476806807384, 0.8536448209830108, 0.14511961956711183, 0.9982523666907245, 0.9966901605929236, 0.2610625253603869, 0.7381232115844272, 0.9997436508341397, 0.9953705492614598, 0.9978135946943876, 0.9968095623716803, 0.0025164281421415306, 0.046553920629618314, 0.7272477330789022, 0.22270389057952544, 0.9916873384841989, 0.9978721660658948, 0.001803166183711411, 0.9972714274196373, 0.2961408793085651, 0.3686651762820912, 0.330388463990508, 0.9962896878063053, 0.998573343475467, 0.9976066982345237, 0.01037460155585403, 0.9886995282728891, 0.002634467930813868, 0.20285403067266783, 0.36829861672777875, 0.11644348254197297, 0.2681888353568518, 0.041097699720696344, 0.9657713017278566, 0.3666713296008292, 0.633066809590888, 0.9980649731045811, 0.9632132420982101, 0.9975269880031256, 0.9975218724860704, 0.9493550841578499, 0.024785157667952078, 0.008633032446140611, 0.016709095057046344, 0.9974260165929946, 0.3205676501807559, 0.6411353003615118, 0.9931772366982482, 0.36387640036416047, 0.6336895135593543, 0.9927455039587988, 0.9957055132135969, 0.5270773448611749, 0.4715955190863144, 0.999312785479301, 0.9941747040423068, 0.9924211398823654, 0.3142144565310954, 0.6849519102002208, 0.9985403320517163, 0.4131961956091046, 0.5865589472450985, 0.9975099414506733, 0.08611489807867787, 0.9130254254124882, 0.9941071098423847, 0.9917481778614832, 0.9951365752877922, 0.9854783834032921, 0.8636116570600003, 0.13427177706939933, 0.999246472585326, 0.9983800163779573, 0.9935493871522608, 0.9904157442493171, 0.99773910390348, 0.2363030052411358, 0.1181515026205679, 0.5247956312717249, 0.12032607015346179, 0.2126311013270074, 0.16288087569600887, 0.009541139162109306, 0.5554306012227918, 0.04089059640903989, 0.017719258443917283, 0.39548851302534827, 0.34711941431001786, 0.021813515106913692, 0.23520659767454763, 0.9948777494574241, 0.9966663853055919, 0.9811171302426208, 0.9930924630964182, 0.9932063366228597, 0.3990913286831664, 0.5969018133348227, 0.003470359379853621, 0.9988650244477518, 0.9972916215745862, 0.9954259724534721, 0.47127216828247465, 0.18061638655592427, 0.007588923804870767, 0.34048971471186845, 0.9981140341195555, 0.9783466815068199, 0.9937478238114879, 0.9968739005790679, 0.9905065523010157, 0.9647914083748527, 0.25390585882469047, 0.6026365101342775, 0.1431729597058144, 0.0748603985246307, 0.9182875552354698, 0.36136664815969444, 0.6383213958805413, 0.9887581944262086, 0.4103157139524976, 0.5877495362022263, 0.9991848375613895, 0.9965036813357027, 0.9583248322090518, 0.9971069337717763, 0.843663746314606, 0.011424844316382384, 0.11757606772199347, 0.027175600558385284, 0.9984411937218415, 0.976768679607805, 0.9984649956607407, 0.9986479885351353, 0.9150277310123722, 0.08336919327001613, 0.9974100690061724, 0.94360950496827, 0.9986490709085263, 0.9957717054571674, 0.9966131187452237, 0.997040928189125, 0.48340499261989656, 0.10122896658808153, 0.27434517031842387, 0.13937321486764848, 0.9974824088089865, 0.3531916090852971, 0.08603385349513648, 0.5584653647929911, 0.9981424830072989, 0.9987696496855225, 0.8634967666078569, 0.13314323860707294, 0.003223807230195471, 0.9994672409132233, 0.997943791364816, 0.8954603485171643, 0.06284737077195261, 0.04128659393777909, 0.14587498633898452, 0.8531132469552285, 0.9927270408336225, 0.9950358477503867, 0.9972101038617948, 0.9983080895539168, 0.9986822201982064, 0.03715028354798571, 0.4617921322040756, 0.4359280107466172, 0.06489543202053201, 0.9687924093649691, 0.9986403004966329, 0.9941000934846491, 0.8875659772592004, 0.9984468895576539, 0.7500937845447384, 0.9708985118496047, 0.9833421825877235, 0.03333301021089726, 0.17777605445811873, 0.7611037331488207, 0.02777750850908105, 0.9960692349423366, 0.9929185416373587, 0.9897907346569955, 0.9993460947672151, 0.3437995746780984, 0.6022313091426735, 0.04811641902944041, 0.004656427648010363, 0.00650252578008295, 0.9927189357593303, 0.9994806929425156, 0.85462626602565, 0.9983181371714244, 0.9952391527720382, 0.3641134159730291, 0.6355825900120922, 0.9987112549160925, 0.9982711596494737, 0.9983819476957502, 0.9886291830006867, 0.9991070137146735, 0.9052506235984537, 0.9878826189382004, 0.9890193185796533, 0.9916812201482249, 0.9908744817396677, 0.997698172700586, 0.9873909608666622, 0.904140333250856, 0.9532584341663571, 0.9881199756673217, 0.2115601526318193, 0.78355612085859, 0.11525483815140518, 0.7413083558921119, 0.06861474800453304, 0.07399629686763368, 0.9877465151072157, 0.9938852850870571, 0.022707688309986873, 0.08314507411964425, 0.8939842213116371, 0.011720756697417622, 0.9860086571702575, 0.9905911896041686, 0.997293725711899, 0.996107731187331, 0.9963233956806555, 0.20714105954644554, 0.36072473487555917, 0.43082189951294947, 0.8753635904010373, 0.12303792778696863, 0.9982623913131184, 0.9939547739683076, 0.9411525854540742, 0.06121009050317781, 0.6774963008685064, 0.10097049117190869, 0.15956476584161736, 0.796195519379689, 0.19565964443108785, 0.007694480398975365, 0.9724567656699323, 0.9978190563881324, 0.01857457780939166, 0.49811824792067527, 0.06630924551309711, 0.4168295041741978, 0.9703438499181245, 0.6170228486400157, 0.3417389669529739, 0.0048369207630267076, 0.03638205617407045, 0.716936076565218, 0.28285167023595353, 0.996686446288613, 0.9990677519343691, 0.9948520675657911, 0.9993705376714969, 0.9485236317130876, 0.9791800482478531, 0.019720124906618265, 0.7355663913352939, 0.26410279559655747, 0.272815566389976, 0.7186361261004247, 0.2615179562180994, 0.7355192518634046, 0.9784940877983649, 0.02049202278111759, 0.999559137332131, 0.9968379851129229, 0.9324189597511092, 0.06730564445099961, 0.9519900317423244, 0.04787695564272772, 0.9165239436460041, 0.9950585470589971, 0.990736103198333, 0.4104996803689698, 0.47853236215103245, 0.01673941831657976, 0.09414003145012288, 0.00015357264510623635, 0.991242407947814, 0.8324687591358345, 0.1323240079914103, 0.033499748858584893, 0.9946907050143807, 0.0707975291612653, 0.4551269731795627, 0.34791928616393236, 0.12338997939534811, 0.6284472094589151, 0.367274343190275, 0.9926304572560495, 0.9979574430640268, 0.5295617878034699, 0.4667678999216355, 0.9945412874521369, 0.8800093066295642, 0.06134113129321359, 0.05662258273219716, 0.9983394028538989, 0.987523322082507, 0.9921988256539006, 0.9988616634228848, 0.7677056780259651, 0.09836962663390808, 0.13358548342408996, 0.9975638817639051, 0.9964057259235465, 0.9170987264398501, 0.06488532835898853, 0.017408258828021314, 0.9916188940566644, 0.9856270718060697, 0.9821641024385072, 0.9979186007218408, 0.9962896379828854, 0.9976075973013855, 0.994578554193987, 0.00453110958630518, 0.9877095352746597, 0.9870983182094507, 0.9965479324664483, 0.9872563206969156, 0.9940027610059557, 0.07407713590300645, 0.3071180827566705, 0.5016897873602755, 0.11699736485968401, 0.9959053131104009, 0.8180977853369714, 0.9984584099480642, 0.19316104550383484, 0.8064303012819112, 0.9955267367398899, 0.9990488166624379, 0.9987557377910311, 0.9986226109020269, 0.9973501933213167, 0.9946277166223894, 0.9156383063476511, 0.9817716551970885, 0.9212582712538021, 0.9980425098171989, 0.9979841380811637, 0.5803227248376687, 0.3711859533866667, 0.04836022706980572, 0.9513076697031063, 0.047565383485155315, 0.9968668829059922, 0.9975748390726293, 0.9581055759889369, 0.02670677563732228, 0.005118798663820104, 0.009792484400351503, 0.9982400338625157, 0.9551016085140493, 0.0440211440961208, 0.9636311876897095, 0.6393954131446807, 0.35315539918610805, 0.007234095700274094, 0.022106893062945766, 0.9758614223500346, 0.784894847272325, 0.21397259027398807, 0.9978181994739734, 0.8869269825937612, 0.9957996025360001, 0.9959206085844412, 0.8890416372831821, 0.9993832442294207, 0.9995765528589982, 0.9984581108660433, 0.9977261626352958, 0.9934990420716646, 0.9978709334257616, 0.1628126388530883, 0.8365953005352886, 0.07950983336653442, 0.4609531621582931, 0.19673586974027105, 0.2523927530968451, 0.009989697012718426, 0.9950785627598436, 0.36742350437749405, 0.6229166696731026, 0.0036499023613658353, 0.005474853542048752, 0.997049292706791, 0.9801886228667852, 0.8124116062119155, 0.18475088389349567, 0.002823387332228186, 0.9989813968142758, 0.06794669652435688, 0.5914873521147662, 0.04192455742992233, 0.21994903282200629, 0.06897932109159634, 0.009706670932050982, 0.06846546704017642, 0.017116366760044105, 0.8360686840483083, 0.07768197221866172, 0.995957487956578], \"Term\": [\"absurd\", \"accept\", \"access\", \"access\", \"account\", \"acquire\", \"actual\", \"actually\", \"actually\", \"address\", \"address\", \"advance\", \"advice\", \"afford\", \"aged\", \"agent\", \"ago\", \"agree\", \"air\", \"alarm\", \"alavi\", \"also\", \"also\", \"also\", \"also\", \"also\", \"ammunition\", \"amount\", \"amp\", \"answer\", \"answer\", \"anyway\", \"apple\", \"application\", \"application\", \"appreciate\", \"apr\", \"arab\", \"area\", \"area\", \"area\", \"area\", \"area\", \"argument\", \"arm\", \"arm\", \"armenian\", \"around\", \"article\", \"article\", \"astronomy\", \"atheist\", \"atom\", \"attack\", \"attack\", \"attack\", \"australian\", \"authority\", \"available\", \"available\", \"ave\", \"avoid\", \"avoid\", \"avoid\", \"aware\", \"ax\", \"back\", \"back\", \"ban\", \"band\", \"bank\", \"baseball\", \"batf_fbi\", \"battery\", \"bear\", \"become\", \"become\", \"bee\", \"belief\", \"believe\", \"believe\", \"benefit\", \"bible\", \"big\", \"big\", \"bike\", \"bill\", \"bit\", \"bit\", \"bit\", \"bk\", \"black\", \"black\", \"blank\", \"blind\", \"block\", \"block\", \"blood\", \"blue\", \"board\", \"bomb\", \"book\", \"book\", \"bounce\", \"box\", \"brain\", \"brave\", \"brief\", \"brown\", \"build\", \"build\", \"build\", \"build\", \"building\", \"bus\", \"buy\", \"cable\", \"camera\", \"canadian\", \"captain\", \"car\", \"card\", \"care\", \"case\", \"case\", \"case\", \"center\", \"center\", \"certainly\", \"channel\", \"character\", \"chase\", \"child\", \"child\", \"child\", \"chip\", \"christian\", \"christianity\", \"church\", \"circuit\", \"citizen\", \"city\", \"claim\", \"click\", \"clinton_gore\", \"clipper\", \"clipper_chip\", \"clock\", \"close\", \"close\", \"close\", \"close\", \"close\", \"closely\", \"club\", \"cmu\", \"collect\", \"color\", \"com\", \"come\", \"come\", \"come\", \"compile\", \"compiler\", \"component\", \"component\", \"comprehend\", \"comprise\", \"computer\", \"computer\", \"concept\", \"conclusion\", \"conference\", \"confirm\", \"connector\", \"conservative\", \"consider\", \"consider\", \"consult\", \"controller\", \"controversial\", \"cooperation\", \"cop\", \"copy\", \"corporation\", \"cosmic\", \"count\", \"country\", \"country\", \"country\", \"couple\", \"couple\", \"course\", \"court\", \"coverage\", \"cpu\", \"crack\", \"crash\", \"crime\", \"criminal\", \"crypto\", \"current\", \"current\", \"current\", \"current\", \"customer\", \"cycle\", \"cylinder\", \"d\", \"d\", \"danger\", \"data\", \"datum\", \"datum\", \"day\", \"day\", \"day\", \"dead\", \"dealer\", \"death\", \"deepak_chhabra\", \"defense\", \"defense\", \"defense\", \"deficit\", \"dept\", \"design\", \"design\", \"design\", \"design\", \"development\", \"development\", \"development\", \"device\", \"diagnostic\", \"die\", \"difference\", \"digital\", \"digital\", \"digital_equipment\", \"dinner\", \"direct\", \"directory\", \"discussion\", \"disk\", \"display\", \"display\", \"distance\", \"distribution\", \"distribution_usa\", \"distribution_world\", \"division\", \"do\", \"do\", \"do\", \"document\", \"document\", \"document\", \"dod_fxwg\", \"dog\", \"door\", \"draft\", \"drive\", \"driver\", \"drop\", \"drug\", \"dual\", \"earth\", \"earth\", \"eat\", \"effect\", \"electrical\", \"electronic\", \"email\", \"enable\", \"encryption\", \"engineering\", \"enhancement\", \"ensure\", \"entry\", \"era\", \"error\", \"escape\", \"european\", \"even\", \"even\", \"even\", \"event\", \"evidence\", \"evolve\", \"excellent_condition\", \"excerpt\", \"exclude\", \"exist\", \"explain\", \"explain\", \"explode\", \"export\", \"external\", \"facility\", \"fact\", \"fact\", \"faith\", \"family\", \"fan\", \"faq\", \"far\", \"fast\", \"fast\", \"fast\", \"fatal\", \"fee\", \"fight\", \"file\", \"final\", \"final\", \"final\", \"find\", \"find\", \"find\", \"find\", \"fine\", \"fire\", \"firearm\", \"first\", \"first\", \"first\", \"first\", \"first\", \"first\", \"first\", \"fix\", \"flag\", \"flight\", \"floppy\", \"flyer\", \"follow\", \"follow\", \"follow\", \"follow\", \"font\", \"foot\", \"force\", \"force\", \"force\", \"force\", \"force\", \"foreign\", \"format\", \"frame\", \"ftp_site\", \"fuel\", \"function\", \"function\", \"functionality\", \"future\", \"game\", \"gateway\", \"generate\", \"genocide\", \"get\", \"get\", \"get\", \"giant\", \"give\", \"give\", \"give\", \"give\", \"give\", \"gmt\", \"go\", \"go\", \"goal\", \"god\", \"good\", \"good\", \"government\", \"government\", \"graphic\", \"greatly_appreciate\", \"greek\", \"greek\", \"ground\", \"ground\", \"gun\", \"gun_control\", \"guy\", \"handle\", \"hassle\", \"headache\", \"hear\", \"heat\", \"helmet\", \"help\", \"help\", \"help\", \"helpful\", \"helpful\", \"hi\", \"high\", \"high\", \"high\", \"high\", \"hit\", \"hit\", \"hitter\", \"hole\", \"hopefully\", \"host\", \"host\", \"host\", \"hot\", \"hot\", \"house\", \"hr\", \"human\", \"hype\", \"ice\", \"ide\", \"idea\", \"idea\", \"image\", \"impression\", \"impressive\", \"improvement\", \"in\", \"include\", \"include\", \"include\", \"increase\", \"increase\", \"increase\", \"increase\", \"industry\", \"industry\", \"inferior\", \"info\", \"information\", \"information\", \"information\", \"inhabitant\", \"initialize\", \"input\", \"instal\", \"insurance\", \"intelligence\", \"interactive\", \"interface\", \"internal\", \"internet\", \"investment\", \"involved\", \"io\", \"israeli\", \"issue\", \"issue\", \"issue\", \"ist\", \"ists_ca\", \"job\", \"key\", \"keyword\", \"keyword\", \"kid\", \"kid\", \"kill\", \"kill\", \"know\", \"know\", \"know\", \"koresh\", \"kurd\", \"laboratory\", \"lady_cb\", \"land\", \"land\", \"last\", \"last\", \"last\", \"last\", \"launch\", \"law\", \"law_enforcement\", \"lead\", \"lead\", \"lead\", \"lead\", \"lead\", \"leafs\", \"learn\", \"leave\", \"leave\", \"length\", \"level\", \"level\", \"library\", \"license\", \"lie\", \"life\", \"life\", \"life\", \"light\", \"light\", \"likely\", \"line\", \"line\", \"line\", \"line\", \"link\", \"list\", \"list\", \"list\", \"listen\", \"live\", \"live\", \"live\", \"locate\", \"lock\", \"look\", \"look\", \"look\", \"lose\", \"lose\", \"lot\", \"m\", \"m\", \"m\", \"machine\", \"mail\", \"main\", \"make\", \"make\", \"make\", \"make\", \"man\", \"man\", \"manifest\", \"many\", \"many\", \"many\", \"mar\", \"massacre\", \"master\", \"material\", \"mathematical\", \"mb\", \"mean\", \"mean\", \"meet\", \"meet\", \"meg\", \"memory\", \"memory\", \"menu\", \"message\", \"message\", \"message\", \"middle\", \"mile\", \"million\", \"mind\", \"mine\", \"minute\", \"mirror\", \"mission\", \"model\", \"money\", \"money\", \"monitor\", \"month\", \"moon\", \"moral\", \"moral\", \"morality\", \"moslem\", \"motherboard\", \"motif\", \"mount\", \"mouse\", \"move\", \"move\", \"move\", \"mph\", \"ms_window\", \"much\", \"much\", \"murder\", \"murder\", \"murder\", \"muslim\", \"n\", \"national\", \"national\", \"nature\", \"nazi\", \"neat\", \"need\", \"need\", \"need\", \"need\", \"need\", \"neighbor\", \"never\", \"never\", \"new\", \"new\", \"new\", \"new\", \"newsgroup\", \"next\", \"next\", \"next\", \"nhl\", \"night\", \"nntp_poste\", \"nntp_poste\", \"nntp_poste\", \"normal\", \"normal\", \"normal\", \"northern\", \"notice\", \"notice\", \"ns\", \"nuclear\", \"number\", \"number\", \"number\", \"number\", \"number\", \"objective\", \"objective\", \"obtain\", \"obtain\", \"occupation\", \"occupy\", \"offense\", \"official\", \"official\", \"old\", \"old\", \"old\", \"one\", \"opinion\", \"option\", \"orbit\", \"organization\", \"organization\", \"organization\", \"organization\", \"originator\", \"outer\", \"output\", \"owner\", \"pack\", \"package\", \"paint\", \"panel\", \"part\", \"part\", \"part\", \"part\", \"part\", \"part\", \"past\", \"patient\", \"pay\", \"pay\", \"pc\", \"pc\", \"pen\", \"penalty\", \"penguin\", \"people\", \"people\", \"people\", \"people\", \"people\", \"performance\", \"perhaps\", \"peripheral\", \"phase\", \"phone\", \"physical\", \"physics_laboratory\", \"pick\", \"pick\", \"pin\", \"pitch\", \"plane\", \"planet\", \"play\", \"player\", \"playing\", \"please\", \"please_respond\", \"plot\", \"plug\", \"plug\", \"po_andrew\", \"point\", \"point\", \"point\", \"police\", \"police\", \"policy\", \"policy\", \"pop\", \"possibility\", \"possibility\", \"power\", \"power\", \"power\", \"power\", \"power_supply\", \"powerbook\", \"predict\", \"prefer\", \"present\", \"present\", \"printer\", \"privacy\", \"private\", \"private\", \"problem\", \"procedure\", \"process\", \"processor\", \"produce\", \"produce\", \"produce\", \"produce\", \"production\", \"program\", \"program\", \"programmer\", \"project\", \"project\", \"project\", \"proof\", \"protect\", \"protection\", \"prove\", \"prove\", \"provide\", \"provide\", \"provide\", \"provide\", \"provide\", \"provide\", \"pseudo\", \"public\", \"public\", \"publish\", \"purchasing\", \"purdue_university\", \"quality\", \"question\", \"question\", \"question\", \"question\", \"race\", \"radar\", \"radar\", \"radiation\", \"radio\", \"radio\", \"ram\", \"range\", \"rate\", \"rate\", \"rather\", \"rational\", \"rd\", \"re\", \"re\", \"reality\", \"reason\", \"reason\", \"recommend\", \"reference\", \"reference\", \"reflect\", \"region\", \"register\", \"regularly\", \"relate\", \"relate\", \"religion\", \"religious\", \"remind\", \"render\", \"replace\", \"report\", \"report\", \"report\", \"report\", \"require\", \"require\", \"require\", \"require\", \"require\", \"require\", \"research\", \"research\", \"research\", \"research\", \"reserve_university\", \"respect\", \"restore\", \"restrict\", \"restriction\", \"result\", \"result\", \"result\", \"review\", \"ride\", \"rider\", \"right\", \"right\", \"right\", \"right\", \"risk\", \"rob\", \"rocket\", \"room\", \"routine\", \"row\", \"run\", \"run\", \"run\", \"russian\", \"russian\", \"s\", \"s\", \"sad\", \"safety\", \"safety\", \"sale\", \"satellite\", \"satisfactory\", \"saturn\", \"say\", \"say\", \"say\", \"say\", \"sc\", \"scare\", \"school\", \"science\", \"scientific\", \"scientific\", \"score\", \"scott_roby\", \"screen\", \"scripture\", \"scsi\", \"season\", \"second\", \"second\", \"second\", \"second\", \"secret\", \"section\", \"section\", \"section\", \"secure\", \"security\", \"see\", \"see\", \"see\", \"seem\", \"self\", \"send\", \"send\", \"send\", \"sense\", \"sense\", \"serdar_argic\", \"serial\", \"series\", \"serious\", \"server\", \"set\", \"set\", \"set\", \"set\", \"sharp\", \"shoot\", \"shuttle\", \"si\", \"signal\", \"silverline\", \"simm\", \"simms\", \"single\", \"single\", \"single\", \"single\", \"sit\", \"sky\", \"slaughter\", \"slow\", \"small\", \"small\", \"small\", \"small\", \"society\", \"society\", \"software\", \"solar_terresterial\", \"soldier\", \"somehow\", \"sometimes\", \"sometimes\", \"soon\", \"sorry\", \"sort\", \"soviet\", \"space\", \"space_shuttle\", \"spacecraft\", \"speaker\", \"spec\", \"specification\", \"specify\", \"spring\", \"squad\", \"ssf\", \"staff\", \"star\", \"star\", \"start\", \"start\", \"start\", \"start\", \"starter\", \"stat\", \"state\", \"state\", \"state\", \"statement\", \"statement\", \"status\", \"stay\", \"step\", \"stick\", \"stop\", \"stop\", \"stop\", \"study\", \"study\", \"suggest\", \"suitable\", \"sunlight\", \"support\", \"support\", \"support\", \"support\", \"sure\", \"sure\", \"sure\", \"sustain\", \"switch\", \"system\", \"system\", \"system\", \"system\", \"tail\", \"take\", \"take\", \"take\", \"take\", \"talk\", \"talk\", \"tap\", \"tape\", \"task\", \"team\", \"team_captain\", \"technology\", \"technology\", \"tell\", \"tell\", \"territory\", \"territory\", \"terrorism\", \"terrorism\", \"test\", \"test\", \"thank\", \"therefore\", \"thing\", \"thing\", \"think\", \"think\", \"thunder\", \"ticket\", \"tie\", \"time\", \"time\", \"time\", \"time\", \"time\", \"tip\", \"top\", \"top\", \"top\", \"topic\", \"total\", \"total\", \"total\", \"total\", \"town\", \"town\", \"trace\", \"track\", \"trade\", \"trade\", \"training\", \"transfer\", \"transfer\", \"transfer\", \"trial\", \"trivial\", \"troop\", \"truth\", \"try\", \"try\", \"try\", \"turk\", \"turkish\", \"turn\", \"turn\", \"turn\", \"twice\", \"unable\", \"unique\", \"unit\", \"united_state\", \"universe\", \"university\", \"university\", \"unix\", \"up\", \"upgrade\", \"upper\", \"usage\", \"use\", \"use\", \"use\", \"use\", \"usenet\", \"user_interface\", \"value\", \"ve\", \"ve\", \"vehicle\", \"version\", \"version_pl\", \"video\", \"village\", \"violation\", \"visualization\", \"vms_vnews\", \"void\", \"vote\", \"wait\", \"want\", \"want\", \"want\", \"war\", \"war\", \"warranty\", \"watch\", \"way\", \"way\", \"way\", \"way\", \"weapon\", \"week\", \"week\", \"weeks_ago\", \"well\", \"well\", \"well\", \"white\", \"white\", \"whole\", \"whole\", \"wide\", \"wide_glide\", \"widget\", \"wife\", \"wild_corn\", \"win\", \"window\", \"wing\", \"wire\", \"wiring\", \"withdraw\", \"word\", \"word\", \"work\", \"work\", \"work\", \"work\", \"work\", \"workstation\", \"world\", \"world\", \"world\", \"world\", \"worth\", \"wound\", \"write\", \"write\", \"write\", \"wrong\", \"year\", \"year\", \"year\", \"year\", \"year\", \"year\", \"young\", \"young\", \"young\", \"young\", \"zone\"]}, \"R\": 30, \"lambda.step\": 0.01, \"plot.opts\": {\"xlab\": \"PC1\", \"ylab\": \"PC2\"}, \"topic.order\": [14, 17, 6, 5, 19, 2, 1, 18, 16, 15, 3, 20, 12, 10, 7, 4, 11, 13, 8, 9]};\n",
       "\n",
       "function LDAvis_load_lib(url, callback){\n",
       "  var s = document.createElement('script');\n",
       "  s.src = url;\n",
       "  s.async = true;\n",
       "  s.onreadystatechange = s.onload = callback;\n",
       "  s.onerror = function(){console.warn(\"failed to load library \" + url);};\n",
       "  document.getElementsByTagName(\"head\")[0].appendChild(s);\n",
       "}\n",
       "\n",
       "if(typeof(LDAvis) !== \"undefined\"){\n",
       "   // already loaded: just create the visualization\n",
       "   !function(LDAvis){\n",
       "       new LDAvis(\"#\" + \"ldavis_el5186140446824150400645940580\", ldavis_el5186140446824150400645940580_data);\n",
       "   }(LDAvis);\n",
       "}else if(typeof define === \"function\" && define.amd){\n",
       "   // require.js is available: use it to load d3/LDAvis\n",
       "   require.config({paths: {d3: \"https://d3js.org/d3.v5\"}});\n",
       "   require([\"d3\"], function(d3){\n",
       "      window.d3 = d3;\n",
       "      LDAvis_load_lib(\"https://cdn.jsdelivr.net/gh/bmabey/pyLDAvis@3.3.1/pyLDAvis/js/ldavis.v3.0.0.js\", function(){\n",
       "        new LDAvis(\"#\" + \"ldavis_el5186140446824150400645940580\", ldavis_el5186140446824150400645940580_data);\n",
       "      });\n",
       "    });\n",
       "}else{\n",
       "    // require.js not available: dynamically load d3 & LDAvis\n",
       "    LDAvis_load_lib(\"https://d3js.org/d3.v5.js\", function(){\n",
       "         LDAvis_load_lib(\"https://cdn.jsdelivr.net/gh/bmabey/pyLDAvis@3.3.1/pyLDAvis/js/ldavis.v3.0.0.js\", function(){\n",
       "                 new LDAvis(\"#\" + \"ldavis_el5186140446824150400645940580\", ldavis_el5186140446824150400645940580_data);\n",
       "            })\n",
       "         });\n",
       "}\n",
       "</script>"
      ],
      "text/plain": [
       "PreparedData(topic_coordinates=              x         y  topics  cluster       Freq\n",
       "topic                                                \n",
       "13     0.336252 -0.115207       1        1  28.822363\n",
       "16     0.304277 -0.125145       2        1  17.010373\n",
       "5      0.261912  0.202373       3        1  11.287770\n",
       "4      0.230875 -0.073271       4        1   9.723261\n",
       "18     0.195256  0.153347       5        1   7.079372\n",
       "1     -0.010802  0.012743       6        1   5.824931\n",
       "0      0.091960 -0.181131       7        1   4.802085\n",
       "17     0.099938  0.306564       8        1   3.502980\n",
       "15     0.021472 -0.091382       9        1   2.884030\n",
       "14    -0.001591 -0.057426      10        1   1.907847\n",
       "2     -0.025515  0.010306      11        1   1.763504\n",
       "19    -0.092998 -0.016799      12        1   1.355953\n",
       "11    -0.086043 -0.074243      13        1   1.134763\n",
       "9     -0.151772  0.003564      14        1   0.730666\n",
       "6     -0.162325  0.019766      15        1   0.563621\n",
       "3     -0.182897  0.007965      16        1   0.481568\n",
       "10    -0.189351  0.005165      17        1   0.402312\n",
       "12    -0.198896  0.006805      18        1   0.372311\n",
       "7     -0.215820  0.001346      19        1   0.215188\n",
       "8     -0.223931  0.004660      20        1   0.135102, topic_info=           Term         Freq         Total Category  logprob  loglift\n",
       "4327         ax  46130.00000  46130.000000  Default  30.0000  30.0000\n",
       "17         line  17429.00000  17429.000000  Default  29.0000  29.0000\n",
       "113         get  10572.00000  10572.000000  Default  28.0000  28.0000\n",
       "116          go   7849.00000   7849.000000  Default  27.0000  27.0000\n",
       "366       drive   2315.00000   2315.000000  Default  26.0000  26.0000\n",
       "...         ...          ...           ...      ...      ...      ...\n",
       "4840       kick      0.02608      1.260524  Topic20 -11.0985   2.7288\n",
       "5253  equipment      0.02608      1.260549  Topic20 -11.0985   2.7288\n",
       "4436        rlk      0.02608      1.260571  Topic20 -11.0985   2.7287\n",
       "4714     select      0.02608      1.260584  Topic20 -11.0985   2.7287\n",
       "3890      slave      0.02608      1.260715  Topic20 -11.0985   2.7286\n",
       "\n",
       "[859 rows x 6 columns], token_table=      Topic      Freq     Term\n",
       "term                          \n",
       "354      16  0.966707   absurd\n",
       "1340      4  0.999062   accept\n",
       "86        3  0.172479   access\n",
       "86        8  0.825225   access\n",
       "2684      7  0.997124  account\n",
       "...     ...       ...      ...\n",
       "613       1  0.068465    young\n",
       "613       4  0.017116    young\n",
       "613       7  0.836069    young\n",
       "613      10  0.077682    young\n",
       "2592     12  0.995957     zone\n",
       "\n",
       "[1130 rows x 3 columns], R=30, lambda_step=0.01, plot_opts={'xlab': 'PC1', 'ylab': 'PC2'}, topic_order=[14, 17, 6, 5, 19, 2, 1, 18, 16, 15, 3, 20, 12, 10, 7, 4, 11, 13, 8, 9])"
      ]
     },
     "execution_count": 27,
     "metadata": {},
     "output_type": "execute_result"
    },
    {
     "name": "stderr",
     "output_type": "stream",
     "text": [
      "/opt/anaconda3/envs/nlp/lib/python3.8/site-packages/past/builtins/misc.py:45: DeprecationWarning: the imp module is deprecated in favour of importlib; see the module's documentation for alternative uses\n",
      "  from imp import reload\n",
      "/opt/anaconda3/envs/nlp/lib/python3.8/site-packages/joblib/backports.py:36: DeprecationWarning: distutils Version classes are deprecated. Use packaging.version instead.\n",
      "  if LooseVersion(np.__version__) < '1.13':\n",
      "/opt/anaconda3/envs/nlp/lib/python3.8/site-packages/setuptools/_distutils/version.py:346: DeprecationWarning: distutils Version classes are deprecated. Use packaging.version instead.\n",
      "  other = LooseVersion(other)\n",
      "/opt/anaconda3/envs/nlp/lib/python3.8/site-packages/joblib/backports.py:36: DeprecationWarning: distutils Version classes are deprecated. Use packaging.version instead.\n",
      "  if LooseVersion(np.__version__) < '1.13':\n",
      "/opt/anaconda3/envs/nlp/lib/python3.8/site-packages/setuptools/_distutils/version.py:346: DeprecationWarning: distutils Version classes are deprecated. Use packaging.version instead.\n",
      "  other = LooseVersion(other)\n",
      "/opt/anaconda3/envs/nlp/lib/python3.8/site-packages/past/builtins/misc.py:45: DeprecationWarning: the imp module is deprecated in favour of importlib; see the module's documentation for alternative uses\n",
      "  from imp import reload\n",
      "/opt/anaconda3/envs/nlp/lib/python3.8/site-packages/joblib/backports.py:36: DeprecationWarning: distutils Version classes are deprecated. Use packaging.version instead.\n",
      "  if LooseVersion(np.__version__) < '1.13':\n",
      "/opt/anaconda3/envs/nlp/lib/python3.8/site-packages/setuptools/_distutils/version.py:346: DeprecationWarning: distutils Version classes are deprecated. Use packaging.version instead.\n",
      "  other = LooseVersion(other)\n",
      "/opt/anaconda3/envs/nlp/lib/python3.8/site-packages/joblib/backports.py:36: DeprecationWarning: distutils Version classes are deprecated. Use packaging.version instead.\n",
      "  if LooseVersion(np.__version__) < '1.13':\n",
      "/opt/anaconda3/envs/nlp/lib/python3.8/site-packages/setuptools/_distutils/version.py:346: DeprecationWarning: distutils Version classes are deprecated. Use packaging.version instead.\n",
      "  other = LooseVersion(other)\n",
      "/opt/anaconda3/envs/nlp/lib/python3.8/site-packages/past/builtins/misc.py:45: DeprecationWarning: the imp module is deprecated in favour of importlib; see the module's documentation for alternative uses\n",
      "  from imp import reload\n",
      "/opt/anaconda3/envs/nlp/lib/python3.8/site-packages/joblib/backports.py:36: DeprecationWarning: distutils Version classes are deprecated. Use packaging.version instead.\n",
      "  if LooseVersion(np.__version__) < '1.13':\n",
      "/opt/anaconda3/envs/nlp/lib/python3.8/site-packages/setuptools/_distutils/version.py:346: DeprecationWarning: distutils Version classes are deprecated. Use packaging.version instead.\n",
      "  other = LooseVersion(other)\n",
      "/opt/anaconda3/envs/nlp/lib/python3.8/site-packages/joblib/backports.py:36: DeprecationWarning: distutils Version classes are deprecated. Use packaging.version instead.\n",
      "  if LooseVersion(np.__version__) < '1.13':\n",
      "/opt/anaconda3/envs/nlp/lib/python3.8/site-packages/setuptools/_distutils/version.py:346: DeprecationWarning: distutils Version classes are deprecated. Use packaging.version instead.\n",
      "  other = LooseVersion(other)\n",
      "/opt/anaconda3/envs/nlp/lib/python3.8/site-packages/past/builtins/misc.py:45: DeprecationWarning: the imp module is deprecated in favour of importlib; see the module's documentation for alternative uses\n",
      "  from imp import reload\n",
      "/opt/anaconda3/envs/nlp/lib/python3.8/site-packages/joblib/backports.py:36: DeprecationWarning: distutils Version classes are deprecated. Use packaging.version instead.\n",
      "  if LooseVersion(np.__version__) < '1.13':\n",
      "/opt/anaconda3/envs/nlp/lib/python3.8/site-packages/setuptools/_distutils/version.py:346: DeprecationWarning: distutils Version classes are deprecated. Use packaging.version instead.\n",
      "  other = LooseVersion(other)\n",
      "/opt/anaconda3/envs/nlp/lib/python3.8/site-packages/joblib/backports.py:36: DeprecationWarning: distutils Version classes are deprecated. Use packaging.version instead.\n",
      "  if LooseVersion(np.__version__) < '1.13':\n",
      "/opt/anaconda3/envs/nlp/lib/python3.8/site-packages/setuptools/_distutils/version.py:346: DeprecationWarning: distutils Version classes are deprecated. Use packaging.version instead.\n",
      "  other = LooseVersion(other)\n",
      "/opt/anaconda3/envs/nlp/lib/python3.8/site-packages/past/builtins/misc.py:45: DeprecationWarning: the imp module is deprecated in favour of importlib; see the module's documentation for alternative uses\n",
      "  from imp import reload\n",
      "/opt/anaconda3/envs/nlp/lib/python3.8/site-packages/joblib/backports.py:36: DeprecationWarning: distutils Version classes are deprecated. Use packaging.version instead.\n",
      "  if LooseVersion(np.__version__) < '1.13':\n",
      "/opt/anaconda3/envs/nlp/lib/python3.8/site-packages/setuptools/_distutils/version.py:346: DeprecationWarning: distutils Version classes are deprecated. Use packaging.version instead.\n",
      "  other = LooseVersion(other)\n",
      "/opt/anaconda3/envs/nlp/lib/python3.8/site-packages/joblib/backports.py:36: DeprecationWarning: distutils Version classes are deprecated. Use packaging.version instead.\n",
      "  if LooseVersion(np.__version__) < '1.13':\n",
      "/opt/anaconda3/envs/nlp/lib/python3.8/site-packages/setuptools/_distutils/version.py:346: DeprecationWarning: distutils Version classes are deprecated. Use packaging.version instead.\n",
      "  other = LooseVersion(other)\n",
      "/opt/anaconda3/envs/nlp/lib/python3.8/site-packages/past/builtins/misc.py:45: DeprecationWarning: the imp module is deprecated in favour of importlib; see the module's documentation for alternative uses\n",
      "  from imp import reload\n",
      "/opt/anaconda3/envs/nlp/lib/python3.8/site-packages/joblib/backports.py:36: DeprecationWarning: distutils Version classes are deprecated. Use packaging.version instead.\n",
      "  if LooseVersion(np.__version__) < '1.13':\n",
      "/opt/anaconda3/envs/nlp/lib/python3.8/site-packages/setuptools/_distutils/version.py:346: DeprecationWarning: distutils Version classes are deprecated. Use packaging.version instead.\n",
      "  other = LooseVersion(other)\n",
      "/opt/anaconda3/envs/nlp/lib/python3.8/site-packages/joblib/backports.py:36: DeprecationWarning: distutils Version classes are deprecated. Use packaging.version instead.\n",
      "  if LooseVersion(np.__version__) < '1.13':\n",
      "/opt/anaconda3/envs/nlp/lib/python3.8/site-packages/setuptools/_distutils/version.py:346: DeprecationWarning: distutils Version classes are deprecated. Use packaging.version instead.\n",
      "  other = LooseVersion(other)\n"
     ]
    }
   ],
   "source": [
    "pyLDAvis.enable_notebook()\n",
    "vis = pyLDAvis.gensim_models.prepare(lda_model, corpus, id2word)\n",
    "vis"
   ]
  },
  {
   "cell_type": "code",
   "execution_count": 31,
   "id": "1a99222f-ec73-478e-8de4-2076f5840dd3",
   "metadata": {},
   "outputs": [],
   "source": [
    "def compute_coherence_values(dictionary, corpus, texts, limit, start=2, step=3):\n",
    "    \"\"\"\n",
    "    Compute c_v coherence for various number of topics\n",
    "\n",
    "    Parameters:\n",
    "    ----------\n",
    "    dictionary : Gensim dictionary\n",
    "    corpus : Gensim corpus\n",
    "    texts : List of input texts\n",
    "    limit : Max num of topics\n",
    "\n",
    "    Returns:\n",
    "    -------\n",
    "    model_list : List of LDA topic models\n",
    "    coherence_values : Coherence values corresponding to the LDA model with respective number of topics\n",
    "    \"\"\"\n",
    "    coherence_values = []\n",
    "    model_list = []\n",
    "    for num_topics in range(start, limit, step):\n",
    "        model = gensim.models.ldamodel.LdaModel(\n",
    "            corpus=corpus,\n",
    "            id2word=id2word,\n",
    "            num_topics=20, \n",
    "            random_state=100,\n",
    "            update_every=1,\n",
    "            chunksize=100,\n",
    "            passes=10,\n",
    "            alpha='auto',\n",
    "            per_word_topics=True)\n",
    "        model_list.append(model)\n",
    "        coherencemodel = CoherenceModel(model=model, texts=texts, dictionary=dictionary, coherence='c_v')\n",
    "        coherence_values.append(coherencemodel.get_coherence())\n",
    "\n",
    "    return model_list, coherence_values\n",
    "\n",
    "model_list, coherence_values = compute_coherence_values(dictionary=id2word, corpus=corpus, texts=data_lemmatized, start=2, limit=40, step=6)"
   ]
  },
  {
   "cell_type": "code",
   "execution_count": 32,
   "id": "043d0351-cd6e-4191-ba51-86e7409d89bd",
   "metadata": {},
   "outputs": [
    {
     "ename": "KeyboardInterrupt",
     "evalue": "",
     "output_type": "error",
     "traceback": [
      "\u001b[0;31m---------------------------------------------------------------------------\u001b[0m",
      "\u001b[0;31mKeyboardInterrupt\u001b[0m                         Traceback (most recent call last)",
      "Input \u001b[0;32mIn [32]\u001b[0m, in \u001b[0;36m<cell line: 1>\u001b[0;34m()\u001b[0m\n\u001b[0;32m----> 1\u001b[0m model_list, coherence_values \u001b[38;5;241m=\u001b[39m \u001b[43mcompute_coherence_values\u001b[49m\u001b[43m(\u001b[49m\u001b[43mdictionary\u001b[49m\u001b[38;5;241;43m=\u001b[39;49m\u001b[43mid2word\u001b[49m\u001b[43m,\u001b[49m\u001b[43m \u001b[49m\u001b[43mcorpus\u001b[49m\u001b[38;5;241;43m=\u001b[39;49m\u001b[43mcorpus\u001b[49m\u001b[43m,\u001b[49m\u001b[43m \u001b[49m\u001b[43mtexts\u001b[49m\u001b[38;5;241;43m=\u001b[39;49m\u001b[43mdata_lemmatized\u001b[49m\u001b[43m,\u001b[49m\u001b[43m \u001b[49m\u001b[43mstart\u001b[49m\u001b[38;5;241;43m=\u001b[39;49m\u001b[38;5;241;43m2\u001b[39;49m\u001b[43m,\u001b[49m\u001b[43m \u001b[49m\u001b[43mlimit\u001b[49m\u001b[38;5;241;43m=\u001b[39;49m\u001b[38;5;241;43m40\u001b[39;49m\u001b[43m,\u001b[49m\u001b[43m \u001b[49m\u001b[43mstep\u001b[49m\u001b[38;5;241;43m=\u001b[39;49m\u001b[38;5;241;43m6\u001b[39;49m\u001b[43m)\u001b[49m\n",
      "Input \u001b[0;32mIn [31]\u001b[0m, in \u001b[0;36mcompute_coherence_values\u001b[0;34m(dictionary, corpus, texts, limit, start, step)\u001b[0m\n\u001b[1;32m     18\u001b[0m model_list \u001b[38;5;241m=\u001b[39m []\n\u001b[1;32m     19\u001b[0m \u001b[38;5;28;01mfor\u001b[39;00m num_topics \u001b[38;5;129;01min\u001b[39;00m \u001b[38;5;28mrange\u001b[39m(start, limit, step):\n\u001b[0;32m---> 20\u001b[0m     model \u001b[38;5;241m=\u001b[39m \u001b[43mgensim\u001b[49m\u001b[38;5;241;43m.\u001b[39;49m\u001b[43mmodels\u001b[49m\u001b[38;5;241;43m.\u001b[39;49m\u001b[43mldamodel\u001b[49m\u001b[38;5;241;43m.\u001b[39;49m\u001b[43mLdaModel\u001b[49m\u001b[43m(\u001b[49m\n\u001b[1;32m     21\u001b[0m \u001b[43m        \u001b[49m\u001b[43mcorpus\u001b[49m\u001b[38;5;241;43m=\u001b[39;49m\u001b[43mcorpus\u001b[49m\u001b[43m,\u001b[49m\n\u001b[1;32m     22\u001b[0m \u001b[43m        \u001b[49m\u001b[43mid2word\u001b[49m\u001b[38;5;241;43m=\u001b[39;49m\u001b[43mid2word\u001b[49m\u001b[43m,\u001b[49m\n\u001b[1;32m     23\u001b[0m \u001b[43m        \u001b[49m\u001b[43mnum_topics\u001b[49m\u001b[38;5;241;43m=\u001b[39;49m\u001b[38;5;241;43m20\u001b[39;49m\u001b[43m,\u001b[49m\u001b[43m \u001b[49m\n\u001b[1;32m     24\u001b[0m \u001b[43m        \u001b[49m\u001b[43mrandom_state\u001b[49m\u001b[38;5;241;43m=\u001b[39;49m\u001b[38;5;241;43m100\u001b[39;49m\u001b[43m,\u001b[49m\n\u001b[1;32m     25\u001b[0m \u001b[43m        \u001b[49m\u001b[43mupdate_every\u001b[49m\u001b[38;5;241;43m=\u001b[39;49m\u001b[38;5;241;43m1\u001b[39;49m\u001b[43m,\u001b[49m\n\u001b[1;32m     26\u001b[0m \u001b[43m        \u001b[49m\u001b[43mchunksize\u001b[49m\u001b[38;5;241;43m=\u001b[39;49m\u001b[38;5;241;43m100\u001b[39;49m\u001b[43m,\u001b[49m\n\u001b[1;32m     27\u001b[0m \u001b[43m        \u001b[49m\u001b[43mpasses\u001b[49m\u001b[38;5;241;43m=\u001b[39;49m\u001b[38;5;241;43m10\u001b[39;49m\u001b[43m,\u001b[49m\n\u001b[1;32m     28\u001b[0m \u001b[43m        \u001b[49m\u001b[43malpha\u001b[49m\u001b[38;5;241;43m=\u001b[39;49m\u001b[38;5;124;43m'\u001b[39;49m\u001b[38;5;124;43mauto\u001b[39;49m\u001b[38;5;124;43m'\u001b[39;49m\u001b[43m,\u001b[49m\n\u001b[1;32m     29\u001b[0m \u001b[43m        \u001b[49m\u001b[43mper_word_topics\u001b[49m\u001b[38;5;241;43m=\u001b[39;49m\u001b[38;5;28;43;01mTrue\u001b[39;49;00m\u001b[43m)\u001b[49m\n\u001b[1;32m     30\u001b[0m     model_list\u001b[38;5;241m.\u001b[39mappend(model)\n\u001b[1;32m     31\u001b[0m     coherencemodel \u001b[38;5;241m=\u001b[39m CoherenceModel(model\u001b[38;5;241m=\u001b[39mmodel, texts\u001b[38;5;241m=\u001b[39mtexts, dictionary\u001b[38;5;241m=\u001b[39mdictionary, coherence\u001b[38;5;241m=\u001b[39m\u001b[38;5;124m'\u001b[39m\u001b[38;5;124mc_v\u001b[39m\u001b[38;5;124m'\u001b[39m)\n",
      "File \u001b[0;32m/opt/anaconda3/envs/nlp/lib/python3.8/site-packages/gensim/models/ldamodel.py:520\u001b[0m, in \u001b[0;36mLdaModel.__init__\u001b[0;34m(self, corpus, num_topics, id2word, distributed, chunksize, passes, update_every, alpha, eta, decay, offset, eval_every, iterations, gamma_threshold, minimum_probability, random_state, ns_conf, minimum_phi_value, per_word_topics, callbacks, dtype)\u001b[0m\n\u001b[1;32m    518\u001b[0m use_numpy \u001b[38;5;241m=\u001b[39m \u001b[38;5;28mself\u001b[39m\u001b[38;5;241m.\u001b[39mdispatcher \u001b[38;5;129;01mis\u001b[39;00m \u001b[38;5;129;01mnot\u001b[39;00m \u001b[38;5;28;01mNone\u001b[39;00m\n\u001b[1;32m    519\u001b[0m start \u001b[38;5;241m=\u001b[39m time\u001b[38;5;241m.\u001b[39mtime()\n\u001b[0;32m--> 520\u001b[0m \u001b[38;5;28;43mself\u001b[39;49m\u001b[38;5;241;43m.\u001b[39;49m\u001b[43mupdate\u001b[49m\u001b[43m(\u001b[49m\u001b[43mcorpus\u001b[49m\u001b[43m,\u001b[49m\u001b[43m \u001b[49m\u001b[43mchunks_as_numpy\u001b[49m\u001b[38;5;241;43m=\u001b[39;49m\u001b[43muse_numpy\u001b[49m\u001b[43m)\u001b[49m\n\u001b[1;32m    521\u001b[0m \u001b[38;5;28mself\u001b[39m\u001b[38;5;241m.\u001b[39madd_lifecycle_event(\n\u001b[1;32m    522\u001b[0m     \u001b[38;5;124m\"\u001b[39m\u001b[38;5;124mcreated\u001b[39m\u001b[38;5;124m\"\u001b[39m,\n\u001b[1;32m    523\u001b[0m     msg\u001b[38;5;241m=\u001b[39m\u001b[38;5;124mf\u001b[39m\u001b[38;5;124m\"\u001b[39m\u001b[38;5;124mtrained \u001b[39m\u001b[38;5;132;01m{\u001b[39;00m\u001b[38;5;28mself\u001b[39m\u001b[38;5;132;01m}\u001b[39;00m\u001b[38;5;124m in \u001b[39m\u001b[38;5;132;01m{\u001b[39;00mtime\u001b[38;5;241m.\u001b[39mtime() \u001b[38;5;241m-\u001b[39m start\u001b[38;5;132;01m:\u001b[39;00m\u001b[38;5;124m.2f\u001b[39m\u001b[38;5;132;01m}\u001b[39;00m\u001b[38;5;124ms\u001b[39m\u001b[38;5;124m\"\u001b[39m,\n\u001b[1;32m    524\u001b[0m )\n",
      "File \u001b[0;32m/opt/anaconda3/envs/nlp/lib/python3.8/site-packages/gensim/models/ldamodel.py:990\u001b[0m, in \u001b[0;36mLdaModel.update\u001b[0;34m(self, corpus, chunksize, decay, offset, passes, update_every, eval_every, iterations, gamma_threshold, chunks_as_numpy)\u001b[0m\n\u001b[1;32m    987\u001b[0m reallen \u001b[38;5;241m+\u001b[39m\u001b[38;5;241m=\u001b[39m \u001b[38;5;28mlen\u001b[39m(chunk)  \u001b[38;5;66;03m# keep track of how many documents we've processed so far\u001b[39;00m\n\u001b[1;32m    989\u001b[0m \u001b[38;5;28;01mif\u001b[39;00m eval_every \u001b[38;5;129;01mand\u001b[39;00m ((reallen \u001b[38;5;241m==\u001b[39m lencorpus) \u001b[38;5;129;01mor\u001b[39;00m ((chunk_no \u001b[38;5;241m+\u001b[39m \u001b[38;5;241m1\u001b[39m) \u001b[38;5;241m%\u001b[39m (eval_every \u001b[38;5;241m*\u001b[39m \u001b[38;5;28mself\u001b[39m\u001b[38;5;241m.\u001b[39mnumworkers) \u001b[38;5;241m==\u001b[39m \u001b[38;5;241m0\u001b[39m)):\n\u001b[0;32m--> 990\u001b[0m     \u001b[38;5;28;43mself\u001b[39;49m\u001b[38;5;241;43m.\u001b[39;49m\u001b[43mlog_perplexity\u001b[49m\u001b[43m(\u001b[49m\u001b[43mchunk\u001b[49m\u001b[43m,\u001b[49m\u001b[43m \u001b[49m\u001b[43mtotal_docs\u001b[49m\u001b[38;5;241;43m=\u001b[39;49m\u001b[43mlencorpus\u001b[49m\u001b[43m)\u001b[49m\n\u001b[1;32m    992\u001b[0m \u001b[38;5;28;01mif\u001b[39;00m \u001b[38;5;28mself\u001b[39m\u001b[38;5;241m.\u001b[39mdispatcher:\n\u001b[1;32m    993\u001b[0m     \u001b[38;5;66;03m# add the chunk to dispatcher's job queue, so workers can munch on it\u001b[39;00m\n\u001b[1;32m    994\u001b[0m     logger\u001b[38;5;241m.\u001b[39minfo(\n\u001b[1;32m    995\u001b[0m         \u001b[38;5;124m\"\u001b[39m\u001b[38;5;124mPROGRESS: pass \u001b[39m\u001b[38;5;132;01m%i\u001b[39;00m\u001b[38;5;124m, dispatching documents up to #\u001b[39m\u001b[38;5;132;01m%i\u001b[39;00m\u001b[38;5;124m/\u001b[39m\u001b[38;5;132;01m%i\u001b[39;00m\u001b[38;5;124m\"\u001b[39m,\n\u001b[1;32m    996\u001b[0m         pass_, chunk_no \u001b[38;5;241m*\u001b[39m chunksize \u001b[38;5;241m+\u001b[39m \u001b[38;5;28mlen\u001b[39m(chunk), lencorpus\n\u001b[1;32m    997\u001b[0m     )\n",
      "File \u001b[0;32m/opt/anaconda3/envs/nlp/lib/python3.8/site-packages/gensim/models/ldamodel.py:846\u001b[0m, in \u001b[0;36mLdaModel.log_perplexity\u001b[0;34m(self, chunk, total_docs)\u001b[0m\n\u001b[1;32m    844\u001b[0m corpus_words \u001b[38;5;241m=\u001b[39m \u001b[38;5;28msum\u001b[39m(cnt \u001b[38;5;28;01mfor\u001b[39;00m document \u001b[38;5;129;01min\u001b[39;00m chunk \u001b[38;5;28;01mfor\u001b[39;00m _, cnt \u001b[38;5;129;01min\u001b[39;00m document)\n\u001b[1;32m    845\u001b[0m subsample_ratio \u001b[38;5;241m=\u001b[39m \u001b[38;5;241m1.0\u001b[39m \u001b[38;5;241m*\u001b[39m total_docs \u001b[38;5;241m/\u001b[39m \u001b[38;5;28mlen\u001b[39m(chunk)\n\u001b[0;32m--> 846\u001b[0m perwordbound \u001b[38;5;241m=\u001b[39m \u001b[38;5;28;43mself\u001b[39;49m\u001b[38;5;241;43m.\u001b[39;49m\u001b[43mbound\u001b[49m\u001b[43m(\u001b[49m\u001b[43mchunk\u001b[49m\u001b[43m,\u001b[49m\u001b[43m \u001b[49m\u001b[43msubsample_ratio\u001b[49m\u001b[38;5;241;43m=\u001b[39;49m\u001b[43msubsample_ratio\u001b[49m\u001b[43m)\u001b[49m \u001b[38;5;241m/\u001b[39m (subsample_ratio \u001b[38;5;241m*\u001b[39m corpus_words)\n\u001b[1;32m    847\u001b[0m logger\u001b[38;5;241m.\u001b[39minfo(\n\u001b[1;32m    848\u001b[0m     \u001b[38;5;124m\"\u001b[39m\u001b[38;5;132;01m%.3f\u001b[39;00m\u001b[38;5;124m per-word bound, \u001b[39m\u001b[38;5;132;01m%.1f\u001b[39;00m\u001b[38;5;124m perplexity estimate based on a held-out corpus of \u001b[39m\u001b[38;5;132;01m%i\u001b[39;00m\u001b[38;5;124m documents with \u001b[39m\u001b[38;5;132;01m%i\u001b[39;00m\u001b[38;5;124m words\u001b[39m\u001b[38;5;124m\"\u001b[39m,\n\u001b[1;32m    849\u001b[0m     perwordbound, np\u001b[38;5;241m.\u001b[39mexp2(\u001b[38;5;241m-\u001b[39mperwordbound), \u001b[38;5;28mlen\u001b[39m(chunk), corpus_words\n\u001b[1;32m    850\u001b[0m )\n\u001b[1;32m    851\u001b[0m \u001b[38;5;28;01mreturn\u001b[39;00m perwordbound\n",
      "File \u001b[0;32m/opt/anaconda3/envs/nlp/lib/python3.8/site-packages/gensim/models/ldamodel.py:1134\u001b[0m, in \u001b[0;36mLdaModel.bound\u001b[0;34m(self, corpus, gamma, subsample_ratio)\u001b[0m\n\u001b[1;32m   1132\u001b[0m \u001b[38;5;66;03m# E[log p(beta | eta) - log q (beta | lambda)]; assumes eta is a scalar\u001b[39;00m\n\u001b[1;32m   1133\u001b[0m score \u001b[38;5;241m+\u001b[39m\u001b[38;5;241m=\u001b[39m np\u001b[38;5;241m.\u001b[39msum((\u001b[38;5;28mself\u001b[39m\u001b[38;5;241m.\u001b[39meta \u001b[38;5;241m-\u001b[39m _lambda) \u001b[38;5;241m*\u001b[39m Elogbeta)\n\u001b[0;32m-> 1134\u001b[0m score \u001b[38;5;241m+\u001b[39m\u001b[38;5;241m=\u001b[39m np\u001b[38;5;241m.\u001b[39msum(\u001b[43mgammaln\u001b[49m\u001b[43m(\u001b[49m\u001b[43m_lambda\u001b[49m\u001b[43m)\u001b[49m \u001b[38;5;241m-\u001b[39m gammaln(\u001b[38;5;28mself\u001b[39m\u001b[38;5;241m.\u001b[39meta))\n\u001b[1;32m   1136\u001b[0m \u001b[38;5;28;01mif\u001b[39;00m np\u001b[38;5;241m.\u001b[39mndim(\u001b[38;5;28mself\u001b[39m\u001b[38;5;241m.\u001b[39meta) \u001b[38;5;241m==\u001b[39m \u001b[38;5;241m0\u001b[39m:\n\u001b[1;32m   1137\u001b[0m     sum_eta \u001b[38;5;241m=\u001b[39m \u001b[38;5;28mself\u001b[39m\u001b[38;5;241m.\u001b[39meta \u001b[38;5;241m*\u001b[39m \u001b[38;5;28mself\u001b[39m\u001b[38;5;241m.\u001b[39mnum_terms\n",
      "\u001b[0;31mKeyboardInterrupt\u001b[0m: "
     ]
    }
   ],
   "source": []
  },
  {
   "cell_type": "code",
   "execution_count": null,
   "id": "c55897df-bb2f-4f67-b281-87a67a3d74d7",
   "metadata": {},
   "outputs": [],
   "source": [
    "# Show graph\n",
    "limit=40; start=2; step=6;\n",
    "x = range(start, limit, step)\n",
    "plt.plot(x, coherence_values)\n",
    "plt.xlabel(\"Num Topics\")\n",
    "plt.ylabel(\"Coherence score\")\n",
    "plt.legend((\"coherence_values\"), loc='best')\n",
    "plt.show()"
   ]
  },
  {
   "cell_type": "code",
   "execution_count": null,
   "id": "3945dbbe-900c-46fd-984f-3666c47a6ca2",
   "metadata": {},
   "outputs": [],
   "source": [
    "# Print the coherence scores\n",
    "for m, cv in zip(x, coherence_values):\n",
    "    print(\"Num Topics =\", m, \" has Coherence Value of\", round(cv, 4))"
   ]
  }
 ],
 "metadata": {
  "kernelspec": {
   "display_name": "Python 3 (ipykernel)",
   "language": "python",
   "name": "python3"
  },
  "language_info": {
   "codemirror_mode": {
    "name": "ipython",
    "version": 3
   },
   "file_extension": ".py",
   "mimetype": "text/x-python",
   "name": "python",
   "nbconvert_exporter": "python",
   "pygments_lexer": "ipython3",
   "version": "3.8.13"
  }
 },
 "nbformat": 4,
 "nbformat_minor": 5
}
