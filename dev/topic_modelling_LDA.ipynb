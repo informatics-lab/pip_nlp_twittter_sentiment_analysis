{
 "cells": [
  {
   "cell_type": "markdown",
   "id": "bef69a8a-2f95-4175-81ac-0d53055c78fa",
   "metadata": {},
   "source": [
    "Based on this tutorial: https://www.machinelearningplus.com/nlp/topic-modeling-gensim-python/"
   ]
  },
  {
   "cell_type": "code",
   "execution_count": 1,
   "id": "20db8b68-2bea-4651-b354-3b1b32e50751",
   "metadata": {},
   "outputs": [],
   "source": [
    "import pandas as pd\n",
    "import numpy as np\n",
    "\n",
    "import nltk\n",
    "from nltk.tokenize import word_tokenize\n",
    "\n",
    "import gensim\n",
    "import gensim.corpora as corpora\n",
    "from gensim.models import CoherenceModel\n",
    "\n",
    "from pprint import pprint\n",
    "\n",
    "import pyLDAvis\n",
    "import pyLDAvis.gensim_models  # don't skip this"
   ]
  },
  {
   "cell_type": "code",
   "execution_count": 26,
   "id": "88d703f7-da69-4a25-a4f6-3d7ce63816aa",
   "metadata": {},
   "outputs": [],
   "source": [
    "# load dataset with sentiment columns\n",
    "tweet_data = pd.read_csv('data_lg_clean_sentiment.csv').dropna()"
   ]
  },
  {
   "cell_type": "markdown",
   "id": "a651533c-3eaa-45ac-a1e9-9dc961ed1c7d",
   "metadata": {
    "tags": []
   },
   "source": [
    "### Preprocess data"
   ]
  },
  {
   "cell_type": "code",
   "execution_count": 27,
   "id": "f8834010-86e1-4208-b63a-adda705fcd95",
   "metadata": {},
   "outputs": [],
   "source": [
    "tweet_data = tweet_data[tweet_data['created_at']!='0']\n",
    "tweet_data['created_at'] = pd.to_datetime(tweet_data['created_at'], format=\"%Y-%m-%d %H:%M:%S\")\n"
   ]
  },
  {
   "cell_type": "code",
   "execution_count": 30,
   "id": "db3dad78-0f56-4609-a677-2ea90d9903f6",
   "metadata": {},
   "outputs": [],
   "source": [
    "tweet_data['dates'] = tweet_data['created_at'].apply(lambda x: x.date())"
   ]
  },
  {
   "cell_type": "code",
   "execution_count": 32,
   "id": "bdccb24c-36f4-41ef-b179-34dfdd48ea28",
   "metadata": {},
   "outputs": [
    {
     "data": {
      "text/plain": [
       "array([datetime.date(2022, 7, 26), datetime.date(2022, 7, 26),\n",
       "       datetime.date(2022, 7, 26), ..., datetime.date(2022, 8, 1),\n",
       "       datetime.date(2022, 8, 1), datetime.date(2022, 8, 1)], dtype=object)"
      ]
     },
     "execution_count": 32,
     "metadata": {},
     "output_type": "execute_result"
    }
   ],
   "source": [
    "tweet_data = tweet_data.set_index('created_at')\n",
    "tweet_data.index.date"
   ]
  },
  {
   "cell_type": "code",
   "execution_count": 35,
   "id": "23815426-1579-44d0-b996-ea29c3432a9e",
   "metadata": {},
   "outputs": [],
   "source": [
    "reduced_tweet_data = tweet_data[tweet_data.index.date == tweet_data['dates'].unique()[2]]"
   ]
  },
  {
   "cell_type": "code",
   "execution_count": 49,
   "id": "1a869242-890d-462b-9a29-cf28cd9a69f7",
   "metadata": {},
   "outputs": [
    {
     "data": {
      "text/html": [
       "<div>\n",
       "<style scoped>\n",
       "    .dataframe tbody tr th:only-of-type {\n",
       "        vertical-align: middle;\n",
       "    }\n",
       "\n",
       "    .dataframe tbody tr th {\n",
       "        vertical-align: top;\n",
       "    }\n",
       "\n",
       "    .dataframe thead th {\n",
       "        text-align: right;\n",
       "    }\n",
       "</style>\n",
       "<table border=\"1\" class=\"dataframe\">\n",
       "  <thead>\n",
       "    <tr style=\"text-align: right;\">\n",
       "      <th></th>\n",
       "      <th>tweet_id</th>\n",
       "      <th>tweet</th>\n",
       "      <th>like_count</th>\n",
       "      <th>quote_count</th>\n",
       "      <th>reply_count</th>\n",
       "      <th>retweet_count</th>\n",
       "      <th>clean</th>\n",
       "      <th>hashtags</th>\n",
       "      <th>clean_spacy</th>\n",
       "      <th>tmp</th>\n",
       "      <th>neg</th>\n",
       "      <th>pos</th>\n",
       "      <th>neu</th>\n",
       "      <th>compound</th>\n",
       "      <th>sentiment</th>\n",
       "      <th>dates</th>\n",
       "    </tr>\n",
       "    <tr>\n",
       "      <th>created_at</th>\n",
       "      <th></th>\n",
       "      <th></th>\n",
       "      <th></th>\n",
       "      <th></th>\n",
       "      <th></th>\n",
       "      <th></th>\n",
       "      <th></th>\n",
       "      <th></th>\n",
       "      <th></th>\n",
       "      <th></th>\n",
       "      <th></th>\n",
       "      <th></th>\n",
       "      <th></th>\n",
       "      <th></th>\n",
       "      <th></th>\n",
       "      <th></th>\n",
       "    </tr>\n",
       "  </thead>\n",
       "  <tbody>\n",
       "    <tr>\n",
       "      <th>2022-07-28 00:59:53</th>\n",
       "      <td>1552458788246114304</td>\n",
       "      <td>President Biden got another win, Chunk &amp;amp; M...</td>\n",
       "      <td>1.0</td>\n",
       "      <td>0.0</td>\n",
       "      <td>0.0</td>\n",
       "      <td>1.0</td>\n",
       "      <td>president biden got another win chunk manchin ...</td>\n",
       "      <td>[]</td>\n",
       "      <td>president biden win chunk manchin agree high t...</td>\n",
       "      <td>{'neg': 0.0, 'neu': 0.62, 'pos': 0.38, 'compou...</td>\n",
       "      <td>0.000</td>\n",
       "      <td>0.380</td>\n",
       "      <td>0.620</td>\n",
       "      <td>0.9287</td>\n",
       "      <td>pos</td>\n",
       "      <td>2022-07-28</td>\n",
       "    </tr>\n",
       "    <tr>\n",
       "      <th>2022-07-28 00:59:32</th>\n",
       "      <td>1552458703810560001</td>\n",
       "      <td>@Kobrakie32 @pi_slaught @JDVance1 And that's g...</td>\n",
       "      <td>1.0</td>\n",
       "      <td>0.0</td>\n",
       "      <td>1.0</td>\n",
       "      <td>0.0</td>\n",
       "      <td>and thats going to bring industry back because...</td>\n",
       "      <td>[]</td>\n",
       "      <td>s bring industry progressive tendency cozy cor...</td>\n",
       "      <td>{'neg': 0.0, 'neu': 0.919, 'pos': 0.081, 'comp...</td>\n",
       "      <td>0.000</td>\n",
       "      <td>0.081</td>\n",
       "      <td>0.919</td>\n",
       "      <td>0.5330</td>\n",
       "      <td>pos</td>\n",
       "      <td>2022-07-28</td>\n",
       "    </tr>\n",
       "    <tr>\n",
       "      <th>2022-07-28 00:59:31</th>\n",
       "      <td>1552458697078878208</td>\n",
       "      <td>@AZ_Brittney He’s handling one crisis after an...</td>\n",
       "      <td>3.0</td>\n",
       "      <td>0.0</td>\n",
       "      <td>0.0</td>\n",
       "      <td>0.0</td>\n",
       "      <td>hes handling one crisis after another gas pric...</td>\n",
       "      <td>[]</td>\n",
       "      <td>s handle crisis gas price war inflation covid ...</td>\n",
       "      <td>{'neg': 0.185, 'neu': 0.695, 'pos': 0.12, 'com...</td>\n",
       "      <td>0.185</td>\n",
       "      <td>0.120</td>\n",
       "      <td>0.695</td>\n",
       "      <td>-0.5719</td>\n",
       "      <td>neg</td>\n",
       "      <td>2022-07-28</td>\n",
       "    </tr>\n",
       "    <tr>\n",
       "      <th>2022-07-28 00:59:29</th>\n",
       "      <td>1552458689021259776</td>\n",
       "      <td>@colin_korol You have to watch that climate ch...</td>\n",
       "      <td>4.0</td>\n",
       "      <td>0.0</td>\n",
       "      <td>0.0</td>\n",
       "      <td>0.0</td>\n",
       "      <td>you have to watch that climate change it sneak...</td>\n",
       "      <td>[]</td>\n",
       "      <td>watch climate change sneak ya</td>\n",
       "      <td>{'neg': 0.0, 'neu': 1.0, 'pos': 0.0, 'compound...</td>\n",
       "      <td>0.000</td>\n",
       "      <td>0.000</td>\n",
       "      <td>1.000</td>\n",
       "      <td>0.0000</td>\n",
       "      <td>neu</td>\n",
       "      <td>2022-07-28</td>\n",
       "    </tr>\n",
       "    <tr>\n",
       "      <th>2022-07-28 00:59:26</th>\n",
       "      <td>1552458675054313473</td>\n",
       "      <td>Keep telling the climate change hoaxers. Wildf...</td>\n",
       "      <td>1.0</td>\n",
       "      <td>0.0</td>\n",
       "      <td>0.0</td>\n",
       "      <td>1.0</td>\n",
       "      <td>keep telling the climate change hoaxers wildfi...</td>\n",
       "      <td>[]</td>\n",
       "      <td>tell climate change hoaxer wildfire stop guy s...</td>\n",
       "      <td>{'neg': 0.239, 'neu': 0.761, 'pos': 0.0, 'comp...</td>\n",
       "      <td>0.239</td>\n",
       "      <td>0.000</td>\n",
       "      <td>0.761</td>\n",
       "      <td>-0.5267</td>\n",
       "      <td>neg</td>\n",
       "      <td>2022-07-28</td>\n",
       "    </tr>\n",
       "  </tbody>\n",
       "</table>\n",
       "</div>"
      ],
      "text/plain": [
       "                                tweet_id  \\\n",
       "created_at                                 \n",
       "2022-07-28 00:59:53  1552458788246114304   \n",
       "2022-07-28 00:59:32  1552458703810560001   \n",
       "2022-07-28 00:59:31  1552458697078878208   \n",
       "2022-07-28 00:59:29  1552458689021259776   \n",
       "2022-07-28 00:59:26  1552458675054313473   \n",
       "\n",
       "                                                                 tweet  \\\n",
       "created_at                                                               \n",
       "2022-07-28 00:59:53  President Biden got another win, Chunk &amp; M...   \n",
       "2022-07-28 00:59:32  @Kobrakie32 @pi_slaught @JDVance1 And that's g...   \n",
       "2022-07-28 00:59:31  @AZ_Brittney He’s handling one crisis after an...   \n",
       "2022-07-28 00:59:29  @colin_korol You have to watch that climate ch...   \n",
       "2022-07-28 00:59:26  Keep telling the climate change hoaxers. Wildf...   \n",
       "\n",
       "                     like_count  quote_count  reply_count  retweet_count  \\\n",
       "created_at                                                                 \n",
       "2022-07-28 00:59:53         1.0          0.0          0.0            1.0   \n",
       "2022-07-28 00:59:32         1.0          0.0          1.0            0.0   \n",
       "2022-07-28 00:59:31         3.0          0.0          0.0            0.0   \n",
       "2022-07-28 00:59:29         4.0          0.0          0.0            0.0   \n",
       "2022-07-28 00:59:26         1.0          0.0          0.0            1.0   \n",
       "\n",
       "                                                                 clean  \\\n",
       "created_at                                                               \n",
       "2022-07-28 00:59:53  president biden got another win chunk manchin ...   \n",
       "2022-07-28 00:59:32  and thats going to bring industry back because...   \n",
       "2022-07-28 00:59:31  hes handling one crisis after another gas pric...   \n",
       "2022-07-28 00:59:29  you have to watch that climate change it sneak...   \n",
       "2022-07-28 00:59:26  keep telling the climate change hoaxers wildfi...   \n",
       "\n",
       "                    hashtags  \\\n",
       "created_at                     \n",
       "2022-07-28 00:59:53       []   \n",
       "2022-07-28 00:59:32       []   \n",
       "2022-07-28 00:59:31       []   \n",
       "2022-07-28 00:59:29       []   \n",
       "2022-07-28 00:59:26       []   \n",
       "\n",
       "                                                           clean_spacy  \\\n",
       "created_at                                                               \n",
       "2022-07-28 00:59:53  president biden win chunk manchin agree high t...   \n",
       "2022-07-28 00:59:32  s bring industry progressive tendency cozy cor...   \n",
       "2022-07-28 00:59:31  s handle crisis gas price war inflation covid ...   \n",
       "2022-07-28 00:59:29                      watch climate change sneak ya   \n",
       "2022-07-28 00:59:26  tell climate change hoaxer wildfire stop guy s...   \n",
       "\n",
       "                                                                   tmp    neg  \\\n",
       "created_at                                                                      \n",
       "2022-07-28 00:59:53  {'neg': 0.0, 'neu': 0.62, 'pos': 0.38, 'compou...  0.000   \n",
       "2022-07-28 00:59:32  {'neg': 0.0, 'neu': 0.919, 'pos': 0.081, 'comp...  0.000   \n",
       "2022-07-28 00:59:31  {'neg': 0.185, 'neu': 0.695, 'pos': 0.12, 'com...  0.185   \n",
       "2022-07-28 00:59:29  {'neg': 0.0, 'neu': 1.0, 'pos': 0.0, 'compound...  0.000   \n",
       "2022-07-28 00:59:26  {'neg': 0.239, 'neu': 0.761, 'pos': 0.0, 'comp...  0.239   \n",
       "\n",
       "                       pos    neu  compound sentiment       dates  \n",
       "created_at                                                         \n",
       "2022-07-28 00:59:53  0.380  0.620    0.9287       pos  2022-07-28  \n",
       "2022-07-28 00:59:32  0.081  0.919    0.5330       pos  2022-07-28  \n",
       "2022-07-28 00:59:31  0.120  0.695   -0.5719       neg  2022-07-28  \n",
       "2022-07-28 00:59:29  0.000  1.000    0.0000       neu  2022-07-28  \n",
       "2022-07-28 00:59:26  0.000  0.761   -0.5267       neg  2022-07-28  "
      ]
     },
     "execution_count": 49,
     "metadata": {},
     "output_type": "execute_result"
    },
    {
     "name": "stderr",
     "output_type": "stream",
     "text": [
      "/opt/anaconda3/envs/nlp/lib/python3.8/site-packages/past/builtins/misc.py:45: DeprecationWarning: the imp module is deprecated in favour of importlib; see the module's documentation for alternative uses\n",
      "  from imp import reload\n",
      "/opt/anaconda3/envs/nlp/lib/python3.8/site-packages/past/builtins/misc.py:45: DeprecationWarning: the imp module is deprecated in favour of importlib; see the module's documentation for alternative uses\n",
      "  from imp import reload\n",
      "/opt/anaconda3/envs/nlp/lib/python3.8/site-packages/past/builtins/misc.py:45: DeprecationWarning: the imp module is deprecated in favour of importlib; see the module's documentation for alternative uses\n",
      "  from imp import reload\n",
      "/opt/anaconda3/envs/nlp/lib/python3.8/site-packages/past/builtins/misc.py:45: DeprecationWarning: the imp module is deprecated in favour of importlib; see the module's documentation for alternative uses\n",
      "  from imp import reload\n",
      "/opt/anaconda3/envs/nlp/lib/python3.8/site-packages/past/builtins/misc.py:45: DeprecationWarning: the imp module is deprecated in favour of importlib; see the module's documentation for alternative uses\n",
      "  from imp import reload\n",
      "/opt/anaconda3/envs/nlp/lib/python3.8/site-packages/past/builtins/misc.py:45: DeprecationWarning: the imp module is deprecated in favour of importlib; see the module's documentation for alternative uses\n",
      "  from imp import reload\n"
     ]
    }
   ],
   "source": [
    "reduced_tweet_data.head()"
   ]
  },
  {
   "cell_type": "code",
   "execution_count": 37,
   "id": "3a0780ef-e6df-4da2-a30a-6cea7dc015b3",
   "metadata": {},
   "outputs": [],
   "source": [
    "words = reduced_tweet_data['clean_spacy'].apply(lambda x: word_tokenize(x))"
   ]
  },
  {
   "cell_type": "code",
   "execution_count": 39,
   "id": "51bd2a2e-bc7c-4847-a81e-14fd44d2a56e",
   "metadata": {},
   "outputs": [
    {
     "name": "stdout",
     "output_type": "stream",
     "text": [
      "['president', 'biden', 'win', 'chunk', 'manchin', 'agree', 'high', 'taxis', 'rich', 'clean', 'energy', 'climate', 'change', 'president', 'biden', 'democrats', 'vote', 'blue']\n"
     ]
    }
   ],
   "source": [
    "# Build the bigram and trigram models\n",
    "bigram = gensim.models.Phrases(words, min_count=10, threshold=100) # higher threshold fewer phrases.\n",
    "trigram = gensim.models.Phrases(bigram[words], threshold=100)  \n",
    "\n",
    "# Faster way to get a sentence clubbed as a trigram/bigram\n",
    "bigram_mod = gensim.models.phrases.Phraser(bigram)\n",
    "trigram_mod = gensim.models.phrases.Phraser(trigram)\n",
    "\n",
    "# See trigram example\n",
    "print(trigram_mod[bigram_mod[words[0]]])"
   ]
  },
  {
   "cell_type": "code",
   "execution_count": 40,
   "id": "d6bf69ca-ce3d-447c-82f9-8b4aa20f6a8a",
   "metadata": {},
   "outputs": [],
   "source": [
    "def make_bigrams(texts):\n",
    "    return [bigram_mod[doc] for doc in texts]\n",
    "\n",
    "def make_trigrams(texts):\n",
    "    return [trigram_mod[bigram_mod[doc]] for doc in texts]"
   ]
  },
  {
   "cell_type": "markdown",
   "id": "bbb1e41c-f2c4-4d05-bde1-d3cef6830e19",
   "metadata": {},
   "source": [
    "### LDA"
   ]
  },
  {
   "cell_type": "code",
   "execution_count": 41,
   "id": "034d38f0-b30e-4a8b-8d87-4ccfffd1fa71",
   "metadata": {},
   "outputs": [
    {
     "data": {
      "text/plain": [
       "['s',\n",
       " 'handle',\n",
       " 'crisis',\n",
       " 'gas_price',\n",
       " 'war',\n",
       " 'inflation',\n",
       " 'covid',\n",
       " 'want',\n",
       " 'support',\n",
       " 'strengthen',\n",
       " 'tackle',\n",
       " 'voting_right',\n",
       " 'climate',\n",
       " 'change',\n",
       " 'women',\n",
       " 'right',\n",
       " 'sex_marriage',\n",
       " 'equality']"
      ]
     },
     "execution_count": 41,
     "metadata": {},
     "output_type": "execute_result"
    }
   ],
   "source": [
    "data_words_bigrams = make_trigrams(words)\n",
    "data_words_bigrams[2]"
   ]
  },
  {
   "cell_type": "code",
   "execution_count": 43,
   "id": "47536d1c-dca2-4d7c-8f62-5cf57aff3ec7",
   "metadata": {},
   "outputs": [
    {
     "name": "stdout",
     "output_type": "stream",
     "text": [
      "[[(0, 1), (1, 2), (2, 1), (3, 1), (4, 1), (5, 1), (6, 1), (7, 1), (8, 2), (9, 1), (10, 1), (11, 1), (12, 1)]]\n"
     ]
    }
   ],
   "source": [
    "# Create Dictionary\n",
    "id2word = corpora.Dictionary(data_words_bigrams)\n",
    "# id2word = corpora.Dictionary(bigram)\n",
    "id2word.filter_extremes(no_below=10, no_above=0.35)\n",
    "id2word.compactify()\n",
    "corpus = [id2word.doc2bow(text) for text in data_words_bigrams]\n",
    "\n",
    "# Create Corpus\n",
    "texts = data_words_bigrams\n",
    "\n",
    "# Term Document Frequency\n",
    "corpus = [id2word.doc2bow(text) for text in texts]\n",
    "\n",
    "# View\n",
    "print(corpus[:1])"
   ]
  },
  {
   "cell_type": "code",
   "execution_count": 73,
   "id": "208a19b2-4bbe-469c-9c25-6106420fe4a8",
   "metadata": {},
   "outputs": [
    {
     "name": "stderr",
     "output_type": "stream",
     "text": [
      "/opt/anaconda3/envs/nlp/lib/python3.8/site-packages/past/builtins/misc.py:45: DeprecationWarning: the imp module is deprecated in favour of importlib; see the module's documentation for alternative uses\n",
      "  from imp import reload\n",
      "/opt/anaconda3/envs/nlp/lib/python3.8/site-packages/past/builtins/misc.py:45: DeprecationWarning: the imp module is deprecated in favour of importlib; see the module's documentation for alternative uses\n",
      "  from imp import reload\n",
      "/opt/anaconda3/envs/nlp/lib/python3.8/site-packages/past/builtins/misc.py:45: DeprecationWarning: the imp module is deprecated in favour of importlib; see the module's documentation for alternative uses\n",
      "  from imp import reload\n",
      "/opt/anaconda3/envs/nlp/lib/python3.8/site-packages/past/builtins/misc.py:45: DeprecationWarning: the imp module is deprecated in favour of importlib; see the module's documentation for alternative uses\n",
      "  from imp import reload\n",
      "/opt/anaconda3/envs/nlp/lib/python3.8/site-packages/past/builtins/misc.py:45: DeprecationWarning: the imp module is deprecated in favour of importlib; see the module's documentation for alternative uses\n",
      "  from imp import reload\n",
      "/opt/anaconda3/envs/nlp/lib/python3.8/site-packages/past/builtins/misc.py:45: DeprecationWarning: the imp module is deprecated in favour of importlib; see the module's documentation for alternative uses\n",
      "  from imp import reload\n"
     ]
    }
   ],
   "source": [
    "# Build LDA model\n",
    "lda_model = gensim.models.ldamodel.LdaModel(corpus=corpus,\n",
    "                                           id2word=id2word,\n",
    "                                           num_topics=3, \n",
    "                                           random_state=100,\n",
    "                                           update_every=1,\n",
    "                                           chunksize=100,\n",
    "                                           passes=10,\n",
    "                                           alpha='auto',\n",
    "                                           per_word_topics=True)"
   ]
  },
  {
   "cell_type": "code",
   "execution_count": 74,
   "id": "959378cd-ecba-4b30-acaa-9c9069bd51ea",
   "metadata": {},
   "outputs": [
    {
     "name": "stdout",
     "output_type": "stream",
     "text": [
      "[(0,\n",
      "  '0.029*\"bill\" + 0.019*\"inflation\" + 0.018*\"support\" + 0.016*\"new\" + '\n",
      "  '0.013*\"health_care\" + 0.012*\"big\" + 0.011*\"energy\" + 0.011*\"biden\" + '\n",
      "  '0.011*\"address\" + 0.010*\"vote\"'),\n",
      " (1,\n",
      "  '0.045*\"s\" + 0.026*\"fight\" + 0.023*\"sen_joe_manchin\" + 0.023*\"podcast\" + '\n",
      "  '0.022*\"act\" + 0.021*\"package_story_daily_news\" + 0.021*\"joe_biden_praise\" + '\n",
      "  '0.021*\"economy_shrank_president\" + 0.016*\"inflation_reduction\" + '\n",
      "  '0.015*\"reduce\"'),\n",
      " (2,\n",
      "  '0.019*\"people\" + 0.014*\"like\" + 0.012*\"time\" + 0.011*\"need\" + 0.010*\"think\" '\n",
      "  '+ 0.010*\"year\" + 0.010*\"know\" + 0.010*\"right\" + 0.008*\"cause\" + '\n",
      "  '0.007*\"real\"')]\n",
      "\n",
      "Coherence Score:  0.4313059380302442\n"
     ]
    }
   ],
   "source": [
    "# Print the Keyword in the 10 topics\n",
    "pprint(lda_model.print_topics())\n",
    "doc_lda = lda_model[corpus]\n",
    "\n",
    "# Compute Coherence Score\n",
    "coherence_model_lda = CoherenceModel(model=lda_model, texts=data_words_bigrams, dictionary=id2word, coherence='c_v')\n",
    "coherence_lda = coherence_model_lda.get_coherence()\n",
    "print('\\nCoherence Score: ', coherence_lda)"
   ]
  },
  {
   "cell_type": "code",
   "execution_count": 75,
   "id": "698ac896-d2c9-4b42-a6ef-913e6a89544c",
   "metadata": {},
   "outputs": [
    {
     "name": "stderr",
     "output_type": "stream",
     "text": [
      "/opt/anaconda3/envs/nlp/lib/python3.8/site-packages/pyLDAvis/_prepare.py:246: FutureWarning: In a future version of pandas all arguments of DataFrame.drop except for the argument 'labels' will be keyword-only.\n",
      "  default_term_info = default_term_info.sort_values(\n"
     ]
    },
    {
     "data": {
      "text/html": [
       "\n",
       "<link rel=\"stylesheet\" type=\"text/css\" href=\"https://cdn.jsdelivr.net/gh/bmabey/pyLDAvis@3.3.1/pyLDAvis/js/ldavis.v1.0.0.css\">\n",
       "\n",
       "\n",
       "<div id=\"ldavis_el56491401963580870565999645311\"></div>\n",
       "<script type=\"text/javascript\">\n",
       "\n",
       "var ldavis_el56491401963580870565999645311_data = {\"mdsDat\": {\"x\": [0.2851547118712585, -0.3462710865254696, 0.06111637465421134], \"y\": [-0.22551565872971566, -0.12401990245823682, 0.3495355611879524], \"topics\": [1, 2, 3], \"cluster\": [1, 1, 1], \"Freq\": [50.95948158141464, 32.399081793886204, 16.641436624699153]}, \"tinfo\": {\"Term\": [\"s\", \"bill\", \"fight\", \"sen_joe_manchin\", \"podcast\", \"inflation\", \"support\", \"act\", \"people\", \"new\", \"package_story_daily_news\", \"joe_biden_praise\", \"economy_shrank_president\", \"inflation_reduction\", \"health_care\", \"like\", \"reduce\", \"big\", \"global\", \"time\", \"energy\", \"biden\", \"address\", \"vote\", \"need\", \"democrats\", \"10\", \"deal\", \"think\", \"fact\", \"people\", \"like\", \"time\", \"need\", \"think\", \"know\", \"right\", \"cause\", \"real\", \"thing\", \"want\", \"money\", \"believe\", \"stop\", \"happen\", \"way\", \"good\", \"state\", \"bad\", \"live\", \"work\", \"come\", \"look\", \"human\", \"government\", \"problem\", \"planet\", \"scientist\", \"I_m\", \"try\", \"action\", \"impact\", \"plan\", \"year\", \"world\", \"help\", \"bill\", \"inflation\", \"new\", \"support\", \"biden\", \"energy\", \"big\", \"address\", \"deal\", \"democrats\", \"vote\", \"tax\", \"pass\", \"spend\", \"green\", \"cost\", \"issue\", \"legislation\", \"country\", \"pay\", \"billion\", \"increase\", \"today\", \"flood\", \"manchin\", \"high\", \"health_care\", \"senate\", \"policy\", \"likely\", \"weather\", \"s\", \"fight\", \"act\", \"podcast\", \"sen_joe_manchin\", \"inflation_reduction\", \"global\", \"reduce\", \"science\", \"fact\", \"effect\", \"future\", \"10\", \"use\", \"effort\", \"party\", \"combat\", \"agenda\", \"idea\", \"hot\", \"community\", \"bring\", \"anti\", \"leader\", \"disaster\", \"question\", \"protect\", \"fake\", \"public\", \"farmer\", \"add\", \"research\", \"economy_shrank_president\", \"joe_biden_praise\", \"package_story_daily_news\", \"help\", \"world\"], \"Freq\": [1743.0, 2156.0, 997.0, 901.0, 898.0, 1415.0, 1363.0, 837.0, 2236.0, 1227.0, 854.0, 854.0, 854.0, 620.0, 981.0, 1615.0, 572.0, 890.0, 551.0, 1426.0, 847.0, 827.0, 796.0, 762.0, 1280.0, 740.0, 454.0, 725.0, 1221.0, 449.0, 2235.6450503027067, 1614.7175999469948, 1425.5736174959482, 1279.6662252658507, 1220.5649424166797, 1186.8118521577846, 1136.5024080331343, 943.8862336882596, 879.28041637756, 818.5297959109064, 795.7061777712552, 788.4140499801255, 740.4965554118334, 716.4695822958472, 657.8353293196014, 656.558445702381, 651.8685757809824, 670.3594162537062, 612.4488600418036, 599.8355547122156, 611.7809794427719, 619.8505974425805, 588.8238617187027, 555.0211327936931, 574.0165054796004, 573.8252216770293, 523.2819619411765, 539.0839502191412, 535.0028646433935, 566.3676134428064, 572.8442566717887, 555.7174954907927, 554.096311962571, 1215.2748163786105, 745.3275784564782, 568.986982438632, 2155.3258179567115, 1414.270296413159, 1226.3157049087667, 1362.4921375620577, 827.1101041701456, 846.7804658624048, 889.9140092442833, 796.0582238721206, 725.166927131019, 739.5857186399898, 762.116370725405, 717.4560925170533, 582.0391344959452, 573.4040771944883, 513.0003496957485, 477.8024490336869, 512.295999623844, 472.269799204137, 479.5449203958773, 458.18019099302, 480.8024277041183, 429.2466439707099, 489.65360386800324, 437.24064364935873, 359.96129319912944, 409.25839499704745, 979.8407967961534, 331.5389169889338, 365.1015367956766, 538.7796665983741, 393.1771079223557, 1742.5946421556441, 996.4801325014478, 836.6835982861079, 897.1712961300669, 900.1296051930714, 619.3861679471657, 550.5930390103977, 571.2795651702817, 444.41850766453075, 448.4190481412159, 398.39236874555513, 382.7632535606416, 453.93916130494586, 336.05100573980616, 314.2197031638402, 335.0878610880748, 286.38598314404845, 270.00331215284064, 259.91048453489094, 236.47614863709165, 212.0184514627179, 214.0890071597049, 220.03122583122976, 194.74552774958448, 204.05537857169296, 198.47362057974377, 180.2247876472055, 189.29661052415116, 221.5337314879306, 173.10101632266517, 195.24623800068935, 190.85183473797088, 786.2192459658531, 786.2192459658531, 786.2192459658531, 392.02547380015847, 301.94440226184696], \"Total\": [1743.0, 2156.0, 997.0, 901.0, 898.0, 1415.0, 1363.0, 837.0, 2236.0, 1227.0, 854.0, 854.0, 854.0, 620.0, 981.0, 1615.0, 572.0, 890.0, 551.0, 1426.0, 847.0, 827.0, 796.0, 762.0, 1280.0, 740.0, 454.0, 725.0, 1221.0, 449.0, 2236.4030157254483, 1615.4755002240317, 1426.3990208998941, 1280.440630715889, 1221.3388279358455, 1187.569188510778, 1137.3054581491137, 944.6459825606833, 880.0162605704809, 819.2832452053597, 796.4626208804174, 789.1820765284508, 741.2348422504442, 717.2178255274677, 658.5840385078018, 657.3289929947082, 652.6337205386532, 671.1800729612553, 613.2049843324667, 600.5884493463033, 612.5594206334524, 620.6462443271989, 589.5835542745792, 555.7431142112781, 574.7923052220109, 574.6094882980296, 524.0037089418362, 539.8295057026398, 535.7471393027241, 567.1620129252597, 573.6572040764518, 556.5050581265535, 554.9884950458975, 1228.9121924063613, 1047.6246480202828, 961.4138505097865, 2156.098925233523, 1415.048625207841, 1227.0962909474163, 1363.7038953240933, 827.8607771123573, 847.5632629563966, 890.757615025219, 796.8460754559123, 725.8980869743604, 740.3453342213845, 762.9031192225787, 718.2138029927706, 582.7985126822016, 574.1884708566512, 513.7956443836329, 478.54625186310466, 513.1153657522899, 473.0332832668709, 480.3445280054401, 458.98158583789, 481.6607676880309, 430.0240314992484, 490.5592580872584, 438.0668400002334, 360.69705766795346, 410.1067055572541, 981.9220059063678, 332.2590637406845, 365.8993956469632, 539.9730000697411, 394.0620798974559, 1743.659745299334, 997.2077389005749, 837.4635180311819, 898.1693246613406, 901.2459966218554, 620.1932517842982, 551.3467426238051, 572.0735509186476, 445.1904763469898, 449.2697065257487, 399.1498494931624, 383.55911423685365, 454.9043348266639, 336.85425224636197, 315.0588053438097, 335.9867850875939, 287.15739681181606, 270.84064727004204, 260.73217365080006, 237.2635023243607, 212.75749375525467, 214.84742120221105, 220.851078209718, 195.47494391238536, 204.84976604344246, 199.26160095963817, 180.955175136701, 190.07380052546682, 222.44495912330095, 173.84540164641558, 196.0982040841133, 191.68851768087768, 854.1624793650673, 854.1624793650673, 854.1624793650673, 961.4138505097865, 1047.6246480202828], \"Category\": [\"Default\", \"Default\", \"Default\", \"Default\", \"Default\", \"Default\", \"Default\", \"Default\", \"Default\", \"Default\", \"Default\", \"Default\", \"Default\", \"Default\", \"Default\", \"Default\", \"Default\", \"Default\", \"Default\", \"Default\", \"Default\", \"Default\", \"Default\", \"Default\", \"Default\", \"Default\", \"Default\", \"Default\", \"Default\", \"Default\", \"Topic1\", \"Topic1\", \"Topic1\", \"Topic1\", \"Topic1\", \"Topic1\", \"Topic1\", \"Topic1\", \"Topic1\", \"Topic1\", \"Topic1\", \"Topic1\", \"Topic1\", \"Topic1\", \"Topic1\", \"Topic1\", \"Topic1\", \"Topic1\", \"Topic1\", \"Topic1\", \"Topic1\", \"Topic1\", \"Topic1\", \"Topic1\", \"Topic1\", \"Topic1\", \"Topic1\", \"Topic1\", \"Topic1\", \"Topic1\", \"Topic1\", \"Topic1\", \"Topic1\", \"Topic1\", \"Topic1\", \"Topic1\", \"Topic2\", \"Topic2\", \"Topic2\", \"Topic2\", \"Topic2\", \"Topic2\", \"Topic2\", \"Topic2\", \"Topic2\", \"Topic2\", \"Topic2\", \"Topic2\", \"Topic2\", \"Topic2\", \"Topic2\", \"Topic2\", \"Topic2\", \"Topic2\", \"Topic2\", \"Topic2\", \"Topic2\", \"Topic2\", \"Topic2\", \"Topic2\", \"Topic2\", \"Topic2\", \"Topic2\", \"Topic2\", \"Topic2\", \"Topic2\", \"Topic2\", \"Topic3\", \"Topic3\", \"Topic3\", \"Topic3\", \"Topic3\", \"Topic3\", \"Topic3\", \"Topic3\", \"Topic3\", \"Topic3\", \"Topic3\", \"Topic3\", \"Topic3\", \"Topic3\", \"Topic3\", \"Topic3\", \"Topic3\", \"Topic3\", \"Topic3\", \"Topic3\", \"Topic3\", \"Topic3\", \"Topic3\", \"Topic3\", \"Topic3\", \"Topic3\", \"Topic3\", \"Topic3\", \"Topic3\", \"Topic3\", \"Topic3\", \"Topic3\", \"Topic3\", \"Topic3\", \"Topic3\", \"Topic3\", \"Topic3\"], \"logprob\": [30.0, 29.0, 28.0, 27.0, 26.0, 25.0, 24.0, 23.0, 22.0, 21.0, 20.0, 19.0, 18.0, 17.0, 16.0, 15.0, 14.0, 13.0, 12.0, 11.0, 10.0, 9.0, 8.0, 7.0, 6.0, 5.0, 4.0, 3.0, 2.0, 1.0, -3.961, -4.2864, -4.411, -4.519, -4.5663, -4.5943, -4.6376, -4.8233, -4.8942, -4.9658, -4.9941, -5.0033, -5.066, -5.099, -5.1844, -5.1863, -5.1935, -5.1655, -5.2559, -5.2767, -5.257, -5.2439, -5.2952, -5.3543, -5.3207, -5.321, -5.4132, -5.3835, -5.3911, -5.3341, -5.3227, -5.3531, -5.356, -4.5706, -5.0595, -5.3295, -3.5447, -3.9661, -4.1087, -4.0034, -4.5025, -4.479, -4.4293, -4.5408, -4.634, -4.6143, -4.5843, -4.6447, -4.8539, -4.8688, -4.9802, -5.0512, -4.9815, -5.0629, -5.0476, -5.0932, -5.045, -5.1584, -5.0267, -5.1399, -5.3344, -5.2061, -4.333, -5.4167, -5.3203, -4.9311, -5.2462, -3.0911, -3.65, -3.8248, -3.755, -3.7517, -4.1255, -4.2432, -4.2063, -4.4574, -4.4485, -4.5668, -4.6068, -4.4362, -4.7369, -4.8041, -4.7398, -4.8969, -4.9558, -4.9939, -5.0884, -5.1975, -5.1878, -5.1604, -5.2825, -5.2358, -5.2635, -5.36, -5.3109, -5.1536, -5.4003, -5.2799, -5.3027, -3.887, -3.887, -3.887, -4.5829, -4.844], \"loglift\": [30.0, 29.0, 28.0, 27.0, 26.0, 25.0, 24.0, 23.0, 22.0, 21.0, 20.0, 19.0, 18.0, 17.0, 16.0, 15.0, 14.0, 13.0, 12.0, 11.0, 10.0, 9.0, 8.0, 7.0, 6.0, 5.0, 4.0, 3.0, 2.0, 1.0, 0.6738, 0.6737, 0.6736, 0.6735, 0.6735, 0.6735, 0.6734, 0.6733, 0.6733, 0.6732, 0.6732, 0.6732, 0.6731, 0.6731, 0.673, 0.673, 0.673, 0.6729, 0.6729, 0.6729, 0.6729, 0.6729, 0.6728, 0.6728, 0.6728, 0.6728, 0.6728, 0.6728, 0.6727, 0.6727, 0.6727, 0.6727, 0.6725, 0.663, 0.3337, 0.1496, 1.1267, 1.1265, 1.1264, 1.1262, 1.1261, 1.1261, 1.1261, 1.1261, 1.126, 1.126, 1.126, 1.126, 1.1257, 1.1257, 1.1255, 1.1255, 1.1254, 1.1254, 1.1254, 1.1253, 1.1253, 1.1252, 1.1252, 1.1252, 1.125, 1.125, 1.1249, 1.1249, 1.1249, 1.1248, 1.1248, 1.7927, 1.7925, 1.7923, 1.7922, 1.792, 1.792, 1.7919, 1.7919, 1.7915, 1.7914, 1.7914, 1.7912, 1.7912, 1.7909, 1.7906, 1.7906, 1.7906, 1.7902, 1.7901, 1.79, 1.7898, 1.7897, 1.7896, 1.7895, 1.7894, 1.7893, 1.7892, 1.7892, 1.7892, 1.789, 1.7889, 1.7889, 1.7104, 1.7104, 1.7104, 0.8962, 0.5492]}, \"token.table\": {\"Topic\": [1, 3, 1, 3, 1, 3, 2, 3, 3, 1, 1, 2, 2, 2, 2, 3, 1, 3, 1, 3, 2, 2, 2, 2, 3, 1, 2, 3, 3, 3, 2, 3, 3, 3, 3, 2, 3, 3, 1, 1, 2, 1, 2, 3, 1, 3, 2, 3, 1, 3, 1, 2, 2, 3, 2, 1, 2, 3, 1, 3, 2, 1, 1, 2, 3, 1, 1, 2, 1, 1, 2, 1, 2, 3, 3, 2, 2, 1, 1, 1, 1, 3, 2, 1, 3, 3, 3, 1, 3, 3, 1, 1, 3, 3, 1, 2, 3, 2, 2, 1, 1, 2, 3, 2, 1, 1, 1, 2, 1, 3, 2, 1, 1, 2, 1, 1, 3, 1, 3], \"Freq\": [0.0021982643897667815, 0.9980120329541189, 0.9986054254928985, 0.9994465215245775, 0.9988543609811197, 0.9943997239075059, 0.998938219711469, 0.9968961554385747, 0.9961463705922693, 0.9980349404142916, 0.9983340741961142, 0.9989602392864175, 0.9991494711777484, 0.9994903178046879, 0.9986281471683846, 0.9960557068943663, 0.9993161643910958, 0.9959694689230849, 0.9989587557596527, 0.9964396377214048, 0.9988585181453664, 0.9992827481414835, 0.9987627919256493, 0.999533549810579, 0.9958517597561608, 0.017561061697711298, 0.062049084665246584, 0.920199632960072, 0.9971192535970578, 0.9966393405743595, 0.9993354325499765, 0.9971738434456944, 0.9943506126436245, 0.9951370491344083, 0.9987888793343036, 0.9975646638758761, 0.9985422996974896, 0.9993710988077031, 0.9990289797803734, 0.9986215799779977, 0.9984514380525991, 0.999113190612507, 0.9980426083794776, 0.0020368216497540356, 0.5918366993551109, 0.4077328403290043, 0.9973014204784818, 0.9946746873750798, 0.998662845850402, 0.9971918553796101, 0.9990924464761313, 0.9976186644832891, 0.9992589475802027, 0.9980760000518141, 0.9978262865882906, 0.017561061697711298, 0.062049084665246584, 0.920199632960072, 0.9995207112846268, 0.9975703079746209, 0.9978156224869954, 0.999705659278667, 0.0018519444488351144, 0.9981980579221267, 0.0018519444488351144, 0.9990202120154928, 0.9990102263362871, 0.99806747060134, 0.9985021498034387, 0.9996558757155006, 0.999106597456529, 0.017561061697711298, 0.062049084665246584, 0.920199632960072, 0.9970630241087112, 0.9986298649278863, 0.9978613829657281, 0.9998197928894683, 0.9982188909234673, 0.9980845384780519, 0.0011133758107103636, 0.9986981022071962, 0.997541959189703, 0.9989392999759977, 0.9947214820688084, 0.9979996888890869, 0.9936686197764028, 0.9988451797813122, 0.9981234040327094, 0.996408143329566, 0.9997314194292087, 0.0005735063866077439, 0.9996216318572976, 0.9973259168597715, 0.998463393175295, 0.0011095749703724674, 0.9986174733352206, 0.9992202959408605, 0.997930172901455, 0.9982417938064687, 0.9983020144172072, 0.9987505386397034, 0.0007332970180908249, 0.9983099698338952, 0.999654276824264, 0.9997225766281269, 0.9997202599735084, 0.9988599581436114, 0.9979511799119508, 0.9974640300941274, 0.9988162071961392, 0.9994191555657616, 0.9994995002529717, 0.9973047904083229, 0.9990867487877765, 0.7111325620372156, 0.2882711862217975, 0.9886792624466362, 0.010578461244284996], \"Term\": [\"10\", \"10\", \"I_m\", \"act\", \"action\", \"add\", \"address\", \"agenda\", \"anti\", \"bad\", \"believe\", \"biden\", \"big\", \"bill\", \"billion\", \"bring\", \"cause\", \"combat\", \"come\", \"community\", \"cost\", \"country\", \"deal\", \"democrats\", \"disaster\", \"economy_shrank_president\", \"economy_shrank_president\", \"economy_shrank_president\", \"effect\", \"effort\", \"energy\", \"fact\", \"fake\", \"farmer\", \"fight\", \"flood\", \"future\", \"global\", \"good\", \"government\", \"green\", \"happen\", \"health_care\", \"health_care\", \"help\", \"help\", \"high\", \"hot\", \"human\", \"idea\", \"impact\", \"increase\", \"inflation\", \"inflation_reduction\", \"issue\", \"joe_biden_praise\", \"joe_biden_praise\", \"joe_biden_praise\", \"know\", \"leader\", \"legislation\", \"like\", \"likely\", \"likely\", \"likely\", \"live\", \"look\", \"manchin\", \"money\", \"need\", \"new\", \"package_story_daily_news\", \"package_story_daily_news\", \"package_story_daily_news\", \"party\", \"pass\", \"pay\", \"people\", \"plan\", \"planet\", \"podcast\", \"podcast\", \"policy\", \"problem\", \"protect\", \"public\", \"question\", \"real\", \"reduce\", \"research\", \"right\", \"s\", \"s\", \"science\", \"scientist\", \"sen_joe_manchin\", \"sen_joe_manchin\", \"senate\", \"spend\", \"state\", \"stop\", \"support\", \"support\", \"tax\", \"thing\", \"think\", \"time\", \"today\", \"try\", \"use\", \"vote\", \"want\", \"way\", \"weather\", \"work\", \"world\", \"world\", \"year\", \"year\"]}, \"R\": 30, \"lambda.step\": 0.01, \"plot.opts\": {\"xlab\": \"PC1\", \"ylab\": \"PC2\"}, \"topic.order\": [3, 1, 2]};\n",
       "\n",
       "function LDAvis_load_lib(url, callback){\n",
       "  var s = document.createElement('script');\n",
       "  s.src = url;\n",
       "  s.async = true;\n",
       "  s.onreadystatechange = s.onload = callback;\n",
       "  s.onerror = function(){console.warn(\"failed to load library \" + url);};\n",
       "  document.getElementsByTagName(\"head\")[0].appendChild(s);\n",
       "}\n",
       "\n",
       "if(typeof(LDAvis) !== \"undefined\"){\n",
       "   // already loaded: just create the visualization\n",
       "   !function(LDAvis){\n",
       "       new LDAvis(\"#\" + \"ldavis_el56491401963580870565999645311\", ldavis_el56491401963580870565999645311_data);\n",
       "   }(LDAvis);\n",
       "}else if(typeof define === \"function\" && define.amd){\n",
       "   // require.js is available: use it to load d3/LDAvis\n",
       "   require.config({paths: {d3: \"https://d3js.org/d3.v5\"}});\n",
       "   require([\"d3\"], function(d3){\n",
       "      window.d3 = d3;\n",
       "      LDAvis_load_lib(\"https://cdn.jsdelivr.net/gh/bmabey/pyLDAvis@3.3.1/pyLDAvis/js/ldavis.v3.0.0.js\", function(){\n",
       "        new LDAvis(\"#\" + \"ldavis_el56491401963580870565999645311\", ldavis_el56491401963580870565999645311_data);\n",
       "      });\n",
       "    });\n",
       "}else{\n",
       "    // require.js not available: dynamically load d3 & LDAvis\n",
       "    LDAvis_load_lib(\"https://d3js.org/d3.v5.js\", function(){\n",
       "         LDAvis_load_lib(\"https://cdn.jsdelivr.net/gh/bmabey/pyLDAvis@3.3.1/pyLDAvis/js/ldavis.v3.0.0.js\", function(){\n",
       "                 new LDAvis(\"#\" + \"ldavis_el56491401963580870565999645311\", ldavis_el56491401963580870565999645311_data);\n",
       "            })\n",
       "         });\n",
       "}\n",
       "</script>"
      ],
      "text/plain": [
       "PreparedData(topic_coordinates=              x         y  topics  cluster       Freq\n",
       "topic                                                \n",
       "2      0.285155 -0.225516       1        1  50.959482\n",
       "0     -0.346271 -0.124020       2        1  32.399082\n",
       "1      0.061116  0.349536       3        1  16.641437, topic_info=                          Term         Freq        Total Category  logprob  \\\n",
       "23                           s  1743.000000  1743.000000  Default  30.0000   \n",
       "304                       bill  2156.000000  2156.000000  Default  29.0000   \n",
       "236                      fight   997.000000   997.000000  Default  28.0000   \n",
       "577            sen_joe_manchin   901.000000   901.000000  Default  27.0000   \n",
       "3243                   podcast   898.000000   898.000000  Default  26.0000   \n",
       "...                        ...          ...          ...      ...      ...   \n",
       "3679  economy_shrank_president   786.219246   854.162479   Topic3  -3.8870   \n",
       "3680          joe_biden_praise   786.219246   854.162479   Topic3  -3.8870   \n",
       "3681  package_story_daily_news   786.219246   854.162479   Topic3  -3.8870   \n",
       "134                       help   392.025474   961.413851   Topic3  -4.5829   \n",
       "392                      world   301.944402  1047.624648   Topic3  -4.8440   \n",
       "\n",
       "      loglift  \n",
       "23    30.0000  \n",
       "304   29.0000  \n",
       "236   28.0000  \n",
       "577   27.0000  \n",
       "3243  26.0000  \n",
       "...       ...  \n",
       "3679   1.7104  \n",
       "3680   1.7104  \n",
       "3681   1.7104  \n",
       "134    0.8962  \n",
       "392    0.5492  \n",
       "\n",
       "[134 rows x 6 columns], token_table=      Topic      Freq    Term\n",
       "term                         \n",
       "72        1  0.002198      10\n",
       "72        3  0.998012      10\n",
       "303       1  0.998605     I_m\n",
       "339       3  0.999447     act\n",
       "174       1  0.998854  action\n",
       "...     ...       ...     ...\n",
       "353       1  0.999087    work\n",
       "392       1  0.711133   world\n",
       "392       3  0.288271   world\n",
       "220       1  0.988679    year\n",
       "220       3  0.010578    year\n",
       "\n",
       "[119 rows x 3 columns], R=30, lambda_step=0.01, plot_opts={'xlab': 'PC1', 'ylab': 'PC2'}, topic_order=[3, 1, 2])"
      ]
     },
     "execution_count": 75,
     "metadata": {},
     "output_type": "execute_result"
    }
   ],
   "source": [
    "pyLDAvis.enable_notebook()\n",
    "vis = pyLDAvis.gensim_models.prepare(lda_model, corpus, id2word)\n",
    "vis"
   ]
  },
  {
   "cell_type": "code",
   "execution_count": 76,
   "id": "c726152f-1c5f-4f09-ad3f-b5660f14ffb9",
   "metadata": {},
   "outputs": [],
   "source": [
    "def compute_coherence_values(dictionary, corpus, texts, limit, start=2, step=3):\n",
    "    \"\"\"\n",
    "    Compute c_v coherence for various number of topics\n",
    "\n",
    "    Parameters:\n",
    "    ----------\n",
    "    dictionary : Gensim dictionary\n",
    "    corpus : Gensim corpus\n",
    "    texts : List of input texts\n",
    "    limit : Max num of topics\n",
    "\n",
    "    Returns:\n",
    "    -------\n",
    "    model_list : List of LDA topic models\n",
    "    coherence_values : Coherence values corresponding to the LDA model with respective number of topics\n",
    "    \"\"\"\n",
    "    coherence_values = []\n",
    "    model_list = []\n",
    "    for num_topics in range(start, limit, step):\n",
    "        model = gensim.models.ldamodel.LdaModel(\n",
    "            corpus=corpus,\n",
    "            id2word=id2word,\n",
    "            num_topics=num_topics, \n",
    "            random_state=100,\n",
    "            update_every=1,\n",
    "            chunksize=100,\n",
    "            passes=10,\n",
    "            alpha='auto',\n",
    "            per_word_topics=True)\n",
    "        model_list.append(model)\n",
    "        coherencemodel = CoherenceModel(model=model, texts=texts, dictionary=dictionary, coherence='c_v')\n",
    "        coherence_values.append(coherencemodel.get_coherence())\n",
    "\n",
    "    return model_list, coherence_values\n",
    "\n",
    "model_list, coherence_values = compute_coherence_values(dictionary=id2word, corpus=corpus, texts=data_words_bigrams, start=1, limit=12, step=1)"
   ]
  },
  {
   "cell_type": "code",
   "execution_count": 77,
   "id": "ac9922a1-be78-4989-a1bd-2cf0d4219550",
   "metadata": {},
   "outputs": [
    {
     "data": {
      "image/png": "[encoded data removed]",
      "text/plain": [
       "<Figure size 432x288 with 1 Axes>"
      ]
     },
     "metadata": {
      "needs_background": "light"
     },
     "output_type": "display_data"
    }
   ],
   "source": [
    "# Show graph\n",
    "import matplotlib.pyplot as plt\n",
    "limit=12; start=1; step=1;\n",
    "x = range(start, limit, step)\n",
    "plt.plot(x, coherence_values)\n",
    "plt.xlabel(\"Num Topics\")\n",
    "plt.ylabel(\"Coherence score\")\n",
    "plt.legend((\"coherence_values\"), loc='best')\n",
    "plt.show()"
   ]
  },
  {
   "cell_type": "code",
   "execution_count": 78,
   "id": "e6358e89-f939-4ea3-8247-0566fdebbec5",
   "metadata": {},
   "outputs": [
    {
     "name": "stdout",
     "output_type": "stream",
     "text": [
      "Num Topics = 1  has Coherence Value of 0.3165\n",
      "Num Topics = 2  has Coherence Value of 0.3449\n",
      "Num Topics = 3  has Coherence Value of 0.4313\n",
      "Num Topics = 4  has Coherence Value of 0.283\n",
      "Num Topics = 5  has Coherence Value of 0.3632\n",
      "Num Topics = 6  has Coherence Value of 0.3687\n",
      "Num Topics = 7  has Coherence Value of 0.3074\n",
      "Num Topics = 8  has Coherence Value of 0.302\n",
      "Num Topics = 9  has Coherence Value of 0.329\n",
      "Num Topics = 10  has Coherence Value of 0.3066\n",
      "Num Topics = 11  has Coherence Value of 0.3116\n"
     ]
    },
    {
     "name": "stderr",
     "output_type": "stream",
     "text": [
      "/opt/anaconda3/envs/nlp/lib/python3.8/site-packages/past/builtins/misc.py:45: DeprecationWarning: the imp module is deprecated in favour of importlib; see the module's documentation for alternative uses\n",
      "  from imp import reload\n",
      "/opt/anaconda3/envs/nlp/lib/python3.8/site-packages/past/builtins/misc.py:45: DeprecationWarning: the imp module is deprecated in favour of importlib; see the module's documentation for alternative uses\n",
      "  from imp import reload\n",
      "/opt/anaconda3/envs/nlp/lib/python3.8/site-packages/past/builtins/misc.py:45: DeprecationWarning: the imp module is deprecated in favour of importlib; see the module's documentation for alternative uses\n",
      "  from imp import reload\n",
      "/opt/anaconda3/envs/nlp/lib/python3.8/site-packages/past/builtins/misc.py:45: DeprecationWarning: the imp module is deprecated in favour of importlib; see the module's documentation for alternative uses\n",
      "  from imp import reload\n",
      "/opt/anaconda3/envs/nlp/lib/python3.8/site-packages/past/builtins/misc.py:45: DeprecationWarning: the imp module is deprecated in favour of importlib; see the module's documentation for alternative uses\n",
      "  from imp import reload\n",
      "/opt/anaconda3/envs/nlp/lib/python3.8/site-packages/past/builtins/misc.py:45: DeprecationWarning: the imp module is deprecated in favour of importlib; see the module's documentation for alternative uses\n",
      "  from imp import reload\n"
     ]
    }
   ],
   "source": [
    "for m, cv in zip(x, coherence_values):\n",
    "    print(\"Num Topics =\", m, \" has Coherence Value of\", round(cv, 4))"
   ]
  },
  {
   "cell_type": "code",
   "execution_count": null,
   "id": "8a0bcb70-30cb-49c4-a4c8-55dd1f3578e3",
   "metadata": {},
   "outputs": [],
   "source": []
  }
 ],
 "metadata": {
  "kernelspec": {
   "display_name": "Python 3 (ipykernel)",
   "language": "python",
   "name": "python3"
  },
  "language_info": {
   "codemirror_mode": {
    "name": "ipython",
    "version": 3
   },
   "file_extension": ".py",
   "mimetype": "text/x-python",
   "name": "python",
   "nbconvert_exporter": "python",
   "pygments_lexer": "ipython3",
   "version": "3.8.13"
  }
 },
 "nbformat": 4,
 "nbformat_minor": 5
}
